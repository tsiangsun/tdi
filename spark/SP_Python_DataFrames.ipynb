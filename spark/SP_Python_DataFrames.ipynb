{
 "cells": [
  {
   "cell_type": "code",
   "execution_count": 1,
   "metadata": {
    "collapsed": true,
    "deletable": true,
    "editable": true
   },
   "outputs": [],
   "source": [
    "%matplotlib inline\n",
    "import matplotlib\n",
    "import seaborn as sns\n",
    "matplotlib.rcParams['savefig.dpi'] = 144"
   ]
  },
  {
   "cell_type": "code",
   "execution_count": 2,
   "metadata": {
    "collapsed": true,
    "deletable": true,
    "editable": true
   },
   "outputs": [],
   "source": [
    "import random\n",
    "import toolz\n",
    "from pyspark import SparkContext, SparkConf"
   ]
  },
  {
   "cell_type": "code",
   "execution_count": 3,
   "metadata": {
    "collapsed": false,
    "deletable": true,
    "editable": true
   },
   "outputs": [
    {
     "name": "stdout",
     "output_type": "stream",
     "text": [
      "2.0.1\n"
     ]
    }
   ],
   "source": [
    "from pyspark import SparkContext\n",
    "sc = SparkContext(\"local[*]\", \"pyspark_df\")\n",
    "print sc.version\n",
    "\n",
    "# Alternatively...\n",
    "# conf = SparkConf().setAppName(\"pyspark_df\").setMaster(\"local[*]\")\n",
    "# sc = SparkContext(conf=conf)"
   ]
  },
  {
   "cell_type": "code",
   "execution_count": 4,
   "metadata": {
    "collapsed": false,
    "deletable": true,
    "editable": true
   },
   "outputs": [],
   "source": [
    "# needed to convert RDDs into DataFrames\n",
    "from pyspark.sql import SQLContext\n",
    "from pyspark.sql.functions import UserDefinedFunction as udf\n",
    "from pyspark.sql.types import DoubleType\n",
    "sqlContext = SQLContext(sc)"
   ]
  },
  {
   "cell_type": "markdown",
   "metadata": {
    "deletable": true,
    "editable": true
   },
   "source": [
    "# DataFrames\n",
    "\n",
    "## Motivation and Spark SQL\n",
    "\n",
    "Spark SQL is the current effort to provide support for writing SQL queries in Spark. Newer versions support Hive, Parquet, and other data sources. [Docs](http://spark.apache.org/docs/latest/sql-programming-guide.html)\n",
    "\n",
    "**The key feature of Spark SQL is the use of DataFrames instead of RDDs.** A DataFrame is a distributed collection of data organized into named columns, and operations on DataFrames are first parsed through an optimized execution engine which streamlines and may even reorder the request to optimize execution. The keyword to search here is Catalyst.\n",
    "\n",
    "Under the hood, operations on DataFrames are boiled down to operations on RDDs, but the RDDs are created by the execution engine, and not directly by the user. It is also possible to convert RDDs to DataFrames and vice versa.\n",
    "\n",
    "The Spark ML package, unlike MLlib, uses DataFrames as inputs and outputs.\n",
    "\n",
    "**Question:** What is an example of a \"bad\" sequence of operations which should be reordered for optimal performance?"
   ]
  },
  {
   "cell_type": "markdown",
   "metadata": {
    "collapsed": true,
    "deletable": true,
    "editable": true
   },
   "source": [
    "DataFrames are...\n",
    "\n",
    "* Immutable, like RDDs\n",
    "* Lineage is remembered, like RDDs (resiliency)\n",
    "* Lazy execution, like RDDs\n",
    "* So why do we care?\n",
    "\n",
    "\n",
    "DataFrames are an abstraction that lets us think of data in a familiar form (Panda, data.frame, SQL table, etc.).\n",
    "\n",
    "We can use a similar API to RDDs!\n",
    "\n",
    "Access to SQL-like optimizations and cost analysis due to it being in a columnar format.\n",
    "\n",
    "What about type safety?\n",
    "\n",
    "What are these UDF things?"
   ]
  },
  {
   "cell_type": "code",
   "execution_count": 6,
   "metadata": {
    "collapsed": false,
    "deletable": true,
    "editable": true
   },
   "outputs": [
    {
     "name": "stdout",
     "output_type": "stream",
     "text": [
      "[(0.9412996385399084, 0.9182080884426133), (0.47911987575213577, 0.7332576191503406), (0.7175711944905967, 0.1233618721391534), (0.7963727228092518, 0.9482954015193551), (0.10048408418147647, 0.3943334445934439), (0.7171379373255168, 0.09663276618523964), (0.4003906924505737, 0.38269793860484813), (0.20947451015299057, 0.9446317056210931), (0.5623255369039984, 0.0625380569007894), (0.1641786776098879, 0.9861059813313088)]\n"
     ]
    }
   ],
   "source": [
    "data = sc.parallelize(xrange(1,10001)) \\\n",
    "         .map(lambda x: (random.random(), random.random()))\n",
    "print data.take(10)"
   ]
  },
  {
   "cell_type": "code",
   "execution_count": 7,
   "metadata": {
    "collapsed": false,
    "deletable": true,
    "editable": true
   },
   "outputs": [],
   "source": [
    "df = data.toDF()\n",
    "# Note: this isn't always so easy, you may need to explicitly specify a schema"
   ]
  },
  {
   "cell_type": "code",
   "execution_count": 8,
   "metadata": {
    "collapsed": false
   },
   "outputs": [
    {
     "data": {
      "text/plain": [
       "pyspark.sql.dataframe.DataFrame"
      ]
     },
     "execution_count": 8,
     "metadata": {},
     "output_type": "execute_result"
    }
   ],
   "source": [
    "type(df)"
   ]
  },
  {
   "cell_type": "code",
   "execution_count": 9,
   "metadata": {
    "collapsed": false,
    "deletable": true,
    "editable": true
   },
   "outputs": [
    {
     "name": "stdout",
     "output_type": "stream",
     "text": [
      "root\n",
      " |-- _1: double (nullable = true)\n",
      " |-- _2: double (nullable = true)\n",
      "\n"
     ]
    }
   ],
   "source": [
    "df.printSchema()"
   ]
  },
  {
   "cell_type": "code",
   "execution_count": 10,
   "metadata": {
    "collapsed": false,
    "deletable": true,
    "editable": true
   },
   "outputs": [],
   "source": [
    "df = df.withColumnRenamed(\"_1\", \"x\").withColumnRenamed(\"_2\", \"y\")\n",
    "df.write.save(\"parquet_demo_pyspark\", format=\"parquet\")\n",
    "# Another (older) syntax\n",
    "# df.write.parquet(\"file:///home/vagrant/datacourse/module5/demo\")"
   ]
  },
  {
   "cell_type": "markdown",
   "metadata": {
    "deletable": true,
    "editable": true
   },
   "source": [
    "Try rerunning the above cell.\n",
    "\n",
    "Save modes:\n",
    "* error\n",
    "* append\n",
    "* overwrite\n",
    "* ignore (ie. CREATE TABLE IF NOT EXISTS)"
   ]
  },
  {
   "cell_type": "code",
   "execution_count": 11,
   "metadata": {
    "collapsed": true,
    "deletable": true,
    "editable": true
   },
   "outputs": [],
   "source": [
    "df.write.mode(\"ignore\").parquet(\"parquet_demo_pyspark\")"
   ]
  },
  {
   "cell_type": "code",
   "execution_count": 12,
   "metadata": {
    "collapsed": true,
    "deletable": true,
    "editable": true
   },
   "outputs": [],
   "source": [
    "dfp = sqlContext.read.parquet(\"parquet_demo_pyspark\")"
   ]
  },
  {
   "cell_type": "code",
   "execution_count": 13,
   "metadata": {
    "collapsed": false,
    "deletable": true,
    "editable": true
   },
   "outputs": [
    {
     "name": "stdout",
     "output_type": "stream",
     "text": [
      "+-------+-------------------+\n",
      "|summary|                  x|\n",
      "+-------+-------------------+\n",
      "|  count|              10000|\n",
      "|   mean| 0.4842625005668251|\n",
      "| stddev| 0.2916608175852261|\n",
      "|    min|1.25061073565913E-4|\n",
      "|    max| 0.9991741902024115|\n",
      "+-------+-------------------+\n",
      "\n"
     ]
    }
   ],
   "source": [
    "dfp.describe(\"x\").show()"
   ]
  },
  {
   "cell_type": "code",
   "execution_count": 14,
   "metadata": {
    "collapsed": false,
    "deletable": true,
    "editable": true
   },
   "outputs": [],
   "source": [
    "filtered_dfp = dfp.filter(dfp[\"x\"] < 0.5)"
   ]
  },
  {
   "cell_type": "code",
   "execution_count": 26,
   "metadata": {
    "collapsed": false,
    "deletable": true,
    "editable": true
   },
   "outputs": [
    {
     "name": "stdout",
     "output_type": "stream",
     "text": [
      "+--------------------+-----+\n",
      "|                   x|count|\n",
      "+--------------------+-----+\n",
      "|  0.1786634841158754|    8|\n",
      "|  0.4431279963842084|    8|\n",
      "|  0.4722867526068014|    8|\n",
      "|0.022739968805116972|    8|\n",
      "| 0.39251107141111063|    8|\n",
      "|  0.1887173115309988|    8|\n",
      "| 0.10048408418147647|    8|\n",
      "| 0.48974282943224756|    8|\n",
      "| 0.17034516931219545|    8|\n",
      "| 0.24662161774316504|    8|\n",
      "| 0.19007598399577674|    8|\n",
      "|  0.4421469152413511|    8|\n",
      "| 0.19878832282792658|    8|\n",
      "| 0.39902255494181316|    8|\n",
      "|  0.3859785306455894|    8|\n",
      "| 0.30458693133339176|    8|\n",
      "|0.014007850951342604|    8|\n",
      "|  0.4298315917111316|    8|\n",
      "|  0.4400508508607254|    8|\n",
      "|  0.3622558171995074|    8|\n",
      "+--------------------+-----+\n",
      "only showing top 20 rows\n",
      "\n"
     ]
    }
   ],
   "source": [
    "filtered_dfp.groupby('x').count().show()"
   ]
  },
  {
   "cell_type": "markdown",
   "metadata": {
    "deletable": true,
    "editable": true
   },
   "source": [
    "## Exploring the Catalyst Optimzer"
   ]
  },
  {
   "cell_type": "code",
   "execution_count": 16,
   "metadata": {
    "collapsed": false,
    "deletable": true,
    "editable": true
   },
   "outputs": [
    {
     "name": "stdout",
     "output_type": "stream",
     "text": [
      "== Parsed Logical Plan ==\n",
      "Filter (x#22 < 0.5)\n",
      "+- Relation[x#22,y#23] parquet\n",
      "\n",
      "== Analyzed Logical Plan ==\n",
      "x: double, y: double\n",
      "Filter (x#22 < 0.5)\n",
      "+- Relation[x#22,y#23] parquet\n",
      "\n",
      "== Optimized Logical Plan ==\n",
      "Filter (isnotnull(x#22) && (x#22 < 0.5))\n",
      "+- Relation[x#22,y#23] parquet\n",
      "\n",
      "== Physical Plan ==\n",
      "*Project [x#22, y#23]\n",
      "+- *Filter (isnotnull(x#22) && (x#22 < 0.5))\n",
      "   +- *BatchedScan parquet [x#22,y#23] Format: ParquetFormat, InputPaths: hdfs://localhost/user/vagrant/parquet_demo_pyspark, PartitionFilters: [], PushedFilters: [IsNotNull(x), LessThan(x,0.5)], ReadSchema: struct<x:double,y:double>\n"
     ]
    }
   ],
   "source": [
    "filtered_dfp.explain(True)"
   ]
  },
  {
   "cell_type": "code",
   "execution_count": 17,
   "metadata": {
    "collapsed": false,
    "deletable": true,
    "editable": true
   },
   "outputs": [],
   "source": [
    "filtered_df = df.filter(df[\"x\"] < 0.5)"
   ]
  },
  {
   "cell_type": "code",
   "execution_count": 18,
   "metadata": {
    "collapsed": false,
    "deletable": true,
    "editable": true
   },
   "outputs": [
    {
     "name": "stdout",
     "output_type": "stream",
     "text": [
      "== Parsed Logical Plan ==\n",
      "Filter (x#5 < 0.5)\n",
      "+- Project [x#5, _2#1 AS y#9]\n",
      "   +- Project [_1#0 AS x#5, _2#1]\n",
      "      +- LogicalRDD [_1#0, _2#1]\n",
      "\n",
      "== Analyzed Logical Plan ==\n",
      "x: double, y: double\n",
      "Filter (x#5 < 0.5)\n",
      "+- Project [x#5, _2#1 AS y#9]\n",
      "   +- Project [_1#0 AS x#5, _2#1]\n",
      "      +- LogicalRDD [_1#0, _2#1]\n",
      "\n",
      "== Optimized Logical Plan ==\n",
      "Project [_1#0 AS x#5, _2#1 AS y#9]\n",
      "+- Filter (isnotnull(_1#0) && (_1#0 < 0.5))\n",
      "   +- LogicalRDD [_1#0, _2#1]\n",
      "\n",
      "== Physical Plan ==\n",
      "*Project [_1#0 AS x#5, _2#1 AS y#9]\n",
      "+- *Filter (isnotnull(_1#0) && (_1#0 < 0.5))\n",
      "   +- Scan ExistingRDD[_1#0,_2#1]\n"
     ]
    }
   ],
   "source": [
    "filtered_df.explain(True)"
   ]
  },
  {
   "cell_type": "code",
   "execution_count": 19,
   "metadata": {
    "collapsed": true,
    "deletable": true,
    "editable": true
   },
   "outputs": [],
   "source": [
    "filtered_df = df.filter(df[\"x\"] < 0.5).filter(df[\"y\"] < 0.5)"
   ]
  },
  {
   "cell_type": "code",
   "execution_count": 20,
   "metadata": {
    "collapsed": false,
    "deletable": true,
    "editable": true
   },
   "outputs": [
    {
     "name": "stdout",
     "output_type": "stream",
     "text": [
      "== Parsed Logical Plan ==\n",
      "Filter (y#9 < 0.5)\n",
      "+- Filter (x#5 < 0.5)\n",
      "   +- Project [x#5, _2#1 AS y#9]\n",
      "      +- Project [_1#0 AS x#5, _2#1]\n",
      "         +- LogicalRDD [_1#0, _2#1]\n",
      "\n",
      "== Analyzed Logical Plan ==\n",
      "x: double, y: double\n",
      "Filter (y#9 < 0.5)\n",
      "+- Filter (x#5 < 0.5)\n",
      "   +- Project [x#5, _2#1 AS y#9]\n",
      "      +- Project [_1#0 AS x#5, _2#1]\n",
      "         +- LogicalRDD [_1#0, _2#1]\n",
      "\n",
      "== Optimized Logical Plan ==\n",
      "Project [_1#0 AS x#5, _2#1 AS y#9]\n",
      "+- Filter (((isnotnull(_1#0) && (_1#0 < 0.5)) && isnotnull(_2#1)) && (_2#1 < 0.5))\n",
      "   +- LogicalRDD [_1#0, _2#1]\n",
      "\n",
      "== Physical Plan ==\n",
      "*Project [_1#0 AS x#5, _2#1 AS y#9]\n",
      "+- *Filter (((isnotnull(_1#0) && (_1#0 < 0.5)) && isnotnull(_2#1)) && (_2#1 < 0.5))\n",
      "   +- Scan ExistingRDD[_1#0,_2#1]\n"
     ]
    }
   ],
   "source": [
    "filtered_df.explain(True)"
   ]
  },
  {
   "cell_type": "code",
   "execution_count": 21,
   "metadata": {
    "collapsed": true,
    "deletable": true,
    "editable": true
   },
   "outputs": [],
   "source": [
    "filtered_dfp = dfp.filter(dfp[\"x\"] < 0.5).filter(dfp[\"y\"] < 0.5)"
   ]
  },
  {
   "cell_type": "code",
   "execution_count": 22,
   "metadata": {
    "collapsed": false,
    "deletable": true,
    "editable": true
   },
   "outputs": [
    {
     "name": "stdout",
     "output_type": "stream",
     "text": [
      "== Parsed Logical Plan ==\n",
      "Filter (y#23 < 0.5)\n",
      "+- Filter (x#22 < 0.5)\n",
      "   +- Relation[x#22,y#23] parquet\n",
      "\n",
      "== Analyzed Logical Plan ==\n",
      "x: double, y: double\n",
      "Filter (y#23 < 0.5)\n",
      "+- Filter (x#22 < 0.5)\n",
      "   +- Relation[x#22,y#23] parquet\n",
      "\n",
      "== Optimized Logical Plan ==\n",
      "Filter (((isnotnull(x#22) && (x#22 < 0.5)) && isnotnull(y#23)) && (y#23 < 0.5))\n",
      "+- Relation[x#22,y#23] parquet\n",
      "\n",
      "== Physical Plan ==\n",
      "*Project [x#22, y#23]\n",
      "+- *Filter (((isnotnull(x#22) && (x#22 < 0.5)) && isnotnull(y#23)) && (y#23 < 0.5))\n",
      "   +- *BatchedScan parquet [x#22,y#23] Format: ParquetFormat, InputPaths: hdfs://localhost/user/vagrant/parquet_demo_pyspark, PartitionFilters: [], PushedFilters: [IsNotNull(x), LessThan(x,0.5), IsNotNull(y), LessThan(y,0.5)], ReadSchema: struct<x:double,y:double>\n"
     ]
    }
   ],
   "source": [
    "filtered_dfp.explain(True)"
   ]
  },
  {
   "cell_type": "markdown",
   "metadata": {
    "deletable": true,
    "editable": true
   },
   "source": [
    "Under the hood, it's just manipulating trees based on rules.\n",
    "The introductory [blog post](https://databricks.com/blog/2015/04/13/deep-dive-into-spark-sqls-catalyst-optimizer.html) has good pictures.\n",
    "\n",
    "### Project Tungsten\n",
    "\n",
    "* Memory management and GC (better than the JVM)\n",
    "* Cache-aware computation\n",
    "* Codegen (compile queries into Java bytecode)\n",
    "\n",
    "Cache-aware computation example:\n",
    "* Case 1: pointer -> key, value\n",
    "* Case 2: ke, pointer -> key, value\n",
    "\n",
    "The CPU has to find keys for sort purposes. This helps it find them faster.\n",
    "\n",
    "[More](https://databricks.com/blog/2015/04/28/project-tungsten-bringing-spark-closer-to-bare-metal.html)\n",
    "\n",
    "### DataFrame performance and tuning\n",
    "\n",
    "See [here](http://spark.apache.org/docs/latest/sql-programming-guide.html#performance-tuning) for details."
   ]
  },
  {
   "cell_type": "markdown",
   "metadata": {
    "deletable": true,
    "editable": true
   },
   "source": [
    "## SQL and DataFrames"
   ]
  },
  {
   "cell_type": "code",
   "execution_count": 23,
   "metadata": {
    "collapsed": false,
    "deletable": true,
    "editable": true
   },
   "outputs": [
    {
     "name": "stdout",
     "output_type": "stream",
     "text": [
      "+-------------------+------------------+\n",
      "|                  x|                 y|\n",
      "+-------------------+------------------+\n",
      "| 0.9412996385399084|0.9182080884426133|\n",
      "| 0.7963727228092518|0.9482954015193551|\n",
      "|0.20947451015299057|0.9446317056210931|\n",
      "+-------------------+------------------+\n",
      "\n"
     ]
    }
   ],
   "source": [
    "# Requires Hive to permanently store tables\n",
    "df.registerTempTable('nums')  # This is NOT the same as a temp table in SQL proper\n",
    "sql_df = sqlContext.sql(\"select x, y from nums where y > 0.9 limit 3\")\n",
    "sql_df.show()"
   ]
  },
  {
   "cell_type": "code",
   "execution_count": 24,
   "metadata": {
    "collapsed": false,
    "deletable": true,
    "editable": true
   },
   "outputs": [
    {
     "name": "stdout",
     "output_type": "stream",
     "text": [
      "== Parsed Logical Plan ==\n",
      "'GlobalLimit 3\n",
      "+- 'LocalLimit 3\n",
      "   +- 'Project ['x, 'y]\n",
      "      +- 'Filter ('y > 0.9)\n",
      "         +- 'UnresolvedRelation `nums`\n",
      "\n",
      "== Analyzed Logical Plan ==\n",
      "x: double, y: double\n",
      "GlobalLimit 3\n",
      "+- LocalLimit 3\n",
      "   +- Project [x#5, y#9]\n",
      "      +- Filter (y#9 > cast(0.9 as double))\n",
      "         +- SubqueryAlias nums\n",
      "            +- Project [x#5, _2#1 AS y#9]\n",
      "               +- Project [_1#0 AS x#5, _2#1]\n",
      "                  +- LogicalRDD [_1#0, _2#1]\n",
      "\n",
      "== Optimized Logical Plan ==\n",
      "GlobalLimit 3\n",
      "+- LocalLimit 3\n",
      "   +- Project [_1#0 AS x#5, _2#1 AS y#9]\n",
      "      +- Filter (isnotnull(_2#1) && (_2#1 > 0.9))\n",
      "         +- LogicalRDD [_1#0, _2#1]\n",
      "\n",
      "== Physical Plan ==\n",
      "CollectLimit 3\n",
      "+- *Project [_1#0 AS x#5, _2#1 AS y#9]\n",
      "   +- *Filter (isnotnull(_2#1) && (_2#1 > 0.9))\n",
      "      +- Scan ExistingRDD[_1#0,_2#1]\n"
     ]
    }
   ],
   "source": [
    "sql_df.explain(True)"
   ]
  },
  {
   "cell_type": "markdown",
   "metadata": {
    "deletable": true,
    "editable": true
   },
   "source": [
    "*Reminder:* Check the UI (port 4040 by default) for tables in memory.\n",
    "\n",
    "*Reminder:* A number of interactive tutorials are available on the DataBricks [community cloud](https://community.cloud.databricks.com). I highly recommend making an account and checking out the guide.\n",
    "\n",
    "This is also a good place to learn about connecting to databases like Cassandra or using JDBC protocol."
   ]
  },
  {
   "cell_type": "markdown",
   "metadata": {
    "deletable": true,
    "editable": true
   },
   "source": [
    "## Adding columns and functions\n",
    "\n",
    "Because DataFrames are immutable, adding new information means appending columns to an existing DataFrame."
   ]
  },
  {
   "cell_type": "code",
   "execution_count": 27,
   "metadata": {
    "collapsed": false,
    "deletable": true,
    "editable": true
   },
   "outputs": [],
   "source": [
    "# Currying lets us specify some of a function's arguments and delay specifying the rest until later.\n",
    "\n",
    "@toolz.curry\n",
    "def prediction(threshold, val):\n",
    "    if val > threshold:\n",
    "        return 1.0\n",
    "    else:\n",
    "        return 0.0"
   ]
  },
  {
   "cell_type": "code",
   "execution_count": 28,
   "metadata": {
    "collapsed": false,
    "deletable": true,
    "editable": true
   },
   "outputs": [],
   "source": [
    "x_labelizer = udf(prediction(0.5), DoubleType())\n",
    "y_labelizer = udf(prediction(0.9), DoubleType())"
   ]
  },
  {
   "cell_type": "code",
   "execution_count": 29,
   "metadata": {
    "collapsed": false,
    "deletable": true,
    "editable": true
   },
   "outputs": [],
   "source": [
    "new_df = dfp.withColumn(\"x_label\", x_labelizer(\"x\")).withColumn(\"y_label\", y_labelizer(\"y\"))"
   ]
  },
  {
   "cell_type": "code",
   "execution_count": 30,
   "metadata": {
    "collapsed": false,
    "deletable": true,
    "editable": true
   },
   "outputs": [
    {
     "name": "stdout",
     "output_type": "stream",
     "text": [
      "+--------------------+-------------------+-------+-------+\n",
      "|                   x|                  y|x_label|y_label|\n",
      "+--------------------+-------------------+-------+-------+\n",
      "|  0.9412996385399084| 0.9182080884426133|    1.0|    1.0|\n",
      "| 0.47911987575213577| 0.7332576191503406|    0.0|    0.0|\n",
      "|  0.7175711944905967| 0.1233618721391534|    1.0|    0.0|\n",
      "|  0.7963727228092518| 0.9482954015193551|    1.0|    1.0|\n",
      "| 0.10048408418147647| 0.3943334445934439|    0.0|    0.0|\n",
      "|  0.7171379373255168|0.09663276618523964|    1.0|    0.0|\n",
      "|  0.4003906924505737|0.38269793860484813|    0.0|    0.0|\n",
      "| 0.20947451015299057| 0.9446317056210931|    0.0|    1.0|\n",
      "|  0.5623255369039984| 0.0625380569007894|    1.0|    0.0|\n",
      "|  0.1641786776098879| 0.9861059813313088|    0.0|    1.0|\n",
      "|  0.4065774604450405|0.13000681340291398|    0.0|    0.0|\n",
      "| 0.09012319588635609|0.39413725067256633|    0.0|    0.0|\n",
      "|0.002362154337117...| 0.9792537470089171|    0.0|    1.0|\n",
      "|  0.5377244513497503| 0.8287849244800605|    1.0|    0.0|\n",
      "| 0.12316528442220898| 0.6050301268963988|    0.0|    0.0|\n",
      "|  0.5808849878879693| 0.6331205537952403|    1.0|    0.0|\n",
      "|  0.9733672368185109| 0.8156928224476768|    1.0|    0.0|\n",
      "|0.016519302040178596| 0.1484340172853632|    0.0|    0.0|\n",
      "|  0.5924528575731056| 0.8070986315780208|    1.0|    0.0|\n",
      "| 0.21151539805228314| 0.8054051527821584|    0.0|    0.0|\n",
      "+--------------------+-------------------+-------+-------+\n",
      "only showing top 20 rows\n",
      "\n"
     ]
    }
   ],
   "source": [
    "new_df.show()"
   ]
  },
  {
   "cell_type": "markdown",
   "metadata": {
    "deletable": true,
    "editable": true
   },
   "source": [
    "## Type safety and Datasets"
   ]
  },
  {
   "cell_type": "code",
   "execution_count": 31,
   "metadata": {
    "collapsed": false,
    "deletable": true,
    "editable": true
   },
   "outputs": [
    {
     "data": {
      "text/plain": [
       "[Row(x=0.9412996385399084, y=0.9182080884426133, x_label=1.0, y_label=1.0)]"
      ]
     },
     "execution_count": 31,
     "metadata": {},
     "output_type": "execute_result"
    }
   ],
   "source": [
    "rdd = new_df.rdd\n",
    "row = rdd.take(1)\n",
    "row"
   ]
  },
  {
   "cell_type": "code",
   "execution_count": 32,
   "metadata": {
    "collapsed": false,
    "deletable": true,
    "editable": true
   },
   "outputs": [
    {
     "name": "stdout",
     "output_type": "stream",
     "text": [
      "<type 'list'>\n"
     ]
    }
   ],
   "source": [
    "# Remember that take always returns a list of results\n",
    "print type(row)"
   ]
  },
  {
   "cell_type": "code",
   "execution_count": 33,
   "metadata": {
    "collapsed": false,
    "deletable": true,
    "editable": true
   },
   "outputs": [
    {
     "name": "stdout",
     "output_type": "stream",
     "text": [
      "<class 'pyspark.sql.types.Row'>\n"
     ]
    }
   ],
   "source": [
    "row = row[0]\n",
    "print type(row)"
   ]
  },
  {
   "cell_type": "markdown",
   "metadata": {
    "deletable": true,
    "editable": true
   },
   "source": [
    "In Python, we're not too worried about type safety. But it's important to note that in Scala/Java, these Row objects do not contain the type information of the objects inside them and therefore type safety can be lost converting from RDDs to DataFrames. [DataSets](http://spark.apache.org/docs/latest/sql-programming-guide.html#datasets-and-dataframes) (fleshed out in Spark 2.0) are a newer incarnation of DataFrames that add encoding information to preserve that type safety.We can, however, drill into Row objects to extract the information we want.\n",
    "\n",
    "We can, however, drill into Row objects to extract the information we want."
   ]
  },
  {
   "cell_type": "code",
   "execution_count": 34,
   "metadata": {
    "collapsed": false,
    "deletable": true,
    "editable": true
   },
   "outputs": [
    {
     "data": {
      "text/plain": [
       "0.9182080884426133"
      ]
     },
     "execution_count": 34,
     "metadata": {},
     "output_type": "execute_result"
    }
   ],
   "source": [
    "row[1]"
   ]
  },
  {
   "cell_type": "code",
   "execution_count": 35,
   "metadata": {
    "collapsed": false,
    "deletable": true,
    "editable": true
   },
   "outputs": [
    {
     "data": {
      "text/plain": [
       "{'x': 0.9412996385399084,\n",
       " 'x_label': 1.0,\n",
       " 'y': 0.9182080884426133,\n",
       " 'y_label': 1.0}"
      ]
     },
     "execution_count": 35,
     "metadata": {},
     "output_type": "execute_result"
    }
   ],
   "source": [
    "row.asDict()"
   ]
  },
  {
   "cell_type": "markdown",
   "metadata": {
    "deletable": true,
    "editable": true
   },
   "source": [
    "*Copyright &copy; 2016 The Data Incubator.  All rights reserved.*"
   ]
  }
 ],
 "metadata": {
  "kernelspec": {
   "display_name": "Python 2",
   "language": "python",
   "name": "python2"
  },
  "language_info": {
   "codemirror_mode": {
    "name": "ipython",
    "version": 2
   },
   "file_extension": ".py",
   "mimetype": "text/x-python",
   "name": "python",
   "nbconvert_exporter": "python",
   "pygments_lexer": "ipython2",
   "version": "2.7.13"
  }
 },
 "nbformat": 4,
 "nbformat_minor": 0
}
