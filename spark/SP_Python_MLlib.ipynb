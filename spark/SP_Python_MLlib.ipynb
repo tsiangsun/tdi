{
 "cells": [
  {
   "cell_type": "code",
   "execution_count": 1,
   "metadata": {
    "collapsed": false,
    "deletable": true,
    "editable": true
   },
   "outputs": [],
   "source": [
    "%matplotlib inline\n",
    "import matplotlib\n",
    "import seaborn as sns\n",
    "matplotlib.rcParams['savefig.dpi'] = 144"
   ]
  },
  {
   "cell_type": "markdown",
   "metadata": {
    "deletable": true,
    "editable": true
   },
   "source": [
    "# PySpark MLlib\n",
    "<!-- requirement: small_data/gutenberg -->\n",
    "*Official documentation [here](https://spark.apache.org/docs/latest/mllib-guide.html).*"
   ]
  },
  {
   "cell_type": "code",
   "execution_count": 2,
   "metadata": {
    "collapsed": false,
    "deletable": true,
    "editable": true
   },
   "outputs": [
    {
     "name": "stdout",
     "output_type": "stream",
     "text": [
      "2.0.1\n"
     ]
    }
   ],
   "source": [
    "from pyspark import SparkContext\n",
    "sc = SparkContext(\"local[*]\", \"temp\")\n",
    "print sc.version"
   ]
  },
  {
   "cell_type": "code",
   "execution_count": 3,
   "metadata": {
    "collapsed": true,
    "deletable": true,
    "editable": true
   },
   "outputs": [],
   "source": [
    "# needed to convert RDDs into DataFrames\n",
    "from pyspark.sql import SQLContext\n",
    "sqlContext = SQLContext(sc)"
   ]
  },
  {
   "cell_type": "code",
   "execution_count": 4,
   "metadata": {
    "collapsed": true,
    "deletable": true,
    "editable": true
   },
   "outputs": [],
   "source": [
    "# Tells Spark to look on the local filesystem\n",
    "import os\n",
    "def localpath(path):\n",
    "    return 'file://' + str(os.path.abspath(os.path.curdir)) + '/' + path"
   ]
  },
  {
   "cell_type": "markdown",
   "metadata": {
    "deletable": true,
    "editable": true
   },
   "source": [
    "## Algorithms\n",
    "\n",
    "Spark supports a number of machine-learning algorithms.\n",
    "\n",
    "- Classification and Regression\n",
    "    - SVM, linear regression\n",
    "    - SVR, logistic regression\n",
    "    - Naive Bayes\n",
    "    - Decision Trees\n",
    "    - Random Forests and Gradient-Boosted Trees\n",
    "- Clustering\n",
    "    - K-means (and streaming K-means)\n",
    "    - Gaussian Mixture Models\n",
    "    - Latent Dirichlet Allocation\n",
    "- Dimensionality Reduction\n",
    "    - SVD and PCA\n",
    "- It also has support for lower-level optimization primitives:\n",
    "    - Stochastic Gradient Descent\n",
    "    - Low-memory BFGS and L-BFGS"
   ]
  },
  {
   "cell_type": "markdown",
   "metadata": {
    "deletable": true,
    "editable": true
   },
   "source": [
    "### Parallelized SGD\n",
    "\n",
    "For linear models like SVM, Linear Regression, and Logistic Regression, the cost function we're trying to optimize is essentially an average over the individual error term from each data point. This is particularly great for parallelization.  For example, in linear regression, recall that the gradient is\n",
    "\n",
    "$$\\begin{align}\n",
    "\\frac{\\partial \\log(L(\\beta))}{\\partial \\beta} &= \\frac{\\partial}{\\partial \\beta} \\frac{1}{2}\\sum_j \\|y_j - X_{j \\cdot} \\cdot \\beta\\| \\\\\n",
    "&= \\frac{1}{2}\\sum_j \\frac{\\partial}{\\partial \\beta} \\|y_j - X_{j \\cdot} \\cdot \\beta\\| \\\\\n",
    "& = \\sum_j y_j - X_{j \\cdot} \\cdot \\beta \\\\\n",
    "& \\approx \\sum_{sample \\mbox{ } j} y_j - X_{j \\cdot} \\cdot \\beta\n",
    "\\end{align}$$\n",
    "\n",
    "The key *mathematical properties* we have used are:\n",
    "\n",
    "1. the error functions are the sum of error contributions of different training instances\n",
    "1. linearity of the derivative\n",
    "1. associativity of addition\n",
    "1. downsampling giving an unbiased estimator\n",
    "\n",
    "Since the last sum is over the different training instances and these are stored on different nodes, we can parallelize the computation of the gradient in SGD across multiple nodes.  Of course, we still need to maintain the running weight $\\beta$ that has to be present on every node (through a broadcast variable that is updated).  Notice that SVM, Linear Regression, and Logistic Regression all have error functions that are just sums over training instances so SGD can be used for all these algorithms.\n",
    "\n",
    "Spark's [implementation](http://spark.apache.org/docs/latest/mllib-optimization.html#stochastic-gradient-descent-sgd) uses a tunable minibatch size parameter to sample a percentage of the features RDD. For each iteration, the updated weights are broadcast to the executors, and the update is calculated for each data point and sent back to be aggregated.\n",
    "\n",
    "Parallelization handles increasing number of sampled data points m quite well since there are no interaction terms and each calculation is independent. Controlling how the algorithm iterates to convergence is also important, and can be done with parameters for the total iterations and step size."
   ]
  },
  {
   "cell_type": "markdown",
   "metadata": {
    "deletable": true,
    "editable": true
   },
   "source": [
    "## ML (DataFrame) vs. MLlib (RDD) packages\n",
    "\n",
    "Confusingly, there are two machine learning APIs in Spark, the `mllib` package based on RDDs and the `ml` package based on DataFrames. For years these have been developed somewhat in parallel, resulting in duplication and asymmetry in functionality.\n",
    "\n",
    "With Spark 2.0+, `mllib` is in maintenance mode and will likely be deprecated in future in favor of the DataFrame-based API which more closely resembles libraries like Scikit-learn. Below is one example of the RDD-based API; the rest of the notebook will focus on DataFrames."
   ]
  },
  {
   "cell_type": "code",
   "execution_count": 5,
   "metadata": {
    "collapsed": false,
    "deletable": true,
    "editable": true
   },
   "outputs": [
    {
     "name": "stderr",
     "output_type": "stream",
     "text": [
      "/opt/spark/python/pyspark/mllib/regression.py:281: UserWarning: Deprecated in 2.0.0. Use ml.regression.LinearRegression.\n",
      "  warnings.warn(\"Deprecated in 2.0.0. Use ml.regression.LinearRegression.\")\n"
     ]
    },
    {
     "name": "stdout",
     "output_type": "stream",
     "text": [
      "-0.353939672093\n"
     ]
    }
   ],
   "source": [
    "from pyspark.mllib.regression import LinearRegressionWithSGD, LinearRegressionModel, LabeledPoint\n",
    "from pyspark.mllib.evaluation import RegressionMetrics\n",
    "from pyspark.mllib.linalg import Vector, Vectors\n",
    "import random\n",
    "\n",
    "# parameters\n",
    "TRAINING_ITERATIONS = 10\n",
    "TRAINING_FRACTION = 0.6\n",
    "\n",
    "# generate the data\n",
    "data = sc.parallelize(xrange(1,10001)) \\\n",
    "    .map(lambda x: LabeledPoint(random.random(), [random.random(), random.random(), random.random()]))\n",
    "\n",
    "# split the training and test sets\n",
    "splits = data.randomSplit([TRAINING_FRACTION, 1 - TRAINING_FRACTION], seed=42)\n",
    "training, test = (splits[0].cache(), splits[1])\n",
    "\n",
    "# train the model\n",
    "model = LinearRegressionWithSGD.train(training, iterations=TRAINING_ITERATIONS)\n",
    "\n",
    "# get r2 score\n",
    "predictions = test.map(lambda x: (float(model.predict(x.features)), x.label))\n",
    "print RegressionMetrics(predictions).r2"
   ]
  },
  {
   "cell_type": "markdown",
   "metadata": {
    "deletable": true,
    "editable": true
   },
   "source": [
    "Maybe we can improve this by modeling the intercept. Use `<shift-tab>` inside the arguments to bring up the docstring for LinearRegressionWithSGD, and rerun the training with an intercept term.\n",
    "\n",
    "If you're interested in methods for introspecting some of these objects, the `<tab>` and `<shift-tab>` documentation is good. You can also use `dir` in Python to list all the components of something."
   ]
  },
  {
   "cell_type": "code",
   "execution_count": 6,
   "metadata": {
    "collapsed": false,
    "deletable": true,
    "editable": true
   },
   "outputs": [
    {
     "data": {
      "text/plain": [
       "['__class__',\n",
       " '__delattr__',\n",
       " '__dict__',\n",
       " '__doc__',\n",
       " '__format__',\n",
       " '__getattribute__',\n",
       " '__hash__',\n",
       " '__init__',\n",
       " '__module__',\n",
       " '__new__',\n",
       " '__reduce__',\n",
       " '__reduce_ex__',\n",
       " '__repr__',\n",
       " '__setattr__',\n",
       " '__sizeof__',\n",
       " '__str__',\n",
       " '__subclasshook__',\n",
       " '__weakref__',\n",
       " 'features',\n",
       " 'label']"
      ]
     },
     "execution_count": 6,
     "metadata": {},
     "output_type": "execute_result"
    }
   ],
   "source": [
    "dir(test.take(2)[0])"
   ]
  },
  {
   "cell_type": "markdown",
   "metadata": {
    "deletable": true,
    "editable": true
   },
   "source": [
    "## Spark ML\n",
    "Spark ML implements the ideas of transformers, estimators, and pipelines by standardizing APIS across machine learning algorithms. This can streamline more complex workflows.\n",
    "\n",
    "The core functionality includes:\n",
    "* DataFrames - built off Spark SQL, can be created either directly or from RDDs as seen above\n",
    "* Transformers - algorithms that accept a DataFrame as input and return a DataFrame as output\n",
    "* Estimators - algorithms that accept a DataFrame as input and return a Transformer as output\n",
    "* Pipelines - chaining together Transformers and Estimators\n",
    "* Parameters - common API for specifying hyperparameters\n",
    "\n",
    "For example, a learning algorithm can be implemented as an Estimator which trains on a DataFrame of features and returns a Transformer which can output predictions based on a test DataFrame.\n",
    "\n",
    "Full documentation can be found [here](http://spark.apache.org/docs/latest/ml-guide.html)"
   ]
  },
  {
   "cell_type": "code",
   "execution_count": 7,
   "metadata": {
    "collapsed": false,
    "deletable": true,
    "editable": true
   },
   "outputs": [
    {
     "name": "stdout",
     "output_type": "stream",
     "text": [
      "Row(title=u'A decent guided tour of Spark and its major components.', label=0.0, prediction=1.0)\n",
      "Row(title=u'10/10 would buy again', label=1.0, prediction=1.0)\n",
      "Row(title=u'it is simple to follow. well organized. straight ...', label=1.0, prediction=1.0)\n",
      "Row(title=u'Just what you need to get started in Apache Spark.', label=1.0, prediction=1.0)\n",
      "Row(title=u'Very good book for learning Spark', label=1.0, prediction=1.0)\n"
     ]
    }
   ],
   "source": [
    "from pyspark.ml.classification import LogisticRegression\n",
    "from pyspark.ml.feature import HashingTF, Tokenizer\n",
    "\n",
    "reviews = [(\"Prose is well-written, but style is an impediment to learning. Should be called 'Reviewing Spark,' not 'Learning Spark'\", 0.0),\n",
    "            (\"Nice Headstart to Spark\", 1.0),\n",
    "            (\"Start here: Excellent reference for Spark\", 1.0),\n",
    "            (\"Insightful and so Spark-tastic!\", 1.0),\n",
    "            (\"Good intro but wordy and lacking details in areas\", 0.0),\n",
    "            (\"Best of the Books Currently Available\", 1.0),\n",
    "            (\"A good resource for people interested in learning Spark\", 1.0),\n",
    "            (\"Great Overview\", 1.0)]\n",
    "\n",
    "test_reviews = [(\"A decent guided tour of Spark and its major components.\", 0.0),\n",
    "                (\"10/10 would buy again\", 1.0),\n",
    "                (\"it is simple to follow. well organized. straight ...\", 1.0),\n",
    "                (\"Just what you need to get started in Apache Spark.\", 1.0),\n",
    "                (\"Very good book for learning Spark\", 1.0)]\n",
    "\n",
    "training = sqlContext.createDataFrame(reviews, [\"title\", \"label\"]).cache()\n",
    "test = sqlContext.createDataFrame(test_reviews, [\"title\", \"label\"])\n",
    "\n",
    "tokenizer = Tokenizer(inputCol=\"title\", outputCol=\"words\")\n",
    "hashingTF = HashingTF(inputCol=tokenizer.getOutputCol(), outputCol=\"features\")\n",
    "logreg = LogisticRegression(maxIter=10, regParam=0.01)\n",
    "\n",
    "tokens = tokenizer.transform(training)\n",
    "hashes = hashingTF.transform(tokens)\n",
    "model = logreg.fit(hashes)\n",
    "\n",
    "# Make predictions on test documents\n",
    "test_tokens = tokenizer.transform(test)\n",
    "test_hashes = hashingTF.transform(test_tokens)\n",
    "\n",
    "prediction = model.transform(test_hashes)\n",
    "selected = prediction.select(\"title\", \"label\", \"prediction\")\n",
    "for row in selected.collect():\n",
    "    print(row)"
   ]
  },
  {
   "cell_type": "code",
   "execution_count": 8,
   "metadata": {
    "collapsed": false,
    "deletable": true,
    "editable": true
   },
   "outputs": [
    {
     "data": {
      "text/plain": [
       "SparseVector(262144, {6368: -0.4672, 9639: 0.4928, 15889: -0.2336, 16332: 0.5375, 22346: 0.7979, 26114: -0.4672, 29952: -1.0939, 39221: 0.4377, 47372: 0.4928, 47822: 0.8852, 48390: 0.7979, 61971: 0.4928, 77044: -0.4672, 81677: -0.4672, 91677: -0.1217, 99585: -0.4672, 103838: 0.4928, 104587: 0.4377, 106119: -0.4672, 113432: -0.356, 114686: 0.4837, 117481: 0.4377, 123535: -1.0939, 136358: -0.4672, 138356: 1.1303, 138912: -1.0939, 139098: -0.4672, 147278: -0.4672, 149001: -0.4672, 149910: 0.4837, 163984: 0.4837, 166027: 0.4928, 167152: -0.4672, 175563: 1.1303, 178534: -0.4672, 188424: 0.8852, 189683: -0.9106, 194536: -0.4672, 205044: 0.1929, 212740: 0.4377, 221048: -1.0939, 222453: -0.356, 227410: 0.4837, 234657: 0.8024, 235528: 0.4837, 238163: 0.4928, 241199: 0.8852, 247066: -1.0939, 261451: -0.4672})"
      ]
     },
     "execution_count": 8,
     "metadata": {},
     "output_type": "execute_result"
    }
   ],
   "source": [
    "# Note that if you use a PipelineModel it won't have a coefficients attribute.\n",
    "model.coefficients"
   ]
  },
  {
   "cell_type": "code",
   "execution_count": 9,
   "metadata": {
    "collapsed": false,
    "deletable": true,
    "editable": true
   },
   "outputs": [
    {
     "name": "stdout",
     "output_type": "stream",
     "text": [
      "+--------------------+--------------------+----------+\n",
      "|            features|         probability|prediction|\n",
      "+--------------------+--------------------+----------+\n",
      "|(262144,[9639,160...|[0.00839737493866...|       1.0|\n",
      "|(262144,[68867,70...|[0.04252139879146...|       1.0|\n",
      "+--------------------+--------------------+----------+\n",
      "only showing top 2 rows\n",
      "\n"
     ]
    }
   ],
   "source": [
    "prediction.select([\"features\", \"probability\", \"prediction\"]).show(2)"
   ]
  },
  {
   "cell_type": "markdown",
   "metadata": {
    "deletable": true,
    "editable": true
   },
   "source": [
    "**Exercise**: Rewrite the above using a Pipeline."
   ]
  },
  {
   "cell_type": "markdown",
   "metadata": {
    "deletable": true,
    "editable": true
   },
   "source": [
    "## Cross-validation and grid search"
   ]
  },
  {
   "cell_type": "code",
   "execution_count": 10,
   "metadata": {
    "collapsed": true,
    "deletable": true,
    "editable": true
   },
   "outputs": [],
   "source": [
    "from pyspark.ml.tuning import CrossValidator, ParamGridBuilder\n",
    "from pyspark.ml.evaluation import BinaryClassificationEvaluator\n",
    "from pyspark.ml import Pipeline"
   ]
  },
  {
   "cell_type": "code",
   "execution_count": 11,
   "metadata": {
    "collapsed": true,
    "deletable": true,
    "editable": true
   },
   "outputs": [],
   "source": [
    "pipeline = Pipeline(stages=[tokenizer, hashingTF, logreg])"
   ]
  },
  {
   "cell_type": "code",
   "execution_count": 12,
   "metadata": {
    "collapsed": false,
    "deletable": true,
    "editable": true
   },
   "outputs": [],
   "source": [
    "paramGrid = ParamGridBuilder() \\\n",
    "    .addGrid(hashingTF.numFeatures, [10, 100, 1000]) \\\n",
    "    .addGrid(logreg.regParam, [0.1, 0.01]) \\\n",
    "    .build()"
   ]
  },
  {
   "cell_type": "code",
   "execution_count": 13,
   "metadata": {
    "collapsed": false,
    "deletable": true,
    "editable": true
   },
   "outputs": [],
   "source": [
    "crossval = CrossValidator(estimator=pipeline,\n",
    "                          estimatorParamMaps=paramGrid,\n",
    "                          evaluator=BinaryClassificationEvaluator(),\n",
    "                          numFolds=3)"
   ]
  },
  {
   "cell_type": "markdown",
   "metadata": {
    "collapsed": false,
    "deletable": true,
    "editable": true
   },
   "source": [
    "*Note*: A more traditional validation set without folding is available in `TrainValidationSplit`."
   ]
  },
  {
   "cell_type": "code",
   "execution_count": 14,
   "metadata": {
    "collapsed": false,
    "deletable": true,
    "editable": true
   },
   "outputs": [],
   "source": [
    "cvModel = crossval.fit(training)"
   ]
  },
  {
   "cell_type": "code",
   "execution_count": 15,
   "metadata": {
    "collapsed": true,
    "deletable": true,
    "editable": true
   },
   "outputs": [],
   "source": [
    "better_prediction = cvModel.transform(test)"
   ]
  },
  {
   "cell_type": "code",
   "execution_count": 16,
   "metadata": {
    "collapsed": false,
    "deletable": true,
    "editable": true
   },
   "outputs": [
    {
     "name": "stdout",
     "output_type": "stream",
     "text": [
      "Row(title=u'A decent guided tour of Spark and its major components.', label=0.0, prediction=1.0)\n",
      "Row(title=u'10/10 would buy again', label=1.0, prediction=1.0)\n",
      "Row(title=u'it is simple to follow. well organized. straight ...', label=1.0, prediction=1.0)\n",
      "Row(title=u'Just what you need to get started in Apache Spark.', label=1.0, prediction=0.0)\n",
      "Row(title=u'Very good book for learning Spark', label=1.0, prediction=1.0)\n"
     ]
    }
   ],
   "source": [
    "selected = better_prediction.select(\"title\", \"label\", \"prediction\")\n",
    "for row in selected.collect():\n",
    "    print(row)"
   ]
  },
  {
   "cell_type": "code",
   "execution_count": 17,
   "metadata": {
    "collapsed": false,
    "deletable": true,
    "editable": true
   },
   "outputs": [
    {
     "data": {
      "text/plain": [
       "[Tokenizer_4c0a94a40c20217d2b6b,\n",
       " HashingTF_481a81ae25500da5c651,\n",
       " LogisticRegression_4351b91117b5942eb244]"
      ]
     },
     "execution_count": 17,
     "metadata": {},
     "output_type": "execute_result"
    }
   ],
   "source": [
    "cvModel.bestModel.stages"
   ]
  },
  {
   "cell_type": "code",
   "execution_count": 18,
   "metadata": {
    "collapsed": false,
    "deletable": true,
    "editable": true
   },
   "outputs": [
    {
     "data": {
      "text/plain": [
       "DenseVector([0.3927, -0.0662, -0.2097, -0.3057, -1.201, -0.2549, 0.1783, -0.9825, -0.54, -1.0403])"
      ]
     },
     "execution_count": 18,
     "metadata": {},
     "output_type": "execute_result"
    }
   ],
   "source": [
    "cvModel.bestModel.stages[2].coefficients"
   ]
  },
  {
   "cell_type": "code",
   "execution_count": 19,
   "metadata": {
    "collapsed": false,
    "deletable": true,
    "editable": true
   },
   "outputs": [
    {
     "data": {
      "text/plain": [
       "DataFrame[title: string, label: double]"
      ]
     },
     "execution_count": 19,
     "metadata": {},
     "output_type": "execute_result"
    }
   ],
   "source": [
    "training.unpersist()"
   ]
  },
  {
   "cell_type": "markdown",
   "metadata": {
    "deletable": true,
    "editable": true
   },
   "source": [
    "### Example algorithm: Word2Vec"
   ]
  },
  {
   "cell_type": "code",
   "execution_count": 5,
   "metadata": {
    "collapsed": false,
    "deletable": true,
    "editable": true,
    "scrolled": true
   },
   "outputs": [],
   "source": [
    "from pyspark.ml.feature import Word2Vec\n",
    "\n",
    "# text = sc.parallelize(reviews + test_reviews).map(lambda (line, score): (line.split(\" \"), score)).toDF(['text', 'score'])\n",
    "gutenberg = sc.textFile(localpath('small_data/gutenberg/')).map(lambda line: (line.split(\" \"), 1)).toDF(['text', 'score'])\n",
    "w2v = Word2Vec(inputCol=\"text\", outputCol=\"vectors\")\n",
    "model = w2v.fit(gutenberg)\n",
    "result = model.transform(gutenberg)"
   ]
  },
  {
   "cell_type": "code",
   "execution_count": 6,
   "metadata": {
    "collapsed": false,
    "deletable": true,
    "editable": true
   },
   "outputs": [
    {
     "name": "stdout",
     "output_type": "stream",
     "text": [
      "[Row(word=u'man', similarity=0.8720091039411314), Row(word=u'fellow', similarity=0.8715526365110657), Row(word=u'bit', similarity=0.8573996370982878), Row(word=u'girl', similarity=0.8440238269261223), Row(word=u'sweet', similarity=0.8363238716705361), Row(word=u'voice', similarity=0.8332955778996173), Row(word=u'waiter', similarity=0.8332426776296992), Row(word=u'Not', similarity=0.8268376719225548), Row(word=u'woman.', similarity=0.8260626755394919), Row(word=u'charming', similarity=0.8219273180949814)]\n"
     ]
    }
   ],
   "source": [
    "vectors = model.getVectors().rdd.map(lambda x: (x.word, x.vector))\n",
    "print model.findSynonyms('woman', 10).rdd.take(10)"
   ]
  },
  {
   "cell_type": "code",
   "execution_count": 7,
   "metadata": {
    "collapsed": false,
    "deletable": true,
    "editable": true
   },
   "outputs": [],
   "source": [
    "king_vec = vectors.lookup('king')[0]\n",
    "queen_vec = vectors.lookup('queen')[0]\n",
    "man_vec = vectors.lookup('man')[0]\n",
    "woman_vec = vectors.lookup('woman')[0]"
   ]
  },
  {
   "cell_type": "code",
   "execution_count": 8,
   "metadata": {
    "collapsed": false,
    "deletable": true,
    "editable": true
   },
   "outputs": [
    {
     "name": "stdout",
     "output_type": "stream",
     "text": [
      "[-0.0136160766706,-0.029679980129,-0.0187971945852,0.0146245937794,-0.0260057058185,0.0440981797874,0.0411708056927,0.0129473954439,-0.0303609333932,-0.0183322634548,-0.0590302124619,0.00351622304879,-0.0160355623811,-0.0716458708048,0.00539460312575,0.00347200571559,0.000186914927326,-0.00145505182445,0.0385810695589,0.0619655586779,0.0316808745265,-0.00644708890468,-0.0094636855647,0.0398297533393,-0.00672862725332,-0.0308548696339,-0.012208792381,0.0237402208149,0.0482747405767,0.00147257256322,-0.0338950566947,0.0314285010099,-0.032340425998,-0.0320617295802,-0.000477329973364,-0.0184230227023,0.0476760305464,0.0251849628985,-0.0127260303125,0.0447790436447,0.00177274330053,-0.0177723299712,-0.0406013727188,-0.0751792490482,-0.0786015689373,0.0610344968736,-0.0256222747266,0.00955851189792,-0.00771653465927,-0.0190721489489,0.0656533539295,0.00223001209088,0.00118451786693,0.0486329607666,0.0150789804757,0.0243607535958,0.0485647022724,-0.0558753535151,0.00258200173266,0.0128305517137,0.0129175791517,0.060721565038,-0.0157350637019,0.0500937998295,0.0542104169726,0.00807440560311,-0.0360540561378,-0.0587963499129,0.00476927123964,0.0358003601432,-0.0242033861578,0.015253813006,-0.0212231110781,-0.0033041597344,-0.00471144169569,0.0405313149095,-0.00387753662653,-0.032529219985,0.0445810854435,0.0303323138505,0.00410219887272,-0.00402442552149,0.0159117486328,-0.0690999925137,0.00544831482694,0.032168827951,0.00949854496866,-0.00752284424379,-0.0394067727029,0.0297794789076,-0.00966484285891,-0.000679077988025,-0.0299229361117,0.0123244971037,0.0252195689827,0.0146360946819,0.00882117170841,-0.0238738693297,-0.00530495587736,0.00190261285752]\n"
     ]
    }
   ],
   "source": [
    "print king_vec"
   ]
  },
  {
   "cell_type": "code",
   "execution_count": 9,
   "metadata": {
    "collapsed": false,
    "deletable": true,
    "editable": true
   },
   "outputs": [
    {
     "name": "stdout",
     "output_type": "stream",
     "text": [
      "0.0906354193\n",
      "0.375758404359\n",
      "1.26432601996\n",
      "0.565848466243\n",
      "0.530651124966\n"
     ]
    }
   ],
   "source": [
    "print queen_vec.squared_distance(king_vec)\n",
    "print queen_vec.squared_distance(woman_vec)\n",
    "print queen_vec.squared_distance(man_vec)\n",
    "print queen_vec.squared_distance(king_vec + man_vec - woman_vec)\n",
    "print queen_vec.squared_distance(king_vec - man_vec + woman_vec)"
   ]
  },
  {
   "cell_type": "markdown",
   "metadata": {
    "deletable": true,
    "editable": true
   },
   "source": [
    "## Feature processing"
   ]
  },
  {
   "cell_type": "code",
   "execution_count": null,
   "metadata": {
    "collapsed": false,
    "deletable": true,
    "editable": true
   },
   "outputs": [],
   "source": [
    "vdf = vectors.toDF([\"word\", \"vector\"])"
   ]
  },
  {
   "cell_type": "code",
   "execution_count": null,
   "metadata": {
    "collapsed": false,
    "deletable": true,
    "editable": true
   },
   "outputs": [],
   "source": [
    "vdf.show(5)"
   ]
  },
  {
   "cell_type": "code",
   "execution_count": null,
   "metadata": {
    "collapsed": false,
    "deletable": true,
    "editable": true
   },
   "outputs": [],
   "source": [
    "sample_vector = vdf.select(\"vector\").take(1)[0][0]\n",
    "print len(sample_vector)"
   ]
  },
  {
   "cell_type": "code",
   "execution_count": null,
   "metadata": {
    "collapsed": false,
    "deletable": true,
    "editable": true
   },
   "outputs": [],
   "source": [
    "from pyspark.ml.feature import VectorSlicer\n",
    "\n",
    "first_slicer = VectorSlicer(inputCol=\"vector\", outputCol=\"first\", indices=[0])\n",
    "last_slicer = VectorSlicer(inputCol=\"vector\", outputCol=\"last\", indices=[len(sample_vector) - 1])\n",
    "med_slicer = VectorSlicer(inputCol=\"vector\", outputCol=\"med\", indices=range(45, 55))"
   ]
  },
  {
   "cell_type": "code",
   "execution_count": null,
   "metadata": {
    "collapsed": false,
    "deletable": true,
    "editable": true
   },
   "outputs": [],
   "source": [
    "output = med_slicer.transform(last_slicer.transform(first_slicer.transform(vdf)))\n",
    "output.columns"
   ]
  },
  {
   "cell_type": "code",
   "execution_count": null,
   "metadata": {
    "collapsed": false,
    "deletable": true,
    "editable": true
   },
   "outputs": [],
   "source": [
    "from pyspark.ml.feature import VectorAssembler\n",
    "\n",
    "assembler = VectorAssembler(\n",
    "    inputCols=[\"first\", \"last\", \"med\"],\n",
    "    outputCol=\"features\")\n",
    "\n",
    "new_output = assembler.transform(output)\n",
    "new_output.columns"
   ]
  },
  {
   "cell_type": "code",
   "execution_count": null,
   "metadata": {
    "collapsed": false,
    "deletable": true,
    "editable": true
   },
   "outputs": [],
   "source": [
    "from pyspark.ml.feature import Binarizer\n",
    "\n",
    "binarizer = Binarizer(threshold=0.05, inputCol=\"features\", outputCol=\"bin_features\")\n",
    "new_output_b = binarizer.transform(new_output)\n",
    "print new_output_b.select([\"features\", \"bin_features\"]).take(1)[0]"
   ]
  },
  {
   "cell_type": "markdown",
   "metadata": {
    "deletable": true,
    "editable": true
   },
   "source": [
    "### Exercise: Use SVM to predict colon cancer from gene expressions\n",
    "You can start getting a feel for the MLlib operations by following the [Spark docs example](https://spark.apache.org/docs/1.3.0/mllib-linear-methods.html#linear-support-vector-machines-svms) on this dataset.\n",
    "\n",
    "#### About the data format: LibSVM\n",
    "MLlib conveniently provides a data loading method, `MLUtils.loadLibSVMFile()`, for the LibSVM format for which many other languages (R, Matlab, etc.) also have loading methods.  \n",
    "A dataset of *n* features will have one row per datum, with the label and values of each feature organized as follows:\n",
    ">{label} 1:{value} 2:{value} ... n:{value}\n",
    "\n",
    "Take these two datapoints with six features and labels of -1 and 1 respectively as an example:\n",
    ">-1.000000  1:2.080750 2:1.099070 3:0.927763 4:1.029080 5:-0.130763 6:1.265460  \n",
    "1.000000  1:1.109460 2:0.786453 3:0.445560 4:-0.146323 5:-0.996316 6:0.555759 \n",
    "\n",
    "#### About the colon-cancer dataset\n",
    "This dataset was introduced in the 1999 paper \"Broad patterns of gene expression revealed by clustering analysis of tumor and normal colon tissues probed by oligonucleotide arrays.\" (Available on PNAS)\n",
    "\n",
    "Here's the abstract of the paper:  \n",
    "> *Oligonucleotide arrays can provide a broad picture of the state of the cell, by monitoring the expression level of thousands of genes at the same time. It is of interest to develop techniques for extracting useful information from the resulting data sets. Here we report the application of a two-way clustering method for analyzing a data set consisting of the expression patterns of different cell types. Gene expression in 40 tumor and 22 normal colon tissue samples was analyzed with an Affymetrix oligonucleotide array complementary to more than 6,500 human genes. An efficient two-way clustering algorithm was applied to both the genes and the tissues, revealing broad coherent patterns that suggest a high degree of organization underlying gene expression in these tissues. Coregulated families of genes clustered together, as demonstrated for the ribosomal proteins. Clustering also separated cancerous from noncancerous tissue and cell lines from in vivo tissues on the basis of subtle distributed patterns of genes even when expression of individual genes varied only slightly between the tissues. Two-way clustering thus may be of use both in classifying genes into functional groups and in classifying tissues based on gene expression.*\n",
    "\n",
    "There are 2000 features, 62 data points (40 tumor (label=0), 22 normal (label=1)), and 2 classes (labels) for the colon cancer dataset. "
   ]
  },
  {
   "cell_type": "markdown",
   "metadata": {
    "deletable": true,
    "editable": true
   },
   "source": [
    "#### Exit Tickets\n",
    "1. When would you use `org.apache.spark.mllib.linalg.Vector` versus `breeze.linalg.DenseVector`?\n",
    "1. Why can SVM, Linear Regression, and Logistic Regression be parallelized?  How would you parallelize KMeans?\n"
   ]
  },
  {
   "cell_type": "code",
   "execution_count": null,
   "metadata": {
    "collapsed": true,
    "deletable": true,
    "editable": true
   },
   "outputs": [],
   "source": [
    "sc.stop()"
   ]
  },
  {
   "cell_type": "markdown",
   "metadata": {
    "deletable": true,
    "editable": true
   },
   "source": [
    "*Copyright &copy; 2015 The Data Incubator.  All rights reserved.*"
   ]
  }
 ],
 "metadata": {
  "kernelspec": {
   "display_name": "Python 2",
   "language": "python",
   "name": "python2"
  },
  "language_info": {
   "codemirror_mode": {
    "name": "ipython",
    "version": 2
   },
   "file_extension": ".py",
   "mimetype": "text/x-python",
   "name": "python",
   "nbconvert_exporter": "python",
   "pygments_lexer": "ipython2",
   "version": "2.7.13"
  }
 },
 "nbformat": 4,
 "nbformat_minor": 0
}
