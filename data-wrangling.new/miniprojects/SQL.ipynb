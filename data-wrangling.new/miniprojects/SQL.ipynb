{
 "cells": [
  {
   "cell_type": "code",
   "execution_count": 1,
   "metadata": {
    "collapsed": true,
    "deletable": true,
    "editable": true
   },
   "outputs": [],
   "source": [
    "%matplotlib inline\n",
    "import matplotlib\n",
    "import seaborn as sns\n",
    "matplotlib.rcParams['savefig.dpi'] = 144"
   ]
  },
  {
   "cell_type": "code",
   "execution_count": 2,
   "metadata": {
    "collapsed": false,
    "deletable": true,
    "editable": true
   },
   "outputs": [],
   "source": [
    "import grader"
   ]
  },
  {
   "cell_type": "markdown",
   "metadata": {
    "deletable": true,
    "editable": true
   },
   "source": [
    "# SQL Miniproject\n",
    "\n",
    "## Introduction\n",
    "\n",
    "The city of New York does restaurant inspections and assigns a grade. Inspections data for the last 4 years are available on s3 [here](s3://dataincubator-course/coursedata/nyc_inspection_data.zip). You can copy it from s3 with this command:\n",
    "\n",
    "`!aws s3 cp s3://dataincubator-course/coursedata/nyc_inspection_data.zip .`\n",
    "\n",
    "The file `RI_Webextract_BigApps_Latest.xls` contains a description of each of the datafiles.  Take a look and then load the csv formatted `*.txt` files into\n",
    "a database as five tables:\n",
    "1. `actions`\n",
    "2. `cuisines`\n",
    "3. `violations`\n",
    "4. `grades` (from `WebExtract.txt`)\n",
    "5. `boroughs` (from `RI_Webextract_BigApps_Latest.xls`)"
   ]
  },
  {
   "cell_type": "code",
   "execution_count": 3,
   "metadata": {
    "collapsed": false,
    "deletable": true,
    "editable": true
   },
   "outputs": [
    {
     "name": "stdout",
     "output_type": "stream",
     "text": [
      "download: s3://dataincubator-course/coursedata/nyc_inspection_data.zip to ./nyc_inspection_data.zip\n"
     ]
    }
   ],
   "source": [
    "!aws s3 cp s3://dataincubator-course/coursedata/nyc_inspection_data.zip ."
   ]
  },
  {
   "cell_type": "markdown",
   "metadata": {
    "deletable": true,
    "editable": true
   },
   "source": [
    "## SQLite3\n",
    "\n",
    "The project should be written in SQL. Between SQLite and PostgreSQL we recommend sqlite3 for this project.  You can use the sqlite command prompt by running this command in bash\n",
    "```bash\n",
    "sqlite3 cmd \"DROP TABLE IF EXISTS writer;\\\n",
    "CREATE TABLE IF NOT EXISTS writer (first_name, last_name, year);\\\n",
    "INSERT INTO writer VALUES ('William', 'Shakespeare', 1616);\\\n",
    "INSERT INTO writer VALUES ('Francis', 'Fitzgerald', 1896);\\\n",
    "\\\n",
    "SELECT * FROM writer;\\\n",
    "\"\n",
    "```\n",
    "Alternatively, you can run bash commands in a jupyter notebook by prepending the `!` in a code cell (notice that we conveniently get the output displayed"
   ]
  },
  {
   "cell_type": "code",
   "execution_count": 4,
   "metadata": {
    "collapsed": false,
    "deletable": true,
    "editable": true
   },
   "outputs": [
    {
     "name": "stdout",
     "output_type": "stream",
     "text": [
      "William|Shakespeare|1616\r\n",
      "Francis|Fitzgerald|1896\r\n"
     ]
    }
   ],
   "source": [
    "!sqlite3 cmd \"\"\"\\\n",
    "DROP TABLE IF EXISTS writer;\\\n",
    "CREATE TABLE IF NOT EXISTS writer (first_name, last_name, year);\\\n",
    "INSERT INTO writer VALUES ('William', 'Shakespeare', 1616);\\\n",
    "INSERT INTO writer VALUES ('Francis', 'Fitzgerald', 1896);\\\n",
    "\\\n",
    "SELECT * FROM writer;\\\n",
    "\"\"\""
   ]
  },
  {
   "cell_type": "markdown",
   "metadata": {
    "deletable": true,
    "editable": true
   },
   "source": [
    "Finally, we use the [ipython-sql extension](https://github.com/catherinedevlin/ipython-sql#ipython-sql) by first loaidng the sql extension and then running our code with the \"magic\" command in the first line\n",
    "```python\n",
    "%%sql sqlite://\n",
    "```\n",
    "Notice that the output table is formatted nicely as a nice HTML table."
   ]
  },
  {
   "cell_type": "code",
   "execution_count": 5,
   "metadata": {
    "collapsed": false,
    "deletable": true,
    "editable": true
   },
   "outputs": [
    {
     "name": "stderr",
     "output_type": "stream",
     "text": [
      "/opt/conda/lib/python2.7/site-packages/IPython/config.py:13: ShimWarning: The `IPython.config` package has been deprecated since IPython 4.0. You should import from traitlets.config instead.\n",
      "  \"You should import from traitlets.config instead.\", ShimWarning)\n",
      "/opt/conda/lib/python2.7/site-packages/IPython/utils/traitlets.py:5: UserWarning: IPython.utils.traitlets has moved to a top-level traitlets package.\n",
      "  warn(\"IPython.utils.traitlets has moved to a top-level traitlets package.\")\n"
     ]
    }
   ],
   "source": [
    "%load_ext sql"
   ]
  },
  {
   "cell_type": "code",
   "execution_count": 6,
   "metadata": {
    "collapsed": false,
    "deletable": true,
    "editable": true
   },
   "outputs": [
    {
     "name": "stdout",
     "output_type": "stream",
     "text": [
      "Done.\n",
      "Done.\n",
      "1 rows affected.\n",
      "1 rows affected.\n",
      "Done.\n"
     ]
    },
    {
     "data": {
      "text/html": [
       "<table>\n",
       "    <tr>\n",
       "        <th>first_name</th>\n",
       "        <th>last_name</th>\n",
       "        <th>year</th>\n",
       "    </tr>\n",
       "    <tr>\n",
       "        <td>William</td>\n",
       "        <td>Shakespeare</td>\n",
       "        <td>1616</td>\n",
       "    </tr>\n",
       "    <tr>\n",
       "        <td>Francis</td>\n",
       "        <td>Fitzgerald</td>\n",
       "        <td>1896</td>\n",
       "    </tr>\n",
       "</table>"
      ],
      "text/plain": [
       "[(u'William', u'Shakespeare', 1616), (u'Francis', u'Fitzgerald', 1896)]"
      ]
     },
     "execution_count": 6,
     "metadata": {},
     "output_type": "execute_result"
    }
   ],
   "source": [
    "%%sql sqlite://\n",
    "DROP TABLE IF EXISTS writer;\n",
    "CREATE TABLE IF NOT EXISTS writer (first_name, last_name, year);\n",
    "INSERT INTO writer VALUES ('William', 'Shakespeare', 1616);\n",
    "INSERT INTO writer VALUES ('Francis', 'Fitzgerald', 1896);\n",
    "\n",
    "SELECT * FROM writer;"
   ]
  },
  {
   "cell_type": "markdown",
   "metadata": {
    "collapsed": true,
    "deletable": true,
    "editable": true
   },
   "source": [
    "## Loading data\n",
    "\n",
    "\n",
    "The Sqlite3 has a convenient [`.import` function](https://sqlite.org/cli.html#csv_import) which can create tables from `.csv` files.\n",
    "\n",
    "```bash\n",
    "sqlite> .import sample.csv.nogit sample\n",
    "sqlite> SELECT * FROM sample;\n",
    "```\n",
    "\n",
    "The files may contain malformatted text.  Unfortunately, this is all too common.  As a stop gap, remember that [`iconv`](https://linux.die.net/man/1/iconv) is a unix utility that can convert files between different text encodings.\n",
    "\n",
    "Alternatively, you can also read csv files using pandas and convert that into SQL via some sql magic.\n",
    "\n",
    "Also be aware that the `WebExtract.txt` file contains duplicated data. Multiple rows with identical `CAMIS` and `INSPDATE` values should be reduced to a single row. You will need the `SCORE`, `ZIPCODE`, `BORO`, and `CURRENTGRADE` columns for this miniproject. Make sure that you use a non-null value from the multiple rows for each of these columns when reducing to a single row."
   ]
  },
  {
   "cell_type": "code",
   "execution_count": 7,
   "metadata": {
    "collapsed": false,
    "deletable": true,
    "editable": true,
    "scrolled": true
   },
   "outputs": [],
   "source": [
    "!printf \"Name,Age\\nAlice,3\\nBob,10\" > sample.csv.nogit"
   ]
  },
  {
   "cell_type": "code",
   "execution_count": 8,
   "metadata": {
    "collapsed": false,
    "deletable": true,
    "editable": true
   },
   "outputs": [
    {
     "name": "stdout",
     "output_type": "stream",
     "text": [
      "Done.\n",
      "Done.\n"
     ]
    },
    {
     "data": {
      "text/html": [
       "<table>\n",
       "    <tr>\n",
       "        <th>index</th>\n",
       "        <th>Name</th>\n",
       "        <th>Age</th>\n",
       "    </tr>\n",
       "    <tr>\n",
       "        <td>0</td>\n",
       "        <td>Alice</td>\n",
       "        <td>3</td>\n",
       "    </tr>\n",
       "    <tr>\n",
       "        <td>1</td>\n",
       "        <td>Bob</td>\n",
       "        <td>10</td>\n",
       "    </tr>\n",
       "</table>"
      ],
      "text/plain": [
       "[(0, u'Alice', 3), (1, u'Bob', 10)]"
      ]
     },
     "execution_count": 8,
     "metadata": {},
     "output_type": "execute_result"
    }
   ],
   "source": [
    "import pandas as pd\n",
    "sample = pd.read_csv('sample.csv.nogit')\n",
    "%sql DROP TABLE IF EXISTS sample\n",
    "%sql PERSIST sample\n",
    "%sql SELECT * FROM sample;"
   ]
  },
  {
   "cell_type": "markdown",
   "metadata": {
    "deletable": true,
    "editable": true
   },
   "source": [
    "## For our data, load with encoding 'latin-1' or 'windows-1252'\n",
    "\n",
    "1. actions\n",
    "2. cuisines\n",
    "3. violations\n",
    "4. grades (from WebExtract.txt)\n",
    "5. boroughs (from RI_Webextract_BigApps_Latest.xls)\n"
   ]
  },
  {
   "cell_type": "code",
   "execution_count": 9,
   "metadata": {
    "collapsed": false,
    "deletable": true,
    "editable": true
   },
   "outputs": [
    {
     "name": "stderr",
     "output_type": "stream",
     "text": [
      "/opt/conda/lib/python2.7/site-packages/IPython/core/interactiveshell.py:2717: DtypeWarning: Columns (6) have mixed types. Specify dtype option on import or set low_memory=False.\n",
      "  interactivity=interactivity, compiler=compiler, result=result)\n"
     ]
    },
    {
     "name": "stdout",
     "output_type": "stream",
     "text": [
      "Done.\n"
     ]
    },
    {
     "data": {
      "text/plain": [
       "u'Persisted grades'"
      ]
     },
     "execution_count": 9,
     "metadata": {},
     "output_type": "execute_result"
    }
   ],
   "source": [
    "grades = pd.read_csv('WebExtract.txt', encoding = 'latin-1')\n",
    "%sql DROP TABLE IF EXISTS grades\n",
    "%sql PERSIST grades"
   ]
  },
  {
   "cell_type": "code",
   "execution_count": 10,
   "metadata": {
    "collapsed": false,
    "deletable": true,
    "editable": true
   },
   "outputs": [
    {
     "name": "stdout",
     "output_type": "stream",
     "text": [
      "Done.\n"
     ]
    },
    {
     "data": {
      "text/html": [
       "<table>\n",
       "    <tr>\n",
       "        <th>index</th>\n",
       "        <th>CAMIS</th>\n",
       "        <th>DBA</th>\n",
       "        <th>BORO</th>\n",
       "        <th>BUILDING</th>\n",
       "        <th>STREET</th>\n",
       "        <th>ZIPCODE</th>\n",
       "        <th>PHONE</th>\n",
       "        <th>CUISINECODE</th>\n",
       "        <th>INSPDATE</th>\n",
       "        <th>ACTION</th>\n",
       "        <th>VIOLCODE</th>\n",
       "        <th>SCORE</th>\n",
       "        <th>CURRENTGRADE</th>\n",
       "        <th>GRADEDATE</th>\n",
       "        <th>RECORDDATE</th>\n",
       "    </tr>\n",
       "    <tr>\n",
       "        <td>0</td>\n",
       "        <td>30075445</td>\n",
       "        <td>MORRIS PARK BAKE SHOP</td>\n",
       "        <td>2</td>\n",
       "        <td>1007      </td>\n",
       "        <td>MORRIS PARK AVE                                   </td>\n",
       "        <td>10462.0</td>\n",
       "        <td>7188924968</td>\n",
       "        <td>8</td>\n",
       "        <td>2014-03-03 00:00:00</td>\n",
       "        <td>D</td>\n",
       "        <td>10F</td>\n",
       "        <td>2.0</td>\n",
       "        <td>A</td>\n",
       "        <td>2014-03-03 00:00:00</td>\n",
       "        <td>2014-09-04 06:01:28.403000000</td>\n",
       "    </tr>\n",
       "    <tr>\n",
       "        <td>1</td>\n",
       "        <td>30112340</td>\n",
       "        <td>WENDY'S</td>\n",
       "        <td>3</td>\n",
       "        <td>469</td>\n",
       "        <td>FLATBUSH AVENUE</td>\n",
       "        <td>11225.0</td>\n",
       "        <td>7182875005</td>\n",
       "        <td>39</td>\n",
       "        <td>2014-07-01 00:00:00</td>\n",
       "        <td>F</td>\n",
       "        <td>06A</td>\n",
       "        <td>23.0</td>\n",
       "        <td>B</td>\n",
       "        <td>2014-07-01 00:00:00</td>\n",
       "        <td>2014-09-04 06:01:28.403000000</td>\n",
       "    </tr>\n",
       "    <tr>\n",
       "        <td>2</td>\n",
       "        <td>30191841</td>\n",
       "        <td>DJ REYNOLDS PUB AND RESTAURANT</td>\n",
       "        <td>1</td>\n",
       "        <td>351</td>\n",
       "        <td>WEST 57 STREET</td>\n",
       "        <td>10019.0</td>\n",
       "        <td>2122452912</td>\n",
       "        <td>3</td>\n",
       "        <td>2013-07-22 00:00:00</td>\n",
       "        <td>D</td>\n",
       "        <td>10B</td>\n",
       "        <td>11.0</td>\n",
       "        <td>A</td>\n",
       "        <td>2013-07-22 00:00:00</td>\n",
       "        <td>2014-09-04 06:01:28.403000000</td>\n",
       "    </tr>\n",
       "    <tr>\n",
       "        <td>3</td>\n",
       "        <td>40356483</td>\n",
       "        <td>WILKEN'S FINE FOOD</td>\n",
       "        <td>3</td>\n",
       "        <td>7114      </td>\n",
       "        <td>AVENUE U                        </td>\n",
       "        <td>11234.0</td>\n",
       "        <td>7184443838</td>\n",
       "        <td>27</td>\n",
       "        <td>2014-05-29 00:00:00</td>\n",
       "        <td>D</td>\n",
       "        <td>08C</td>\n",
       "        <td>10.0</td>\n",
       "        <td>A</td>\n",
       "        <td>2014-05-29 00:00:00</td>\n",
       "        <td>2014-09-04 06:01:28.403000000</td>\n",
       "    </tr>\n",
       "    <tr>\n",
       "        <td>4</td>\n",
       "        <td>30191841</td>\n",
       "        <td>DJ REYNOLDS PUB AND RESTAURANT</td>\n",
       "        <td>1</td>\n",
       "        <td>351</td>\n",
       "        <td>WEST 57 STREET</td>\n",
       "        <td>10019.0</td>\n",
       "        <td>2122452912</td>\n",
       "        <td>3</td>\n",
       "        <td>2013-07-22 00:00:00</td>\n",
       "        <td>D</td>\n",
       "        <td>02G</td>\n",
       "        <td>11.0</td>\n",
       "        <td>A</td>\n",
       "        <td>2013-07-22 00:00:00</td>\n",
       "        <td>2014-09-04 06:01:28.403000000</td>\n",
       "    </tr>\n",
       "</table>"
      ],
      "text/plain": [
       "[(0, 30075445, u'MORRIS PARK BAKE SHOP', 2, u'1007      ', u'MORRIS PARK AVE                                   ', 10462.0, u'7188924968', 8, u'2014-03-03 00:00:00', u'D', u'10F', 2.0, u'A', u'2014-03-03 00:00:00', u'2014-09-04 06:01:28.403000000'),\n",
       " (1, 30112340, u\"WENDY'S\", 3, u'469', u'FLATBUSH AVENUE', 11225.0, u'7182875005', 39, u'2014-07-01 00:00:00', u'F', u'06A', 23.0, u'B', u'2014-07-01 00:00:00', u'2014-09-04 06:01:28.403000000'),\n",
       " (2, 30191841, u'DJ REYNOLDS PUB AND RESTAURANT', 1, u'351', u'WEST 57 STREET', 10019.0, u'2122452912', 3, u'2013-07-22 00:00:00', u'D', u'10B', 11.0, u'A', u'2013-07-22 00:00:00', u'2014-09-04 06:01:28.403000000'),\n",
       " (3, 40356483, u\"WILKEN'S FINE FOOD\", 3, u'7114      ', u'AVENUE U                        ', 11234.0, u'7184443838', 27, u'2014-05-29 00:00:00', u'D', u'08C', 10.0, u'A', u'2014-05-29 00:00:00', u'2014-09-04 06:01:28.403000000'),\n",
       " (4, 30191841, u'DJ REYNOLDS PUB AND RESTAURANT', 1, u'351', u'WEST 57 STREET', 10019.0, u'2122452912', 3, u'2013-07-22 00:00:00', u'D', u'02G', 11.0, u'A', u'2013-07-22 00:00:00', u'2014-09-04 06:01:28.403000000')]"
      ]
     },
     "execution_count": 10,
     "metadata": {},
     "output_type": "execute_result"
    }
   ],
   "source": [
    "%sql SELECT * FROM grades LIMIT 5;"
   ]
  },
  {
   "cell_type": "markdown",
   "metadata": {
    "deletable": true,
    "editable": true
   },
   "source": [
    "## Question 1: null_entries\n",
    "\n",
    "Return the number of entries in the grades table with a blank score. Remove those rows from the dataset for the rest of the questions in the assignment.\n",
    "\n",
    "**Question:** How else might we have handled this?"
   ]
  },
  {
   "cell_type": "code",
   "execution_count": 11,
   "metadata": {
    "collapsed": false,
    "deletable": true,
    "editable": true
   },
   "outputs": [
    {
     "name": "stdout",
     "output_type": "stream",
     "text": [
      "Done.\n"
     ]
    },
    {
     "data": {
      "text/html": [
       "<table>\n",
       "    <tr>\n",
       "        <th>COUNT(*)</th>\n",
       "    </tr>\n",
       "    <tr>\n",
       "        <td>33524</td>\n",
       "    </tr>\n",
       "</table>"
      ],
      "text/plain": [
       "[(33524,)]"
      ]
     },
     "execution_count": 11,
     "metadata": {},
     "output_type": "execute_result"
    }
   ],
   "source": [
    "%%sql SELECT COUNT(*) FROM grades\n",
    "WHERE score is NULL"
   ]
  },
  {
   "cell_type": "code",
   "execution_count": 24,
   "metadata": {
    "collapsed": false,
    "deletable": true,
    "editable": true
   },
   "outputs": [
    {
     "name": "stdout",
     "output_type": "stream",
     "text": [
      "Done.\n",
      "Done.\n"
     ]
    },
    {
     "data": {
      "text/plain": [
       "[]"
      ]
     },
     "execution_count": 24,
     "metadata": {},
     "output_type": "execute_result"
    }
   ],
   "source": [
    "%sql DROP TABLE IF EXISTS grad\n",
    "%sql CREATE TABLE grad AS SELECT CAMIS, INSPDATE, SCORE, ZIPCODE, BORO, CURRENTGRADE FROM grades"
   ]
  },
  {
   "cell_type": "code",
   "execution_count": 48,
   "metadata": {
    "collapsed": false,
    "deletable": true,
    "editable": true
   },
   "outputs": [
    {
     "name": "stdout",
     "output_type": "stream",
     "text": [
      "Done.\n"
     ]
    },
    {
     "data": {
      "text/plain": [
       "[]"
      ]
     },
     "execution_count": 48,
     "metadata": {},
     "output_type": "execute_result"
    }
   ],
   "source": [
    "%sql DROP TABLE IF EXISTS grad1"
   ]
  },
  {
   "cell_type": "code",
   "execution_count": 49,
   "metadata": {
    "collapsed": false,
    "deletable": true,
    "editable": true
   },
   "outputs": [
    {
     "name": "stdout",
     "output_type": "stream",
     "text": [
      "Done.\n"
     ]
    },
    {
     "data": {
      "text/plain": [
       "[]"
      ]
     },
     "execution_count": 49,
     "metadata": {},
     "output_type": "execute_result"
    }
   ],
   "source": [
    "%%sql CREATE TABLE grad1 AS\n",
    "SELECT CAMIS, INSPDATE,  MAX(SCORE) AS SCORE,  ZIPCODE, BORO, CURRENTGRADE\n",
    "FROM grad\n",
    "GROUP BY CAMIS, INSPDATE"
   ]
  },
  {
   "cell_type": "code",
   "execution_count": 50,
   "metadata": {
    "collapsed": false,
    "deletable": true,
    "editable": true
   },
   "outputs": [
    {
     "name": "stdout",
     "output_type": "stream",
     "text": [
      "Done.\n"
     ]
    },
    {
     "data": {
      "text/html": [
       "<table>\n",
       "    <tr>\n",
       "        <th>COUNT(*)</th>\n",
       "    </tr>\n",
       "    <tr>\n",
       "        <td>8255</td>\n",
       "    </tr>\n",
       "</table>"
      ],
      "text/plain": [
       "[(8255,)]"
      ]
     },
     "execution_count": 50,
     "metadata": {},
     "output_type": "execute_result"
    }
   ],
   "source": [
    "%sql SELECT COUNT(*) FROM grad1 WHERE score is NULL"
   ]
  },
  {
   "cell_type": "code",
   "execution_count": 47,
   "metadata": {
    "collapsed": false,
    "deletable": true,
    "editable": true
   },
   "outputs": [
    {
     "name": "stdout",
     "output_type": "stream",
     "text": [
      "==================\n",
      "Your score:  1\n",
      "==================\n"
     ]
    }
   ],
   "source": [
    "def null_entries():\n",
    "    return 8255\n",
    "\n",
    "grader.score('sql__null_entries', null_entries)"
   ]
  },
  {
   "cell_type": "code",
   "execution_count": 51,
   "metadata": {
    "collapsed": false,
    "deletable": true,
    "editable": true
   },
   "outputs": [
    {
     "name": "stdout",
     "output_type": "stream",
     "text": [
      "8255 rows affected.\n"
     ]
    },
    {
     "data": {
      "text/plain": [
       "[]"
      ]
     },
     "execution_count": 51,
     "metadata": {},
     "output_type": "execute_result"
    }
   ],
   "source": [
    "%%sql UPDATE grad1\n",
    "SET SCORE = 0\n",
    "WHERE SCORE is NULL;"
   ]
  },
  {
   "cell_type": "code",
   "execution_count": 52,
   "metadata": {
    "collapsed": false,
    "deletable": true,
    "editable": true
   },
   "outputs": [
    {
     "name": "stdout",
     "output_type": "stream",
     "text": [
      "Done.\n"
     ]
    },
    {
     "data": {
      "text/html": [
       "<table>\n",
       "    <tr>\n",
       "        <th>CAMIS</th>\n",
       "        <th>INSPDATE</th>\n",
       "        <th>SCORE</th>\n",
       "        <th>ZIPCODE</th>\n",
       "        <th>BORO</th>\n",
       "        <th>CURRENTGRADE</th>\n",
       "    </tr>\n",
       "    <tr>\n",
       "        <td>30075445</td>\n",
       "        <td>2011-03-10 00:00:00</td>\n",
       "        <td>14.0</td>\n",
       "        <td>10462.0</td>\n",
       "        <td>2</td>\n",
       "        <td>B</td>\n",
       "    </tr>\n",
       "    <tr>\n",
       "        <td>30075445</td>\n",
       "        <td>2011-04-27 00:00:00</td>\n",
       "        <td>0</td>\n",
       "        <td>10462.0</td>\n",
       "        <td>2</td>\n",
       "        <td>None</td>\n",
       "    </tr>\n",
       "    <tr>\n",
       "        <td>30075445</td>\n",
       "        <td>2011-11-12 00:00:00</td>\n",
       "        <td>0</td>\n",
       "        <td>10462.0</td>\n",
       "        <td>2</td>\n",
       "        <td>None</td>\n",
       "    </tr>\n",
       "    <tr>\n",
       "        <td>30075445</td>\n",
       "        <td>2011-11-23 00:00:00</td>\n",
       "        <td>9.0</td>\n",
       "        <td>10462.0</td>\n",
       "        <td>2</td>\n",
       "        <td>A</td>\n",
       "    </tr>\n",
       "    <tr>\n",
       "        <td>30075445</td>\n",
       "        <td>2011-12-21 00:00:00</td>\n",
       "        <td>0</td>\n",
       "        <td>10462.0</td>\n",
       "        <td>2</td>\n",
       "        <td>None</td>\n",
       "    </tr>\n",
       "</table>"
      ],
      "text/plain": [
       "[(30075445, u'2011-03-10 00:00:00', 14.0, 10462.0, 2, u'B'),\n",
       " (30075445, u'2011-04-27 00:00:00', 0, 10462.0, 2, None),\n",
       " (30075445, u'2011-11-12 00:00:00', 0, 10462.0, 2, None),\n",
       " (30075445, u'2011-11-23 00:00:00', 9.0, 10462.0, 2, u'A'),\n",
       " (30075445, u'2011-12-21 00:00:00', 0, 10462.0, 2, None)]"
      ]
     },
     "execution_count": 52,
     "metadata": {},
     "output_type": "execute_result"
    }
   ],
   "source": [
    "%sql select * from grad1 limit 5"
   ]
  },
  {
   "cell_type": "markdown",
   "metadata": {
    "deletable": true,
    "editable": true
   },
   "source": [
    "## Question 2: score_by_zipcode\n",
    "\n",
    "Return a list of tuples of the form:\n",
    "\n",
    "    (zipcode, mean score, number of restaurants)\n",
    "\n",
    "for each of the 92 zipcodes in the city with over 100 restaurants. Use the score from the latest inspection date for each restaurant. Sort the list in ascending order by mean score.\n",
    "\n",
    "**Note:** There is an interesting discussion here about what the mean score *means* in this dataset. Think about what we're actually calculating - does it represent what we're trying to understand about these zipcodes?\n",
    "\n",
    "What if we use the average of a restaurant's inspections instead of the latest?\n",
    "\n",
    "**Checkpoints:**\n",
    "- Total unique restaurants: 25,232;\n",
    "- Total restaurants in valid zipcodes: 20,349"
   ]
  },
  {
   "cell_type": "code",
   "execution_count": 104,
   "metadata": {
    "collapsed": false,
    "deletable": true,
    "editable": true
   },
   "outputs": [
    {
     "name": "stdout",
     "output_type": "stream",
     "text": [
      "Done.\n"
     ]
    },
    {
     "data": {
      "text/plain": [
       "[]"
      ]
     },
     "execution_count": 104,
     "metadata": {},
     "output_type": "execute_result"
    }
   ],
   "source": [
    "%sql drop table if exists grad2"
   ]
  },
  {
   "cell_type": "code",
   "execution_count": 105,
   "metadata": {
    "collapsed": false,
    "deletable": true,
    "editable": true
   },
   "outputs": [
    {
     "name": "stdout",
     "output_type": "stream",
     "text": [
      "Done.\n"
     ]
    },
    {
     "data": {
      "text/plain": [
       "[]"
      ]
     },
     "execution_count": 105,
     "metadata": {},
     "output_type": "execute_result"
    }
   ],
   "source": [
    "%%sql CREATE TABLE grad2 AS\n",
    "SELECT CAMIS, MAX(INSPDATE) as inspdate,  SCORE,  ZIPCODE\n",
    "FROM grad1\n",
    "GROUP BY CAMIS"
   ]
  },
  {
   "cell_type": "code",
   "execution_count": 106,
   "metadata": {
    "collapsed": false,
    "deletable": true,
    "editable": true
   },
   "outputs": [
    {
     "name": "stdout",
     "output_type": "stream",
     "text": [
      "Done.\n"
     ]
    },
    {
     "data": {
      "text/html": [
       "<table>\n",
       "    <tr>\n",
       "        <th>CAMIS</th>\n",
       "        <th>inspdate</th>\n",
       "        <th>SCORE</th>\n",
       "        <th>ZIPCODE</th>\n",
       "    </tr>\n",
       "    <tr>\n",
       "        <td>30075445</td>\n",
       "        <td>2014-03-03 00:00:00</td>\n",
       "        <td>2.0</td>\n",
       "        <td>10462.0</td>\n",
       "    </tr>\n",
       "    <tr>\n",
       "        <td>30112340</td>\n",
       "        <td>2014-07-01 00:00:00</td>\n",
       "        <td>23.0</td>\n",
       "        <td>11225.0</td>\n",
       "    </tr>\n",
       "    <tr>\n",
       "        <td>30191841</td>\n",
       "        <td>2013-07-22 00:00:00</td>\n",
       "        <td>11.0</td>\n",
       "        <td>10019.0</td>\n",
       "    </tr>\n",
       "    <tr>\n",
       "        <td>40356018</td>\n",
       "        <td>2014-06-10 00:00:00</td>\n",
       "        <td>5.0</td>\n",
       "        <td>11224.0</td>\n",
       "    </tr>\n",
       "    <tr>\n",
       "        <td>40356068</td>\n",
       "        <td>2014-01-29 00:00:00</td>\n",
       "        <td>12.0</td>\n",
       "        <td>11374.0</td>\n",
       "    </tr>\n",
       "</table>"
      ],
      "text/plain": [
       "[(30075445, u'2014-03-03 00:00:00', 2.0, 10462.0),\n",
       " (30112340, u'2014-07-01 00:00:00', 23.0, 11225.0),\n",
       " (30191841, u'2013-07-22 00:00:00', 11.0, 10019.0),\n",
       " (40356018, u'2014-06-10 00:00:00', 5.0, 11224.0),\n",
       " (40356068, u'2014-01-29 00:00:00', 12.0, 11374.0)]"
      ]
     },
     "execution_count": 106,
     "metadata": {},
     "output_type": "execute_result"
    }
   ],
   "source": [
    "%sql select * from grad2 limit 5"
   ]
  },
  {
   "cell_type": "code",
   "execution_count": 107,
   "metadata": {
    "collapsed": false,
    "deletable": true,
    "editable": true
   },
   "outputs": [
    {
     "name": "stdout",
     "output_type": "stream",
     "text": [
      "Done.\n"
     ]
    },
    {
     "data": {
      "text/plain": [
       "[]"
      ]
     },
     "execution_count": 107,
     "metadata": {},
     "output_type": "execute_result"
    }
   ],
   "source": [
    "%sql drop table if exists grad2a"
   ]
  },
  {
   "cell_type": "code",
   "execution_count": 108,
   "metadata": {
    "collapsed": false,
    "deletable": true,
    "editable": true
   },
   "outputs": [
    {
     "name": "stdout",
     "output_type": "stream",
     "text": [
      "Done.\n"
     ]
    },
    {
     "data": {
      "text/plain": [
       "[]"
      ]
     },
     "execution_count": 108,
     "metadata": {},
     "output_type": "execute_result"
    }
   ],
   "source": [
    "%%sql create table grad2a as\n",
    "select zipcode, avg(score) as meanscore, count(distinct camis) as ncam from grad2 \n",
    "where zipcode is not null\n",
    "group by zipcode\n",
    "order by meanscore asc;"
   ]
  },
  {
   "cell_type": "code",
   "execution_count": 109,
   "metadata": {
    "collapsed": false,
    "deletable": true,
    "editable": true
   },
   "outputs": [
    {
     "name": "stdout",
     "output_type": "stream",
     "text": [
      "Done.\n"
     ]
    }
   ],
   "source": [
    "my = %sql SELECT * FROM grad2a WHERE ncam > 100"
   ]
  },
  {
   "cell_type": "code",
   "execution_count": 110,
   "metadata": {
    "collapsed": false,
    "deletable": true,
    "editable": true
   },
   "outputs": [
    {
     "name": "stdout",
     "output_type": "stream",
     "text": [
      "92\n",
      "[('10001', 8.697445972495089, 509), ('10451', 8.78343949044586, 157), ('10452', 8.841584158415841, 101), ('10004', 8.992957746478874, 142), ('10007', 9.23021582733813, 139)]\n"
     ]
    }
   ],
   "source": [
    "print len(my)\n",
    "mylist =[x for x in my]\n",
    "#print mylist[:5]\n",
    "result = [ ( str(int(a)).zfill(5), b, c) for a, b, c in mylist]\n",
    "print result[:5]"
   ]
  },
  {
   "cell_type": "code",
   "execution_count": 116,
   "metadata": {
    "collapsed": false,
    "deletable": true,
    "editable": true
   },
   "outputs": [
    {
     "name": "stdout",
     "output_type": "stream",
     "text": [
      "10001 , 8.6974459725 , 509 ,\n",
      "10451 , 8.78343949045 , 157 ,\n",
      "10452 , 8.84158415842 , 101 ,\n",
      "10004 , 8.99295774648 , 142 ,\n",
      "10007 , 9.23021582734 , 139 ,\n",
      "11236 , 9.24324324324 , 111 ,\n",
      "11234 , 9.39473684211 , 152 ,\n",
      "11430 , 9.49324324324 , 148 ,\n",
      "11207 , 9.625 , 136 ,\n",
      "11209 , 9.6553030303 , 264 ,\n",
      "11231 , 9.66037735849 , 159 ,\n",
      "11238 , 9.66260162602 , 246 ,\n",
      "11217 , 9.68897637795 , 254 ,\n",
      "10472 , 9.74074074074 , 108 ,\n",
      "10306 , 9.74774774775 , 111 ,\n",
      "11101 , 9.752 , 250 ,\n",
      "11218 , 9.80272108844 , 147 ,\n",
      "11201 , 9.81739130435 , 345 ,\n",
      "11369 , 9.82692307692 , 104 ,\n",
      "10301 , 9.95145631068 , 103 ,\n",
      "10468 , 9.96261682243 , 107 ,\n",
      "10065 , 9.97687861272 , 173 ,\n",
      "10461 , 9.98701298701 , 154 ,\n",
      "11222 , 9.99481865285 , 193 ,\n",
      "11368 , 10.0448275862 , 290 ,\n",
      "10023 , 10.0710659898 , 197 ,\n",
      "11105 , 10.1138211382 , 123 ,\n",
      "11225 , 10.1782178218 , 101 ,\n",
      "11237 , 10.2346368715 , 179 ,\n",
      "11361 , 10.2857142857 , 119 ,\n",
      "10458 , 10.2908163265 , 196 ,\n",
      "10019 , 10.3151515152 , 660 ,\n",
      "10462 , 10.3243243243 , 148 ,\n",
      "11103 , 10.3636363636 , 209 ,\n",
      "10467 , 10.4201183432 , 169 ,\n",
      "11206 , 10.4415584416 , 154 ,\n",
      "10022 , 10.4713114754 , 488 ,\n",
      "10036 , 10.5143338954 , 593 ,\n",
      "11435 , 10.5283018868 , 106 ,\n",
      "11385 , 10.623015873 , 252 ,\n",
      "11215 , 10.6505376344 , 372 ,\n",
      "11204 , 10.674796748 , 123 ,\n",
      "11106 , 10.6794871795 , 156 ,\n",
      "10011 , 10.6846652268 , 463 ,\n",
      "10038 , 10.6904761905 , 168 ,\n",
      "10027 , 10.6993865031 , 163 ,\n",
      "10463 , 10.703125 , 128 ,\n",
      "10010 , 10.7845528455 , 246 ,\n",
      "10017 , 10.7978723404 , 376 ,\n",
      "11358 , 10.8321678322 , 143 ,\n",
      "11221 , 10.8918918919 , 111 ,\n",
      "10002 , 10.8966244726 , 474 ,\n",
      "10028 , 10.8971962617 , 214 ,\n",
      "11432 , 10.914893617 , 188 ,\n",
      "10025 , 10.9451476793 , 237 ,\n",
      "11373 , 10.9733333333 , 225 ,\n",
      "10009 , 10.983974359 , 312 ,\n",
      "11232 , 11.0188679245 , 106 ,\n",
      "10003 , 11.0355555556 , 675 ,\n",
      "10024 , 11.0742574257 , 202 ,\n",
      "11219 , 11.0857142857 , 105 ,\n",
      "10034 , 11.1037735849 , 106 ,\n",
      "10013 , 11.1104166667 , 480 ,\n",
      "10014 , 11.1176470588 , 408 ,\n",
      "10012 , 11.1243781095 , 402 ,\n",
      "10016 , 11.2198067633 , 414 ,\n",
      "11375 , 11.2244897959 , 196 ,\n",
      "10314 , 11.2486486486 , 185 ,\n",
      "11203 , 11.2695035461 , 141 ,\n",
      "11226 , 11.2736318408 , 201 ,\n",
      "11223 , 11.2972972973 , 185 ,\n",
      "11249 , 11.3483870968 , 155 ,\n",
      "10029 , 11.3502538071 , 197 ,\n",
      "11211 , 11.3753424658 , 365 ,\n",
      "11214 , 11.3777777778 , 180 ,\n",
      "11230 , 11.4215686275 , 102 ,\n",
      "10018 , 11.4714714715 , 333 ,\n",
      "11216 , 11.5060240964 , 166 ,\n",
      "11208 , 11.5086206897 , 116 ,\n",
      "11205 , 11.8482758621 , 145 ,\n",
      "11372 , 11.9561128527 , 319 ,\n",
      "11354 , 11.9833795014 , 361 ,\n",
      "10021 , 12.0328947368 , 152 ,\n",
      "11229 , 12.0563380282 , 142 ,\n",
      "10128 , 12.1194968553 , 159 ,\n",
      "11220 , 12.2113564669 , 317 ,\n",
      "11377 , 12.308411215 , 214 ,\n",
      "11235 , 12.3522727273 , 176 ,\n",
      "10033 , 12.3666666667 , 120 ,\n",
      "11104 , 12.3771929825 , 114 ,\n",
      "10032 , 12.5299145299 , 117 ,\n",
      "11355 , 13.2233502538 , 197 ,\n"
     ]
    }
   ],
   "source": [
    "for r in result:\n",
    "    for i in r:\n",
    "        print i,',',\n",
    "    print\n",
    "    "
   ]
  },
  {
   "cell_type": "code",
   "execution_count": 112,
   "metadata": {
    "collapsed": false,
    "deletable": true,
    "editable": true
   },
   "outputs": [
    {
     "name": "stdout",
     "output_type": "stream",
     "text": [
      "==================\n",
      "Your score:  1.0\n",
      "==================\n"
     ]
    }
   ],
   "source": [
    "def score_by_zipcode():\n",
    "    return result\n",
    "#[(\"11201\", 9.81739130434783, 345)] * 92\n",
    "\n",
    "grader.score('sql__score_by_zipcode', score_by_zipcode)"
   ]
  },
  {
   "cell_type": "markdown",
   "metadata": {
    "deletable": true,
    "editable": true
   },
   "source": [
    "## Question 3: score_by_map\n",
    "\n",
    "The above are not terribly enlightening.  Use [CartoDB](http://cartodb.com/) to produce a map of average scores by zip code.  You can sign up for a free trial.\n",
    "\n",
    "You will have to use their wizard to plot the data by [zipcode](https://carto.com/learn/guides/analysis/georeference). You will need to specify \"USA\" in the countryfield.  Then use the \"share\" button to return a link of the form [https://x.cartodb.com/](https://x.cartodb.com/).\n",
    "\n",
    "**For fun:** How do JFK, Brighton Beach, Liberty Island (home of the Statue of Liberty), Financial District, Chinatown, and Coney Island fare?\n",
    "\n",
    "**For more fun:** Plot restaurants as pins on the map, allowing the user to filter by \"low\", \"middling\", or \"high\"-scoring restaurants. You can use a CASE WHEN statement to create the different groups based on score thresholds."
   ]
  },
  {
   "cell_type": "code",
   "execution_count": null,
   "metadata": {
    "collapsed": true,
    "deletable": true,
    "editable": true
   },
   "outputs": [],
   "source": []
  },
  {
   "cell_type": "code",
   "execution_count": 117,
   "metadata": {
    "collapsed": false,
    "deletable": true,
    "editable": true
   },
   "outputs": [
    {
     "name": "stdout",
     "output_type": "stream",
     "text": [
      "==================\n",
      "Your score:  1.0\n",
      "==================\n"
     ]
    }
   ],
   "source": [
    "def score_by_map():\n",
    "    # must be url of the form https://x.cartodb.com/...\n",
    "    return \"https://xiangscode.carto.com/builder/f944d7f1-453b-4332-914e-8ca5db3bdd43/embed\"#\"https://cartodb.com\"\n",
    "\n",
    "grader.score('sql__score_by_map', score_by_map)"
   ]
  },
  {
   "cell_type": "markdown",
   "metadata": {
    "deletable": true,
    "editable": true
   },
   "source": [
    "## Question 4: score_by_borough\n",
    "Return a list of tuples of the form:\n",
    "\n",
    "    (borough, mean score, number of restaurants)\n",
    "\n",
    "for each of the city's five boroughs. Sort the list in ascending order by grade.\n",
    "\n",
    "**Hint:** You will have to perform a join with the `boroughs` table. The borough names should be reported in ALL CAPS.\n",
    "\n",
    "**Checkpoint:**\n",
    "- Total restaurants in valid boroughs: 25,220"
   ]
  },
  {
   "cell_type": "code",
   "execution_count": 118,
   "metadata": {
    "collapsed": false,
    "deletable": true,
    "editable": true
   },
   "outputs": [
    {
     "name": "stdout",
     "output_type": "stream",
     "text": [
      "Done.\n"
     ]
    },
    {
     "data": {
      "text/html": [
       "<table>\n",
       "    <tr>\n",
       "        <th>CAMIS</th>\n",
       "        <th>INSPDATE</th>\n",
       "        <th>SCORE</th>\n",
       "        <th>ZIPCODE</th>\n",
       "        <th>BORO</th>\n",
       "        <th>CURRENTGRADE</th>\n",
       "    </tr>\n",
       "    <tr>\n",
       "        <td>30075445</td>\n",
       "        <td>2011-03-10 00:00:00</td>\n",
       "        <td>14.0</td>\n",
       "        <td>10462.0</td>\n",
       "        <td>2</td>\n",
       "        <td>B</td>\n",
       "    </tr>\n",
       "    <tr>\n",
       "        <td>30075445</td>\n",
       "        <td>2011-04-27 00:00:00</td>\n",
       "        <td>0</td>\n",
       "        <td>10462.0</td>\n",
       "        <td>2</td>\n",
       "        <td>None</td>\n",
       "    </tr>\n",
       "    <tr>\n",
       "        <td>30075445</td>\n",
       "        <td>2011-11-12 00:00:00</td>\n",
       "        <td>0</td>\n",
       "        <td>10462.0</td>\n",
       "        <td>2</td>\n",
       "        <td>None</td>\n",
       "    </tr>\n",
       "    <tr>\n",
       "        <td>30075445</td>\n",
       "        <td>2011-11-23 00:00:00</td>\n",
       "        <td>9.0</td>\n",
       "        <td>10462.0</td>\n",
       "        <td>2</td>\n",
       "        <td>A</td>\n",
       "    </tr>\n",
       "    <tr>\n",
       "        <td>30075445</td>\n",
       "        <td>2011-12-21 00:00:00</td>\n",
       "        <td>0</td>\n",
       "        <td>10462.0</td>\n",
       "        <td>2</td>\n",
       "        <td>None</td>\n",
       "    </tr>\n",
       "    <tr>\n",
       "        <td>30075445</td>\n",
       "        <td>2012-05-03 00:00:00</td>\n",
       "        <td>0</td>\n",
       "        <td>10462.0</td>\n",
       "        <td>2</td>\n",
       "        <td>None</td>\n",
       "    </tr>\n",
       "    <tr>\n",
       "        <td>30075445</td>\n",
       "        <td>2012-12-31 00:00:00</td>\n",
       "        <td>25.0</td>\n",
       "        <td>10462.0</td>\n",
       "        <td>2</td>\n",
       "        <td>None</td>\n",
       "    </tr>\n",
       "    <tr>\n",
       "        <td>30075445</td>\n",
       "        <td>2013-01-24 00:00:00</td>\n",
       "        <td>10.0</td>\n",
       "        <td>10462.0</td>\n",
       "        <td>2</td>\n",
       "        <td>A</td>\n",
       "    </tr>\n",
       "    <tr>\n",
       "        <td>30075445</td>\n",
       "        <td>2013-06-01 00:00:00</td>\n",
       "        <td>0</td>\n",
       "        <td>10462.0</td>\n",
       "        <td>2</td>\n",
       "        <td>None</td>\n",
       "    </tr>\n",
       "    <tr>\n",
       "        <td>30075445</td>\n",
       "        <td>2013-08-14 00:00:00</td>\n",
       "        <td>32.0</td>\n",
       "        <td>10462.0</td>\n",
       "        <td>2</td>\n",
       "        <td>None</td>\n",
       "    </tr>\n",
       "</table>"
      ],
      "text/plain": [
       "[(30075445, u'2011-03-10 00:00:00', 14.0, 10462.0, 2, u'B'),\n",
       " (30075445, u'2011-04-27 00:00:00', 0, 10462.0, 2, None),\n",
       " (30075445, u'2011-11-12 00:00:00', 0, 10462.0, 2, None),\n",
       " (30075445, u'2011-11-23 00:00:00', 9.0, 10462.0, 2, u'A'),\n",
       " (30075445, u'2011-12-21 00:00:00', 0, 10462.0, 2, None),\n",
       " (30075445, u'2012-05-03 00:00:00', 0, 10462.0, 2, None),\n",
       " (30075445, u'2012-12-31 00:00:00', 25.0, 10462.0, 2, None),\n",
       " (30075445, u'2013-01-24 00:00:00', 10.0, 10462.0, 2, u'A'),\n",
       " (30075445, u'2013-06-01 00:00:00', 0, 10462.0, 2, None),\n",
       " (30075445, u'2013-08-14 00:00:00', 32.0, 10462.0, 2, None)]"
      ]
     },
     "execution_count": 118,
     "metadata": {},
     "output_type": "execute_result"
    }
   ],
   "source": [
    "%sql select * from grad1 limit 10"
   ]
  },
  {
   "cell_type": "code",
   "execution_count": 138,
   "metadata": {
    "collapsed": false,
    "deletable": true,
    "editable": true
   },
   "outputs": [
    {
     "name": "stdout",
     "output_type": "stream",
     "text": [
      "Done.\n",
      "Done.\n"
     ]
    },
    {
     "data": {
      "text/plain": [
       "[]"
      ]
     },
     "execution_count": 138,
     "metadata": {},
     "output_type": "execute_result"
    }
   ],
   "source": [
    "%%sql\n",
    "DROP TABLE IF EXISTS boroughs;\n",
    "CREATE TABLE boroughs (\n",
    "    IDX               INTEGER PRIMARY KEY AUTOINCREMENT NOT NULL,\n",
    "    BORO              TEXT NOT NULL,\n",
    "    BORONAME          TEXT NOT NULL\n",
    ");"
   ]
  },
  {
   "cell_type": "code",
   "execution_count": 139,
   "metadata": {
    "collapsed": false,
    "deletable": true,
    "editable": true
   },
   "outputs": [
    {
     "name": "stdout",
     "output_type": "stream",
     "text": [
      "1 rows affected.\n",
      "1 rows affected.\n",
      "1 rows affected.\n",
      "1 rows affected.\n",
      "1 rows affected.\n"
     ]
    },
    {
     "data": {
      "text/plain": [
       "[]"
      ]
     },
     "execution_count": 139,
     "metadata": {},
     "output_type": "execute_result"
    }
   ],
   "source": [
    "%%sql\n",
    "\n",
    "INSERT INTO boroughs (BORO, BORONAME)\n",
    "    VALUES ('1', 'MANHATTAN');\n",
    "\n",
    "INSERT INTO boroughs (BORO, BORONAME)\n",
    "    VALUES ('2', 'THE BRONX');\n",
    "\n",
    "INSERT INTO boroughs (BORO, BORONAME)\n",
    "    VALUES ('3', 'BROOKLYN');\n",
    "\n",
    "INSERT INTO boroughs (BORO, BORONAME)\n",
    "    VALUES ('4', 'QUEENS');\n",
    "\n",
    "INSERT INTO boroughs (BORO, BORONAME)\n",
    "    VALUES ('5', 'STATEN ISLAND');\n",
    "    "
   ]
  },
  {
   "cell_type": "code",
   "execution_count": 140,
   "metadata": {
    "collapsed": false,
    "deletable": true,
    "editable": true
   },
   "outputs": [
    {
     "name": "stdout",
     "output_type": "stream",
     "text": [
      "Done.\n"
     ]
    },
    {
     "data": {
      "text/html": [
       "<table>\n",
       "    <tr>\n",
       "        <th>IDX</th>\n",
       "        <th>BORO</th>\n",
       "        <th>BORONAME</th>\n",
       "    </tr>\n",
       "    <tr>\n",
       "        <td>1</td>\n",
       "        <td>1</td>\n",
       "        <td>MANHATTAN</td>\n",
       "    </tr>\n",
       "    <tr>\n",
       "        <td>2</td>\n",
       "        <td>2</td>\n",
       "        <td>THE BRONX</td>\n",
       "    </tr>\n",
       "    <tr>\n",
       "        <td>3</td>\n",
       "        <td>3</td>\n",
       "        <td>BROOKLYN</td>\n",
       "    </tr>\n",
       "    <tr>\n",
       "        <td>4</td>\n",
       "        <td>4</td>\n",
       "        <td>QUEENS</td>\n",
       "    </tr>\n",
       "    <tr>\n",
       "        <td>5</td>\n",
       "        <td>5</td>\n",
       "        <td>STATEN ISLAND</td>\n",
       "    </tr>\n",
       "</table>"
      ],
      "text/plain": [
       "[(1, u'1', u'MANHATTAN'),\n",
       " (2, u'2', u'THE BRONX'),\n",
       " (3, u'3', u'BROOKLYN'),\n",
       " (4, u'4', u'QUEENS'),\n",
       " (5, u'5', u'STATEN ISLAND')]"
      ]
     },
     "execution_count": 140,
     "metadata": {},
     "output_type": "execute_result"
    }
   ],
   "source": [
    "%sql select * from boroughs"
   ]
  },
  {
   "cell_type": "code",
   "execution_count": 150,
   "metadata": {
    "collapsed": false,
    "deletable": true,
    "editable": true
   },
   "outputs": [
    {
     "name": "stdout",
     "output_type": "stream",
     "text": [
      "Done.\n"
     ]
    },
    {
     "data": {
      "text/plain": [
       "[]"
      ]
     },
     "execution_count": 150,
     "metadata": {},
     "output_type": "execute_result"
    }
   ],
   "source": [
    "%sql DROP TABLE IF EXISTS grad3"
   ]
  },
  {
   "cell_type": "code",
   "execution_count": 151,
   "metadata": {
    "collapsed": false,
    "deletable": true,
    "editable": true
   },
   "outputs": [
    {
     "name": "stdout",
     "output_type": "stream",
     "text": [
      "Done.\n"
     ]
    },
    {
     "data": {
      "text/plain": [
       "[]"
      ]
     },
     "execution_count": 151,
     "metadata": {},
     "output_type": "execute_result"
    }
   ],
   "source": [
    "%%sql CREATE TABLE grad3 AS\n",
    "SELECT grad1.BORO as BOROID, b.BORONAME as BORONAME, grad1.SCORE as SCORE, \n",
    "grad1.CAMIS as CAMIS, max(grad1.INSPDATE) as INSPDATE, grad1.CURRENTGRADE as GRADE\n",
    "FROM grad1 JOIN boroughs as b ON grad1.BORO = b.BORO\n",
    "GROUP BY CAMIS"
   ]
  },
  {
   "cell_type": "code",
   "execution_count": 152,
   "metadata": {
    "collapsed": false,
    "deletable": true,
    "editable": true
   },
   "outputs": [
    {
     "name": "stdout",
     "output_type": "stream",
     "text": [
      "Done.\n"
     ]
    },
    {
     "data": {
      "text/html": [
       "<table>\n",
       "    <tr>\n",
       "        <th>BOROID</th>\n",
       "        <th>BORONAME</th>\n",
       "        <th>SCORE</th>\n",
       "        <th>CAMIS</th>\n",
       "        <th>INSPDATE</th>\n",
       "        <th>GRADE</th>\n",
       "    </tr>\n",
       "    <tr>\n",
       "        <td>2</td>\n",
       "        <td>THE BRONX</td>\n",
       "        <td>2.0</td>\n",
       "        <td>30075445</td>\n",
       "        <td>2014-03-03 00:00:00</td>\n",
       "        <td>A</td>\n",
       "    </tr>\n",
       "    <tr>\n",
       "        <td>3</td>\n",
       "        <td>BROOKLYN</td>\n",
       "        <td>23.0</td>\n",
       "        <td>30112340</td>\n",
       "        <td>2014-07-01 00:00:00</td>\n",
       "        <td>B</td>\n",
       "    </tr>\n",
       "    <tr>\n",
       "        <td>1</td>\n",
       "        <td>MANHATTAN</td>\n",
       "        <td>11.0</td>\n",
       "        <td>30191841</td>\n",
       "        <td>2013-07-22 00:00:00</td>\n",
       "        <td>A</td>\n",
       "    </tr>\n",
       "    <tr>\n",
       "        <td>3</td>\n",
       "        <td>BROOKLYN</td>\n",
       "        <td>5.0</td>\n",
       "        <td>40356018</td>\n",
       "        <td>2014-06-10 00:00:00</td>\n",
       "        <td>A</td>\n",
       "    </tr>\n",
       "    <tr>\n",
       "        <td>4</td>\n",
       "        <td>QUEENS</td>\n",
       "        <td>12.0</td>\n",
       "        <td>40356068</td>\n",
       "        <td>2014-01-29 00:00:00</td>\n",
       "        <td>None</td>\n",
       "    </tr>\n",
       "    <tr>\n",
       "        <td>4</td>\n",
       "        <td>QUEENS</td>\n",
       "        <td>10.0</td>\n",
       "        <td>40356151</td>\n",
       "        <td>2014-05-02 00:00:00</td>\n",
       "        <td>A</td>\n",
       "    </tr>\n",
       "    <tr>\n",
       "        <td>5</td>\n",
       "        <td>STATEN ISLAND</td>\n",
       "        <td>12.0</td>\n",
       "        <td>40356442</td>\n",
       "        <td>2014-05-20 00:00:00</td>\n",
       "        <td>A</td>\n",
       "    </tr>\n",
       "    <tr>\n",
       "        <td>3</td>\n",
       "        <td>BROOKLYN</td>\n",
       "        <td>10.0</td>\n",
       "        <td>40356483</td>\n",
       "        <td>2014-05-29 00:00:00</td>\n",
       "        <td>A</td>\n",
       "    </tr>\n",
       "    <tr>\n",
       "        <td>3</td>\n",
       "        <td>BROOKLYN</td>\n",
       "        <td>12.0</td>\n",
       "        <td>40356649</td>\n",
       "        <td>2014-07-18 00:00:00</td>\n",
       "        <td>A</td>\n",
       "    </tr>\n",
       "    <tr>\n",
       "        <td>3</td>\n",
       "        <td>BROOKLYN</td>\n",
       "        <td>12.0</td>\n",
       "        <td>40356731</td>\n",
       "        <td>2014-07-14 00:00:00</td>\n",
       "        <td>A</td>\n",
       "    </tr>\n",
       "</table>"
      ],
      "text/plain": [
       "[(2, u'THE BRONX', 2.0, 30075445, u'2014-03-03 00:00:00', u'A'),\n",
       " (3, u'BROOKLYN', 23.0, 30112340, u'2014-07-01 00:00:00', u'B'),\n",
       " (1, u'MANHATTAN', 11.0, 30191841, u'2013-07-22 00:00:00', u'A'),\n",
       " (3, u'BROOKLYN', 5.0, 40356018, u'2014-06-10 00:00:00', u'A'),\n",
       " (4, u'QUEENS', 12.0, 40356068, u'2014-01-29 00:00:00', None),\n",
       " (4, u'QUEENS', 10.0, 40356151, u'2014-05-02 00:00:00', u'A'),\n",
       " (5, u'STATEN ISLAND', 12.0, 40356442, u'2014-05-20 00:00:00', u'A'),\n",
       " (3, u'BROOKLYN', 10.0, 40356483, u'2014-05-29 00:00:00', u'A'),\n",
       " (3, u'BROOKLYN', 12.0, 40356649, u'2014-07-18 00:00:00', u'A'),\n",
       " (3, u'BROOKLYN', 12.0, 40356731, u'2014-07-14 00:00:00', u'A')]"
      ]
     },
     "execution_count": 152,
     "metadata": {},
     "output_type": "execute_result"
    }
   ],
   "source": [
    "%sql select * from grad3 limit 10"
   ]
  },
  {
   "cell_type": "code",
   "execution_count": 154,
   "metadata": {
    "collapsed": false,
    "deletable": true,
    "editable": true
   },
   "outputs": [
    {
     "name": "stdout",
     "output_type": "stream",
     "text": [
      "Done.\n"
     ]
    }
   ],
   "source": [
    "q4 = %sql select BORONAME, AVG(SCORE) as SC, COUNT(CAMIS) FROM grad3 GROUP BY BORONAME ORDER BY SC ASC"
   ]
  },
  {
   "cell_type": "code",
   "execution_count": 155,
   "metadata": {
    "collapsed": false,
    "deletable": true,
    "editable": true
   },
   "outputs": [
    {
     "name": "stdout",
     "output_type": "stream",
     "text": [
      "[(u'THE BRONX', 10.069767441860465, 2365), (u'BROOKLYN', 10.702075098814229, 6072), (u'MANHATTAN', 10.721693951573375, 10201), (u'STATEN ISLAND', 10.74712643678161, 957), (u'QUEENS', 11.059733333333334, 5625)]\n"
     ]
    }
   ],
   "source": [
    "lq4 =[x for x in q4]\n",
    "ans4 = [ (a, b, c) for a, b, c in lq4]\n",
    "print ans4"
   ]
  },
  {
   "cell_type": "code",
   "execution_count": 156,
   "metadata": {
    "collapsed": false,
    "deletable": true,
    "editable": true
   },
   "outputs": [
    {
     "name": "stdout",
     "output_type": "stream",
     "text": [
      "==================\n",
      "Your score:  1.0\n",
      "==================\n"
     ]
    }
   ],
   "source": [
    "def score_by_borough():\n",
    "    return ans4#[(\"MANHATTAN\", 10.7269875502402, 10201)] * 5\n",
    "\n",
    "grader.score('sql__score_by_borough', score_by_borough)"
   ]
  },
  {
   "cell_type": "markdown",
   "metadata": {
    "deletable": true,
    "editable": true
   },
   "source": [
    "## Question 5: score_by_cuisine\n",
    "\n",
    "Return a list of the 75 tuples of the form\n",
    "\n",
    "    (cuisine, mean score, number of reports)\n",
    "\n",
    "for each of the 75 cuisine types with at least 100 violation reports. Sort the list in ascending order by score. Are the least sanitary and most sanitary\n",
    "cuisine types surprising?\n",
    "\n",
    "**Note:** It's interesting to think again about what this analysis is trying to say and how it differs from the analysis by zipcode. How should this\n",
    "affect the calculation in your opinion?\n",
    "\n",
    "**Checkpoint:**\n",
    "- Total entries from valid cuisines: 531,529"
   ]
  },
  {
   "cell_type": "code",
   "execution_count": 157,
   "metadata": {
    "collapsed": false,
    "deletable": true,
    "editable": true
   },
   "outputs": [
    {
     "name": "stdout",
     "output_type": "stream",
     "text": [
      "Done.\n"
     ]
    },
    {
     "data": {
      "text/plain": [
       "u'Persisted cuisine'"
      ]
     },
     "execution_count": 157,
     "metadata": {},
     "output_type": "execute_result"
    }
   ],
   "source": [
    "cuisine = pd.read_csv('Cuisine.txt', encoding = 'latin-1')\n",
    "%sql DROP TABLE IF EXISTS cuisine\n",
    "%sql PERSIST cuisine"
   ]
  },
  {
   "cell_type": "code",
   "execution_count": 158,
   "metadata": {
    "collapsed": false,
    "deletable": true,
    "editable": true
   },
   "outputs": [
    {
     "name": "stdout",
     "output_type": "stream",
     "text": [
      "Done.\n"
     ]
    },
    {
     "data": {
      "text/html": [
       "<table>\n",
       "    <tr>\n",
       "        <th>index</th>\n",
       "        <th>CUISINECODE</th>\n",
       "        <th>CODEDESC</th>\n",
       "    </tr>\n",
       "    <tr>\n",
       "        <td>0</td>\n",
       "        <td>2</td>\n",
       "        <td>African</td>\n",
       "    </tr>\n",
       "    <tr>\n",
       "        <td>1</td>\n",
       "        <td>3</td>\n",
       "        <td>American </td>\n",
       "    </tr>\n",
       "    <tr>\n",
       "        <td>2</td>\n",
       "        <td>5</td>\n",
       "        <td>Asian</td>\n",
       "    </tr>\n",
       "    <tr>\n",
       "        <td>3</td>\n",
       "        <td>15</td>\n",
       "        <td>Cajun</td>\n",
       "    </tr>\n",
       "    <tr>\n",
       "        <td>4</td>\n",
       "        <td>17</td>\n",
       "        <td>Caribbean</td>\n",
       "    </tr>\n",
       "</table>"
      ],
      "text/plain": [
       "[(0, 2, u'African'),\n",
       " (1, 3, u'American '),\n",
       " (2, 5, u'Asian'),\n",
       " (3, 15, u'Cajun'),\n",
       " (4, 17, u'Caribbean')]"
      ]
     },
     "execution_count": 158,
     "metadata": {},
     "output_type": "execute_result"
    }
   ],
   "source": [
    "%sql select * from cuisine limit 5"
   ]
  },
  {
   "cell_type": "code",
   "execution_count": 164,
   "metadata": {
    "collapsed": false,
    "deletable": true,
    "editable": true
   },
   "outputs": [
    {
     "name": "stdout",
     "output_type": "stream",
     "text": [
      "Done.\n"
     ]
    },
    {
     "data": {
      "text/html": [
       "<table>\n",
       "    <tr>\n",
       "        <th>index</th>\n",
       "        <th>CAMIS</th>\n",
       "        <th>DBA</th>\n",
       "        <th>BORO</th>\n",
       "        <th>BUILDING</th>\n",
       "        <th>STREET</th>\n",
       "        <th>ZIPCODE</th>\n",
       "        <th>PHONE</th>\n",
       "        <th>CUISINECODE</th>\n",
       "        <th>INSPDATE</th>\n",
       "        <th>ACTION</th>\n",
       "        <th>VIOLCODE</th>\n",
       "        <th>SCORE</th>\n",
       "        <th>CURRENTGRADE</th>\n",
       "        <th>GRADEDATE</th>\n",
       "        <th>RECORDDATE</th>\n",
       "    </tr>\n",
       "    <tr>\n",
       "        <td>0</td>\n",
       "        <td>30075445</td>\n",
       "        <td>MORRIS PARK BAKE SHOP</td>\n",
       "        <td>2</td>\n",
       "        <td>1007      </td>\n",
       "        <td>MORRIS PARK AVE                                   </td>\n",
       "        <td>10462.0</td>\n",
       "        <td>7188924968</td>\n",
       "        <td>8</td>\n",
       "        <td>2014-03-03 00:00:00</td>\n",
       "        <td>D</td>\n",
       "        <td>10F</td>\n",
       "        <td>2.0</td>\n",
       "        <td>A</td>\n",
       "        <td>2014-03-03 00:00:00</td>\n",
       "        <td>2014-09-04 06:01:28.403000000</td>\n",
       "    </tr>\n",
       "    <tr>\n",
       "        <td>1</td>\n",
       "        <td>30112340</td>\n",
       "        <td>WENDY'S</td>\n",
       "        <td>3</td>\n",
       "        <td>469</td>\n",
       "        <td>FLATBUSH AVENUE</td>\n",
       "        <td>11225.0</td>\n",
       "        <td>7182875005</td>\n",
       "        <td>39</td>\n",
       "        <td>2014-07-01 00:00:00</td>\n",
       "        <td>F</td>\n",
       "        <td>06A</td>\n",
       "        <td>23.0</td>\n",
       "        <td>B</td>\n",
       "        <td>2014-07-01 00:00:00</td>\n",
       "        <td>2014-09-04 06:01:28.403000000</td>\n",
       "    </tr>\n",
       "</table>"
      ],
      "text/plain": [
       "[(0, 30075445, u'MORRIS PARK BAKE SHOP', 2, u'1007      ', u'MORRIS PARK AVE                                   ', 10462.0, u'7188924968', 8, u'2014-03-03 00:00:00', u'D', u'10F', 2.0, u'A', u'2014-03-03 00:00:00', u'2014-09-04 06:01:28.403000000'),\n",
       " (1, 30112340, u\"WENDY'S\", 3, u'469', u'FLATBUSH AVENUE', 11225.0, u'7182875005', 39, u'2014-07-01 00:00:00', u'F', u'06A', 23.0, u'B', u'2014-07-01 00:00:00', u'2014-09-04 06:01:28.403000000')]"
      ]
     },
     "execution_count": 164,
     "metadata": {},
     "output_type": "execute_result"
    }
   ],
   "source": [
    "%sql select * from grades limit 2"
   ]
  },
  {
   "cell_type": "code",
   "execution_count": 167,
   "metadata": {
    "collapsed": false,
    "deletable": true,
    "editable": true
   },
   "outputs": [
    {
     "name": "stdout",
     "output_type": "stream",
     "text": [
      "Done.\n"
     ]
    },
    {
     "data": {
      "text/html": [
       "<table>\n",
       "    <tr>\n",
       "        <th>COUNT(*)</th>\n",
       "    </tr>\n",
       "    <tr>\n",
       "        <td>33524</td>\n",
       "    </tr>\n",
       "</table>"
      ],
      "text/plain": [
       "[(33524,)]"
      ]
     },
     "execution_count": 167,
     "metadata": {},
     "output_type": "execute_result"
    }
   ],
   "source": [
    "%sql SELECT COUNT(*) FROM grades WHERE score is NULL"
   ]
  },
  {
   "cell_type": "code",
   "execution_count": 168,
   "metadata": {
    "collapsed": false,
    "deletable": true,
    "editable": true
   },
   "outputs": [
    {
     "name": "stdout",
     "output_type": "stream",
     "text": [
      "33524 rows affected.\n"
     ]
    },
    {
     "data": {
      "text/plain": [
       "[]"
      ]
     },
     "execution_count": 168,
     "metadata": {},
     "output_type": "execute_result"
    }
   ],
   "source": [
    "%%sql UPDATE grades\n",
    "SET SCORE = 0\n",
    "WHERE SCORE is NULL;"
   ]
  },
  {
   "cell_type": "code",
   "execution_count": 179,
   "metadata": {
    "collapsed": false,
    "deletable": true,
    "editable": true
   },
   "outputs": [
    {
     "name": "stdout",
     "output_type": "stream",
     "text": [
      "Done.\n"
     ]
    },
    {
     "data": {
      "text/plain": [
       "[]"
      ]
     },
     "execution_count": 179,
     "metadata": {},
     "output_type": "execute_result"
    }
   ],
   "source": [
    "%sql DROP TABLE IF EXISTS grad5"
   ]
  },
  {
   "cell_type": "code",
   "execution_count": 180,
   "metadata": {
    "collapsed": false,
    "deletable": true,
    "editable": true
   },
   "outputs": [
    {
     "name": "stdout",
     "output_type": "stream",
     "text": [
      "Done.\n"
     ]
    },
    {
     "data": {
      "text/plain": [
       "[]"
      ]
     },
     "execution_count": 180,
     "metadata": {},
     "output_type": "execute_result"
    }
   ],
   "source": [
    "%%sql CREATE TABLE grad5 AS\n",
    "SELECT  AVG(SCORE) as MEANSCORE, CUISINECODE, count(VIOLCODE) as NUMVIOL, CURRENTGRADE\n",
    "FROM grades\n",
    "GROUP BY CUISINECODE\n",
    "HAVING NUMVIOL >= 100\n",
    "ORDER BY MEANSCORE ASC"
   ]
  },
  {
   "cell_type": "code",
   "execution_count": 181,
   "metadata": {
    "collapsed": false,
    "deletable": true,
    "editable": true
   },
   "outputs": [
    {
     "name": "stdout",
     "output_type": "stream",
     "text": [
      "Done.\n"
     ]
    },
    {
     "data": {
      "text/html": [
       "<table>\n",
       "    <tr>\n",
       "        <th>count(*)</th>\n",
       "    </tr>\n",
       "    <tr>\n",
       "        <td>75</td>\n",
       "    </tr>\n",
       "</table>"
      ],
      "text/plain": [
       "[(75,)]"
      ]
     },
     "execution_count": 181,
     "metadata": {},
     "output_type": "execute_result"
    }
   ],
   "source": [
    "%sql select count(*) from grad5 "
   ]
  },
  {
   "cell_type": "code",
   "execution_count": 182,
   "metadata": {
    "collapsed": false,
    "deletable": true,
    "editable": true
   },
   "outputs": [
    {
     "name": "stdout",
     "output_type": "stream",
     "text": [
      "Done.\n"
     ]
    },
    {
     "data": {
      "text/html": [
       "<table>\n",
       "    <tr>\n",
       "        <th>MEANSCORE</th>\n",
       "        <th>CUISINECODE</th>\n",
       "        <th>NUMVIOL</th>\n",
       "        <th>CURRENTGRADE</th>\n",
       "    </tr>\n",
       "    <tr>\n",
       "        <td>11.0510607695</td>\n",
       "        <td>99</td>\n",
       "        <td>1881</td>\n",
       "        <td>None</td>\n",
       "    </tr>\n",
       "    <tr>\n",
       "        <td>13.4821428571</td>\n",
       "        <td>42</td>\n",
       "        <td>145</td>\n",
       "        <td>A</td>\n",
       "    </tr>\n",
       "    <tr>\n",
       "        <td>14.2811447811</td>\n",
       "        <td>75</td>\n",
       "        <td>576</td>\n",
       "        <td>None</td>\n",
       "    </tr>\n",
       "    <tr>\n",
       "        <td>14.63</td>\n",
       "        <td>33</td>\n",
       "        <td>297</td>\n",
       "        <td>A</td>\n",
       "    </tr>\n",
       "    <tr>\n",
       "        <td>14.6521941386</td>\n",
       "        <td>29</td>\n",
       "        <td>6303</td>\n",
       "        <td>None</td>\n",
       "    </tr>\n",
       "</table>"
      ],
      "text/plain": [
       "[(11.051060769507371, 99, 1881, None),\n",
       " (13.482142857142858, 42, 145, u'A'),\n",
       " (14.281144781144782, 75, 576, None),\n",
       " (14.63, 33, 297, u'A'),\n",
       " (14.652194138626143, 29, 6303, None)]"
      ]
     },
     "execution_count": 182,
     "metadata": {},
     "output_type": "execute_result"
    }
   ],
   "source": [
    "%sql select * from grad5 limit 5"
   ]
  },
  {
   "cell_type": "code",
   "execution_count": 183,
   "metadata": {
    "collapsed": false,
    "deletable": true,
    "editable": true
   },
   "outputs": [
    {
     "name": "stdout",
     "output_type": "stream",
     "text": [
      "Done.\n"
     ]
    },
    {
     "data": {
      "text/plain": [
       "[]"
      ]
     },
     "execution_count": 183,
     "metadata": {},
     "output_type": "execute_result"
    }
   ],
   "source": [
    "%%sql CREATE TABLE grad5a AS\n",
    "SELECT c.CODEDESC as CUISINE, g.MEANSCORE as MEANSCORE, g.NUMVIOL as VIOL\n",
    "FROM grad5 as g JOIN cuisine as c ON g.CUISINECODE = c.CUISINECODE"
   ]
  },
  {
   "cell_type": "code",
   "execution_count": 186,
   "metadata": {
    "collapsed": false,
    "deletable": true,
    "editable": true
   },
   "outputs": [
    {
     "name": "stdout",
     "output_type": "stream",
     "text": [
      "Done.\n"
     ]
    },
    {
     "data": {
      "text/html": [
       "<table>\n",
       "    <tr>\n",
       "        <th>CUISINE</th>\n",
       "        <th>MEANSCORE</th>\n",
       "        <th>VIOL</th>\n",
       "    </tr>\n",
       "    <tr>\n",
       "        <td>Other</td>\n",
       "        <td>11.0510607695</td>\n",
       "        <td>1881</td>\n",
       "    </tr>\n",
       "    <tr>\n",
       "        <td>Hotdogs/Pretzels</td>\n",
       "        <td>13.4821428571</td>\n",
       "        <td>145</td>\n",
       "    </tr>\n",
       "    <tr>\n",
       "        <td>Soups &amp; Sandwiches</td>\n",
       "        <td>14.2811447811</td>\n",
       "        <td>576</td>\n",
       "    </tr>\n",
       "    <tr>\n",
       "        <td>Ethiopian</td>\n",
       "        <td>14.63</td>\n",
       "        <td>297</td>\n",
       "    </tr>\n",
       "    <tr>\n",
       "        <td>Donuts</td>\n",
       "        <td>14.6521941386</td>\n",
       "        <td>6303</td>\n",
       "    </tr>\n",
       "</table>"
      ],
      "text/plain": [
       "[(u'Other', 11.051060769507371, 1881),\n",
       " (u'Hotdogs/Pretzels', 13.482142857142858, 145),\n",
       " (u'Soups & Sandwiches', 14.281144781144782, 576),\n",
       " (u'Ethiopian', 14.63, 297),\n",
       " (u'Donuts', 14.652194138626143, 6303)]"
      ]
     },
     "execution_count": 186,
     "metadata": {},
     "output_type": "execute_result"
    }
   ],
   "source": [
    "%sql select * from grad5a ORDER BY MEANSCORE limit 5"
   ]
  },
  {
   "cell_type": "code",
   "execution_count": 187,
   "metadata": {
    "collapsed": false,
    "deletable": true,
    "editable": true
   },
   "outputs": [
    {
     "name": "stdout",
     "output_type": "stream",
     "text": [
      "Done.\n"
     ]
    }
   ],
   "source": [
    "q5 = %sql select * from grad5a ORDER BY MEANSCORE"
   ]
  },
  {
   "cell_type": "code",
   "execution_count": 188,
   "metadata": {
    "collapsed": true,
    "deletable": true,
    "editable": true
   },
   "outputs": [],
   "source": [
    "lq5 =[x for x in q5]\n",
    "ans5 = [ (a, b, c) for a, b, c in lq5]"
   ]
  },
  {
   "cell_type": "code",
   "execution_count": 189,
   "metadata": {
    "collapsed": false,
    "deletable": true,
    "editable": true
   },
   "outputs": [
    {
     "data": {
      "text/plain": [
       "[(u'Other', 11.051060769507371, 1881),\n",
       " (u'Hotdogs/Pretzels', 13.482142857142858, 145),\n",
       " (u'Soups & Sandwiches', 14.281144781144782, 576),\n",
       " (u'Ethiopian', 14.63, 297),\n",
       " (u'Donuts', 14.652194138626143, 6303),\n",
       " (u'Hotdogs', 14.71822033898305, 433),\n",
       " (u'Ice Cream, Gelato, Yogurt, Ices', 14.730250990752973, 3670),\n",
       " (u'Armenian', 15.079268292682928, 632),\n",
       " (u'Cajun', 15.548387096774194, 179),\n",
       " (u'Egyptian', 15.662125340599456, 348),\n",
       " (u'Sandwiches', 15.712999099369558, 6510),\n",
       " (u'Caf\\xe9/Coffee/Tea', 15.994683295044306, 14860),\n",
       " (u'Juice, Smoothies, Fruit Salads', 16.003679175864605, 2638),\n",
       " (u'Sandwiches/Salads/Mixed Buffet', 16.340146917917597, 3057),\n",
       " (u'Hamburgers', 16.577529232333504, 7663),\n",
       " (u'Bottled beverages, including water, sodas, juices, etc.',\n",
       "  16.74928774928775,\n",
       "  1021),\n",
       " (u'English', 17.33625730994152, 334),\n",
       " (u'Middle Eastern', 17.706328375619716, 3313),\n",
       " (u'Chicken', 17.836702546600158, 7442),\n",
       " (u'Southwestern', 18.004830917874397, 203),\n",
       " (u'German', 18.627986348122867, 855),\n",
       " (u'Czech', 18.83969465648855, 127),\n",
       " (u'Tapas', 18.86813186813187, 614),\n",
       " (u'Not Listed/Not Applicable', 18.899280575539567, 131),\n",
       " (u'Moroccan', 18.95205479452055, 284),\n",
       " (u'Greek', 19.296904852884982, 2555),\n",
       " (u'Scandinavian', 19.409395973154364, 149),\n",
       " (u'Irish', 19.484177915468024, 4422),\n",
       " (u'Salads', 19.583184257602863, 552),\n",
       " (u'Tex-Mex', 19.680333564975676, 2836),\n",
       " (u'Pancakes/Waffles', 19.75771971496437, 410),\n",
       " (u'Barbecue', 19.811274509803923, 799),\n",
       " (u'American ', 19.829074876141213, 125458),\n",
       " (u'Afghan', 19.850162866449512, 300),\n",
       " (u'Polish', 19.916666666666668, 722),\n",
       " (u'Mediterranean', 19.940456578018356, 4169),\n",
       " (u'Bagels/Pretzels', 19.97826086956522, 3657),\n",
       " (u'Vegetarian', 20.008572869389813, 1958),\n",
       " (u'Pizza', 20.068807514605368, 25687),\n",
       " (u'Steak', 20.164041281912006, 1797),\n",
       " (u'French', 20.35480464625132, 7409),\n",
       " (u'Australian', 20.41732283464567, 248),\n",
       " (u'Continental', 20.513432835820897, 983),\n",
       " (u'Filipino', 20.558260869565217, 567),\n",
       " (u'Italian', 20.63513306821658, 25637),\n",
       " (u'Eastern European', 20.78488372093023, 1507),\n",
       " (u'Pizza/Italian', 20.86207214687702, 10645),\n",
       " (u'Russian', 21.237182558696695, 2023),\n",
       " (u'Brazilian', 21.24041297935103, 670),\n",
       " (u'Seafood', 21.275090689238212, 3245),\n",
       " (u'Turkish', 21.359666024405907, 1533),\n",
       " (u'Indonesian', 21.455813953488374, 213),\n",
       " (u'Mexican', 21.637887901208284, 18419),\n",
       " (u'Jewish/Kosher', 21.667366211962225, 7532),\n",
       " (u'Caribbean', 21.765419307654803, 16100),\n",
       " (u'Bakery', 21.82458066483684, 16100),\n",
       " (u'Spanish', 21.955502284815342, 13090),\n",
       " (u'Soul Food', 22.223823246878002, 1025),\n",
       " (u'Thai', 22.51648193464805, 6843),\n",
       " (u'Japanese', 22.559875583203734, 18374),\n",
       " (u'Latin (Cuban, Dominican, Puerto Rican, South & Central American)',\n",
       "  22.92815885839405,\n",
       "  26063),\n",
       " (u'Portuguese', 22.940350877192984, 269),\n",
       " (u'Korean', 23.086021505376344, 6957),\n",
       " (u'Delicatessen', 23.247045524612066, 9590),\n",
       " (u'Vietnamese/Cambodian/Malaysia', 23.448814655172413, 1829),\n",
       " (u'Peruvian', 23.529473135106937, 1886),\n",
       " (u'Indian', 23.86602409638554, 8170),\n",
       " (u'Chinese', 23.942464820699048, 60880),\n",
       " (u'Pakistani', 24.266265060240965, 811),\n",
       " (u'Asian', 24.586526099254307, 7654),\n",
       " (u'Chinese/Japanese', 25.0666161998486, 1303),\n",
       " (u'African', 25.394778902503997, 1843),\n",
       " (u'Bangladeshi', 25.443488943488944, 803),\n",
       " (u'Chinese/Cuban', 26.248306997742663, 438),\n",
       " (u'Creole', 28.96069868995633, 679)]"
      ]
     },
     "execution_count": 189,
     "metadata": {},
     "output_type": "execute_result"
    }
   ],
   "source": [
    "ans5"
   ]
  },
  {
   "cell_type": "code",
   "execution_count": 190,
   "metadata": {
    "collapsed": false,
    "deletable": true,
    "editable": true
   },
   "outputs": [
    {
     "name": "stdout",
     "output_type": "stream",
     "text": [
      "==================\n",
      "Your score:  0.96\n",
      "==================\n"
     ]
    }
   ],
   "source": [
    "def score_by_cuisine():\n",
    "    return ans5#[(\"French\", 20.3550686378036, 7576)] * 75\n",
    "\n",
    "grader.score('sql__score_by_cuisine', score_by_cuisine)"
   ]
  },
  {
   "cell_type": "markdown",
   "metadata": {
    "deletable": true,
    "editable": true
   },
   "source": [
    "## Question 6: violation_by_cuisine\n",
    "Which cuisines tend to have a disproportionate number of what which violations? Answering this question isn't easy becuase you have to think carefully about normalizations.\n",
    "\n",
    "1. More popular cuisine categories will tend to have more violations just becuase they represent more restaurants.\n",
    "2. Similarly, some violations are more common.  For example, knowing that \"Equipment not easily movable or sealed to floor\" is a common violation for Chinese restuarants is not particularly helpful when it is a common violation for all restaurants.\n",
    "\n",
    "### The right quantity is to look at is the conditional probability of a specific type of violation given a specific cuisine type and divide it by the unconditional probability of the violation for the entire population. Taking this ratio gives the right answer.  Return the 20 highest ratios of the form:\n",
    "\n",
    "    ((cuisine, violation), ratio, count)\n",
    "\n",
    "**Hint:**\n",
    "1. You might want to check out this [Stackoverflow post](http://stackoverflow.com/questions/972877/calculate-frequency-using-sql).\n",
    "2. The definition of a violation changes with time.  For example, 10A can mean two different things \"Toilet facility not maintained ...\" or \"Vermin or other live animal present ...\" when things were prior to 2003. To deal with this, you should limit your analysis to ** violation codes with end date after Jan 1, 2014.** (This end date refers to the validity time ranges in Violation.txt).\n",
    "3. The ratios don't mean much when the ** number of violations of a given type and for a specific category** are not large (why not?).  Be sure to filter these out.  We chose 100 as our cutoff.\n",
    "\n",
    "**Checkpoint:**\n",
    "- Top 20 ratios mean: 2.37009216349859"
   ]
  },
  {
   "cell_type": "code",
   "execution_count": 199,
   "metadata": {
    "collapsed": false,
    "deletable": true,
    "editable": true
   },
   "outputs": [
    {
     "name": "stdout",
     "output_type": "stream",
     "text": [
      "Done.\n"
     ]
    },
    {
     "name": "stderr",
     "output_type": "stream",
     "text": [
      "/opt/conda/lib/python2.7/site-packages/ipykernel_launcher.py:1: ParserWarning: Falling back to the 'python' engine because the 'c' engine does not support regex separators (separators > 1 char and different from '\\s+' are interpreted as regex); you can avoid this warning by specifying engine='python'.\n",
      "  \"\"\"Entry point for launching an IPython kernel.\n"
     ]
    },
    {
     "data": {
      "text/plain": [
       "u'Persisted violation'"
      ]
     },
     "execution_count": 199,
     "metadata": {},
     "output_type": "execute_result"
    }
   ],
   "source": [
    "violation = pd.read_csv(\"Violation.txt\", sep = '\",\"|$\"|\"^')\n",
    "violation['VIOLATIONDESC\"'] = violation['VIOLATIONDESC\"'].str.decode('windows-1252')\n",
    "#violation = pd.read_csv('Violation.txt', encoding = 'latin-1')\n",
    "%sql DROP TABLE IF EXISTS violation\n",
    "%sql PERSIST violation"
   ]
  },
  {
   "cell_type": "code",
   "execution_count": 200,
   "metadata": {
    "collapsed": false,
    "deletable": true,
    "editable": true
   },
   "outputs": [
    {
     "name": "stdout",
     "output_type": "stream",
     "text": [
      "Done.\n"
     ]
    },
    {
     "data": {
      "text/html": [
       "<table>\n",
       "    <tr>\n",
       "        <th>index</th>\n",
       "        <th>\"STARTDATE</th>\n",
       "        <th>ENDDATE</th>\n",
       "        <th>CRITICALFLAG</th>\n",
       "        <th>VIOLATIONCODE</th>\n",
       "        <th>VIOLATIONDESC\"</th>\n",
       "    </tr>\n",
       "    <tr>\n",
       "        <td>0</td>\n",
       "        <td>\"1901-01-01 00:00:00</td>\n",
       "        <td>2003-03-23 00:00:00</td>\n",
       "        <td>Y</td>\n",
       "        <td>01A</td>\n",
       "        <td>Current valid &lt;a    onmouseover=\"ShowContent('P2','01A'); return true;\"     href=\"javascript:ShowContent('P2','01A')\"&gt;permit&lt;/A&gt; , registration or other authorization to operate establishment not available.\"</td>\n",
       "    </tr>\n",
       "    <tr>\n",
       "        <td>1</td>\n",
       "        <td>\"2003-03-24 00:00:00</td>\n",
       "        <td>2005-02-17 00:00:00</td>\n",
       "        <td>Y</td>\n",
       "        <td>01A</td>\n",
       "        <td>Current valid &lt;a    onmouseover=\"ShowContent('P2','01A'); return true;\"     href=\"javascript:ShowContent('P2','01A')\"&gt;permit&lt;/A&gt; , registration or other authorization to operate establishment not available.\"</td>\n",
       "    </tr>\n",
       "    <tr>\n",
       "        <td>2</td>\n",
       "        <td>\"2005-02-18 00:00:00</td>\n",
       "        <td>2007-06-30 00:00:00</td>\n",
       "        <td>Y</td>\n",
       "        <td>01A</td>\n",
       "        <td>Current valid &lt;a    onmouseover=\"ShowContent('P2','01A'); return true;\"     href=\"javascript:ShowContent('P2','01A')\"&gt;permit&lt;/A&gt; , registration or other authorization to operate establishment not available.\"</td>\n",
       "    </tr>\n",
       "    <tr>\n",
       "        <td>3</td>\n",
       "        <td>\"2007-07-01 00:00:00</td>\n",
       "        <td>2008-06-30 00:00:00</td>\n",
       "        <td>Y</td>\n",
       "        <td>01A</td>\n",
       "        <td>Current valid permit, registration or other authorization to operate establishment not available.  Violations points are not assessed for Smoke Free Air Act, trans fat, calorie posting or permit and poster violations.\"</td>\n",
       "    </tr>\n",
       "    <tr>\n",
       "        <td>4</td>\n",
       "        <td>\"2008-07-01 00:00:00</td>\n",
       "        <td>2009-08-01 00:00:00</td>\n",
       "        <td>Y</td>\n",
       "        <td>01A</td>\n",
       "        <td>Current valid permit, registration or other authorization to operate establishment not available.  Violations points are not assessed for Smoke Free Air Act, trans fat, calorie posting or permit and poster violations.\"</td>\n",
       "    </tr>\n",
       "</table>"
      ],
      "text/plain": [
       "[(0, u'\"1901-01-01 00:00:00', u'2003-03-23 00:00:00', u'Y', u'01A', u'Current valid <a    onmouseover=\"ShowContent(\\'P2\\',\\'01A\\'); return true;\"     href=\"javascript:ShowContent(\\'P2\\',\\'01A\\')\">permit</A> , registration or other authorization to operate establishment not available.\"'),\n",
       " (1, u'\"2003-03-24 00:00:00', u'2005-02-17 00:00:00', u'Y', u'01A', u'Current valid <a    onmouseover=\"ShowContent(\\'P2\\',\\'01A\\'); return true;\"     href=\"javascript:ShowContent(\\'P2\\',\\'01A\\')\">permit</A> , registration or other authorization to operate establishment not available.\"'),\n",
       " (2, u'\"2005-02-18 00:00:00', u'2007-06-30 00:00:00', u'Y', u'01A', u'Current valid <a    onmouseover=\"ShowContent(\\'P2\\',\\'01A\\'); return true;\"     href=\"javascript:ShowContent(\\'P2\\',\\'01A\\')\">permit</A> , registration or other authorization to operate establishment not available.\"'),\n",
       " (3, u'\"2007-07-01 00:00:00', u'2008-06-30 00:00:00', u'Y', u'01A', u'Current valid permit, registration or other authorization to operate establishment not available.  Violations points are not assessed for Smoke Free Air Act, trans fat, calorie posting or permit and poster violations.\"'),\n",
       " (4, u'\"2008-07-01 00:00:00', u'2009-08-01 00:00:00', u'Y', u'01A', u'Current valid permit, registration or other authorization to operate establishment not available.  Violations points are not assessed for Smoke Free Air Act, trans fat, calorie posting or permit and poster violations.\"')]"
      ]
     },
     "execution_count": 200,
     "metadata": {},
     "output_type": "execute_result"
    }
   ],
   "source": [
    "%sql select * from violation limit 5"
   ]
  },
  {
   "cell_type": "code",
   "execution_count": 201,
   "metadata": {
    "collapsed": false,
    "deletable": true,
    "editable": true
   },
   "outputs": [
    {
     "name": "stdout",
     "output_type": "stream",
     "text": [
      "Done.\n"
     ]
    },
    {
     "data": {
      "text/html": [
       "<table>\n",
       "    <tr>\n",
       "        <th>index</th>\n",
       "        <th>CAMIS</th>\n",
       "        <th>DBA</th>\n",
       "        <th>BORO</th>\n",
       "        <th>BUILDING</th>\n",
       "        <th>STREET</th>\n",
       "        <th>ZIPCODE</th>\n",
       "        <th>PHONE</th>\n",
       "        <th>CUISINECODE</th>\n",
       "        <th>INSPDATE</th>\n",
       "        <th>ACTION</th>\n",
       "        <th>VIOLCODE</th>\n",
       "        <th>SCORE</th>\n",
       "        <th>CURRENTGRADE</th>\n",
       "        <th>GRADEDATE</th>\n",
       "        <th>RECORDDATE</th>\n",
       "    </tr>\n",
       "    <tr>\n",
       "        <td>0</td>\n",
       "        <td>30075445</td>\n",
       "        <td>MORRIS PARK BAKE SHOP</td>\n",
       "        <td>2</td>\n",
       "        <td>1007      </td>\n",
       "        <td>MORRIS PARK AVE                                   </td>\n",
       "        <td>10462.0</td>\n",
       "        <td>7188924968</td>\n",
       "        <td>8</td>\n",
       "        <td>2014-03-03 00:00:00</td>\n",
       "        <td>D</td>\n",
       "        <td>10F</td>\n",
       "        <td>2.0</td>\n",
       "        <td>A</td>\n",
       "        <td>2014-03-03 00:00:00</td>\n",
       "        <td>2014-09-04 06:01:28.403000000</td>\n",
       "    </tr>\n",
       "    <tr>\n",
       "        <td>1</td>\n",
       "        <td>30112340</td>\n",
       "        <td>WENDY'S</td>\n",
       "        <td>3</td>\n",
       "        <td>469</td>\n",
       "        <td>FLATBUSH AVENUE</td>\n",
       "        <td>11225.0</td>\n",
       "        <td>7182875005</td>\n",
       "        <td>39</td>\n",
       "        <td>2014-07-01 00:00:00</td>\n",
       "        <td>F</td>\n",
       "        <td>06A</td>\n",
       "        <td>23.0</td>\n",
       "        <td>B</td>\n",
       "        <td>2014-07-01 00:00:00</td>\n",
       "        <td>2014-09-04 06:01:28.403000000</td>\n",
       "    </tr>\n",
       "</table>"
      ],
      "text/plain": [
       "[(0, 30075445, u'MORRIS PARK BAKE SHOP', 2, u'1007      ', u'MORRIS PARK AVE                                   ', 10462.0, u'7188924968', 8, u'2014-03-03 00:00:00', u'D', u'10F', 2.0, u'A', u'2014-03-03 00:00:00', u'2014-09-04 06:01:28.403000000'),\n",
       " (1, 30112340, u\"WENDY'S\", 3, u'469', u'FLATBUSH AVENUE', 11225.0, u'7182875005', 39, u'2014-07-01 00:00:00', u'F', u'06A', 23.0, u'B', u'2014-07-01 00:00:00', u'2014-09-04 06:01:28.403000000')]"
      ]
     },
     "execution_count": 201,
     "metadata": {},
     "output_type": "execute_result"
    }
   ],
   "source": [
    "%sql select * from grades limit 2"
   ]
  },
  {
   "cell_type": "code",
   "execution_count": 204,
   "metadata": {
    "collapsed": false,
    "deletable": true,
    "editable": true
   },
   "outputs": [
    {
     "name": "stdout",
     "output_type": "stream",
     "text": [
      "Done.\n"
     ]
    },
    {
     "data": {
      "text/html": [
       "<table>\n",
       "    <tr>\n",
       "        <th>index</th>\n",
       "        <th>CUISINECODE</th>\n",
       "        <th>CODEDESC</th>\n",
       "    </tr>\n",
       "    <tr>\n",
       "        <td>0</td>\n",
       "        <td>2</td>\n",
       "        <td>African</td>\n",
       "    </tr>\n",
       "    <tr>\n",
       "        <td>1</td>\n",
       "        <td>3</td>\n",
       "        <td>American </td>\n",
       "    </tr>\n",
       "    <tr>\n",
       "        <td>2</td>\n",
       "        <td>5</td>\n",
       "        <td>Asian</td>\n",
       "    </tr>\n",
       "    <tr>\n",
       "        <td>3</td>\n",
       "        <td>15</td>\n",
       "        <td>Cajun</td>\n",
       "    </tr>\n",
       "    <tr>\n",
       "        <td>4</td>\n",
       "        <td>17</td>\n",
       "        <td>Caribbean</td>\n",
       "    </tr>\n",
       "</table>"
      ],
      "text/plain": [
       "[(0, 2, u'African'),\n",
       " (1, 3, u'American '),\n",
       " (2, 5, u'Asian'),\n",
       " (3, 15, u'Cajun'),\n",
       " (4, 17, u'Caribbean')]"
      ]
     },
     "execution_count": 204,
     "metadata": {},
     "output_type": "execute_result"
    }
   ],
   "source": [
    "%sql select * from cuisine limit 5"
   ]
  },
  {
   "cell_type": "code",
   "execution_count": 290,
   "metadata": {
    "collapsed": false,
    "deletable": true,
    "editable": true
   },
   "outputs": [
    {
     "name": "stdout",
     "output_type": "stream",
     "text": [
      "Done.\n"
     ]
    },
    {
     "data": {
      "text/plain": [
       "[]"
      ]
     },
     "execution_count": 290,
     "metadata": {},
     "output_type": "execute_result"
    }
   ],
   "source": [
    "%sql DROP TABLE IF EXISTS grad6"
   ]
  },
  {
   "cell_type": "code",
   "execution_count": 291,
   "metadata": {
    "collapsed": false,
    "deletable": true,
    "editable": true
   },
   "outputs": [
    {
     "name": "stdout",
     "output_type": "stream",
     "text": [
      "Done.\n"
     ]
    },
    {
     "data": {
      "text/plain": [
       "[]"
      ]
     },
     "execution_count": 291,
     "metadata": {},
     "output_type": "execute_result"
    }
   ],
   "source": [
    "%%sql CREATE TABLE grad6 AS\n",
    "SELECT g.CAMIS as CAMIS, g.CUISINECODE as CUISINECODE, g.VIOLCODE as VIOLATIONCODE, \n",
    "v.ENDDATE as ENDDATE, v.'VIOLATIONDESC\"' as VIOLATIONDESC\n",
    "FROM grades as g LEFT JOIN violation as v \n",
    "ON g.VIOLCODE=v.VIOLATIONCODE\n",
    "WHERE v.ENDDATE > '2014-01-01'"
   ]
  },
  {
   "cell_type": "code",
   "execution_count": 294,
   "metadata": {
    "collapsed": false,
    "deletable": true,
    "editable": true
   },
   "outputs": [
    {
     "name": "stdout",
     "output_type": "stream",
     "text": [
      "Done.\n"
     ]
    },
    {
     "data": {
      "text/html": [
       "<table>\n",
       "    <tr>\n",
       "        <th>count(*)</th>\n",
       "    </tr>\n",
       "    <tr>\n",
       "        <td>520714</td>\n",
       "    </tr>\n",
       "</table>"
      ],
      "text/plain": [
       "[(520714,)]"
      ]
     },
     "execution_count": 294,
     "metadata": {},
     "output_type": "execute_result"
    }
   ],
   "source": [
    "%sql select count(*) from grad6 where VIOLATIONCODE is not NULL "
   ]
  },
  {
   "cell_type": "code",
   "execution_count": 251,
   "metadata": {
    "collapsed": false,
    "deletable": true,
    "editable": true
   },
   "outputs": [
    {
     "name": "stdout",
     "output_type": "stream",
     "text": [
      "Done.\n"
     ]
    },
    {
     "data": {
      "text/html": [
       "<table>\n",
       "    <tr>\n",
       "        <th>CAMIS</th>\n",
       "        <th>CUISINECODE</th>\n",
       "        <th>VIOLATIONCODE</th>\n",
       "        <th>ENDDATE</th>\n",
       "        <th>VIOLATIONDESC</th>\n",
       "    </tr>\n",
       "    <tr>\n",
       "        <td>40364467</td>\n",
       "        <td>3</td>\n",
       "        <td>02A</td>\n",
       "        <td>2099-12-31 00:00:00</td>\n",
       "        <td>Food not cooked to required minimum temperature.\"</td>\n",
       "    </tr>\n",
       "    <tr>\n",
       "        <td>40365361</td>\n",
       "        <td>3</td>\n",
       "        <td>02A</td>\n",
       "        <td>2099-12-31 00:00:00</td>\n",
       "        <td>Food not cooked to required minimum temperature.\"</td>\n",
       "    </tr>\n",
       "    <tr>\n",
       "        <td>40365942</td>\n",
       "        <td>20</td>\n",
       "        <td>02A</td>\n",
       "        <td>2099-12-31 00:00:00</td>\n",
       "        <td>Food not cooked to required minimum temperature.\"</td>\n",
       "    </tr>\n",
       "    <tr>\n",
       "        <td>40367544</td>\n",
       "        <td>77</td>\n",
       "        <td>02A</td>\n",
       "        <td>2099-12-31 00:00:00</td>\n",
       "        <td>Food not cooked to required minimum temperature.\"</td>\n",
       "    </tr>\n",
       "    <tr>\n",
       "        <td>40368318</td>\n",
       "        <td>3</td>\n",
       "        <td>02A</td>\n",
       "        <td>2099-12-31 00:00:00</td>\n",
       "        <td>Food not cooked to required minimum temperature.\"</td>\n",
       "    </tr>\n",
       "</table>"
      ],
      "text/plain": [
       "[(40364467, 3, u'02A', u'2099-12-31 00:00:00', u'Food not cooked to required minimum temperature.\"'),\n",
       " (40365361, 3, u'02A', u'2099-12-31 00:00:00', u'Food not cooked to required minimum temperature.\"'),\n",
       " (40365942, 20, u'02A', u'2099-12-31 00:00:00', u'Food not cooked to required minimum temperature.\"'),\n",
       " (40367544, 77, u'02A', u'2099-12-31 00:00:00', u'Food not cooked to required minimum temperature.\"'),\n",
       " (40368318, 3, u'02A', u'2099-12-31 00:00:00', u'Food not cooked to required minimum temperature.\"')]"
      ]
     },
     "execution_count": 251,
     "metadata": {},
     "output_type": "execute_result"
    }
   ],
   "source": [
    "%sql select * from grad6 limit 5"
   ]
  },
  {
   "cell_type": "code",
   "execution_count": 266,
   "metadata": {
    "collapsed": false,
    "deletable": true,
    "editable": true
   },
   "outputs": [
    {
     "name": "stdout",
     "output_type": "stream",
     "text": [
      "Done.\n",
      "Done.\n"
     ]
    },
    {
     "data": {
      "text/plain": [
       "[]"
      ]
     },
     "execution_count": 266,
     "metadata": {},
     "output_type": "execute_result"
    }
   ],
   "source": [
    "%sql DROP TABLE IF EXISTS grad6c\n",
    "%sql CREATE TABLE grad6c AS SELECT VIOLATIONCODE, COUNT(*) as COUNTV FROM grad6 GROUP BY VIOLATIONCODE"
   ]
  },
  {
   "cell_type": "code",
   "execution_count": 283,
   "metadata": {
    "collapsed": false,
    "deletable": true,
    "editable": true
   },
   "outputs": [
    {
     "name": "stdout",
     "output_type": "stream",
     "text": [
      "Done.\n"
     ]
    },
    {
     "data": {
      "text/html": [
       "<table>\n",
       "    <tr>\n",
       "        <th>VIOLATIONCODE</th>\n",
       "        <th>COUNTV</th>\n",
       "    </tr>\n",
       "    <tr>\n",
       "        <td>02A</td>\n",
       "        <td>498</td>\n",
       "    </tr>\n",
       "    <tr>\n",
       "        <td>02B</td>\n",
       "        <td>24523</td>\n",
       "    </tr>\n",
       "    <tr>\n",
       "        <td>02C</td>\n",
       "        <td>550</td>\n",
       "    </tr>\n",
       "    <tr>\n",
       "        <td>02D</td>\n",
       "        <td>52</td>\n",
       "    </tr>\n",
       "    <tr>\n",
       "        <td>02E</td>\n",
       "        <td>19</td>\n",
       "    </tr>\n",
       "</table>"
      ],
      "text/plain": [
       "[(u'02A', 498), (u'02B', 24523), (u'02C', 550), (u'02D', 52), (u'02E', 19)]"
      ]
     },
     "execution_count": 283,
     "metadata": {},
     "output_type": "execute_result"
    }
   ],
   "source": [
    "%sql select * from grad6c limit 5"
   ]
  },
  {
   "cell_type": "code",
   "execution_count": 295,
   "metadata": {
    "collapsed": false,
    "deletable": true,
    "editable": true
   },
   "outputs": [
    {
     "name": "stdout",
     "output_type": "stream",
     "text": [
      "Done.\n"
     ]
    },
    {
     "data": {
      "text/plain": [
       "[]"
      ]
     },
     "execution_count": 295,
     "metadata": {},
     "output_type": "execute_result"
    }
   ],
   "source": [
    "%sql DROP TABLE IF EXISTS grad6a"
   ]
  },
  {
   "cell_type": "code",
   "execution_count": 296,
   "metadata": {
    "collapsed": false,
    "deletable": true,
    "editable": true
   },
   "outputs": [
    {
     "name": "stdout",
     "output_type": "stream",
     "text": [
      "Done.\n"
     ]
    },
    {
     "data": {
      "text/plain": [
       "[]"
      ]
     },
     "execution_count": 296,
     "metadata": {},
     "output_type": "execute_result"
    }
   ],
   "source": [
    "%%sql create table grad6a AS\n",
    "Select A.VIOLATIONCODE as VIOLATIONCODE, A.VIOLATIONDESC as VIOLATIONDESC, A.CUISINECODE, A.COUNTVC * 1.0 / B.COUNTC As PROBVC, A.COUNTVC as COUNT\n",
    "From    (\n",
    "        Select VIOLATIONCODE, CUISINECODE, Count(*) As COUNTVC, VIOLATIONDESC\n",
    "        From   grad6\n",
    "        Group By VIOLATIONCODE, CUISINECODE\n",
    "        Having COUNTVC > 100\n",
    "        ) As A\n",
    "        Inner Join (\n",
    "            Select CUISINECODE, Count(*) As COUNTC\n",
    "            From   grad6\n",
    "            Group By CUISINECODE\n",
    "            ) As B\n",
    "            ON A.CUISINECODE = B.CUISINECODE"
   ]
  },
  {
   "cell_type": "code",
   "execution_count": 297,
   "metadata": {
    "collapsed": false,
    "deletable": true,
    "editable": true
   },
   "outputs": [
    {
     "name": "stdout",
     "output_type": "stream",
     "text": [
      "Done.\n"
     ]
    },
    {
     "data": {
      "text/html": [
       "<table>\n",
       "    <tr>\n",
       "        <th>VIOLATIONCODE</th>\n",
       "        <th>VIOLATIONDESC</th>\n",
       "        <th>CUISINECODE</th>\n",
       "        <th>PROBVC</th>\n",
       "        <th>COUNT</th>\n",
       "    </tr>\n",
       "    <tr>\n",
       "        <td>02A</td>\n",
       "        <td>Food not cooked to required minimum temperature.\"</td>\n",
       "        <td>3</td>\n",
       "        <td>0.00103624464939</td>\n",
       "        <td>130</td>\n",
       "    </tr>\n",
       "    <tr>\n",
       "        <td>02B</td>\n",
       "        <td>Hot food item not held at or above 140º F.\"</td>\n",
       "        <td>2</td>\n",
       "        <td>0.0770482908302</td>\n",
       "        <td>142</td>\n",
       "    </tr>\n",
       "    <tr>\n",
       "        <td>02B</td>\n",
       "        <td>Hot food item not held at or above 140º F.\"</td>\n",
       "        <td>3</td>\n",
       "        <td>0.0305771882697</td>\n",
       "        <td>3836</td>\n",
       "    </tr>\n",
       "    <tr>\n",
       "        <td>02B</td>\n",
       "        <td>Hot food item not held at or above 140º F.\"</td>\n",
       "        <td>5</td>\n",
       "        <td>0.0556571727201</td>\n",
       "        <td>426</td>\n",
       "    </tr>\n",
       "    <tr>\n",
       "        <td>02B</td>\n",
       "        <td>Hot food item not held at or above 140º F.\"</td>\n",
       "        <td>8</td>\n",
       "        <td>0.0592546583851</td>\n",
       "        <td>954</td>\n",
       "    </tr>\n",
       "</table>"
      ],
      "text/plain": [
       "[(u'02A', u'Food not cooked to required minimum temperature.\"', 3, 0.0010362446493906085, 130),\n",
       " (u'02B', u'Hot food item not held at or above 140\\xba F.\"', 2, 0.0770482908301682, 142),\n",
       " (u'02B', u'Hot food item not held at or above 140\\xba F.\"', 3, 0.030577188269710568, 3836),\n",
       " (u'02B', u'Hot food item not held at or above 140\\xba F.\"', 5, 0.05565717272014633, 426),\n",
       " (u'02B', u'Hot food item not held at or above 140\\xba F.\"', 8, 0.05925465838509317, 954)]"
      ]
     },
     "execution_count": 297,
     "metadata": {},
     "output_type": "execute_result"
    }
   ],
   "source": [
    "%sql select * from grad6a limit 5"
   ]
  },
  {
   "cell_type": "code",
   "execution_count": 298,
   "metadata": {
    "collapsed": false,
    "deletable": true,
    "editable": true
   },
   "outputs": [
    {
     "name": "stdout",
     "output_type": "stream",
     "text": [
      "Done.\n"
     ]
    },
    {
     "data": {
      "text/plain": [
       "[]"
      ]
     },
     "execution_count": 298,
     "metadata": {},
     "output_type": "execute_result"
    }
   ],
   "source": [
    "%sql DROP TABLE IF EXISTS grad6b"
   ]
  },
  {
   "cell_type": "code",
   "execution_count": 299,
   "metadata": {
    "collapsed": false,
    "deletable": true,
    "editable": true
   },
   "outputs": [
    {
     "name": "stdout",
     "output_type": "stream",
     "text": [
      "Done.\n"
     ]
    },
    {
     "data": {
      "text/plain": [
       "[]"
      ]
     },
     "execution_count": 299,
     "metadata": {},
     "output_type": "execute_result"
    }
   ],
   "source": [
    "%%sql create table grad6b as\n",
    "select a.VIOLATIONCODE, a.VIOLATIONDESC, a.CUISINECODE, (a.PROBVC /(x.COUNTV / 520714.0))  as RATIO, a.COUNT, c.CODEDESC\n",
    "from grad6a as a \n",
    "JOIN cuisine as c ON a.CUISINECODE=c.CUISINECODE\n",
    "JOIN grad6c as x ON a.VIOLATIONCODE=x.VIOLATIONCODE\n",
    "order by RATIO DESC"
   ]
  },
  {
   "cell_type": "code",
   "execution_count": 300,
   "metadata": {
    "collapsed": false,
    "deletable": true,
    "editable": true
   },
   "outputs": [
    {
     "name": "stdout",
     "output_type": "stream",
     "text": [
      "Done.\n"
     ]
    },
    {
     "data": {
      "text/html": [
       "<table>\n",
       "    <tr>\n",
       "        <th>VIOLATIONCODE</th>\n",
       "        <th>VIOLATIONDESC</th>\n",
       "        <th>CUISINECODE</th>\n",
       "        <th>RATIO</th>\n",
       "        <th>COUNT</th>\n",
       "        <th>CODEDESC</th>\n",
       "    </tr>\n",
       "    <tr>\n",
       "        <td>04C</td>\n",
       "        <td>Food worker does not use proper utensil to eliminate bare hand contact with food that will not receive adequate additional heat treatment.\"</td>\n",
       "        <td>49</td>\n",
       "        <td>3.24413628229</td>\n",
       "        <td>541</td>\n",
       "        <td>Japanese</td>\n",
       "    </tr>\n",
       "    <tr>\n",
       "        <td>20D</td>\n",
       "        <td>“Choking first aid” poster not posted. “Alcohol and pregnancy” warning sign not posted. Resuscitation equipment: exhaled air resuscitation masks (adult &amp; pediatric), latex gloves, sign not posted. Inspection report sign not posted.\"</td>\n",
       "        <td>14</td>\n",
       "        <td>3.15281790283</td>\n",
       "        <td>175</td>\n",
       "        <td>Café/Coffee/Tea</td>\n",
       "    </tr>\n",
       "    <tr>\n",
       "        <td>04A</td>\n",
       "        <td>Food Protection Certificate not held by supervisor of food operations.\"</td>\n",
       "        <td>51</td>\n",
       "        <td>3.08954068739</td>\n",
       "        <td>145</td>\n",
       "        <td>Juice, Smoothies, Fruit Salads</td>\n",
       "    </tr>\n",
       "    <tr>\n",
       "        <td>10E</td>\n",
       "        <td>Accurate thermometer not provided in refrigerated or hot holding equipment.\"</td>\n",
       "        <td>29</td>\n",
       "        <td>3.037267501</td>\n",
       "        <td>130</td>\n",
       "        <td>Donuts</td>\n",
       "    </tr>\n",
       "    <tr>\n",
       "        <td>04A</td>\n",
       "        <td>Food Protection Certificate not held by supervisor of food operations.\"</td>\n",
       "        <td>43</td>\n",
       "        <td>2.9559150772</td>\n",
       "        <td>193</td>\n",
       "        <td>Ice Cream, Gelato, Yogurt, Ices</td>\n",
       "    </tr>\n",
       "</table>"
      ],
      "text/plain": [
       "[(u'04C', u'Food worker does not use proper utensil to eliminate bare hand contact with food that will not receive adequate additional heat treatment.\"', 49, 3.2441362822892623, 541, u'Japanese'),\n",
       " (u'20D', u'\\u201cChoking first aid\\u201d poster not posted. \\u201cAlcohol and pregnancy\\u201d warning sign not posted. Resuscitation equipment: exhaled air resuscitation masks (adult & pediatric), latex gloves, sign not posted. Inspection report sign not posted.\"', 14, 3.1528179028256873, 175, u'Caf\\xe9/Coffee/Tea'),\n",
       " (u'04A', u'Food Protection Certificate not held by supervisor of food operations.\"', 51, 3.089540687389437, 145, u'Juice, Smoothies, Fruit Salads'),\n",
       " (u'10E', u'Accurate thermometer not provided in refrigerated or hot holding equipment.\"', 29, 3.0372675010032575, 130, u'Donuts'),\n",
       " (u'04A', u'Food Protection Certificate not held by supervisor of food operations.\"', 43, 2.955915077202543, 193, u'Ice Cream, Gelato, Yogurt, Ices')]"
      ]
     },
     "execution_count": 300,
     "metadata": {},
     "output_type": "execute_result"
    }
   ],
   "source": [
    "%sql select * from grad6b limit 5"
   ]
  },
  {
   "cell_type": "code",
   "execution_count": 301,
   "metadata": {
    "collapsed": false,
    "deletable": true,
    "editable": true
   },
   "outputs": [
    {
     "name": "stdout",
     "output_type": "stream",
     "text": [
      "Done.\n"
     ]
    }
   ],
   "source": [
    "q6 = %sql select CODEDESC, VIOLATIONDESC, RATIO, COUNT from grad6b limit 20"
   ]
  },
  {
   "cell_type": "code",
   "execution_count": 302,
   "metadata": {
    "collapsed": false,
    "deletable": true,
    "editable": true
   },
   "outputs": [
    {
     "name": "stdout",
     "output_type": "stream",
     "text": [
      "((u'Japanese', u'Food worker does not use proper utensil to eliminate bare hand contact with food that will not receive adequate additional heat treatment.\"'), 3.2441362822892623, 541)\n",
      "((u'Caf\\xe9/Coffee/Tea', u'\\u201cChoking first aid\\u201d poster not posted. \\u201cAlcohol and pregnancy\\u201d warning sign not posted. Resuscitation equipment: exhaled air resuscitation masks (adult & pediatric), latex gloves, sign not posted. Inspection report sign not posted.\"'), 3.1528179028256873, 175)\n",
      "((u'Juice, Smoothies, Fruit Salads', u'Food Protection Certificate not held by supervisor of food operations.\"'), 3.089540687389437, 145)\n",
      "((u'Donuts', u'Accurate thermometer not provided in refrigerated or hot holding equipment.\"'), 3.0372675010032575, 130)\n",
      "((u'Ice Cream, Gelato, Yogurt, Ices', u'Food Protection Certificate not held by supervisor of food operations.\"'), 2.955915077202543, 193)\n",
      "((u'Thai', u'Thawing procedures improper.\"'), 2.6329639915169523, 151)\n",
      "((u'Irish', u'Raw, cooked or prepared food is adulterated, contaminated, cross-contaminated, or not discarded in accordance with HACCP plan.\"'), 2.3692776671873292, 321)\n",
      "((u'Mexican', u'Food not cooled by an approved method whereby the internal product temperature is reduced from 140\\xba F to 70\\xba F or less within 2 hours, and from 70\\xba F to 41\\xba F or less within 4 additional hours.\"'), 2.326052280906961, 260)\n",
      "((u'Indian', u'Food not cooled by an approved method whereby the internal product temperature is reduced from 140\\xba F to 70\\xba F or less within 2 hours, and from 70\\xba F to 41\\xba F or less within 4 additional hours.\"'), 2.2589579040329704, 112)\n",
      "((u'Chinese', u'Thawing procedures improper.\"'), 2.1970780297163146, 1121)\n",
      "((u'Caribbean', u'Food not cooled by an approved method whereby the internal product temperature is reduced from 140\\xba F to 70\\xba F or less within 2 hours, and from 70\\xba F to 41\\xba F or less within 4 additional hours.\"'), 2.1084024687475433, 206)\n",
      "((u'Hamburgers', u'Accurate thermometer not provided in refrigerated or hot holding equipment.\"'), 2.094665454794532, 109)\n",
      "((u'Soups & Sandwiches', u'Cold food item held above 41\\xba F (smoked fish and reduced oxygen packaged foods above 38 \\xbaF) except during necessary preparation.\"'), 2.0913996437673843, 106)\n",
      "((u'Chinese', u'Food worker does not wash hands thoroughly after using the toilet, coughing, sneezing, smoking, eating, preparing raw foods or otherwise contaminating hands.\"'), 2.086547637340511, 121)\n",
      "((u'American ', u'\"\"No Smoking\\u201d and/or \\'Smoking Permitted\\u201d sign not conspicuously posted. Health warning not present on \\'Smoking Permitted\\u201d\"'), 2.0799162994455997, 227)\n",
      "((u'Donuts', u'Bulb not shielded or shatterproof, in areas where there is extreme heat, temperature changes, or where accidental contact may occur.\"'), 2.0648726114523392, 110)\n",
      "((u'Middle Eastern', u'Food Protection Certificate not held by supervisor of food operations.\"'), 1.9850211288862059, 117)\n",
      "((u'Spanish', u'Food not cooled by an approved method whereby the internal product temperature is reduced from 140\\xba F to 70\\xba F or less within 2 hours, and from 70\\xba F to 41\\xba F or less within 4 additional hours.\"'), 1.9008571138466894, 151)\n",
      "((u'Hamburgers', u'Filth flies or food/refuse/sewage-associated (FRSA) flies present in facility\\u2019s food and/or non-food areas. Filth flies include house flies, little house flies, blow flies, bottle flies and flesh flies. Food/refuse/sewage-associated flies include fruit flies, drain flies and Phorid flies.\"'), 1.895621611626516, 600)\n",
      "((u'Caf\\xe9/Coffee/Tea', u'Toilet facility not maintained and provided with toilet paper, waste receptacle and self-closing door.\"'), 1.8836203887018317, 315)\n"
     ]
    }
   ],
   "source": [
    "lq6 =[x for x in q6]\n",
    "ans6 = [ ((a, b), c, d) for a, b, c, d in lq6]\n",
    "for a in ans6:\n",
    "    print a"
   ]
  },
  {
   "cell_type": "code",
   "execution_count": null,
   "metadata": {
    "collapsed": true,
    "deletable": true,
    "editable": true
   },
   "outputs": [],
   "source": []
  },
  {
   "cell_type": "markdown",
   "metadata": {
    "collapsed": true,
    "deletable": true,
    "editable": true
   },
   "source": [
    "## Rich's solution"
   ]
  },
  {
   "cell_type": "code",
   "execution_count": null,
   "metadata": {
    "collapsed": true,
    "deletable": true,
    "editable": true
   },
   "outputs": [],
   "source": [
    "%%sql\n",
    "\n",
    "WITH uncon_prob AS\n",
    "  (SELECT VIOLCODE, COUNT(*) * 1.0/ (SELECT COUNT(*) FROM events) as uncond \n",
    "   FROM events GROUP BY 1),\n",
    "cuis_count AS\n",
    "  (SELECT CUISINECODE AS CUISINECODE_C, COUNT(*) as counts FROM events GROUP BY 1),\n",
    "viol_cuis_count AS\n",
    "  (SELECT VIOLCODE, CUISINECODE, COUNT(*) as counts \n",
    "   FROM events GROUP BY VIOLCODE, CUISINECODE),\n",
    "con_prob AS\n",
    "  (SELECT VIOLCODE, CUISINECODE, viol_cuis_count.counts *1.0 / cuis_count.counts AS cond,\n",
    "   viol_cuis_count.counts AS counts\n",
    "    FROM viol_cuis_count JOIN cuis_count ON CUISINECODE = CUISINECODE_C),\n",
    "unlabeled AS \n",
    "  (SELECT CUISINECODE, uncon_prob.VIOLCODE, cond / uncond AS ratio, con_prob.counts\n",
    "   FROM con_prob JOIN uncon_prob ON uncon_prob.VIOLCODE = con_prob.VIOLCODE \n",
    "   WHERE counts > 100\n",
    "   ORDER BY ratio DESC LIMIT 20)\n",
    "SELECT CODEDESC, VIOLATIONDESC, ratio, counts \n",
    "  FROM (unlabeled JOIN violations ON unlabeled.VIOLCODE = violations.VIOLATIONCODE)\n",
    "  JOIN cuisine ON unlabeled.CUISINECODE = cuisine.CUISINECODE \n",
    "  WHERE violations.ENDDATE > '2014-01-01 00:00:00';"
   ]
  },
  {
   "cell_type": "code",
   "execution_count": null,
   "metadata": {
    "collapsed": true,
    "deletable": true,
    "editable": true
   },
   "outputs": [],
   "source": [
    "result = _\n",
    "formatted_result = [((x,y),z,w) for (x,y,z,w) in list(result)]"
   ]
  },
  {
   "cell_type": "code",
   "execution_count": 303,
   "metadata": {
    "collapsed": false,
    "deletable": true,
    "editable": true
   },
   "outputs": [
    {
     "name": "stdout",
     "output_type": "stream",
     "text": [
      "==================\n",
      "Your score:  0.95\n",
      "==================\n"
     ]
    }
   ],
   "source": [
    "def violation_by_cuisine():\n",
    "    return  ans6\n",
    "\n",
    "           #[((\"Café/Coffee/Tea\",\n",
    "           #   \"Toilet facility not maintained and provided with toilet paper; \"\n",
    "           #   \"waste receptacle and self-closing door.\"),\n",
    "           #   1.87684775827172, 315)] * 20\n",
    "\n",
    "grader.score('sql__violation_by_cuisine', violation_by_cuisine)"
   ]
  },
  {
   "cell_type": "markdown",
   "metadata": {
    "deletable": true,
    "editable": true
   },
   "source": [
    "*Copyright &copy; 2016 The Data Incubator.  All rights reserved.*"
   ]
  }
 ],
 "metadata": {
  "kernelspec": {
   "display_name": "Python 2",
   "language": "python",
   "name": "python2"
  },
  "language_info": {
   "codemirror_mode": {
    "name": "ipython",
    "version": 2
   },
   "file_extension": ".py",
   "mimetype": "text/x-python",
   "name": "python",
   "nbconvert_exporter": "python",
   "pygments_lexer": "ipython2",
   "version": "2.7.13"
  }
 },
 "nbformat": 4,
 "nbformat_minor": 0
}
