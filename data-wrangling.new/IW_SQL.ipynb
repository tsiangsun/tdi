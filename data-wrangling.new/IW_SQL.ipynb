{
 "cells": [
  {
   "cell_type": "code",
   "execution_count": 1,
   "metadata": {
    "collapsed": true,
    "deletable": true,
    "editable": true
   },
   "outputs": [],
   "source": [
    "%matplotlib inline\n",
    "import matplotlib\n",
    "import seaborn as sns\n",
    "matplotlib.rcParams['savefig.dpi'] = 144"
   ]
  },
  {
   "cell_type": "code",
   "execution_count": 2,
   "metadata": {
    "collapsed": true,
    "deletable": true,
    "editable": true
   },
   "outputs": [],
   "source": [
    "import pandas as pd"
   ]
  },
  {
   "cell_type": "markdown",
   "metadata": {
    "deletable": true,
    "editable": true
   },
   "source": [
    "# SQL - Structured Query Language\n",
    "<!-- requirement: small_data/2013_Gaz_tracts_national.tsv -->\n",
    "\n",
    "SQL is a formal language for communicating with a database to articulate precisely what information you want from a collection of database tables.\n",
    "\n",
    "It is possibly the most commonly used language in the world (currently the most requested language in job descriptions according to [Code-dojo](http://www.codingdojo.com/blog/9-most-in-demand-programming-languages-of-2017/)!).  You **will** be asked about it in a job interview if you're applying to be a Data Scientist or a Data Analyst.\n",
    "\n",
    "Databases are *structured* repositories for data in that database designers must be specific about defining a common set of data items that will be available for each record in a table. These have * **typed** columns*, and data entries are in *rows*.\n",
    "\n",
    "Python has a built-in tools for accessing a database and sending or receiving data. In this notebook, we will explore these tools."
   ]
  },
  {
   "cell_type": "markdown",
   "metadata": {
    "deletable": true,
    "editable": true
   },
   "source": [
    "To begin, consider the abstract concept of a table.\n",
    "\n",
    "Imagine you have this collection of information about a list of your friends.\n",
    "\n",
    " index |   name   |     city      | favorite_color \n",
    ":-----:|:--------:|:-------------:|:--------------:\n",
    "   0   |   John   |   New York    |      blue      \n",
    "   1   |  Jason   |    Chicago    |     yellow     \n",
    "   2   |   Mary   | Washington DC |      blue      \n",
    "   3   |  Jason   |    Dallas     |      cyan      \n",
    "   4   |  Susan   |    Seattle    |     green      \n",
    "   5   | Beatrice |    Chicago    |     violet     "
   ]
  },
  {
   "cell_type": "markdown",
   "metadata": {
    "deletable": true,
    "editable": true
   },
   "source": [
    "For each friend, we list their `name`, the `city` they live in, and their `favorite_color`. The data is organized into rows and columns. Each row represents a different friend, and each column represents similar data we know about each friend.\n",
    "\n",
    "There's also an extra `index` column thrown in. The purpose of this column is to provide a unique identifier for each row. In this case it is an integer, kind of like a row number, but this need not be the case. It is helpful (but not required) to have at least one column in a table that is unique. This allows us to uniquely identify a particular row. For this table such a thing is important because we have two friends named \"Jason\", two friends who live in Chicago, and two friends who like the color blue.\n",
    "\n",
    "Now imagine you want to plot where your friends live on a map. To do this you need to know your friends' names and cities. You don't need to know their favorite colors right now, and the index is not important. You just need to **SELECT** the `name` and `city` columns:\n",
    "\n",
    "   name   |     city      \n",
    ":--------:|:-------------:\n",
    "   John   |   New York    \n",
    "  Jason   |    Chicago    \n",
    "   Mary   | Washington DC \n",
    "  Jason   |    Dallas     \n",
    "  Susan   |    Seattle    \n",
    " Beatrice |    Chicago    "
   ]
  },
  {
   "cell_type": "markdown",
   "metadata": {
    "deletable": true,
    "editable": true
   },
   "source": [
    "Now imagine you are visiting Chicago next week and you want to recall information about which of your friends who live there. You want to look at the rows **WHERE** `city = 'Chicago'` and exclude the others:\n",
    "\n",
    "   name   |  city   | favorite_color \n",
    ":--------:|:-------:|:--------------:\n",
    "  Jason   | Chicago |     yellow     \n",
    " Beatrice | Chicago |     violet     "
   ]
  },
  {
   "cell_type": "markdown",
   "metadata": {
    "deletable": true,
    "editable": true
   },
   "source": [
    "When you are in Chicago you are in clothing store and want to buy each friend a sweater in their favorite color. To buy the correct sweaters, you need to **SELECT** the `name` and `favorite_color` columns for the rows **WHERE** `city = 'Chicago'`.\n",
    "\n",
    "   name   | favorite_color \n",
    ":--------:|:--------------:\n",
    "  Jason   |     yellow     \n",
    " Beatrice |     violet     "
   ]
  },
  {
   "cell_type": "markdown",
   "metadata": {
    "deletable": true,
    "editable": true
   },
   "source": [
    "The store makes hand-knit sweaters in several colors. The store owners have their own table for the prices they wish to charge for each colored sweater:\n",
    "\n",
    " sweater_color | price \n",
    ":-------------:|:-----:\n",
    "      red      | 59.99 \n",
    "    yellow     | 49.99 \n",
    "     blue      | 79.99 \n",
    "    violet     | 89.99 "
   ]
  },
  {
   "cell_type": "markdown",
   "metadata": {
    "deletable": true,
    "editable": true
   },
   "source": [
    "If we want to know how much these sweaters will cost for each friend, first we must **join** the store owner's table with our information about the favorite colors of our friends who live in Chicago. We **join** data together by selecting rows in both tables **WHERE** `favorite_color = sweater_color`:\n",
    "\n",
    "   name   | favorite_color | price \n",
    ":--------:|:--------------:|:-----:\n",
    "  Jason   |     yellow     | 49.99 \n",
    " Beatrice |     violet     | 89.99 \n",
    " \n",
    "And finally, to get the total cost, we must **SUM** the prices in the `price` column after joining the two tables together. We find the total cost is $139.98."
   ]
  },
  {
   "cell_type": "markdown",
   "metadata": {
    "deletable": true,
    "editable": true
   },
   "source": [
    "## Friends example in SQL\n",
    "\n",
    "We can repeat our previous example in Python using sqlite. Jupyter notebooks come with a SQL extension that we will  use to connect to a test database we will create for this occasion."
   ]
  },
  {
   "cell_type": "code",
   "execution_count": 21,
   "metadata": {
    "collapsed": false,
    "deletable": true,
    "editable": true
   },
   "outputs": [
    {
     "name": "stdout",
     "output_type": "stream",
     "text": [
      "The sql extension is already loaded. To reload it, use:\n",
      "  %reload_ext sql\n"
     ]
    },
    {
     "data": {
      "text/plain": [
       "u'Connected: None@testdb.sqlite'"
      ]
     },
     "execution_count": 21,
     "metadata": {},
     "output_type": "execute_result"
    }
   ],
   "source": [
    "%load_ext sql\n",
    "%sql sqlite:///testdb.sqlite"
   ]
  },
  {
   "cell_type": "markdown",
   "metadata": {
    "deletable": true,
    "editable": true
   },
   "source": [
    "First we must **create** a table to store information about our friends. We also need a table for the store's sweater price data."
   ]
  },
  {
   "cell_type": "code",
   "execution_count": 22,
   "metadata": {
    "collapsed": false,
    "deletable": true,
    "editable": true
   },
   "outputs": [
    {
     "name": "stdout",
     "output_type": "stream",
     "text": [
      "Done.\n",
      "Done.\n",
      "Done.\n",
      "Done.\n"
     ]
    },
    {
     "data": {
      "text/plain": [
       "[]"
      ]
     },
     "execution_count": 22,
     "metadata": {},
     "output_type": "execute_result"
    }
   ],
   "source": [
    "%%sql\n",
    "--#This makes a SQL cell - everything in here will be interpreted as SQL\n",
    "\n",
    "--#I'm a comment.  My # isn't necessary, but makes the colors display correctly in Jupyter\n",
    "\n",
    "--#Newlines are ignored, space them to make it more readable\n",
    "--#Note that the where criteria *do not* need to be part of the selected columns\n",
    "\n",
    "--#Generally not a good idea in real databases, deletes a table\n",
    "DROP TABLE IF EXISTS friends;\n",
    "\n",
    "--#Table creation - must specify a type for each column\n",
    "--#if NOT NULL is not set, entries can be blank (NULL)\n",
    "CREATE TABLE friends (\n",
    "    idx               INTEGER PRIMARY KEY AUTOINCREMENT NOT NULL,\n",
    "    name              TEXT NOT NULL,\n",
    "    city              TEXT NOT NULL,\n",
    "    favorite_color    TEXT\n",
    ");\n",
    "\n",
    "DROP TABLE IF EXISTS merchandise;\n",
    "\n",
    "CREATE TABLE IF NOT EXISTS merchandise (\n",
    "    sweater_color     TEXT NOT NULL,\n",
    "    price             NUMBER NOT NULL\n",
    ");"
   ]
  },
  {
   "cell_type": "markdown",
   "metadata": {
    "deletable": true,
    "editable": true
   },
   "source": [
    "Our tables are empty. Let's **insert** data."
   ]
  },
  {
   "cell_type": "code",
   "execution_count": 23,
   "metadata": {
    "collapsed": false,
    "deletable": true,
    "editable": true
   },
   "outputs": [
    {
     "name": "stdout",
     "output_type": "stream",
     "text": [
      "1 rows affected.\n",
      "1 rows affected.\n",
      "1 rows affected.\n",
      "1 rows affected.\n",
      "1 rows affected.\n",
      "1 rows affected.\n",
      "4 rows affected.\n"
     ]
    },
    {
     "data": {
      "text/plain": [
       "[]"
      ]
     },
     "execution_count": 23,
     "metadata": {},
     "output_type": "execute_result"
    }
   ],
   "source": [
    "%%sql\n",
    "\n",
    "INSERT INTO friends (name, city, favorite_color)\n",
    "    VALUES ('John', 'New York', 'blue');\n",
    "\n",
    "INSERT INTO friends (name, city, favorite_color)\n",
    "    VALUES ('Jason', 'Chicago', 'yellow');\n",
    "\n",
    "INSERT INTO friends (name, city, favorite_color)\n",
    "    VALUES ('Mary', 'Washington DC', 'blue');\n",
    "\n",
    "INSERT INTO friends (name, city, favorite_color)\n",
    "    VALUES ('Jason', 'Dallas', 'cyan');\n",
    "\n",
    "INSERT INTO friends (name, city, favorite_color)\n",
    "    VALUES ('Susan', 'Seattle', 'green');\n",
    "\n",
    "INSERT INTO friends (name, city, favorite_color)\n",
    "    VALUES ('Beatrice', 'Chicago', 'violet');\n",
    "\n",
    "INSERT INTO merchandise (sweater_color, price)\n",
    "    VALUES ('red', 59.99), ('yellow', 49.99), ('blue', 79.99), ('violet', 89.99);\n"
   ]
  },
  {
   "cell_type": "markdown",
   "metadata": {
    "deletable": true,
    "editable": true
   },
   "source": [
    "We can confirm that our data was inserted correctly by **SELECT**ing the data from each table."
   ]
  },
  {
   "cell_type": "code",
   "execution_count": 24,
   "metadata": {
    "collapsed": false,
    "deletable": true,
    "editable": true
   },
   "outputs": [
    {
     "name": "stdout",
     "output_type": "stream",
     "text": [
      "Done.\n"
     ]
    },
    {
     "data": {
      "text/html": [
       "<table>\n",
       "    <tr>\n",
       "        <th>idx</th>\n",
       "        <th>name</th>\n",
       "        <th>city</th>\n",
       "        <th>favorite_color</th>\n",
       "    </tr>\n",
       "    <tr>\n",
       "        <td>1</td>\n",
       "        <td>John</td>\n",
       "        <td>New York</td>\n",
       "        <td>blue</td>\n",
       "    </tr>\n",
       "    <tr>\n",
       "        <td>2</td>\n",
       "        <td>Jason</td>\n",
       "        <td>Chicago</td>\n",
       "        <td>yellow</td>\n",
       "    </tr>\n",
       "    <tr>\n",
       "        <td>3</td>\n",
       "        <td>Mary</td>\n",
       "        <td>Washington DC</td>\n",
       "        <td>blue</td>\n",
       "    </tr>\n",
       "    <tr>\n",
       "        <td>4</td>\n",
       "        <td>Jason</td>\n",
       "        <td>Dallas</td>\n",
       "        <td>cyan</td>\n",
       "    </tr>\n",
       "    <tr>\n",
       "        <td>5</td>\n",
       "        <td>Susan</td>\n",
       "        <td>Seattle</td>\n",
       "        <td>green</td>\n",
       "    </tr>\n",
       "    <tr>\n",
       "        <td>6</td>\n",
       "        <td>Beatrice</td>\n",
       "        <td>Chicago</td>\n",
       "        <td>violet</td>\n",
       "    </tr>\n",
       "</table>"
      ],
      "text/plain": [
       "[(1, u'John', u'New York', u'blue'),\n",
       " (2, u'Jason', u'Chicago', u'yellow'),\n",
       " (3, u'Mary', u'Washington DC', u'blue'),\n",
       " (4, u'Jason', u'Dallas', u'cyan'),\n",
       " (5, u'Susan', u'Seattle', u'green'),\n",
       " (6, u'Beatrice', u'Chicago', u'violet')]"
      ]
     },
     "execution_count": 24,
     "metadata": {},
     "output_type": "execute_result"
    }
   ],
   "source": [
    "%%sql\n",
    "\n",
    "SELECT * FROM friends;"
   ]
  },
  {
   "cell_type": "code",
   "execution_count": 25,
   "metadata": {
    "collapsed": false,
    "deletable": true,
    "editable": true
   },
   "outputs": [
    {
     "name": "stdout",
     "output_type": "stream",
     "text": [
      "Done.\n"
     ]
    },
    {
     "data": {
      "text/html": [
       "<table>\n",
       "    <tr>\n",
       "        <th>sweater_color</th>\n",
       "        <th>price</th>\n",
       "    </tr>\n",
       "    <tr>\n",
       "        <td>red</td>\n",
       "        <td>59.99</td>\n",
       "    </tr>\n",
       "    <tr>\n",
       "        <td>yellow</td>\n",
       "        <td>49.99</td>\n",
       "    </tr>\n",
       "    <tr>\n",
       "        <td>blue</td>\n",
       "        <td>79.99</td>\n",
       "    </tr>\n",
       "    <tr>\n",
       "        <td>violet</td>\n",
       "        <td>89.99</td>\n",
       "    </tr>\n",
       "</table>"
      ],
      "text/plain": [
       "[(u'red', 59.99), (u'yellow', 49.99), (u'blue', 79.99), (u'violet', 89.99)]"
      ]
     },
     "execution_count": 25,
     "metadata": {},
     "output_type": "execute_result"
    }
   ],
   "source": [
    "%%sql\n",
    "\n",
    "SELECT * FROM merchandise;"
   ]
  },
  {
   "cell_type": "markdown",
   "metadata": {
    "deletable": true,
    "editable": true
   },
   "source": [
    "If we want to know our friend's names and their cities, we can select just those two columns from the friends table."
   ]
  },
  {
   "cell_type": "code",
   "execution_count": 26,
   "metadata": {
    "collapsed": false,
    "deletable": true,
    "editable": true
   },
   "outputs": [
    {
     "name": "stdout",
     "output_type": "stream",
     "text": [
      "Done.\n"
     ]
    },
    {
     "data": {
      "text/html": [
       "<table>\n",
       "    <tr>\n",
       "        <th>name</th>\n",
       "        <th>city</th>\n",
       "    </tr>\n",
       "    <tr>\n",
       "        <td>John</td>\n",
       "        <td>New York</td>\n",
       "    </tr>\n",
       "    <tr>\n",
       "        <td>Jason</td>\n",
       "        <td>Chicago</td>\n",
       "    </tr>\n",
       "    <tr>\n",
       "        <td>Mary</td>\n",
       "        <td>Washington DC</td>\n",
       "    </tr>\n",
       "    <tr>\n",
       "        <td>Jason</td>\n",
       "        <td>Dallas</td>\n",
       "    </tr>\n",
       "    <tr>\n",
       "        <td>Susan</td>\n",
       "        <td>Seattle</td>\n",
       "    </tr>\n",
       "    <tr>\n",
       "        <td>Beatrice</td>\n",
       "        <td>Chicago</td>\n",
       "    </tr>\n",
       "</table>"
      ],
      "text/plain": [
       "[(u'John', u'New York'),\n",
       " (u'Jason', u'Chicago'),\n",
       " (u'Mary', u'Washington DC'),\n",
       " (u'Jason', u'Dallas'),\n",
       " (u'Susan', u'Seattle'),\n",
       " (u'Beatrice', u'Chicago')]"
      ]
     },
     "execution_count": 26,
     "metadata": {},
     "output_type": "execute_result"
    }
   ],
   "source": [
    "%%sql\n",
    "\n",
    "SELECT name, city FROM friends;"
   ]
  },
  {
   "cell_type": "markdown",
   "metadata": {
    "deletable": true,
    "editable": true
   },
   "source": [
    "To get information about our friends who live in city, we can select just those rows."
   ]
  },
  {
   "cell_type": "code",
   "execution_count": 27,
   "metadata": {
    "collapsed": false,
    "deletable": true,
    "editable": true
   },
   "outputs": [
    {
     "name": "stdout",
     "output_type": "stream",
     "text": [
      "Done.\n"
     ]
    },
    {
     "data": {
      "text/html": [
       "<table>\n",
       "    <tr>\n",
       "        <th>name</th>\n",
       "        <th>city</th>\n",
       "        <th>favorite_color</th>\n",
       "    </tr>\n",
       "    <tr>\n",
       "        <td>Jason</td>\n",
       "        <td>Chicago</td>\n",
       "        <td>yellow</td>\n",
       "    </tr>\n",
       "    <tr>\n",
       "        <td>Beatrice</td>\n",
       "        <td>Chicago</td>\n",
       "        <td>violet</td>\n",
       "    </tr>\n",
       "</table>"
      ],
      "text/plain": [
       "[(u'Jason', u'Chicago', u'yellow'), (u'Beatrice', u'Chicago', u'violet')]"
      ]
     },
     "execution_count": 27,
     "metadata": {},
     "output_type": "execute_result"
    }
   ],
   "source": [
    "%%sql\n",
    "\n",
    "SELECT name, city, favorite_color FROM friends WHERE city = 'Chicago';"
   ]
  },
  {
   "cell_type": "markdown",
   "metadata": {
    "deletable": true,
    "editable": true
   },
   "source": [
    "WHERE's can be arbitrarily complex, with AND, OR, parenthesis, etc.  Basic logic is available like <, >, =, etc"
   ]
  },
  {
   "cell_type": "code",
   "execution_count": 28,
   "metadata": {
    "collapsed": false,
    "deletable": true,
    "editable": true
   },
   "outputs": [
    {
     "name": "stdout",
     "output_type": "stream",
     "text": [
      "Done.\n"
     ]
    },
    {
     "data": {
      "text/html": [
       "<table>\n",
       "    <tr>\n",
       "        <th>sweater_color</th>\n",
       "        <th>price</th>\n",
       "    </tr>\n",
       "    <tr>\n",
       "        <td>red</td>\n",
       "        <td>59.99</td>\n",
       "    </tr>\n",
       "    <tr>\n",
       "        <td>blue</td>\n",
       "        <td>79.99</td>\n",
       "    </tr>\n",
       "</table>"
      ],
      "text/plain": [
       "[(u'red', 59.99), (u'blue', 79.99)]"
      ]
     },
     "execution_count": 28,
     "metadata": {},
     "output_type": "execute_result"
    }
   ],
   "source": [
    "%%sql\n",
    "\n",
    "SELECT * FROM merchandise WHERE price > 50.00 AND price < 80.00;"
   ]
  },
  {
   "cell_type": "markdown",
   "metadata": {
    "deletable": true,
    "editable": true
   },
   "source": [
    "As are selectors such as IN and LIKE (for wildcarding)"
   ]
  },
  {
   "cell_type": "code",
   "execution_count": 29,
   "metadata": {
    "collapsed": false,
    "deletable": true,
    "editable": true,
    "scrolled": true
   },
   "outputs": [
    {
     "name": "stdout",
     "output_type": "stream",
     "text": [
      "Done.\n"
     ]
    },
    {
     "data": {
      "text/html": [
       "<table>\n",
       "    <tr>\n",
       "        <th>name</th>\n",
       "        <th>city</th>\n",
       "    </tr>\n",
       "    <tr>\n",
       "        <td>John</td>\n",
       "        <td>New York</td>\n",
       "    </tr>\n",
       "    <tr>\n",
       "        <td>Jason</td>\n",
       "        <td>Chicago</td>\n",
       "    </tr>\n",
       "    <tr>\n",
       "        <td>Jason</td>\n",
       "        <td>Dallas</td>\n",
       "    </tr>\n",
       "</table>"
      ],
      "text/plain": [
       "[(u'John', u'New York'), (u'Jason', u'Chicago'), (u'Jason', u'Dallas')]"
      ]
     },
     "execution_count": 29,
     "metadata": {},
     "output_type": "execute_result"
    }
   ],
   "source": [
    "%%sql\n",
    "\n",
    "SELECT name, city FROM friends WHERE name like 'J%';"
   ]
  },
  {
   "cell_type": "code",
   "execution_count": 30,
   "metadata": {
    "collapsed": false,
    "deletable": true,
    "editable": true,
    "scrolled": true
   },
   "outputs": [
    {
     "name": "stdout",
     "output_type": "stream",
     "text": [
      "Done.\n"
     ]
    },
    {
     "data": {
      "text/html": [
       "<table>\n",
       "    <tr>\n",
       "        <th>favorite_color</th>\n",
       "        <th>name</th>\n",
       "    </tr>\n",
       "    <tr>\n",
       "        <td>blue</td>\n",
       "        <td>John</td>\n",
       "    </tr>\n",
       "    <tr>\n",
       "        <td>yellow</td>\n",
       "        <td>Jason</td>\n",
       "    </tr>\n",
       "    <tr>\n",
       "        <td>cyan</td>\n",
       "        <td>Jason</td>\n",
       "    </tr>\n",
       "    <tr>\n",
       "        <td>violet</td>\n",
       "        <td>Beatrice</td>\n",
       "    </tr>\n",
       "</table>"
      ],
      "text/plain": [
       "[(u'blue', u'John'),\n",
       " (u'yellow', u'Jason'),\n",
       " (u'cyan', u'Jason'),\n",
       " (u'violet', u'Beatrice')]"
      ]
     },
     "execution_count": 30,
     "metadata": {},
     "output_type": "execute_result"
    }
   ],
   "source": [
    "%%sql\n",
    "\n",
    "SELECT favorite_color, name FROM friends WHERE city IN ('Chicago','Dallas', 'New York');"
   ]
  },
  {
   "cell_type": "markdown",
   "metadata": {
    "deletable": true,
    "editable": true
   },
   "source": [
    "For testing, LIMIT lets you only display the first few rows of a table"
   ]
  },
  {
   "cell_type": "code",
   "execution_count": 31,
   "metadata": {
    "collapsed": false,
    "deletable": true,
    "editable": true
   },
   "outputs": [
    {
     "name": "stdout",
     "output_type": "stream",
     "text": [
      "Done.\n"
     ]
    },
    {
     "data": {
      "text/html": [
       "<table>\n",
       "    <tr>\n",
       "        <th>favorite_color</th>\n",
       "        <th>name</th>\n",
       "    </tr>\n",
       "    <tr>\n",
       "        <td>blue</td>\n",
       "        <td>John</td>\n",
       "    </tr>\n",
       "    <tr>\n",
       "        <td>yellow</td>\n",
       "        <td>Jason</td>\n",
       "    </tr>\n",
       "    <tr>\n",
       "        <td>cyan</td>\n",
       "        <td>Jason</td>\n",
       "    </tr>\n",
       "</table>"
      ],
      "text/plain": [
       "[(u'blue', u'John'), (u'yellow', u'Jason'), (u'cyan', u'Jason')]"
      ]
     },
     "execution_count": 31,
     "metadata": {},
     "output_type": "execute_result"
    }
   ],
   "source": [
    "%%sql\n",
    "\n",
    "SELECT favorite_color, name FROM friends \n",
    "WHERE city IN ('Chicago','Dallas', 'New York') LIMIT 3;"
   ]
  },
  {
   "cell_type": "markdown",
   "metadata": {
    "deletable": true,
    "editable": true
   },
   "source": [
    "To get the price of the sweater we will give to each friend, we can join our data with the merchandise data."
   ]
  },
  {
   "cell_type": "code",
   "execution_count": 32,
   "metadata": {
    "collapsed": false,
    "deletable": true,
    "editable": true
   },
   "outputs": [
    {
     "name": "stdout",
     "output_type": "stream",
     "text": [
      "Done.\n"
     ]
    },
    {
     "data": {
      "text/html": [
       "<table>\n",
       "    <tr>\n",
       "        <th>name</th>\n",
       "        <th>favorite_color</th>\n",
       "        <th>price</th>\n",
       "    </tr>\n",
       "    <tr>\n",
       "        <td>Jason</td>\n",
       "        <td>yellow</td>\n",
       "        <td>49.99</td>\n",
       "    </tr>\n",
       "    <tr>\n",
       "        <td>Beatrice</td>\n",
       "        <td>violet</td>\n",
       "        <td>89.99</td>\n",
       "    </tr>\n",
       "</table>"
      ],
      "text/plain": [
       "[(u'Jason', u'yellow', 49.99), (u'Beatrice', u'violet', 89.99)]"
      ]
     },
     "execution_count": 32,
     "metadata": {},
     "output_type": "execute_result"
    }
   ],
   "source": [
    "%%sql\n",
    "\n",
    "SELECT\n",
    "    f.name,\n",
    "    f.favorite_color,\n",
    "    m.price\n",
    "FROM\n",
    "    friends as f,\n",
    "    merchandise as m\n",
    "WHERE\n",
    "    f.city = 'Chicago' AND\n",
    "    f.favorite_color = m.sweater_color;"
   ]
  },
  {
   "cell_type": "markdown",
   "metadata": {
    "deletable": true,
    "editable": true
   },
   "source": [
    "Finally, to get the total cost of the sweaters:"
   ]
  },
  {
   "cell_type": "code",
   "execution_count": 33,
   "metadata": {
    "collapsed": false,
    "deletable": true,
    "editable": true
   },
   "outputs": [
    {
     "name": "stdout",
     "output_type": "stream",
     "text": [
      "Done.\n"
     ]
    },
    {
     "data": {
      "text/html": [
       "<table>\n",
       "    <tr>\n",
       "        <th>total_cost</th>\n",
       "    </tr>\n",
       "    <tr>\n",
       "        <td>139.98</td>\n",
       "    </tr>\n",
       "</table>"
      ],
      "text/plain": [
       "[(139.98,)]"
      ]
     },
     "execution_count": 33,
     "metadata": {},
     "output_type": "execute_result"
    }
   ],
   "source": [
    "%%sql\n",
    "\n",
    "SELECT\n",
    "    SUM(m.price) as total_cost\n",
    "FROM\n",
    "    friends as f,\n",
    "    merchandise as m\n",
    "WHERE\n",
    "    f.city = 'Chicago' AND\n",
    "    f.favorite_color = m.sweater_color;"
   ]
  },
  {
   "cell_type": "markdown",
   "metadata": {
    "deletable": true,
    "editable": true
   },
   "source": [
    "# SQL Syntax in Detail\n",
    "\n",
    "**Key nouns:**\n",
    "    - \"Relational\" database\n",
    "    - Table\n",
    "    - Row\n",
    "    - Column\n",
    "    - (Primary key)\n",
    "\n",
    "**Key verbs:**\n",
    "    - `CREATE TABLE` / `DROP TABLE` to modify the structure of the database\n",
    "    - `SELECT` to read out some rows\n",
    "    - `INSERT` / `UPDATE` / `DELETE` to modify (or delete) some rows of tables\n",
    "\n",
    "**Key modifiers:**\n",
    "    - `WHERE`: impose condition\n",
    "    - `ORDER BY`: sort\n",
    "    - `GROUP BY`: aggregate (e.g. pivot tables in Excel)\n",
    "    - `JOIN`: combining tables in one query"
   ]
  },
  {
   "cell_type": "markdown",
   "metadata": {
    "deletable": true,
    "editable": true
   },
   "source": [
    "## Creating a Table\n",
    "\n",
    "You create a table using the syntax\n",
    "\n",
    "```SQL\n",
    "CREATE TABLE tb ([schema])\n",
    "```\n",
    "\n",
    "We can insert rows by using the syntax\n",
    "\n",
    "```SQL\n",
    "INSERT INTO tb ([column]) VALUES ([values]);\n",
    "```\n",
    "\n",
    "**Gotchas:**\n",
    " - For strings you 'must' use single quotes.  (SQLite and MySQL don't care.  Postgres does.)\n",
    " - The primary key is required to uniquely specify a row.  If you do not specify it when you insert an item (and you usually don't) a new unique key will be assigned to you.  If you try to insert a primary key value that already exists for the table, you will get an error.\n",
    " - While not necessarily required, it's a good idea to preceded table creation by table deletion:\n",
    "\n",
    "```SQL\n",
    "DROP TABLE IF EXISTS tb\n",
    "```\n",
    " \n",
    "Below are some examples: we'll worry about the details later."
   ]
  },
  {
   "cell_type": "code",
   "execution_count": null,
   "metadata": {
    "collapsed": true,
    "deletable": true,
    "editable": true
   },
   "outputs": [],
   "source": [
    "%%sql\n",
    "-- This table demonstrates how to create a table, insert values, and display results\n",
    "    \n",
    "DROP TABLE IF EXISTS Employees1;\n",
    "CREATE TABLE Employees1 (\n",
    "    employee_id INTEGER PRIMARY KEY,\n",
    "    name TEXT,\n",
    "    age FLOAT\n",
    ");\n",
    "\n",
    "INSERT INTO Employees1 (name, age) VALUES ('Bob', 2.);\n",
    "INSERT INTO Employees1 (age, name) VALUES (1., 'John');\n",
    "INSERT INTO Employees1 (employee_id, age, name) VALUES (4, 3., 'Jack');\n",
    "\n",
    "SELECT * FROM Employees1;"
   ]
  },
  {
   "cell_type": "markdown",
   "metadata": {
    "deletable": true,
    "editable": true
   },
   "source": [
    "## Schemas\n",
    "SQL is a typed language (if it can be called a language).  That means that its tables have a **schema** or a description of the structure of a database (tables, rows, etc.).  Each column of a table must specify its **type** and a few other attributes.  The basic types are:\n",
    "\n",
    "- `INTEGER` (or `INT`): integer-valued numeric data\n",
    "- `FLOAT`: non-integer numeric data\n",
    "- `TEXT`: strings or textual data\n",
    "- `DATE`: a date object\n",
    "\n",
    "Columns can have optional attributes:\n",
    "\n",
    "- `NOT NULL`: column values can always be null (not specified).  `NOT NULL` forces the table to be specified.\n",
    "- `DEFAULT`: specify the default value in this column."
   ]
  },
  {
   "cell_type": "code",
   "execution_count": null,
   "metadata": {
    "collapsed": true,
    "deletable": true,
    "editable": true
   },
   "outputs": [],
   "source": []
  },
  {
   "cell_type": "code",
   "execution_count": null,
   "metadata": {
    "collapsed": true,
    "deletable": true,
    "editable": true
   },
   "outputs": [],
   "source": [
    "%%sql\n",
    "-- This table demonstrates optional values\n",
    "    \n",
    "DROP TABLE IF EXISTS Employees1;\n",
    "CREATE TABLE Employees1 (\n",
    "    employee_id INTEGER PRIMARY KEY,\n",
    "    name TEXT NOT NULL,\n",
    "    age FLOAT\n",
    ");\n",
    "\n",
    "INSERT INTO Employees1 (name) VALUES ('Bob');\n",
    "INSERT INTO Employees1 (name, age) VALUES ('Jack', 3.14);\n",
    "\n",
    "SELECT * FROM Employees1;"
   ]
  },
  {
   "cell_type": "code",
   "execution_count": null,
   "metadata": {
    "collapsed": true,
    "deletable": true,
    "editable": true
   },
   "outputs": [],
   "source": [
    "%%sql\n",
    "-- This table demonstrates non-optional values\n",
    "    \n",
    "DROP TABLE IF EXISTS Employees2;\n",
    "CREATE TABLE Employees2 (\n",
    "    employee_id INTEGER PRIMARY KEY,\n",
    "    name TEXT NOT NULL,\n",
    "    age FLOAT DEFAULT -1.\n",
    ");\n",
    "\n",
    "INSERT INTO Employees2 (name) VALUES ('Bob');\n",
    "INSERT INTO Employees2 (name, age) VALUES ('Jack', 3.14);\n",
    "\n",
    "SELECT * from Employees2;"
   ]
  },
  {
   "cell_type": "markdown",
   "metadata": {
    "deletable": true,
    "editable": true
   },
   "source": [
    "## Multiple Tables and the Relational Data Model\n",
    "\n",
    "The database consists of:\n",
    " - **Tables**: Employees, Tasks, and Assignments.  \n",
    "      > Each table represents a different kind of \"relation\" between bits of data.\n",
    "    \n",
    " - Each of the tables has many **rows** (sometimes called \"relations\").  For instance, each row of the `Employees` table represents information about a single employee:  \n",
    " \n",
    "      > Elements of a single column are _homogeneous_ (of the same kind, or data type) but apply to _different logical entities_.\n",
    "      \n",
    " - The information about a single employee is spread amongst the **columns** of the table:\n",
    " \n",
    "      > Elements of a single row are _heterogeneous_ but apply to _a single logical entity_.\n",
    "      \n",
    " - It is good practice to be able to specify each row of each table by a **primary key**: that is by some column, or small combination of columns, that uniquely specifies the row.  The columns `employee_id`, `task_id`, and `assignment_id` are all of this type.  This way, if you want to refer to this row in another table you can do it succinctly by this primary key.  SQL enforces uniqueness of the primary key.\n",
    "      \n",
    "**Examples:** here are some examples of \"relations\" (rows) that occur in practice:\n",
    "1. Storing one-to-one pieces of data for some sort of object: i.e. for each employee we store one name and one phone number; for each project we store one deadline and one description\n",
    "1. Storing one-to-many or many-to-many bits of data: i.e. if we needed to be able to store _many_ phone numbers for each employee, we'd have a new table `Employee_Phone_Numbers` with columns `employee_id` and `phone_number` (the two together can be a _composite primary key_).\n",
    "    \n",
    "**Anti-examples:** alternate, but **worse**, ways to do it would be: \n",
    "\n",
    "1. Adding columns to the `Employees` table for `phone_number_1` to `phone_number_10`.  This is bad because it makes it hard to query against the phone numbers and is inflexible if you want to change the number of phone numbers.  In the _object oriented_ or _key-value_ you could simply make phone_numbers a list or array, and all would be well -- this is not available in the relational model. \n",
    "1. Having the `Employee_Phone_Numbers` table duplicate the employee name and other information.  This is bad because duplication of information across tables wastes space and can lead to update errors.\n",
    "   "
   ]
  },
  {
   "cell_type": "code",
   "execution_count": null,
   "metadata": {
    "collapsed": true,
    "deletable": true,
    "editable": true
   },
   "outputs": [],
   "source": [
    "%%sql\n",
    "DROP TABLE IF EXISTS Employees;\n",
    "CREATE TABLE Employees (\n",
    "    employee_id INTEGER PRIMARY KEY,\n",
    "    name TEXT NOT NULL,\n",
    "    hire_date DATE NOT NULL,\n",
    "    title TEXT NOT NULL,\n",
    "    phone_number TEXT NOT NULL\n",
    ");\n",
    "\n",
    "INSERT INTO Employees VALUES (1, 'Jenny Smith', '2010-12-1', 'Chief Music Office', '867-5309');\n",
    "INSERT INTO Employees (title, name, phone_number, hire_date) VALUES ('CEO', 'John Doe', '555-1234', '2011-12-1');\n",
    "INSERT INTO Employees (title, name, phone_number, hire_date) VALUES ('Worker', 'Worker Bee 1', '555-1201', '2012-12-01');\n",
    "INSERT INTO Employees (title, name, phone_number, hire_date) VALUES ('Worker', 'Worker Bee 2', '555-1202', '2012-12-03');\n",
    "INSERT INTO Employees (title, name, phone_number, hire_date) VALUES ('Worker', 'Worker Bee 3', '555-1203', '2012-12-05');\n",
    "INSERT INTO Employees (title, name, phone_number, hire_date) VALUES ('Worker', 'Worker Bee 4', '555-1204', '2012-12-07');\n",
    "\n",
    "SELECT * FROM Employees;"
   ]
  },
  {
   "cell_type": "code",
   "execution_count": null,
   "metadata": {
    "collapsed": true,
    "deletable": true,
    "editable": true
   },
   "outputs": [],
   "source": [
    "%%sql\n",
    "DROP TABLE IF EXISTS Tasks;\n",
    "CREATE TABLE Tasks (\n",
    "    task_id INTEGER PRIMARY KEY,\n",
    "    deadline DATE NOT NULL,\n",
    "    status INT NOT NULL DEFAULT 0,\n",
    "    description TEXT\n",
    ");\n",
    "\n",
    "INSERT INTO Tasks (deadline, description, status) VALUES ('2012-12-11', 'Hire worker bees.', 1);\n",
    "INSERT INTO Tasks (deadline, description) VALUES ('2014-07-18', 'Save the world.');\n",
    "INSERT INTO Tasks (deadline, description, status) VALUES ('2014-12-11', 'Cost cutting on worker bees.', 0);\n",
    "\n",
    "SELECT * FROM Tasks;"
   ]
  },
  {
   "cell_type": "code",
   "execution_count": null,
   "metadata": {
    "collapsed": true,
    "deletable": true,
    "editable": true
   },
   "outputs": [],
   "source": [
    "%%sql\n",
    "DROP TABLE IF EXISTS Assignments;\n",
    "CREATE TABLE Assignments (\n",
    "    assignment_id INTEGER PRIMARY KEY,\n",
    "    task_id INTEGER NOT NULL,\n",
    "    employee_id INTEGER NOT NULL,\n",
    "    start_date DATE NOT NULL,\n",
    "    end_date DATE NOT NULL,\n",
    "    charge_code TEXT NOT NULL,  -- This should probably be its own table!\n",
    "    fraction_assignment REAL NOT NULL\n",
    ");\n",
    "\n",
    "INSERT INTO Assignments (task_id, employee_id, start_date, end_date, fraction_assignment, charge_code) VALUES (1, 2, '2012-01-01', '2012-12-31', 0.5, 'INTERNAL');\n",
    "INSERT INTO Assignments (task_id, employee_id, start_date, end_date, fraction_assignment, charge_code) VALUES (2, 3, '2013-01-01', '2014-07-18', 1.0, 'CJX5');\n",
    "INSERT INTO Assignments (task_id, employee_id, start_date, end_date, fraction_assignment, charge_code) VALUES (2, 4, '2013-01-01', '2014-07-18', 1.0, 'CJX5');\n",
    "INSERT INTO Assignments (task_id, employee_id, start_date, end_date, fraction_assignment, charge_code) VALUES (2, 5, '2013-01-01', '2014-07-18', 1.0, 'CJX5');\n",
    "INSERT INTO Assignments (task_id, employee_id, start_date, end_date, fraction_assignment, charge_code) VALUES (2, 6, '2013-01-01', '2014-07-18', 1.0, 'CJX5');\n",
    "INSERT INTO Assignments (task_id, employee_id, start_date, end_date, fraction_assignment, charge_code) VALUES (2, 2, '2013-01-01', '2014-07-18', 0.75, 'CJX5');\n",
    "INSERT INTO Assignments (task_id, employee_id, start_date, end_date, fraction_assignment, charge_code) VALUES (3, 2, '2013-01-01', '2014-07-18', 0.25, 'INTERNAL');\n",
    "\n",
    "SELECT * FROM Assignments;"
   ]
  },
  {
   "cell_type": "code",
   "execution_count": null,
   "metadata": {
    "collapsed": true,
    "deletable": true,
    "editable": true
   },
   "outputs": [],
   "source": [
    "%%sql\n",
    "\n",
    "DROP TABLE IF EXISTS Pension_Choices;\n",
    "CREATE TABLE Pension_Choices (\n",
    "    pension_id INTEGER PRIMARY KEY,\n",
    "    employee_id INTEGER NOT NULL, \n",
    "    plan_name TEXT NOT NULL,\n",
    "    funding_amount INTEGER NOT NULL);\n",
    "\n",
    "INSERT INTO Pension_Choices (employee_id, plan_name, funding_amount) VALUES (3, 'Retirement Plan A', '3000');\n",
    "INSERT INTO Pension_Choices (employee_id, plan_name, funding_amount) VALUES (4, 'Retirement Plan A', '5000');\n",
    "INSERT INTO Pension_Choices (employee_id, plan_name, funding_amount) VALUES (5, 'Retirement Plan B', '5000');\n",
    "INSERT INTO Pension_Choices (employee_id, plan_name, funding_amount) VALUES (6, 'Retirement Plan B', '1000');\n",
    "\n",
    "SELECT * FROM Pension_Choices;"
   ]
  },
  {
   "cell_type": "markdown",
   "metadata": {
    "deletable": true,
    "editable": true
   },
   "source": [
    "## Selecting data\n",
    "The basic way to read rows from a single table is\n",
    "\n",
    "```SQL\n",
    "SELECT expression1, expression2, ... FROM table_name [WHERE condition] [GROUP BY columns] [ORDER BY columns] [LIMIT number];\n",
    "```\n",
    "\n",
    "Brackets denote parts which are optional.  We'll explain everything except for `GROUP BY`.  Let us explain the parts:\n",
    "   1. __\"Expressions\": __\n",
    "   \n",
    "   The basic example is just a column name.  Another example is the placeholder `*`: it indicates _all_ columns.  You can also perform arithmetic (e.g. `column_1 + column_2`) and similar minor operations.\n",
    "\n",
    "   1. __`WHERE` (\"condition\"):__\n",
    "   \n",
    "   An example would be `column_name = value`, and for partial string matches there is a special operator `LIKE`.  You can combine these with the usual binary operators (AND, OR) and parentheses for grouping.\n",
    "\n",
    "   1. __`ORDER BY` (sorting):__\n",
    "   \n",
    "   You can add a `SORT BY column_name1, column_name2, ...` to sort the results by the given column (applied in left-to-right order).  By default the sorting is ascending.  If you want it to be descending write e.g. `column_name1 DESC` (you can also write `ASC` for ascending to disambiguate).\n",
    "   \n",
    "   1. __`GROUP BY`:__\n",
    "   \n",
    "   Aggregation control - sets the column(s) that are used to control which elements become the new, unique \"keys\" of the new table\n",
    " \n",
    "   1. __`LIMIT`:__\n",
    "   \n",
    "   If you want to just get at most the first N rows that would be returned, add on `LIMIT N`.\n",
    "   \n",
    "   1. __`AS` (named expressions):__\n",
    "   \n",
    "   You can specify new names for the expressions that you're selecting.  This is especially useful when you're using aggregate functions: \n",
    "```SQL\n",
    "SELECT SUM(salary) as 'Total Salary' FROM ...\n",
    "```\n",
    "  \n",
    "Finally two remarks: SQL is not case sensitive.  It is just common to use all-caps for the commands, and normal case for table / column names.  It is also whitespace and new-line insensitive, so you can format your commands on multiple lines as you please.\n",
    "\n",
    "\n",
    "Now for a bunch of examples:"
   ]
  },
  {
   "cell_type": "code",
   "execution_count": null,
   "metadata": {
    "collapsed": true,
    "deletable": true,
    "editable": true
   },
   "outputs": [],
   "source": [
    "%%sql\n",
    "\n",
    "SELECT\n",
    "    count(*) as Count\n",
    "FROM\n",
    "    Tasks\n",
    "WHERE\n",
    "    status=0;"
   ]
  },
  {
   "cell_type": "code",
   "execution_count": null,
   "metadata": {
    "collapsed": true,
    "deletable": true,
    "editable": true
   },
   "outputs": [],
   "source": [
    "%%sql\n",
    "\n",
    "SELECT\n",
    "    assignment_id,\n",
    "    julianday(end_date) - julianday(start_date) AS duration\n",
    "FROM\n",
    "    Assignments\n",
    "WHERE\n",
    "    employee_id=2;"
   ]
  },
  {
   "cell_type": "markdown",
   "metadata": {
    "deletable": true,
    "editable": true
   },
   "source": [
    "## CASE WHEN\n",
    "\n",
    "Another useful structure that can be an alternative to `WHERE` statements is the `CASE WHEN` command. It essentially operates as a switch statement where you can specify multiple conditions and different outcomes for each condition."
   ]
  },
  {
   "cell_type": "code",
   "execution_count": null,
   "metadata": {
    "collapsed": true,
    "deletable": true,
    "editable": true
   },
   "outputs": [],
   "source": [
    "%%sql\n",
    "\n",
    "SELECT\n",
    "    assignment_id, CASE\n",
    "        WHEN julianday(end_date) - julianday(start_date) < 365 THEN \"months\"\n",
    "        WHEN julianday(end_date) - julianday(start_date) > 365 THEN \"years\"\n",
    "        ELSE \"one year\"\n",
    "        END \"length\"\n",
    "FROM Assignments;"
   ]
  },
  {
   "cell_type": "markdown",
   "metadata": {
    "deletable": true,
    "editable": true
   },
   "source": [
    "## Groupby (aggregation)\n",
    "   \n",
    "Finally, dd a `GROUP BY column_name1, ...` term to aggregate the results along the listed columns.   This means that for _other_ columns you mention in the expressions you must explicitly specify an _aggregate method_ (e.g. `SUM(column_1)`).\n",
    "   \n",
    "   You can use these aggregate methods even without a GROUP BY, to get information for the whole table: e.g.\n",
    "  ```SQL \n",
    "SELECT COUNT(1), SUM(salary) FROM employees GROUP BY department;\n",
    "   ```\n",
    "   returns the number of employees and their total salary by department.  Below are some more examples"
   ]
  },
  {
   "cell_type": "code",
   "execution_count": null,
   "metadata": {
    "collapsed": true,
    "deletable": true,
    "editable": true
   },
   "outputs": [],
   "source": [
    "%%sql\n",
    "\n",
    "SELECT plan_name, count(1), sum(funding_amount) FROM Pension_choices GROUP BY plan_name"
   ]
  },
  {
   "cell_type": "code",
   "execution_count": null,
   "metadata": {
    "collapsed": true,
    "deletable": true,
    "editable": true
   },
   "outputs": [],
   "source": [
    "%%sql\n",
    "\n",
    "SELECT\n",
    "    task_id,\n",
    "    SUM((julianday(end_date) - julianday(start_date))*fraction_assignment) as Total_Worker_Days\n",
    "FROM\n",
    "    Assignments\n",
    "GROUP BY task_id\n",
    "ORDER BY Total_Worker_Days DESC;"
   ]
  },
  {
   "cell_type": "markdown",
   "metadata": {
    "deletable": true,
    "editable": true
   },
   "source": [
    "## Combining tables: Joins and subqueries\n",
    "\n",
    "It's pretty boring to only use one table.  We can combine data from multiple tables in two main ways: joins and subqueries.\n",
    "\n",
    "**Nicknames:**\n",
    "\n",
    "There's a common bit of syntax involved in each: you can write\n",
    "\n",
    "    table_name name\n",
    "    \n",
    "or\n",
    "    \n",
    "    table_name AS name\n",
    "\n",
    "to say that table `table_name` is going to participate in this query with a \"nickname\" of name.  Then, to refer to one of its columns you write\n",
    "\n",
    "    name.column_name\n",
    "\n",
    "You could also have not given it the nickname, and then you could've written `table_name.column_name`... but that gets old fast.  Also, in some fancy examples the same table enters into a query twice -- at which point you need to name them.\n",
    "\n",
    "\n",
    "**Subqueries:**\n",
    "It turns out that both the expressions you were SELECTing __and__ the \"table\" you were selecting FROM can be subqueries (__and__ quantities in WHEREs)!  Let's just see it by example:"
   ]
  },
  {
   "cell_type": "code",
   "execution_count": 4,
   "metadata": {
    "collapsed": false,
    "deletable": true,
    "editable": true
   },
   "outputs": [
    {
     "name": "stdout",
     "output_type": "stream",
     "text": [
      "(sqlite3.OperationalError) no such table: Assignments [SQL: u'SELECT a.task_id, \\n    (SELECT description \\n     FROM Tasks t WHERE t.task_id=a.task_id) as description, \\n    SUM((julianday(a.end_date) - julianday(a.start_date)) \\n                * a.fraction_assignment) as Total_Worker_Days\\n    FROM Assignments a\\n    GROUP BY a.task_id\\n    ORDER BY Total_Worker_Days DESC;']\n"
     ]
    }
   ],
   "source": [
    "%%sql\n",
    "\n",
    "SELECT a.task_id, \n",
    "    (SELECT description \n",
    "     FROM Tasks t WHERE t.task_id=a.task_id) as description, \n",
    "    SUM((julianday(a.end_date) - julianday(a.start_date)) \n",
    "                * a.fraction_assignment) as Total_Worker_Days\n",
    "    FROM Assignments a\n",
    "    GROUP BY a.task_id\n",
    "    ORDER BY Total_Worker_Days DESC;"
   ]
  },
  {
   "cell_type": "code",
   "execution_count": null,
   "metadata": {
    "collapsed": true,
    "deletable": true,
    "editable": true
   },
   "outputs": [],
   "source": [
    "%%sql\n",
    "\n",
    "SELECT ad.task_id, ad.Total_Worker_Days \n",
    "    FROM (SELECT task_id, SUM((julianday(end_date) - julianday(start_date))*fraction_assignment) as Total_Worker_Days\n",
    "            FROM Assignments\n",
    "            GROUP BY task_id\n",
    "            ORDER BY Total_Worker_Days DESC) as ad\n",
    "    WHERE ad.task_id=(SELECT task_id FROM Tasks WHERE description LIKE 'Save%');"
   ]
  },
  {
   "cell_type": "markdown",
   "metadata": {
    "deletable": true,
    "editable": true
   },
   "source": [
    "**Joins:**\n",
    "Many things that can be expressed by a subquery can be expressed more clearly (and will often run faster) as a `join`.   \n",
    "\n",
    "The basic idea of joins is to imagine taking the _product_ of your two tables: i.e. a row is now an ordered pair of a row of table 1 and a row of table 2.  You could -- of course -- do this and make it its own table, but the ability to write JOINs means that you don't have to waste the storage space and risk un-needed duplication of data.\n",
    "\n",
    "The join in the previous paragraph is called the full or outer join, because there are no conditions.  In practice, you'll want to take the subset of the product where some condition holds (i.e. \"join\" the two tables along a common id column).  This can be expressed pretty much exactly as I just said, in SQL:\n",
    "    \n",
    "```SQL\n",
    "       SELECT * FROM table1, table2\n",
    "                WHERE table1.column_name1 = table2.column_name2;\n",
    "```\n",
    "\n",
    "In SQL terms, this is called an `INNER JOIN`: You do not get a row in the result of the SELECT unless you can match a row in table 1 with a match in table 2 along the given columns.  There is alternate syntax for it:\n",
    "```SQL\n",
    "SELECT * FROM table1\n",
    "        INNER JOIN table2\n",
    "        ON table1.column_name1=table2.column_name2;\n",
    "```"
   ]
  },
  {
   "cell_type": "code",
   "execution_count": null,
   "metadata": {
    "collapsed": true,
    "deletable": true,
    "editable": true
   },
   "outputs": [],
   "source": [
    "%%sql\n",
    "\n",
    "SELECT a.*, t.* \n",
    "  FROM Assignments a, Tasks t \n",
    "  WHERE a.task_id=t.task_id \n",
    "    AND employee_id=2 \n",
    "    AND status=0\n",
    "  ORDER BY t.deadline;"
   ]
  },
  {
   "cell_type": "markdown",
   "metadata": {
    "deletable": true,
    "editable": true
   },
   "source": [
    "## UNION and UNION ALL\n",
    "\n",
    "These commands are used for joining data row-wise either between tables or within the same table. In general, the syntax looks like `(SELECT statement) UNION (SELECT STATEMENT)` where both SELECT statements have the same columns.\n",
    "\n",
    "You can imagine that this can be used for both filtering and aggregation of records.\n",
    "\n",
    "The difference between UNION and UNION ALL is that the former removes duplicate records (and therefore is more expensive performance-wise) and the latter does not."
   ]
  },
  {
   "cell_type": "code",
   "execution_count": null,
   "metadata": {
    "collapsed": true,
    "deletable": true,
    "editable": true
   },
   "outputs": [],
   "source": [
    "%%sql\n",
    "\n",
    "SELECT task_id, employee_id FROM Assignments WHERE employee_id = 2\n",
    "UNION ALL\n",
    "SELECT task_id, employee_id FROM Assignments WHERE employee_id = 4;"
   ]
  },
  {
   "cell_type": "markdown",
   "metadata": {
    "deletable": true,
    "editable": true
   },
   "source": [
    "### Further reading\n",
    "\n",
    "SQL:\n",
    "- http://www.w3schools.com/sql/default.asp (and http://www.w3schools.com/sql/sql_quickref.asp)\n",
    "\n",
    "Relational databases and the normal forms:\n",
    "- http://en.wikipedia.org/wiki/Database_normalization#Normal_forms"
   ]
  },
  {
   "cell_type": "markdown",
   "metadata": {
    "deletable": true,
    "editable": true
   },
   "source": [
    "## Modifying tables\n",
    "\n",
    "There are also queries of the form\n",
    "\n",
    "        DELETE FROM table_name [WHERE condition]\n",
    "        \n",
    "        UPDATE table_name SET column_name1=value [WHERE condition];\n",
    "\n",
    "that delete / modify rows as you might expect.  You can combine both of these with inner queries (and in Postgres, you can combine UPDATE with JOINs) for interesting effects.\n",
    "\n",
    "To modify columns there are commands of the form\n",
    "\n",
    "        ALTER TABLE table_name DROP COLUMN column_name;        \n",
    "        ALTER TABLE table_name ADD COLUMN column_name column_type;\n",
    "        \n",
    "for instance\n",
    "\n",
    "        ALTER TABLE Employees DROP COLUMN phone_number;\n",
    "        ALTER TABLE Employees ADD COLUMN salary INT;"
   ]
  },
  {
   "cell_type": "markdown",
   "metadata": {
    "deletable": true,
    "editable": true
   },
   "source": [
    "## More about SQLite"
   ]
  },
  {
   "cell_type": "markdown",
   "metadata": {
    "deletable": true,
    "editable": true
   },
   "source": [
    "If you want to use SQL and don't have too much data (less than a few gigs at a time), you can use `sqlite3`.  It's already installed on DigitalOcean, is easy to use, and has excellent (and lenient) support for importing and exporting CSV.\n",
    "\n",
    "The following commands do not work through the Jupyter notebook. You will need to open a terminal and run this command to start the interactive sqlite application.\n",
    "\n",
    "    $sqlite3 testdb.sqlite\n",
    "\n",
    "You will then be presented the sqlite command prompt.\n",
    "\n",
    "### Importing CSV\n",
    "To import tables to CSV:\n",
    ">    \n",
    "    .mode csv\n",
    "    .import tasks.csv Tasks\n",
    "    .import employees.csv Employees\n",
    "    .import assignments.csv Assignments\n",
    "\n",
    "Note that we didn't have to specify the schema ahead of time (though we might want to).  SQLite will take column names from the CSV header line, and will make all fields have type TEXT and be NULLable.\n",
    "\n",
    "### Exporting to CSV\n",
    "And to export:\n",
    ">           \n",
    "    .mode csv\n",
    "    .headers on\n",
    "    .output tasks.csv\n",
    "    SELECT * FROM Tasks;\n",
    "    .output employees.csv\n",
    "    SELECT * FROM Employees;\n",
    "    .output assignments.csv\n",
    "    SELECT * FROM Assignments;        \n",
    "\n",
    "### Listing tables / table schema\n",
    ">      \n",
    "    .tables\n",
    "    .schema Tasks"
   ]
  },
  {
   "cell_type": "markdown",
   "metadata": {
    "deletable": true,
    "editable": true
   },
   "source": [
    "## Creating SQL Tables with Pandas: A Shortcut\n",
    "\n",
    "Pandas is awesome in many ways, and one of them is its ability to create database tables for you. If you have a DataFrame and a database connection, it will write the SQL CREATE statements to build the table schema and insert all of the rows. It works like this."
   ]
  },
  {
   "cell_type": "code",
   "execution_count": null,
   "metadata": {
    "collapsed": true,
    "deletable": true,
    "editable": true
   },
   "outputs": [],
   "source": [
    "import sqlite3\n",
    "\n",
    "# sample data\n",
    "fha_by_tract = pd.read_csv('small_data/2013_Gaz_tracts_national.tsv', sep='\\t')\n",
    "fha_by_tract.columns = [c.strip() for c in fha_by_tract.columns]\n",
    "\n",
    "# create db connection\n",
    "conn = sqlite3.connect('testdb.sqlite')\n",
    "\n",
    "# create a database table with the proper types to match the DataFrame types and insert all of the rows.\n",
    "fha_by_tract.to_sql('gaz_tracts', conn, if_exists='replace', index=False)"
   ]
  },
  {
   "cell_type": "markdown",
   "metadata": {
    "deletable": true,
    "editable": true
   },
   "source": [
    "That's it. If you have a DataFrame and like it, you can make a database table out of it.\n",
    "\n",
    "Now we can verify the table exists and has data."
   ]
  },
  {
   "cell_type": "code",
   "execution_count": null,
   "metadata": {
    "collapsed": true,
    "deletable": true,
    "editable": true
   },
   "outputs": [],
   "source": [
    "%%sql\n",
    "\n",
    "SELECT * FROM gaz_tracts LIMIT 10;"
   ]
  },
  {
   "cell_type": "markdown",
   "metadata": {
    "deletable": true,
    "editable": true
   },
   "source": [
    "You can also retrieve the data using the `sqlite3` connection we created. Rows are retrieved as tuples."
   ]
  },
  {
   "cell_type": "code",
   "execution_count": null,
   "metadata": {
    "collapsed": true,
    "deletable": true,
    "editable": true
   },
   "outputs": [],
   "source": [
    "cursor = conn.cursor()\n",
    "\n",
    "cursor.execute(\"SELECT * FROM gaz_tracts LIMIT 10\")\n",
    "\n",
    "for row in cursor.fetchall():\n",
    "    print row"
   ]
  },
  {
   "cell_type": "markdown",
   "metadata": {
    "deletable": true,
    "editable": true
   },
   "source": [
    "## Another choice: Postgresql"
   ]
  },
  {
   "cell_type": "markdown",
   "metadata": {
    "deletable": true,
    "editable": true
   },
   "source": [
    "### Quick facts\n",
    "\n",
    "**Running a server:**\n",
    "- On your DO droplets, once you install postgres it will automatically set up the server to run in the background on startup.  The actual database files are hidden somewhere inside of `/var`.\n",
    "\n",
    "- Alternatively, you can run a \"local\" postgres server whose data lies in a specific directory and on a specific port:\n",
    "\n",
    ">         initdb dir/\n",
    ">         postgres [-p 8765] -D dir/\n",
    "\n",
    "(You may want to specify a custom port that is not my made up 8765 -- the default is __5432__.)\n",
    "\n",
    "**Quick start guide:**\n",
    "After the above is done and you're running a postgres server locally, just do\n",
    "\n",
    "         createdb [-p 8765] my_db_name\n",
    "\n",
    "to create a new database.  When you're done with it\n",
    "\n",
    "        dropdb --if-exists [-p 8765] my_db_name\n",
    "\n",
    "To get a command-line console for running commands against your database, just run\n",
    "\n",
    "        psql [-p 8765] my_db_name\n",
    "\n",
    "(If it's running on the standard port, you don't need to specify the `-p 8765`.)\n",
    "\n",
    "By default, this will all use a user named for your Unix username -- for the system Postgres install, this user (\"role\" in Postgres terms) was created when setting up your droplet.\n",
    "\n",
    "**Postgres-specific basics:**\n",
    "To list all tables or find out info about a table do:\n",
    "\n",
    "        \\d\n",
    "        \\d table_name\n",
    "\n",
    "**Importing (CSV) data:**\n",
    "If your data is pretty clean, the `\\COPY` special command should do it\n",
    "\n",
    "        \\COPY table_name FROM 'path/to/my/file.csv' WITH CSV DELIMITER ',' NULL AS '';\n",
    "        \n",
    "**Exporting (CSV) data:** You can use `\\COPY` in both directions\n",
    "        \n",
    "        \\COPY table_name TO 'path/to/my/file.csv' WITH DELIMITER ',' CSV HEADER;"
   ]
  },
  {
   "cell_type": "markdown",
   "metadata": {
    "deletable": true,
    "editable": true
   },
   "source": [
    "## SQL integration in Python\n",
    "\n",
    "The most common usage mode for you will be importing / exporting to CSV, or working interactively through `sqlite3` / `psql`.\n",
    "\n",
    "You can also interact between Python and SQL.  We've been doing it throughout this whole notebook using the `%sql` magic.  There are also libraries for doing it less magically\n",
    "\n",
    " - `psycopg2` for communicating with Postgres\n",
    " - `sqlalchemy` for communicating with most anything, and some fancy ORM tricks"
   ]
  },
  {
   "cell_type": "markdown",
   "metadata": {
    "deletable": true,
    "editable": true
   },
   "source": [
    "### What to use?\n",
    "-------------\n",
    "\n",
    "**SQLite:**\n",
    "-------------\n",
    "_In short:_ Use this if your data is smallish (several GB max) and you want to do some SQL-based processing, _and_ if you know ahead of time that you will not need to do operations in parallel. Probably the preferred choice for mini-projects.\n",
    "\n",
    "**Pros**\n",
    " - It operates on a single flat file on disk, which you can treat like any other file -- copy, scp, rename, etc.\n",
    " - It is a single small executable, comes pre-installed on many things, and doesn't require running a server.\n",
    " - Extensible (by C code).  It's open source and is small enough to be easy to modify it / write extension modules in C.\n",
    " - It has a quick and permissive (of errors) CSV loader, and doesn't stress correctness of schemas.\n",
    "\n",
    "**Cons**\n",
    " - It lacks some useful \"advanced\" features (in particular, JOINs in UPDATEs have to be faked via subqueries and/or temporary tables).  The workarounds are generally slower than the \"right\" approach would be.\n",
    " - It's not multi-user.  If you're running a long-running computation, you can't do anything else with it."
   ]
  },
  {
   "cell_type": "markdown",
   "metadata": {
    "deletable": true,
    "editable": true
   },
   "source": [
    "**Postgresql:**\n",
    "----------------\n",
    "_In short:_  The premier free \"real\" RDBMS (i.e. SQL-type database).  Use it if you need SQL semantics and have more than several GB of data or need multi-user / multi-process access.  \n",
    "[Exception: If you have lots of data and do lots of easily parallelizable tasks, and will be running either on a cluster on a machine that fits your data in RAM, you may be better off with a specialized SQL-like system: e.g. Hive, Shark, MemSQL (commercial).]\n",
    "\n",
    "**Pros**\n",
    " - Excellent support of SQL features, good performance and `\"EXPLAIN ...\"` for seeing query plans and tweaking performance.\n",
    " - Several nice SQL extensions: JSON-column support, and `Postgis` for GIS-based geographical data types and queries.\n",
    " - Extensible (in a variety of languages, _including Python_).\n",
    " \n",
    "**Cons**\n",
    " - You have to run a server.\n",
    " - The CSV loader is quick on correct data, but simply doesn't accept malformed data.  Does stress correctness of schemas."
   ]
  },
  {
   "cell_type": "markdown",
   "metadata": {
    "deletable": true,
    "editable": true
   },
   "source": [
    " **Other options:**\n",
    " ------------------\n",
    " - *If your data is small enough to fit _comfortably_ into memory:* \n",
    " \n",
    "   You can get by with something like `pandas` which allows for much quicker visualization and has better built in statistical support.  (There is also support for running SQL queries against pandas.  It uses sqlite behind the scenes -- beware that doing this has a performance cost over just using sqlite originally.)\n",
    " - *If you have have *lots* of data (i.e. more than any one machine you have can store on disk) or if you want to perform a task that calls for cross-machine parallelization (e.g. it makes sense to run on Hadoop):*\n",
    " \n",
    "   There are specialized SQL-like databases made for this, notably `Hive` which is built on top of Hadoop.  (Also: `Shark` and `Impala` which do the same thing with different size and performance characteristics.)\n",
    " - *If your data set is large, but you happen to have a _very_ beefy sever (or a cluster of them) with enough RAM to fit it all:*\n",
    " \n",
    "  There are SQL-like databases optimized for in-memory use, including `MemSQL` and also modes of `Shark` and `Impala` mentioned above."
   ]
  },
  {
   "cell_type": "markdown",
   "metadata": {
    "collapsed": true,
    "deletable": true,
    "editable": true
   },
   "source": [
    "### Exercises\n",
    "\n",
    "1. Find a CSV file somewhere on the Internet that contains data that interests you. Put the data into a table in sqlite.\n",
    "1. Query the data in a meaningful way and comment on the results."
   ]
  },
  {
   "cell_type": "markdown",
   "metadata": {
    "collapsed": true,
    "deletable": true,
    "editable": true
   },
   "source": [
    "### Exit Tickets\n",
    "\n",
    "1. What is a Database?\n",
    "1. What are the differences and similarities between sqlite and postgresql?\n",
    "1. What are the keywords in SQL syntax? Which keywords do you expect to use the most often?"
   ]
  },
  {
   "cell_type": "markdown",
   "metadata": {
    "deletable": true,
    "editable": true
   },
   "source": [
    "*Copyright &copy; 2016 The Data Incubator.  All rights reserved.*"
   ]
  }
 ],
 "metadata": {
  "kernelspec": {
   "display_name": "Python 2",
   "language": "python",
   "name": "python2"
  },
  "language_info": {
   "codemirror_mode": {
    "name": "ipython",
    "version": 2
   },
   "file_extension": ".py",
   "mimetype": "text/x-python",
   "name": "python",
   "nbconvert_exporter": "python",
   "pygments_lexer": "ipython2",
   "version": "2.7.13"
  }
 },
 "nbformat": 4,
 "nbformat_minor": 1
}
