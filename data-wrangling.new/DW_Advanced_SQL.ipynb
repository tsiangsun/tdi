{
 "cells": [
  {
   "cell_type": "code",
   "execution_count": null,
   "metadata": {
    "collapsed": true,
    "deletable": true,
    "editable": true
   },
   "outputs": [],
   "source": [
    "%matplotlib inline\n",
    "import matplotlib\n",
    "import seaborn as sns\n",
    "matplotlib.rcParams['savefig.dpi'] = 144"
   ]
  },
  {
   "cell_type": "code",
   "execution_count": 1,
   "metadata": {
    "collapsed": true,
    "deletable": true,
    "editable": true
   },
   "outputs": [],
   "source": [
    "%matplotlib inline\n",
    "import matplotlib\n",
    "import seaborn as sns\n",
    "matplotlib.rcParams['savefig.dpi'] = 144\n",
    "\n",
    "import pandas as pd"
   ]
  },
  {
   "cell_type": "markdown",
   "metadata": {
    "deletable": true,
    "editable": true
   },
   "source": [
    "## Advanced SQL\n",
    "\n",
    "As in the `IW_SQL` notebook, we'll be looking at the Structured Query Language (SQL).  Here we'll be extending on what we covered, particularly by looking at table manipulation, views, and sessions v transactions (and locking).\n",
    "\n",
    "Make sure you've created the tables and run the code in `IW_SQL` first!  We'll be re-using the same tables a bit, so we'll be drawing from the same testdb.sqlite file"
   ]
  },
  {
   "cell_type": "code",
   "execution_count": 16,
   "metadata": {
    "collapsed": false,
    "deletable": true,
    "editable": true
   },
   "outputs": [
    {
     "name": "stdout",
     "output_type": "stream",
     "text": [
      "The sql extension is already loaded. To reload it, use:\n",
      "  %reload_ext sql\n"
     ]
    },
    {
     "data": {
      "text/plain": [
       "u'Connected: None@testdb.sqlite'"
      ]
     },
     "execution_count": 16,
     "metadata": {},
     "output_type": "execute_result"
    }
   ],
   "source": [
    "%load_ext sql\n",
    "%sql sqlite:///testdb.sqlite"
   ]
  },
  {
   "cell_type": "code",
   "execution_count": 17,
   "metadata": {
    "collapsed": false,
    "deletable": true,
    "editable": true
   },
   "outputs": [
    {
     "name": "stdout",
     "output_type": "stream",
     "text": [
      "Done.\n"
     ]
    },
    {
     "data": {
      "text/html": [
       "<table>\n",
       "    <tr>\n",
       "        <th>type</th>\n",
       "        <th>name</th>\n",
       "        <th>tbl_name</th>\n",
       "        <th>rootpage</th>\n",
       "        <th>sql</th>\n",
       "    </tr>\n",
       "    <tr>\n",
       "        <td>table</td>\n",
       "        <td>friends</td>\n",
       "        <td>friends</td>\n",
       "        <td>2</td>\n",
       "        <td>CREATE TABLE friends (<br>    idx               INTEGER PRIMARY KEY AUTOINCREMENT NOT NULL,<br>    name              TEXT NOT NULL,<br>    city              TEXT NOT NULL,<br>    favorite_color    TEXT<br>)</td>\n",
       "    </tr>\n",
       "    <tr>\n",
       "        <td>table</td>\n",
       "        <td>sqlite_sequence</td>\n",
       "        <td>sqlite_sequence</td>\n",
       "        <td>3</td>\n",
       "        <td>CREATE TABLE sqlite_sequence(name,seq)</td>\n",
       "    </tr>\n",
       "    <tr>\n",
       "        <td>table</td>\n",
       "        <td>merchandise</td>\n",
       "        <td>merchandise</td>\n",
       "        <td>4</td>\n",
       "        <td>CREATE TABLE merchandise (<br>    sweater_color     TEXT NOT NULL,<br>    price             NUMBER NOT NULL<br>)</td>\n",
       "    </tr>\n",
       "</table>"
      ],
      "text/plain": [
       "[(u'table', u'friends', u'friends', 2, u'CREATE TABLE friends (\\n    idx               INTEGER PRIMARY KEY AUTOINCREMENT NOT NULL,\\n    name              TEXT NOT NULL,\\n    city              TEXT NOT NULL,\\n    favorite_color    TEXT\\n)'),\n",
       " (u'table', u'sqlite_sequence', u'sqlite_sequence', 3, u'CREATE TABLE sqlite_sequence(name,seq)'),\n",
       " (u'table', u'merchandise', u'merchandise', 4, u'CREATE TABLE merchandise (\\n    sweater_color     TEXT NOT NULL,\\n    price             NUMBER NOT NULL\\n)')]"
      ]
     },
     "execution_count": 17,
     "metadata": {},
     "output_type": "execute_result"
    }
   ],
   "source": [
    "%%sql\n",
    "\n",
    "--#This is sqlite specific, it's different for every flavor of SQL\n",
    "SELECT * FROM sqlite_master WHERE type='table';"
   ]
  },
  {
   "cell_type": "markdown",
   "metadata": {
    "collapsed": true,
    "deletable": true,
    "editable": true
   },
   "source": [
    "At this point, it would be good to review the `IW_SQL` notebook.  Particularly, JOINs, UNIONs, and subqueries, as they are common points of confusion.\n",
    "\n",
    "### Sessions and transactions\n",
    "\n",
    "When you connect to an SQL database, you create a _session_.  You can think of this just like an ssh session - you log in/connect, you can change things around, run commands, and as long as you don't save them they'll be lost when you log out/disconnect.  Also, usually any admin changes made to the database (changing table permissions, etc) won't affect your session until you disconnect and reconnect.\n",
    "\n",
    "A session consists of a number of _transactions_.  These are atomic blocks of SQL commands.  These are equivalent to our cells in the jupyter notebook, in that they're run together as a unit.  However, in most SQL setups, they actually extend over multiple commands you send to the database until you either `COMMIT` or `ROLLBACK`.  COMMIT saves all your changes and makes them \"permanent\" in the database, while ROLLBACK resets the database state to what it was before your transaction block.  In this sense, every transaction maintains a state in the database, so changes that someone else makes *while* a transaction is running won't be visible.  We don't need them here in Jupyter since it defaults to autocommit - every cell is treated as a single transaction with an implied `COMMIT` at the end.\n",
    "\n",
    "One might imagine any number of scenarios where this could be a problem - two people trying to alter the same table, for example.  The DB management software is pretty smart and serializes changes in such a way that they make sense, but you can occasionally run in to problems and a table can _lock_ - the session will freeze while it waits for conflicting changes to resolve.  Very similar to a race condition or a mutex lock.  Generally at that point the DB Admin has to fix it, or you can try to ROLLBACK your changes.\n",
    "\n",
    "Easy to serialize:\n",
    "- SELECT\n",
    "- INSERT\n",
    "\n",
    "Hard to serialize, can lead to conflicts:\n",
    "- UPDATE\n",
    "- DELETE\n",
    "- ALTER TABLE, DROP TABLE, etc.\n"
   ]
  },
  {
   "cell_type": "markdown",
   "metadata": {
    "deletable": true,
    "editable": true
   },
   "source": [
    "### Manipulating tables\n",
    "\n",
    "Let's look at manipulating tables - we'll look at this for temporary tables, as this is most likely what you'll be doing as someone analyzing data, but to do it for a real table is identical (save for the changes in the CREATE statement)."
   ]
  },
  {
   "cell_type": "code",
   "execution_count": 22,
   "metadata": {
    "collapsed": false,
    "deletable": true,
    "editable": true,
    "scrolled": true
   },
   "outputs": [
    {
     "name": "stdout",
     "output_type": "stream",
     "text": [
      "Done.\n",
      "Done.\n",
      "Done.\n",
      "Done.\n"
     ]
    },
    {
     "data": {
      "text/plain": [
       "[]"
      ]
     },
     "execution_count": 22,
     "metadata": {},
     "output_type": "execute_result"
    }
   ],
   "source": [
    "%%sql\n",
    "\n",
    "DROP TABLE IF EXISTS jfriends;\n",
    "\n",
    "/*#Create a table as a selection from another one.  \n",
    "#Of course, selection can be arbitrarily complex*/\n",
    "\n",
    "CREATE TEMP TABLE jfriends AS \n",
    "SELECT * FROM friends WHERE name like 'J%';\n",
    "\n",
    "SELECT * FROM jfriends;\n",
    "\n",
    "\n",
    "/*#-- ROLLBACK; or COMMIT; to cancel or submit the change.*/"
   ]
  },
  {
   "cell_type": "code",
   "execution_count": 13,
   "metadata": {
    "collapsed": false,
    "deletable": true,
    "editable": true
   },
   "outputs": [
    {
     "name": "stdout",
     "output_type": "stream",
     "text": [
      "Done.\n"
     ]
    },
    {
     "data": {
      "text/html": [
       "<table>\n",
       "    <tr>\n",
       "        <th>type</th>\n",
       "        <th>name</th>\n",
       "        <th>tbl_name</th>\n",
       "        <th>rootpage</th>\n",
       "        <th>sql</th>\n",
       "    </tr>\n",
       "    <tr>\n",
       "        <td>table</td>\n",
       "        <td>friends</td>\n",
       "        <td>friends</td>\n",
       "        <td>2</td>\n",
       "        <td>CREATE TABLE friends (<br>    idx               INTEGER PRIMARY KEY AUTOINCREMENT NOT NULL,<br>    name              TEXT NOT NULL,<br>    city              TEXT NOT NULL,<br>    favorite_color    TEXT<br>)</td>\n",
       "    </tr>\n",
       "    <tr>\n",
       "        <td>table</td>\n",
       "        <td>sqlite_sequence</td>\n",
       "        <td>sqlite_sequence</td>\n",
       "        <td>3</td>\n",
       "        <td>CREATE TABLE sqlite_sequence(name,seq)</td>\n",
       "    </tr>\n",
       "    <tr>\n",
       "        <td>table</td>\n",
       "        <td>merchandise</td>\n",
       "        <td>merchandise</td>\n",
       "        <td>4</td>\n",
       "        <td>CREATE TABLE merchandise (<br>    sweater_color     TEXT NOT NULL,<br>    price             NUMBER NOT NULL<br>)</td>\n",
       "    </tr>\n",
       "</table>"
      ],
      "text/plain": [
       "[(u'table', u'friends', u'friends', 2, u'CREATE TABLE friends (\\n    idx               INTEGER PRIMARY KEY AUTOINCREMENT NOT NULL,\\n    name              TEXT NOT NULL,\\n    city              TEXT NOT NULL,\\n    favorite_color    TEXT\\n)'),\n",
       " (u'table', u'sqlite_sequence', u'sqlite_sequence', 3, u'CREATE TABLE sqlite_sequence(name,seq)'),\n",
       " (u'table', u'merchandise', u'merchandise', 4, u'CREATE TABLE merchandise (\\n    sweater_color     TEXT NOT NULL,\\n    price             NUMBER NOT NULL\\n)')]"
      ]
     },
     "execution_count": 13,
     "metadata": {},
     "output_type": "execute_result"
    }
   ],
   "source": [
    "%%sql\n",
    "\n",
    "--#Note that jfriends isn't in the list, it hasn't been persisted.  It will vanish\n",
    "SELECT * FROM sqlite_master WHERE type='table';"
   ]
  },
  {
   "cell_type": "markdown",
   "metadata": {
    "deletable": true,
    "editable": true
   },
   "source": [
    "Question: Why make a temporary table?  What's the strength and weakness?"
   ]
  },
  {
   "cell_type": "code",
   "execution_count": 20,
   "metadata": {
    "collapsed": false,
    "deletable": true,
    "editable": true,
    "scrolled": true
   },
   "outputs": [
    {
     "name": "stdout",
     "output_type": "stream",
     "text": [
      "Done.\n",
      "Done.\n",
      "3 rows affected.\n",
      "Done.\n"
     ]
    },
    {
     "data": {
      "text/html": [
       "<table>\n",
       "    <tr>\n",
       "        <th>name</th>\n",
       "        <th>city</th>\n",
       "        <th>favorite_color</th>\n",
       "    </tr>\n",
       "    <tr>\n",
       "        <td>John</td>\n",
       "        <td>New York</td>\n",
       "        <td>blue</td>\n",
       "    </tr>\n",
       "    <tr>\n",
       "        <td>Jason</td>\n",
       "        <td>Chicago</td>\n",
       "        <td>yellow</td>\n",
       "    </tr>\n",
       "    <tr>\n",
       "        <td>Jason</td>\n",
       "        <td>Dallas</td>\n",
       "        <td>cyan</td>\n",
       "    </tr>\n",
       "</table>"
      ],
      "text/plain": [
       "[(u'John', u'New York', u'blue'),\n",
       " (u'Jason', u'Chicago', u'yellow'),\n",
       " (u'Jason', u'Dallas', u'cyan')]"
      ]
     },
     "execution_count": 20,
     "metadata": {},
     "output_type": "execute_result"
    }
   ],
   "source": [
    "%%sql\n",
    "\n",
    "DROP TABLE IF EXISTS new_friends;\n",
    "\n",
    "CREATE TEMP TABLE new_friends (\n",
    "    name              TEXT NOT NULL,\n",
    "    city              TEXT NOT NULL,\n",
    "    favorite_color    TEXT\n",
    ");\n",
    "\n",
    "INSERT INTO new_friends --(name, city, favorite_color) <- this part is optional\n",
    "SELECT name, city, favorite_color FROM friends WHERE name like 'J%';\n",
    "\n",
    "SELECT * FROM new_friends;"
   ]
  },
  {
   "cell_type": "code",
   "execution_count": 23,
   "metadata": {
    "collapsed": false,
    "deletable": true,
    "editable": true,
    "scrolled": true
   },
   "outputs": [
    {
     "name": "stdout",
     "output_type": "stream",
     "text": [
      "Done.\n",
      "Done.\n",
      "Done.\n"
     ]
    },
    {
     "data": {
      "text/html": [
       "<table>\n",
       "    <tr>\n",
       "        <th>idx</th>\n",
       "        <th>name</th>\n",
       "        <th>city</th>\n",
       "        <th>favorite_color</th>\n",
       "    </tr>\n",
       "</table>"
      ],
      "text/plain": [
       "[]"
      ]
     },
     "execution_count": 23,
     "metadata": {},
     "output_type": "execute_result"
    }
   ],
   "source": [
    "%%sql\n",
    "\n",
    "--#Another option to create a blank table, if we want to keep the structure of an old one\n",
    "DROP TABLE IF EXISTS blank_friends;\n",
    "\n",
    "CREATE TEMP TABLE blank_friends AS\n",
    "SELECT * FROM friends WHERE 1=0;\n",
    "\n",
    "SELECT * FROM blank_friends;"
   ]
  },
  {
   "cell_type": "code",
   "execution_count": 24,
   "metadata": {
    "collapsed": false,
    "deletable": true,
    "editable": true
   },
   "outputs": [
    {
     "name": "stdout",
     "output_type": "stream",
     "text": [
      "Done.\n"
     ]
    },
    {
     "data": {
      "text/html": [
       "<table>\n",
       "    <tr>\n",
       "        <th>cid</th>\n",
       "        <th>name</th>\n",
       "        <th>type</th>\n",
       "        <th>notnull</th>\n",
       "        <th>dflt_value</th>\n",
       "        <th>pk</th>\n",
       "    </tr>\n",
       "    <tr>\n",
       "        <td>0</td>\n",
       "        <td>idx</td>\n",
       "        <td>INT</td>\n",
       "        <td>0</td>\n",
       "        <td>None</td>\n",
       "        <td>0</td>\n",
       "    </tr>\n",
       "    <tr>\n",
       "        <td>1</td>\n",
       "        <td>name</td>\n",
       "        <td>TEXT</td>\n",
       "        <td>0</td>\n",
       "        <td>None</td>\n",
       "        <td>0</td>\n",
       "    </tr>\n",
       "    <tr>\n",
       "        <td>2</td>\n",
       "        <td>city</td>\n",
       "        <td>TEXT</td>\n",
       "        <td>0</td>\n",
       "        <td>None</td>\n",
       "        <td>0</td>\n",
       "    </tr>\n",
       "    <tr>\n",
       "        <td>3</td>\n",
       "        <td>favorite_color</td>\n",
       "        <td>TEXT</td>\n",
       "        <td>0</td>\n",
       "        <td>None</td>\n",
       "        <td>0</td>\n",
       "    </tr>\n",
       "</table>"
      ],
      "text/plain": [
       "[(0, u'idx', u'INT', 0, None, 0),\n",
       " (1, u'name', u'TEXT', 0, None, 0),\n",
       " (2, u'city', u'TEXT', 0, None, 0),\n",
       " (3, u'favorite_color', u'TEXT', 0, None, 0)]"
      ]
     },
     "execution_count": 24,
     "metadata": {},
     "output_type": "execute_result"
    }
   ],
   "source": [
    "%%sql\n",
    "\n",
    "--#This is a bit SQL flavor dependent, check your documentation\n",
    "\n",
    "PRAGMA table_info(blank_friends)"
   ]
  },
  {
   "cell_type": "code",
   "execution_count": 25,
   "metadata": {
    "collapsed": false,
    "deletable": true,
    "editable": true
   },
   "outputs": [
    {
     "name": "stdout",
     "output_type": "stream",
     "text": [
      "Done.\n",
      "2 rows affected.\n",
      "Done.\n"
     ]
    },
    {
     "data": {
      "text/html": [
       "<table>\n",
       "    <tr>\n",
       "        <th>name</th>\n",
       "        <th>city</th>\n",
       "        <th>favorite_color</th>\n",
       "    </tr>\n",
       "    <tr>\n",
       "        <td>Mary</td>\n",
       "        <td>Austin</td>\n",
       "        <td>None</td>\n",
       "    </tr>\n",
       "    <tr>\n",
       "        <td>Brian</td>\n",
       "        <td>Houston</td>\n",
       "        <td>None</td>\n",
       "    </tr>\n",
       "</table>"
      ],
      "text/plain": [
       "[(u'Mary', u'Austin', None), (u'Brian', u'Houston', None)]"
      ]
     },
     "execution_count": 25,
     "metadata": {},
     "output_type": "execute_result"
    }
   ],
   "source": [
    "%%sql\n",
    "\n",
    "--#Let's get rid of the J names, and put some new friends in the table\n",
    "\n",
    "--# This works in some SQL flavors, but not sqlite: TRUNCATE TABLE new_friends;\n",
    "\n",
    "--#You can of course put any WHERE statement there, but this one wipes the whole table\n",
    "--#Technically, the DELETE FROM new_friends; does the same thing\n",
    "DELETE FROM new_friends WHERE 1 = 1;\n",
    "\n",
    "INSERT INTO new_friends VALUES ('Mary', 'Austin', NULL), ('Brian', 'Houston', NULL);\n",
    "\n",
    "SELECT * FROM new_friends;"
   ]
  },
  {
   "cell_type": "code",
   "execution_count": 26,
   "metadata": {
    "collapsed": false,
    "deletable": true,
    "editable": true
   },
   "outputs": [
    {
     "name": "stdout",
     "output_type": "stream",
     "text": [
      "Done.\n",
      "Done.\n"
     ]
    },
    {
     "data": {
      "text/html": [
       "<table>\n",
       "    <tr>\n",
       "        <th>name</th>\n",
       "        <th>city</th>\n",
       "        <th>favorite_color</th>\n",
       "    </tr>\n",
       "    <tr>\n",
       "        <td>Mary</td>\n",
       "        <td>Austin</td>\n",
       "        <td>Blue</td>\n",
       "    </tr>\n",
       "    <tr>\n",
       "        <td>Brian</td>\n",
       "        <td>Houston</td>\n",
       "        <td>None</td>\n",
       "    </tr>\n",
       "</table>"
      ],
      "text/plain": [
       "[(u'Mary', u'Austin', u'Blue'), (u'Brian', u'Houston', None)]"
      ]
     },
     "execution_count": 26,
     "metadata": {},
     "output_type": "execute_result"
    }
   ],
   "source": [
    "%%sql\n",
    "\n",
    "--#Let's say Mary decided on a favorite color.  Let's update the table correspondingly\n",
    "UPDATE new_friends SET favorite_color = 'Blue' WHERE name = 'Mary';\n",
    "\n",
    "SELECT * FROM new_friends;"
   ]
  },
  {
   "cell_type": "code",
   "execution_count": 28,
   "metadata": {
    "collapsed": false
   },
   "outputs": [
    {
     "name": "stdout",
     "output_type": "stream",
     "text": [
      "Done.\n"
     ]
    },
    {
     "data": {
      "text/html": [
       "<table>\n",
       "    <tr>\n",
       "        <th>idx</th>\n",
       "        <th>name</th>\n",
       "        <th>city</th>\n",
       "        <th>favorite_color</th>\n",
       "    </tr>\n",
       "    <tr>\n",
       "        <td>1</td>\n",
       "        <td>John</td>\n",
       "        <td>New York</td>\n",
       "        <td>blue</td>\n",
       "    </tr>\n",
       "    <tr>\n",
       "        <td>2</td>\n",
       "        <td>Jason</td>\n",
       "        <td>Chicago</td>\n",
       "        <td>yellow</td>\n",
       "    </tr>\n",
       "    <tr>\n",
       "        <td>3</td>\n",
       "        <td>Mary</td>\n",
       "        <td>Washington DC</td>\n",
       "        <td>blue</td>\n",
       "    </tr>\n",
       "    <tr>\n",
       "        <td>4</td>\n",
       "        <td>Jason</td>\n",
       "        <td>Dallas</td>\n",
       "        <td>cyan</td>\n",
       "    </tr>\n",
       "    <tr>\n",
       "        <td>5</td>\n",
       "        <td>Susan</td>\n",
       "        <td>Seattle</td>\n",
       "        <td>green</td>\n",
       "    </tr>\n",
       "    <tr>\n",
       "        <td>6</td>\n",
       "        <td>Beatrice</td>\n",
       "        <td>Chicago</td>\n",
       "        <td>violet</td>\n",
       "    </tr>\n",
       "</table>"
      ],
      "text/plain": [
       "[(1, u'John', u'New York', u'blue'),\n",
       " (2, u'Jason', u'Chicago', u'yellow'),\n",
       " (3, u'Mary', u'Washington DC', u'blue'),\n",
       " (4, u'Jason', u'Dallas', u'cyan'),\n",
       " (5, u'Susan', u'Seattle', u'green'),\n",
       " (6, u'Beatrice', u'Chicago', u'violet')]"
      ]
     },
     "execution_count": 28,
     "metadata": {},
     "output_type": "execute_result"
    }
   ],
   "source": [
    "%%sql\n",
    "SELECT * FROM friends;"
   ]
  },
  {
   "cell_type": "markdown",
   "metadata": {
    "deletable": true,
    "editable": true
   },
   "source": [
    "### Views\n",
    "\n",
    "A view is a saved SQL query, that you can treat as a table.  It's \"live\", in the sense that it reflects changes to the underlying table.  They can be permanent or temporary, just like a table."
   ]
  },
  {
   "cell_type": "code",
   "execution_count": 34,
   "metadata": {
    "collapsed": false,
    "deletable": true,
    "editable": true
   },
   "outputs": [
    {
     "name": "stdout",
     "output_type": "stream",
     "text": [
      "(sqlite3.OperationalError) table jfriends_view already exists [SQL: u\"CREATE VIEW jfriends_view AS SELECT * FROM friends WHERE name like 'J%';\"]\n"
     ]
    }
   ],
   "source": [
    "%%sql\n",
    "\n",
    "CREATE VIEW jfriends_view AS SELECT * FROM friends WHERE name like 'J%';"
   ]
  },
  {
   "cell_type": "code",
   "execution_count": 37,
   "metadata": {
    "collapsed": false,
    "deletable": true,
    "editable": true
   },
   "outputs": [
    {
     "name": "stdout",
     "output_type": "stream",
     "text": [
      "Done.\n"
     ]
    },
    {
     "data": {
      "text/html": [
       "<table>\n",
       "    <tr>\n",
       "        <th>idx</th>\n",
       "        <th>name</th>\n",
       "        <th>city</th>\n",
       "        <th>favorite_color</th>\n",
       "    </tr>\n",
       "    <tr>\n",
       "        <td>1</td>\n",
       "        <td>John</td>\n",
       "        <td>New York</td>\n",
       "        <td>blue</td>\n",
       "    </tr>\n",
       "    <tr>\n",
       "        <td>2</td>\n",
       "        <td>Jason</td>\n",
       "        <td>Chicago</td>\n",
       "        <td>yellow</td>\n",
       "    </tr>\n",
       "    <tr>\n",
       "        <td>4</td>\n",
       "        <td>Jason</td>\n",
       "        <td>Dallas</td>\n",
       "        <td>cyan</td>\n",
       "    </tr>\n",
       "    <tr>\n",
       "        <td>7</td>\n",
       "        <td>Joe</td>\n",
       "        <td>New York</td>\n",
       "        <td>Red</td>\n",
       "    </tr>\n",
       "    <tr>\n",
       "        <td>8</td>\n",
       "        <td>Joe</td>\n",
       "        <td>New York</td>\n",
       "        <td>Red</td>\n",
       "    </tr>\n",
       "</table>"
      ],
      "text/plain": [
       "[(1, u'John', u'New York', u'blue'),\n",
       " (2, u'Jason', u'Chicago', u'yellow'),\n",
       " (4, u'Jason', u'Dallas', u'cyan'),\n",
       " (7, u'Joe', u'New York', u'Red'),\n",
       " (8, u'Joe', u'New York', u'Red')]"
      ]
     },
     "execution_count": 37,
     "metadata": {},
     "output_type": "execute_result"
    }
   ],
   "source": [
    "%%sql\n",
    "\n",
    "--#same content as jfriends\n",
    "\n",
    "SELECT * FROM jfriends_view;"
   ]
  },
  {
   "cell_type": "code",
   "execution_count": 36,
   "metadata": {
    "collapsed": false,
    "deletable": true,
    "editable": true
   },
   "outputs": [
    {
     "name": "stdout",
     "output_type": "stream",
     "text": [
      "1 rows affected.\n"
     ]
    },
    {
     "data": {
      "text/plain": [
       "[]"
      ]
     },
     "execution_count": 36,
     "metadata": {},
     "output_type": "execute_result"
    }
   ],
   "source": [
    "%%sql\n",
    "\n",
    "INSERT INTO friends (name, city, favorite_color) VALUES ('Joe', 'New York', 'Red');"
   ]
  },
  {
   "cell_type": "code",
   "execution_count": 32,
   "metadata": {
    "collapsed": false,
    "deletable": true,
    "editable": true,
    "scrolled": true
   },
   "outputs": [
    {
     "name": "stdout",
     "output_type": "stream",
     "text": [
      "Done.\n"
     ]
    },
    {
     "data": {
      "text/html": [
       "<table>\n",
       "    <tr>\n",
       "        <th>idx</th>\n",
       "        <th>name</th>\n",
       "        <th>city</th>\n",
       "        <th>favorite_color</th>\n",
       "    </tr>\n",
       "    <tr>\n",
       "        <td>1</td>\n",
       "        <td>John</td>\n",
       "        <td>New York</td>\n",
       "        <td>blue</td>\n",
       "    </tr>\n",
       "    <tr>\n",
       "        <td>2</td>\n",
       "        <td>Jason</td>\n",
       "        <td>Chicago</td>\n",
       "        <td>yellow</td>\n",
       "    </tr>\n",
       "    <tr>\n",
       "        <td>4</td>\n",
       "        <td>Jason</td>\n",
       "        <td>Dallas</td>\n",
       "        <td>cyan</td>\n",
       "    </tr>\n",
       "    <tr>\n",
       "        <td>7</td>\n",
       "        <td>Joe</td>\n",
       "        <td>New York</td>\n",
       "        <td>Red</td>\n",
       "    </tr>\n",
       "</table>"
      ],
      "text/plain": [
       "[(1, u'John', u'New York', u'blue'),\n",
       " (2, u'Jason', u'Chicago', u'yellow'),\n",
       " (4, u'Jason', u'Dallas', u'cyan'),\n",
       " (7, u'Joe', u'New York', u'Red')]"
      ]
     },
     "execution_count": 32,
     "metadata": {},
     "output_type": "execute_result"
    }
   ],
   "source": [
    "%%sql\n",
    "\n",
    "SELECT * FROM jfriends_view;"
   ]
  },
  {
   "cell_type": "code",
   "execution_count": 33,
   "metadata": {
    "collapsed": false,
    "deletable": true,
    "editable": true,
    "scrolled": true
   },
   "outputs": [
    {
     "name": "stdout",
     "output_type": "stream",
     "text": [
      "Done.\n"
     ]
    },
    {
     "data": {
      "text/html": [
       "<table>\n",
       "    <tr>\n",
       "        <th>idx</th>\n",
       "        <th>name</th>\n",
       "        <th>city</th>\n",
       "        <th>favorite_color</th>\n",
       "    </tr>\n",
       "    <tr>\n",
       "        <td>1</td>\n",
       "        <td>John</td>\n",
       "        <td>New York</td>\n",
       "        <td>blue</td>\n",
       "    </tr>\n",
       "    <tr>\n",
       "        <td>2</td>\n",
       "        <td>Jason</td>\n",
       "        <td>Chicago</td>\n",
       "        <td>yellow</td>\n",
       "    </tr>\n",
       "    <tr>\n",
       "        <td>4</td>\n",
       "        <td>Jason</td>\n",
       "        <td>Dallas</td>\n",
       "        <td>cyan</td>\n",
       "    </tr>\n",
       "</table>"
      ],
      "text/plain": [
       "[(1, u'John', u'New York', u'blue'),\n",
       " (2, u'Jason', u'Chicago', u'yellow'),\n",
       " (4, u'Jason', u'Dallas', u'cyan')]"
      ]
     },
     "execution_count": 33,
     "metadata": {},
     "output_type": "execute_result"
    }
   ],
   "source": [
    "%%sql\n",
    "\n",
    "SELECT * FROM jfriends;"
   ]
  },
  {
   "cell_type": "markdown",
   "metadata": {
    "deletable": true,
    "editable": true
   },
   "source": [
    "Question: What is the benefit and drawback of a view?  When might you want to have a permanent view in the database?"
   ]
  },
  {
   "cell_type": "markdown",
   "metadata": {
    "deletable": true,
    "editable": true
   },
   "source": [
    "### A few odds and ends\n",
    "\n",
    "In IW_SQL, we neglected to cover a few useful topics.  They may have been mentioned in class, but are not written down.  They are:\n",
    "\n",
    "- DISTINCT, COUNT(DISTINCT ...)\n",
    "- HAVING\n",
    "- WITH\n",
    "- Dealing with NULLs\n",
    "- UDFs (these are very SQL flavor specific, but should be mentioned)"
   ]
  },
  {
   "cell_type": "code",
   "execution_count": 38,
   "metadata": {
    "collapsed": false,
    "deletable": true,
    "editable": true
   },
   "outputs": [
    {
     "name": "stdout",
     "output_type": "stream",
     "text": [
      "Done.\n"
     ]
    },
    {
     "data": {
      "text/html": [
       "<table>\n",
       "    <tr>\n",
       "        <th>name</th>\n",
       "    </tr>\n",
       "    <tr>\n",
       "        <td>John</td>\n",
       "    </tr>\n",
       "    <tr>\n",
       "        <td>Jason</td>\n",
       "    </tr>\n",
       "    <tr>\n",
       "        <td>Mary</td>\n",
       "    </tr>\n",
       "    <tr>\n",
       "        <td>Susan</td>\n",
       "    </tr>\n",
       "    <tr>\n",
       "        <td>Beatrice</td>\n",
       "    </tr>\n",
       "    <tr>\n",
       "        <td>Joe</td>\n",
       "    </tr>\n",
       "</table>"
      ],
      "text/plain": [
       "[(u'John',), (u'Jason',), (u'Mary',), (u'Susan',), (u'Beatrice',), (u'Joe',)]"
      ]
     },
     "execution_count": 38,
     "metadata": {},
     "output_type": "execute_result"
    }
   ],
   "source": [
    "%%sql\n",
    "\n",
    "--#DISTINCT does exactly what you think it does\n",
    "SELECT DISTINCT name FROM friends;"
   ]
  },
  {
   "cell_type": "code",
   "execution_count": 39,
   "metadata": {
    "collapsed": false,
    "deletable": true,
    "editable": true
   },
   "outputs": [
    {
     "name": "stdout",
     "output_type": "stream",
     "text": [
      "Done.\n"
     ]
    },
    {
     "data": {
      "text/html": [
       "<table>\n",
       "    <tr>\n",
       "        <th>num_cities</th>\n",
       "    </tr>\n",
       "    <tr>\n",
       "        <td>5</td>\n",
       "    </tr>\n",
       "</table>"
      ],
      "text/plain": [
       "[(5,)]"
      ]
     },
     "execution_count": 39,
     "metadata": {},
     "output_type": "execute_result"
    }
   ],
   "source": [
    "%%sql\n",
    "\n",
    "--#COUNT(DISTINCT col_name) can be very useful\n",
    "SELECT COUNT(DISTINCT city) AS num_cities FROM friends;"
   ]
  },
  {
   "cell_type": "code",
   "execution_count": 40,
   "metadata": {
    "collapsed": false,
    "deletable": true,
    "editable": true
   },
   "outputs": [
    {
     "name": "stdout",
     "output_type": "stream",
     "text": [
      "Done.\n"
     ]
    },
    {
     "data": {
      "text/html": [
       "<table>\n",
       "    <tr>\n",
       "        <th>city</th>\n",
       "        <th>friends</th>\n",
       "    </tr>\n",
       "    <tr>\n",
       "        <td>Chicago</td>\n",
       "        <td>2</td>\n",
       "    </tr>\n",
       "    <tr>\n",
       "        <td>New York</td>\n",
       "        <td>3</td>\n",
       "    </tr>\n",
       "</table>"
      ],
      "text/plain": [
       "[(u'Chicago', 2), (u'New York', 3)]"
      ]
     },
     "execution_count": 40,
     "metadata": {},
     "output_type": "execute_result"
    }
   ],
   "source": [
    "%%sql\n",
    "\n",
    "--#Having is just the GROUP BY equivalent of WHERE.  Note it doesn't respect column aliases\n",
    "SELECT city, count(name) as friends FROM friends GROUP BY city HAVING count(name) > 1;"
   ]
  },
  {
   "cell_type": "markdown",
   "metadata": {
    "deletable": true,
    "editable": true
   },
   "source": [
    "`WITH` is another way of handling subqueries.  It only allows relatively simple ones, but makes everything much cleaner"
   ]
  },
  {
   "cell_type": "code",
   "execution_count": 41,
   "metadata": {
    "collapsed": false,
    "deletable": true,
    "editable": true
   },
   "outputs": [
    {
     "name": "stdout",
     "output_type": "stream",
     "text": [
      "Done.\n",
      "Done.\n"
     ]
    },
    {
     "data": {
      "text/html": [
       "<table>\n",
       "    <tr>\n",
       "        <th>sweater_color</th>\n",
       "        <th>price</th>\n",
       "    </tr>\n",
       "    <tr>\n",
       "        <td>red</td>\n",
       "        <td>59.99</td>\n",
       "    </tr>\n",
       "    <tr>\n",
       "        <td>yellow</td>\n",
       "        <td>49.99</td>\n",
       "    </tr>\n",
       "    <tr>\n",
       "        <td>blue</td>\n",
       "        <td>79.99</td>\n",
       "    </tr>\n",
       "    <tr>\n",
       "        <td>violet</td>\n",
       "        <td>89.99</td>\n",
       "    </tr>\n",
       "    <tr>\n",
       "        <td>red</td>\n",
       "        <td>39.99</td>\n",
       "    </tr>\n",
       "    <tr>\n",
       "        <td>blue</td>\n",
       "        <td>59.99</td>\n",
       "    </tr>\n",
       "</table>"
      ],
      "text/plain": [
       "[(u'red', 59.99),\n",
       " (u'yellow', 49.99),\n",
       " (u'blue', 79.99),\n",
       " (u'violet', 89.99),\n",
       " (u'red', 39.99),\n",
       " (u'blue', 59.99)]"
      ]
     },
     "execution_count": 41,
     "metadata": {},
     "output_type": "execute_result"
    }
   ],
   "source": [
    "%%sql\n",
    "\n",
    "--#Let's add some more sweater prices\n",
    "\n",
    "INSERT INTO merchandise VALUES ('red', 39.99), ('blue', 59.99);\n",
    "\n",
    "select * from merchandise"
   ]
  },
  {
   "cell_type": "code",
   "execution_count": 42,
   "metadata": {
    "collapsed": false,
    "deletable": true,
    "editable": true
   },
   "outputs": [
    {
     "name": "stdout",
     "output_type": "stream",
     "text": [
      "Done.\n"
     ]
    },
    {
     "data": {
      "text/html": [
       "<table>\n",
       "    <tr>\n",
       "        <th>idx</th>\n",
       "        <th>name</th>\n",
       "        <th>city</th>\n",
       "        <th>favorite_color</th>\n",
       "    </tr>\n",
       "    <tr>\n",
       "        <td>1</td>\n",
       "        <td>John</td>\n",
       "        <td>New York</td>\n",
       "        <td>blue</td>\n",
       "    </tr>\n",
       "    <tr>\n",
       "        <td>2</td>\n",
       "        <td>Jason</td>\n",
       "        <td>Chicago</td>\n",
       "        <td>yellow</td>\n",
       "    </tr>\n",
       "    <tr>\n",
       "        <td>3</td>\n",
       "        <td>Mary</td>\n",
       "        <td>Washington DC</td>\n",
       "        <td>blue</td>\n",
       "    </tr>\n",
       "    <tr>\n",
       "        <td>4</td>\n",
       "        <td>Jason</td>\n",
       "        <td>Dallas</td>\n",
       "        <td>cyan</td>\n",
       "    </tr>\n",
       "    <tr>\n",
       "        <td>5</td>\n",
       "        <td>Susan</td>\n",
       "        <td>Seattle</td>\n",
       "        <td>green</td>\n",
       "    </tr>\n",
       "    <tr>\n",
       "        <td>6</td>\n",
       "        <td>Beatrice</td>\n",
       "        <td>Chicago</td>\n",
       "        <td>violet</td>\n",
       "    </tr>\n",
       "    <tr>\n",
       "        <td>7</td>\n",
       "        <td>Joe</td>\n",
       "        <td>New York</td>\n",
       "        <td>Red</td>\n",
       "    </tr>\n",
       "    <tr>\n",
       "        <td>8</td>\n",
       "        <td>Joe</td>\n",
       "        <td>New York</td>\n",
       "        <td>Red</td>\n",
       "    </tr>\n",
       "</table>"
      ],
      "text/plain": [
       "[(1, u'John', u'New York', u'blue'),\n",
       " (2, u'Jason', u'Chicago', u'yellow'),\n",
       " (3, u'Mary', u'Washington DC', u'blue'),\n",
       " (4, u'Jason', u'Dallas', u'cyan'),\n",
       " (5, u'Susan', u'Seattle', u'green'),\n",
       " (6, u'Beatrice', u'Chicago', u'violet'),\n",
       " (7, u'Joe', u'New York', u'Red'),\n",
       " (8, u'Joe', u'New York', u'Red')]"
      ]
     },
     "execution_count": 42,
     "metadata": {},
     "output_type": "execute_result"
    }
   ],
   "source": [
    "%%sql\n",
    "\n",
    "select * from friends"
   ]
  },
  {
   "cell_type": "code",
   "execution_count": 46,
   "metadata": {
    "collapsed": false
   },
   "outputs": [
    {
     "ename": "SyntaxError",
     "evalue": "invalid syntax (<ipython-input-46-b793622628d1>, line 1)",
     "output_type": "error",
     "traceback": [
      "\u001b[0;36m  File \u001b[0;32m\"<ipython-input-46-b793622628d1>\"\u001b[0;36m, line \u001b[0;32m1\u001b[0m\n\u001b[0;31m    UPDATE friends SET favorite_color = NULL WHERE name == \"John\"\u001b[0m\n\u001b[0m                 ^\u001b[0m\n\u001b[0;31mSyntaxError\u001b[0m\u001b[0;31m:\u001b[0m invalid syntax\n"
     ]
    }
   ],
   "source": [
    "UPDATE friends SET favorite_color = NULL WHERE name = \"John\""
   ]
  },
  {
   "cell_type": "code",
   "execution_count": 43,
   "metadata": {
    "collapsed": false,
    "deletable": true,
    "editable": true
   },
   "outputs": [
    {
     "name": "stdout",
     "output_type": "stream",
     "text": [
      "Done.\n"
     ]
    },
    {
     "data": {
      "text/html": [
       "<table>\n",
       "    <tr>\n",
       "        <th>name</th>\n",
       "        <th>city</th>\n",
       "        <th>color</th>\n",
       "        <th>price</th>\n",
       "    </tr>\n",
       "    <tr>\n",
       "        <td>John</td>\n",
       "        <td>New York</td>\n",
       "        <td>blue</td>\n",
       "        <td>59.99</td>\n",
       "    </tr>\n",
       "    <tr>\n",
       "        <td>Jason</td>\n",
       "        <td>Chicago</td>\n",
       "        <td>yellow</td>\n",
       "        <td>49.99</td>\n",
       "    </tr>\n",
       "    <tr>\n",
       "        <td>Mary</td>\n",
       "        <td>Washington DC</td>\n",
       "        <td>blue</td>\n",
       "        <td>59.99</td>\n",
       "    </tr>\n",
       "    <tr>\n",
       "        <td>Beatrice</td>\n",
       "        <td>Chicago</td>\n",
       "        <td>violet</td>\n",
       "        <td>89.99</td>\n",
       "    </tr>\n",
       "    <tr>\n",
       "        <td>Joe</td>\n",
       "        <td>New York</td>\n",
       "        <td>red</td>\n",
       "        <td>39.99</td>\n",
       "    </tr>\n",
       "    <tr>\n",
       "        <td>Joe</td>\n",
       "        <td>New York</td>\n",
       "        <td>red</td>\n",
       "        <td>39.99</td>\n",
       "    </tr>\n",
       "</table>"
      ],
      "text/plain": [
       "[(u'John', u'New York', u'blue', 59.99),\n",
       " (u'Jason', u'Chicago', u'yellow', 49.99),\n",
       " (u'Mary', u'Washington DC', u'blue', 59.99),\n",
       " (u'Beatrice', u'Chicago', u'violet', 89.99),\n",
       " (u'Joe', u'New York', u'red', 39.99),\n",
       " (u'Joe', u'New York', u'red', 39.99)]"
      ]
     },
     "execution_count": 43,
     "metadata": {},
     "output_type": "execute_result"
    }
   ],
   "source": [
    "%%sql\n",
    "\n",
    "--#We'll want to get the cheapest variety of each sweater color\n",
    "--#Note that this only returns people that have a sweater color available\n",
    "\n",
    "WITH cheapest AS (SELECT sweater_color, MIN(price) as price \n",
    "                  FROM merchandise GROUP BY 1),\n",
    "lower AS (SELECT name, city, LOWER(favorite_color) as color \n",
    "          FROM friends)\n",
    "SELECT name, city, color, price FROM lower \n",
    "JOIN cheapest ON sweater_color = color;"
   ]
  },
  {
   "cell_type": "markdown",
   "metadata": {
    "deletable": true,
    "editable": true
   },
   "source": [
    "So, in the above, we didn't do anything for people who didn't have a favorite color.  Let's instead give them a default -- the cheapest one available.  We'll use CASE WHEN, which all flavors of SQL have, but many also have COALESCE and similar for dealing with this case."
   ]
  },
  {
   "cell_type": "code",
   "execution_count": 44,
   "metadata": {
    "collapsed": false,
    "deletable": true,
    "editable": true
   },
   "outputs": [
    {
     "name": "stdout",
     "output_type": "stream",
     "text": [
      "Done.\n"
     ]
    },
    {
     "data": {
      "text/html": [
       "<table>\n",
       "    <tr>\n",
       "        <th>name</th>\n",
       "        <th>city</th>\n",
       "        <th>color</th>\n",
       "        <th>price</th>\n",
       "    </tr>\n",
       "    <tr>\n",
       "        <td>John</td>\n",
       "        <td>New York</td>\n",
       "        <td>blue</td>\n",
       "        <td>59.99</td>\n",
       "    </tr>\n",
       "    <tr>\n",
       "        <td>Jason</td>\n",
       "        <td>Chicago</td>\n",
       "        <td>yellow</td>\n",
       "        <td>49.99</td>\n",
       "    </tr>\n",
       "    <tr>\n",
       "        <td>Mary</td>\n",
       "        <td>Washington DC</td>\n",
       "        <td>blue</td>\n",
       "        <td>59.99</td>\n",
       "    </tr>\n",
       "    <tr>\n",
       "        <td>Jason</td>\n",
       "        <td>Dallas</td>\n",
       "        <td>red</td>\n",
       "        <td>39.99</td>\n",
       "    </tr>\n",
       "    <tr>\n",
       "        <td>Susan</td>\n",
       "        <td>Seattle</td>\n",
       "        <td>red</td>\n",
       "        <td>39.99</td>\n",
       "    </tr>\n",
       "    <tr>\n",
       "        <td>Beatrice</td>\n",
       "        <td>Chicago</td>\n",
       "        <td>violet</td>\n",
       "        <td>89.99</td>\n",
       "    </tr>\n",
       "    <tr>\n",
       "        <td>Joe</td>\n",
       "        <td>New York</td>\n",
       "        <td>red</td>\n",
       "        <td>39.99</td>\n",
       "    </tr>\n",
       "    <tr>\n",
       "        <td>Joe</td>\n",
       "        <td>New York</td>\n",
       "        <td>red</td>\n",
       "        <td>39.99</td>\n",
       "    </tr>\n",
       "</table>"
      ],
      "text/plain": [
       "[(u'John', u'New York', u'blue', 59.99),\n",
       " (u'Jason', u'Chicago', u'yellow', 49.99),\n",
       " (u'Mary', u'Washington DC', u'blue', 59.99),\n",
       " (u'Jason', u'Dallas', u'red', 39.99),\n",
       " (u'Susan', u'Seattle', u'red', 39.99),\n",
       " (u'Beatrice', u'Chicago', u'violet', 89.99),\n",
       " (u'Joe', u'New York', u'red', 39.99),\n",
       " (u'Joe', u'New York', u'red', 39.99)]"
      ]
     },
     "execution_count": 44,
     "metadata": {},
     "output_type": "execute_result"
    }
   ],
   "source": [
    "%%sql\n",
    "\n",
    "WITH cheapest_color AS (SELECT sweater_color \n",
    "                        FROM merchandise ORDER BY price LIMIT 1),\n",
    "cheapest AS (SELECT sweater_color, MIN(price) as price \n",
    "             FROM merchandise GROUP BY 1),\n",
    "lower AS (SELECT name, city, \n",
    "          CASE WHEN favorite_color IN (SELECT sweater_color FROM merchandise) \n",
    "          THEN LOWER(favorite_color)\n",
    "          ELSE (SELECT sweater_color FROM cheapest_color) \n",
    "          END AS color FROM friends)\n",
    "SELECT name, city, color, price FROM lower \n",
    "JOIN cheapest ON sweater_color = color;"
   ]
  },
  {
   "cell_type": "markdown",
   "metadata": {
    "deletable": true,
    "editable": true
   },
   "source": [
    "Question: What's the drawback to using WITH instead of a subquery?"
   ]
  },
  {
   "cell_type": "code",
   "execution_count": null,
   "metadata": {
    "collapsed": true,
    "deletable": true,
    "editable": true
   },
   "outputs": [],
   "source": []
  },
  {
   "cell_type": "markdown",
   "metadata": {
    "deletable": true,
    "editable": true
   },
   "source": [
    "*Copyright &copy; 2017 The Data Incubator.  All rights reserved.*"
   ]
  }
 ],
 "metadata": {
  "kernelspec": {
   "display_name": "Python 2",
   "language": "python",
   "name": "python2"
  },
  "language_info": {
   "codemirror_mode": {
    "name": "ipython",
    "version": 2
   },
   "file_extension": ".py",
   "mimetype": "text/x-python",
   "name": "python",
   "nbconvert_exporter": "python",
   "pygments_lexer": "ipython2",
   "version": "2.7.13"
  }
 },
 "nbformat": 4,
 "nbformat_minor": 2
}
