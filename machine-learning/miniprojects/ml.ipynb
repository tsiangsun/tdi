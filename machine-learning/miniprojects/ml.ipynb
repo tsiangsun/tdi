{
 "cells": [
  {
   "cell_type": "code",
   "execution_count": 1,
   "metadata": {
    "collapsed": true,
    "deletable": true,
    "editable": true
   },
   "outputs": [],
   "source": [
    "%matplotlib inline\n",
    "import matplotlib\n",
    "import seaborn as sns\n",
    "matplotlib.rcParams['savefig.dpi'] = 144"
   ]
  },
  {
   "cell_type": "code",
   "execution_count": 2,
   "metadata": {
    "collapsed": false,
    "deletable": true,
    "editable": true
   },
   "outputs": [],
   "source": [
    "import grader"
   ]
  },
  {
   "cell_type": "markdown",
   "metadata": {
    "deletable": true,
    "editable": true
   },
   "source": [
    "# ML: Predicting Star Ratings\n",
    "\n",
    "Our objective is to predict a new venue's popularity from information available when the venue opens.  We will do this by machine learning from a dataset of venue popularities provided by Yelp.  The dataset contains meta data about the venue (where it is located, the type of food served, etc.).  It also contains a star rating. Note that the venues are not limited to restaurants. This tutorial will walk you through one way to build a machine-learning algorithm.\n",
    "\n",
    "## Metric\n",
    "\n",
    "Your model will be assessed based on the root mean squared error of the number of stars you predict.  There is a reference solution (which should not be too hard to beat).  The reference solution has a score of 1. Keeping this in mind...\n",
    "\n",
    "## A note on scoring\n",
    "It **is** possible to score >1 on these questions. This indicates that you've beaten our reference model - we compare our model's score on a test set to your score on a test set. See how high you can go!\n",
    "\n",
    "\n",
    "## Download and parse the incoming data\n",
    "\n",
    "We start by downloading the dataset from Amazon S3:"
   ]
  },
  {
   "cell_type": "code",
   "execution_count": 3,
   "metadata": {
    "collapsed": false,
    "deletable": true,
    "editable": true
   },
   "outputs": [],
   "source": [
    "!aws s3 sync s3://dataincubator-course/mldata/ . --exclude '*' --include 'yelp_train_academic_dataset_business.json.gz'"
   ]
  },
  {
   "cell_type": "markdown",
   "metadata": {
    "deletable": true,
    "editable": true
   },
   "source": [
    "The training data are a series of JSON objects, in a gzipped file. Python supports gzipped files natively: [gzip.open](https://docs.python.org/2/library/gzip.html) has the same interface as `open`, but handles `.gz` files automatically.\n",
    "\n",
    "The built-in json package has a `loads()` function that converts a JSON string into a Python dictionary.  We could call that once for each row of the file. [ujson](http://docs.micropython.org/en/latest/library/ujson.html) has the same interface as the built-in `json` library, but is *substantially* faster (at the cost of non-robust handling of malformed json).  We will use that inside a list comprehension to get a list of dictionaries:"
   ]
  },
  {
   "cell_type": "code",
   "execution_count": 4,
   "metadata": {
    "collapsed": false,
    "deletable": true,
    "editable": true
   },
   "outputs": [],
   "source": [
    "import ujson as json\n",
    "import gzip\n",
    "\n",
    "with gzip.open('yelp_train_academic_dataset_business.json.gz') as f:\n",
    "    data = [json.loads(line) for line in f]"
   ]
  },
  {
   "cell_type": "code",
   "execution_count": 5,
   "metadata": {
    "collapsed": false,
    "deletable": true,
    "editable": true
   },
   "outputs": [
    {
     "data": {
      "text/plain": [
       "{u'attributes': {u'By Appointment Only': True},\n",
       " u'business_id': u'vcNAWiLM4dR7D2nwwJ7nCA',\n",
       " u'categories': [u'Doctors', u'Health & Medical'],\n",
       " u'city': u'Phoenix',\n",
       " u'full_address': u'4840 E Indian School Rd\\nSte 101\\nPhoenix, AZ 85018',\n",
       " u'hours': {u'Friday': {u'close': u'17:00', u'open': u'08:00'},\n",
       "  u'Monday': {u'close': u'17:00', u'open': u'08:00'},\n",
       "  u'Thursday': {u'close': u'17:00', u'open': u'08:00'},\n",
       "  u'Tuesday': {u'close': u'17:00', u'open': u'08:00'},\n",
       "  u'Wednesday': {u'close': u'17:00', u'open': u'08:00'}},\n",
       " u'latitude': 33.499313,\n",
       " u'longitude': -111.983758,\n",
       " u'name': u'Eric Goldberg, MD',\n",
       " u'neighborhoods': [],\n",
       " u'open': True,\n",
       " u'review_count': 7,\n",
       " u'stars': 3.5,\n",
       " u'state': u'AZ',\n",
       " u'type': u'business'}"
      ]
     },
     "execution_count": 5,
     "metadata": {},
     "output_type": "execute_result"
    }
   ],
   "source": [
    "data[0]"
   ]
  },
  {
   "cell_type": "markdown",
   "metadata": {
    "deletable": true,
    "editable": true
   },
   "source": [
    "In Scikit Learn, the labels to be predicted, in this case, the stars, are always kept in a separate data structure than the features.  Let's get in this habit now, by creating a separate list of the ratings:"
   ]
  },
  {
   "cell_type": "code",
   "execution_count": 6,
   "metadata": {
    "collapsed": false,
    "deletable": true,
    "editable": true
   },
   "outputs": [
    {
     "name": "stdout",
     "output_type": "stream",
     "text": [
      "37938\n",
      "[3.5, 4.0, 4.0, 4.5, 4.0, 1.5, 2.0, 2.5, 4.5, 3.5]\n"
     ]
    }
   ],
   "source": [
    "star_ratings = [row['stars'] for row in data]\n",
    "print len(star_ratings)\n",
    "print star_ratings[:10]"
   ]
  },
  {
   "cell_type": "markdown",
   "metadata": {
    "deletable": true,
    "editable": true
   },
   "source": [
    "### Notes:\n",
    "1. [Pandas](http://pandas.pydata.org/) is able to read JSON text directly.  Use the `read_json()` function with the `lines=True` keyword argument.  While the rest of this notebook will assume you are using a list of dictionaries, you can complete it with dataframes, if you so desire.  Some of the example code will need to be modified in this case.\n",
    "\n",
    "2. There are obvious miscodings in the data.  There is no need to try to correct them.\n",
    "\n",
    "## Building models\n",
    "\n",
    "For many of the questions below, you will need to build and train an estimator that predicts the star rating given certain features.  This could be a custom estimator that you built from scratch, but in most cases will be a pipeline containing custom or prebuilt transformers and an existing estimator.  We will give you hints of how to proceed, but the only requirement for you is to produce a model that does as well, or better, than the reference models we created.  You are welcome to do this however you like. The details are up to you.\n",
    "\n",
    "The formats of the input and output to the `fit()` and `predict()` methods are ultimately up to you as well, but we recommend that you deal with lists or arrays, for consistency with the rest of Scikit Learn.  It is also a good idea to take the same type of data for the feature matrix in both `fit()` and `predict()`.  While it is tempting to read the stars from the feature matrix X, you should get in the habit of passing the labels as a separate argument to the `fit()` method.\n",
    "\n",
    "You may find it useful to serialize the trained models to disk.  This will allow to reload it after restarting the Jupyter notebook, without needing to retrain it.  We recommend using the [`dill` library](https://pypi.python.org/pypi/dill) for this (although the [`joblib` library](http://scikit-learn.org/stable/modules/model_persistence.html) also works).  Use\n",
    "```python\n",
    "dill.dump(estimator, open('estimator.dill', 'w'))\n",
    "```\n",
    "to serialize the object `estimator` to the file `estimator.dill`.  If you have trouble with this, try setting the `recurse=True` keyword args in the call of `dill.dump()`.  The estimator can be deserialized by calling\n",
    "```python\n",
    "estimator = dill.load(open('estimator.dill', 'r'))\n",
    "```"
   ]
  },
  {
   "cell_type": "markdown",
   "metadata": {
    "deletable": true,
    "editable": true
   },
   "source": [
    "# Questions\n",
    "\n",
    "Each of the \"model\" questions asks you to create a function that models the number of stars venues will receive.  It will be passed a list of dictionaries.  Each of these will have the same format as the JSON objects you've just read in.  Some of the keys (like the stars!) will have been removed.  This function should return a list of numbers of the same length, indicating the predicted star ratings.\n",
    "\n",
    "This function is passed to the `score()` function, which will receive input from the grader, run your function with that input, report the results back to the grader, and print out the score the grader returned.  Depending on how you constructed your estimator, you may be able to pass the predict method directly to the `score()` function.  If not, you will need to write a small wrapper function to mediate the data types.\n",
    "\n",
    "## city_avg\n",
    "The venues belong to different cities.  You can image that the ratings in some cities are probably higher than others.  We wish to build an estimator to make a prediction based on this, but first we need to work out the *average rating for each city*.  For this problem, create a list of tuples (city name, star rating), one for each city in the dataset.\n",
    "\n",
    "There are many ways to do this; please feel free to experiment on your own.  If you get stuck, the steps below attempt to guide you through the process.\n",
    "\n",
    "A simple approach is to go through all of the dictionaries in our array, calculating the sum of the star ratings and the number of venues for each city.  At the end, we can just divide the stars by the count to get the average.\n",
    "\n",
    "We could create a separate sum and count variable for each city, but that will get tedious quickly.  A better approach to to create a dictionary for each.  The key will be the city name, and the value the running sum or running count.\n",
    "\n",
    "One slight annoyance of this approach is that we will have to test whether a key exists in the dictionary before adding to the running tally.  __The collections module's `defaultdict` class works around this by providing default values for keys that haven't been used.__  Thus, if we do"
   ]
  },
  {
   "cell_type": "code",
   "execution_count": 7,
   "metadata": {
    "collapsed": true,
    "deletable": true,
    "editable": true
   },
   "outputs": [],
   "source": [
    "from collections import defaultdict\n",
    "star_sum = defaultdict(int)\n",
    "count = defaultdict(int)"
   ]
  },
  {
   "cell_type": "markdown",
   "metadata": {
    "deletable": true,
    "editable": true
   },
   "source": [
    "we can increment any key of `stars` or `count` without first worrying whether the key exists.  We need to go through the `data` and `star_ratings` list together, which we can do with the `zip()` function."
   ]
  },
  {
   "cell_type": "code",
   "execution_count": 8,
   "metadata": {
    "collapsed": false,
    "deletable": true,
    "editable": true
   },
   "outputs": [
    {
     "name": "stdout",
     "output_type": "stream",
     "text": [
      "defaultdict(<type 'int'>, {u'Victoria Park': 4.5, u'Anthem': 208.0, u'Carefree': 140.0, u'Morristown': 10.5, u'North Queensferry': 3.5, u'Paradise': 55.5, u'Surprise': 1273.0, u'Waterloo': 530.0, u'Henderson': 6417.0, u'Higley': 35.0, u'Rio Verde': 12.0, u'N. Las Vegas': 6.5, u'Verona': 119.5, u'Musselburgh': 35.5, u'Central Henderson': 3.5, u'Fort Mcdowell': 8.0, u'Scottsdale': 12325.5, u'Sun Lakes': 29.0, u'Whitney': 4.5, u'Atlanta': 3.5, u'Fort Kinnaird': 4.5, u'Lasswade': 10.0, u'NELLIS AFB': 4.5, u'Laveen': 187.0, u'South Gyle': 2.5, u'Scotland': 3.5, u'DeForest': 20.5, u'Clark County': 12.0, u'Gold Canyon': 98.0, u'Newberry Springs': 3.5, u'Lake Las Vegas': 4.5, u'Kitchener': 429.0, u'Nellis AFB': 38.0, u'Guadalupe': 24.0, u'Tolleson': 155.0, u'Woolwich': 8.5, u'St Jacobs': 7.0, u'London': 3.0, u'Casa Grande': 306.0, u'Inverkeithing': 3.0, u'Windsor': 21.0, u'Sunrise': 3.0, u'Trempealeau': 4.0, u'Gila Bend': 54.0, u'Rochester': 5.0, u'Maricopa': 264.0, u'Tonto Basin': 11.5, u'Goldfield': 3.5, u'Old Town': 4.0, u'Loanhead': 19.0, u'Eagan': 5.0, u'Heidelberg': 2.5, u'Midlothian': 13.5, u'Goodyear': 957.0, u'Sedona': 3.5, u'Edinburgh': 9851.5, u'North Las Vegas ': 3.5, u'Peoria': 1939.5, u'North Scottsdale': 4.0, u'Central City Village': 12.5, u'Sun City Anthem': 3.0, u'Avondale': 824.5, u'Mc Farland': 31.0, u'W Summerlin': 3.5, u'Arcadia': 5.0, u'Ahwatukee': 29.5, u'C Las Vegas': 3.0, u'Bonnyrigg': 7.5, u'Cottage Grove': 29.0, u'Queensferry': 11.5, u'Surprise Crossing': 4.5, u'Centennial Hills': 3.0, u'City of Edinburgh': 3.0, u'W Henderson': 3.5, u'Fitchburg': 284.0, u'Boulder City': 91.0, u'Black Canyon City': 3.0, u'Penicuik': 4.0, u'Las Vegas East': 4.5, u'Newington': 3.0, u'Madison': 5341.0, u'Cambridge': 21.0, u'Florence': 61.5, u'Litchfield Park ': 4.5, u'St Clements': 4.5, u'Cramond': 8.5, u'Las Vegas': 39621.0, u'New River': 21.5, u'Wickenburg': 164.5, u'Green Valley': 4.0, u'El Mirage': 111.0, u'Leith': 4.0, u'Portobello': 7.5, u'Phoenix ': 1.0, u'Summerlin South': 6.5, u'Tonopah': 15.0, u'Litchfield Park': 222.0, u'Gilbert': 3523.5, u'N E Las Vegas': 5.0, u'Dane': 8.5, u'Mesa ': 3.0, u'Glendale Az': 4.0, u'Ratho': 3.0, u'Henderson (Green  Valley)': 4.0, u'Stoughton': 7.5, u'De Forest': 22.5, u'Queen Creek': 663.5, u'Henderson and Las vegas': 4.0, u'McFarland': 22.0, u'Mesa': 6631.0, u'Waunakee': 70.0, u'chandler': 5.0, u'Las Vegas ': 18.0, u'Scottsdale, Phoenix, Chandler, Gilbert': 5.0, u'W Spring Valley': 3.0, u'Mcfarland': 3.5, u'Enterprise': 29.0, u'Saguaro Lake': 3.0, u'Straiton': 2.5, u'Cave Creek': 512.5, u'N W Las Vegas': 3.5, u'Las Vegas, NV 89147': 2.5, u'Henderson (Stephanie)': 4.0, u'New York': 5.0, u'Waddell': 11.5, u'Buckeye': 242.0, u'Newbridge': 4.5, u'Sunrise Manor': 3.0, u'Monona': 191.0, u'Spring Valley': 24.5, u'Juniper Green': 11.5, u'Coolidge': 27.5, u'Roslin': 4.5, u'Fort McDowell': 23.5, u'Fountain Hls': 3.0, u'Phoenix Sky Harbor Center': 3.5, u'Sun Prairie': 231.5, u'Stockbridge': 9.0, u'St. Jacobs': 4.5, u'Chandler': 5384.0, u'New Town': 11.0, u'Youngtown': 54.0, u'Nellis Afb': 6.5, u'Tempe': 6640.5, u'Deforest': 5.0, u'Apache Junction': 291.0, u'Sun City West': 58.0, u'Middleton': 487.5, u'Dalkeith': 13.0, u'Tortilla Flat': 12.5, u'Pheonix': 6.0, u'North Las Vegas': 1595.5, u'Summerlin': 4.0, u'Fountain Hills': 398.0, u'N Las Vegas': 28.5, u'Water of Leith': 4.5, u'Paradise Valley': 260.5, u'South Queensferry': 39.0, u'Glendale': 3946.5, u'South Las Vegas': 4.5, u'Nellis Air Force Base': 3.0, u'Stanfield': 3.5, u'Phoenix': 24646.0, u'Sun City': 248.5, u'Henderson ': 4.0, u'San Tan Valley': 120.0, u'Chandler-Gilbert': 5.0})\n"
     ]
    }
   ],
   "source": [
    "for row, stars in zip(data, star_ratings):\n",
    "    # increment the running sum in star_sum\n",
    "    star_sum[row['city']] += row['stars']\n",
    "    # increment the running count in count\n",
    "    count[row['city']] += 1\n",
    "print star_sum"
   ]
  },
  {
   "cell_type": "markdown",
   "metadata": {
    "deletable": true,
    "editable": true
   },
   "source": [
    "Now we can calculate the average ratings.  Again, a dictionary makes a good container.  (*N.B.* Watch out for Python2's integer division.  Make sure at least one of your values is a float to get floating point division.)"
   ]
  },
  {
   "cell_type": "code",
   "execution_count": 9,
   "metadata": {
    "collapsed": false,
    "deletable": true,
    "editable": true
   },
   "outputs": [
    {
     "name": "stdout",
     "output_type": "stream",
     "text": [
      "{u'Victoria Park': 4.5, u'Anthem': 3.7818181818181817, u'Apache Junction': 3.6375, u'Morristown': 3.5, u'North Queensferry': 3.5, u'Paradise': 3.46875, u'Surprise': 3.5758426966292136, u'Henderson': 3.6879310344827587, u'Higley': 3.5, u'Rio Verde': 4.0, u'N. Las Vegas': 3.25, u'Verona': 3.8548387096774195, u'Musselburgh': 3.55, u'Central Henderson': 3.5, u'Fort Mcdowell': 4.0, u'Scottsdale': 3.8206757594544327, u'Sun Lakes': 3.2222222222222223, u'Whitney': 4.5, u'Dane': 4.25, u'Atlanta': 3.5, u'Fort Kinnaird': 4.5, u'NELLIS AFB': 4.5, u'Waterloo': 3.6054421768707483, u'South Gyle': 2.5, u'South Las Vegas': 4.5, u'Summerlin South': 3.25, u'DeForest': 4.1, u'Clark County': 3.0, u'Gold Canyon': 3.5, u'Newberry Springs': 3.5, u'Kitchener': 3.6982758620689653, u'Nellis AFB': 4.222222222222222, u'Litchfield Park': 3.7, u'Tolleson': 3.2291666666666665, u'Woolwich': 4.25, u'St Jacobs': 3.5, u'London': 3.0, u'Queensferry': 3.8333333333333335, u'Inverkeithing': 3.0, u'St Clements': 4.5, u'Sunrise': 3.0, u'Trempealeau': 4.0, u'Gila Bend': 3.375, u'Rochester': 5.0, u'Maricopa': 3.52, u'Tonto Basin': 3.8333333333333335, u'Goldfield': 3.5, u'Old Town': 4.0, u'Loanhead': 3.8, u'Eagan': 5.0, u'Midlothian': 4.5, u'Goodyear': 3.5313653136531364, u'Sedona': 3.5, u'Edinburgh': 3.7963391136801543, u'Peoria': 3.6388367729831144, u'North Scottsdale': 4.0, u'Central City Village': 3.125, u'Sun City Anthem': 3.0, u'Avondale': 3.53862660944206, u'Mc Farland': 3.1, u'W Summerlin': 3.5, u'Arcadia': 5.0, u'Ahwatukee': 3.6875, u'C Las Vegas': 3.0, u'Bonnyrigg': 3.75, u'Cottage Grove': 3.2222222222222223, u'Casa Grande': 3.5172413793103448, u'Surprise Crossing': 4.5, u'Centennial Hills': 3.0, u'City of Edinburgh': 3.0, u'W Henderson': 3.5, u'Fitchburg': 3.4634146341463414, u'Boulder City': 4.136363636363637, u'Black Canyon City': 3.0, u'Penicuik': 4.0, u'Las Vegas East': 4.5, u'Newington': 3.0, u'Madison': 3.6457337883959045, u'Cambridge': 4.2, u'Lake Las Vegas': 4.5, u'Litchfield Park ': 4.5, u'Windsor': 3.5, u'Cramond': 4.25, u'Las Vegas': 3.651368537461985, u'Lasswade': 3.3333333333333335, u'Wickenburg': 3.6555555555555554, u'Green Valley': 4.0, u'El Mirage': 3.7, u'Portobello': 3.75, u'Phoenix ': 1.0, u'Scotland': 3.5, u'Tonopah': 3.75, u'Guadalupe': 4.0, u'Gilbert': 3.752396166134185, u'N E Las Vegas': 5.0, u'North Las Vegas ': 3.5, u'Mesa ': 3.0, u'Glendale Az': 4.0, u'Ratho': 3.0, u'Henderson (Green  Valley)': 4.0, u'Stoughton': 3.75, u'De Forest': 3.75, u'Queen Creek': 3.6456043956043955, u'Henderson and Las vegas': 4.0, u'McFarland': 4.4, u'Mesa': 3.5901461829994585, u'Waunakee': 3.3333333333333335, u'chandler': 5.0, u'Las Vegas ': 3.6, u'Scottsdale, Phoenix, Chandler, Gilbert': 5.0, u'W Spring Valley': 3.0, u'Mcfarland': 3.5, u'Enterprise': 3.2222222222222223, u'Saguaro Lake': 3.0, u'Straiton': 2.5, u'Cave Creek': 3.9122137404580153, u'N W Las Vegas': 3.5, u'Las Vegas, NV 89147': 2.5, u'Henderson (Stephanie)': 4.0, u'New York': 5.0, u'Waddell': 3.8333333333333335, u'Buckeye': 3.408450704225352, u'Newbridge': 4.5, u'Sunrise Manor': 3.0, u'Florence': 3.6176470588235294, u'Spring Valley': 3.5, u'Juniper Green': 3.8333333333333335, u'Coolidge': 3.4375, u'Roslin': 4.5, u'Sun City West': 3.625, u'Middleton': 3.611111111111111, u'Fort McDowell': 3.357142857142857, u'Fountain Hls': 3.0, u'Phoenix Sky Harbor Center': 3.5, u'Sun Prairie': 3.455223880597015, u'Stockbridge': 4.5, u'St. Jacobs': 4.5, u'Heidelberg': 2.5, u'New Town': 3.6666666666666665, u'Laveen': 3.3392857142857144, u'Nellis Afb': 3.25, u'Tempe': 3.644621295279912, u'Deforest': 5.0, u'Carefree': 3.888888888888889, u'Chandler': 3.667574931880109, u'Leith': 4.0, u'Dalkeith': 4.333333333333333, u'Tortilla Flat': 4.166666666666667, u'Pheonix': 3.0, u'New River': 3.5833333333333335, u'North Las Vegas': 3.4460043196544277, u'Summerlin': 4.0, u'Fountain Hills': 3.7904761904761903, u'N Las Vegas': 3.5625, u'Water of Leith': 4.5, u'Paradise Valley': 3.6690140845070425, u'South Queensferry': 3.9, u'Glendale': 3.607404021937843, u'Youngtown': 3.857142857142857, u'Nellis Air Force Base': 3.0, u'Stanfield': 3.5, u'Phoenix': 3.6702903946388683, u'Sun City': 3.55, u'Henderson ': 4.0, u'San Tan Valley': 3.870967741935484, u'Chandler-Gilbert': 5.0, u'Monona': 3.4727272727272727}\n"
     ]
    }
   ],
   "source": [
    "avg_stars = dict()\n",
    "for city in star_sum:\n",
    "    # calculate average star rating and store in avg_stars\n",
    "    avg_stars[city] = float(star_sum[city]) / count[city]\n",
    "\n",
    "print avg_stars"
   ]
  },
  {
   "cell_type": "markdown",
   "metadata": {
    "deletable": true,
    "editable": true
   },
   "source": [
    "There should be 167 different cities:"
   ]
  },
  {
   "cell_type": "code",
   "execution_count": 10,
   "metadata": {
    "collapsed": true,
    "deletable": true,
    "editable": true
   },
   "outputs": [],
   "source": [
    "assert len(avg_stars) == 167"
   ]
  },
  {
   "cell_type": "markdown",
   "metadata": {
    "deletable": true,
    "editable": true
   },
   "source": [
    "We can get that list of tuples from the `.items()` method."
   ]
  },
  {
   "cell_type": "code",
   "execution_count": 11,
   "metadata": {
    "collapsed": false,
    "deletable": true,
    "editable": true
   },
   "outputs": [
    {
     "name": "stdout",
     "output_type": "stream",
     "text": [
      "==================\n",
      "Your score:  1.0\n",
      "==================\n"
     ]
    }
   ],
   "source": [
    "grader.score('ml__city_avg', lambda: avg_stars.items())"
   ]
  },
  {
   "cell_type": "markdown",
   "metadata": {
    "deletable": true,
    "editable": true
   },
   "source": [
    "## city_model\n",
    "Now, let's build a custom estimator that will make a prediction based solely on the city of a venue.  It is tempting to hard-code the answers from the previous section into this model, but we're going to resist and do things properly.\n",
    "\n",
    "This custom estimator will have a `.fit()` method.  It will receive `data` as its argument `X` and `star_ratings` as `y`, and should repeat the calculation of the previous problem there.  Then the `.predict()` method can look up the average rating for the city of each record it receives."
   ]
  },
  {
   "cell_type": "code",
   "execution_count": 12,
   "metadata": {
    "collapsed": false,
    "deletable": true,
    "editable": true
   },
   "outputs": [],
   "source": [
    "from sklearn import base\n",
    "\n",
    "class CityEstimator(base.BaseEstimator, base.RegressorMixin):\n",
    "    \n",
    "    def __init__(self):\n",
    "        self.avg_stars = dict()\n",
    "    \n",
    "    def fit(self, X, y):\n",
    "        star_sum = defaultdict(int)\n",
    "        count = defaultdict(int)\n",
    "        for row, stars in zip(X, y):\n",
    "            star_sum[row['city']] += row['stars']\n",
    "            count[row['city']] += 1\n",
    "        for city in star_sum:\n",
    "            self.avg_stars[city] = float(star_sum[city]) / count[city]\n",
    "        # Store the average rating per city in self.avg_stars\n",
    "        return self\n",
    "    \n",
    "    def predict(self, X):\n",
    "        li = []\n",
    "        for row in X:\n",
    "            if row['city'] in self.avg_stars:\n",
    "                li.append(self.avg_stars[row['city']])\n",
    "            else :\n",
    "                li.append(3.5)\n",
    "        return li"
   ]
  },
  {
   "cell_type": "markdown",
   "metadata": {
    "deletable": true,
    "editable": true
   },
   "source": [
    "Now we can create an instance of our estimator and train it."
   ]
  },
  {
   "cell_type": "code",
   "execution_count": 13,
   "metadata": {
    "collapsed": false,
    "deletable": true,
    "editable": true
   },
   "outputs": [
    {
     "data": {
      "text/plain": [
       "CityEstimator()"
      ]
     },
     "execution_count": 13,
     "metadata": {},
     "output_type": "execute_result"
    }
   ],
   "source": [
    "city_est = CityEstimator()\n",
    "city_est.fit(data, star_ratings)"
   ]
  },
  {
   "cell_type": "markdown",
   "metadata": {
    "deletable": true,
    "editable": true
   },
   "source": [
    "And let's see if it works."
   ]
  },
  {
   "cell_type": "code",
   "execution_count": 14,
   "metadata": {
    "collapsed": false,
    "deletable": true,
    "editable": true
   },
   "outputs": [
    {
     "data": {
      "text/plain": [
       "[3.6702903946388683, 3.75, 3.75, 3.75, 3.75]"
      ]
     },
     "execution_count": 14,
     "metadata": {},
     "output_type": "execute_result"
    }
   ],
   "source": [
    "city_est.predict(data[:5])"
   ]
  },
  {
   "cell_type": "markdown",
   "metadata": {
    "deletable": true,
    "editable": true
   },
   "source": [
    "There is a problem, however.  What happens if we're asked to estimate the rating of a venue in a city that's not in our training set?"
   ]
  },
  {
   "cell_type": "code",
   "execution_count": 15,
   "metadata": {
    "collapsed": false,
    "deletable": true,
    "editable": true
   },
   "outputs": [
    {
     "data": {
      "text/plain": [
       "[3.5]"
      ]
     },
     "execution_count": 15,
     "metadata": {},
     "output_type": "execute_result"
    }
   ],
   "source": [
    "city_est.predict([{'city': 'Timbuktu'}])"
   ]
  },
  {
   "cell_type": "markdown",
   "metadata": {
    "deletable": true,
    "editable": true
   },
   "source": [
    "Solve this problem before submitting to the grader."
   ]
  },
  {
   "cell_type": "code",
   "execution_count": 16,
   "metadata": {
    "collapsed": false,
    "deletable": true,
    "editable": true
   },
   "outputs": [
    {
     "name": "stdout",
     "output_type": "stream",
     "text": [
      "==================\n",
      "Your score:  1.00001561758\n",
      "==================\n"
     ]
    }
   ],
   "source": [
    "grader.score('ml__city_model', city_est.predict)"
   ]
  },
  {
   "cell_type": "markdown",
   "metadata": {
    "deletable": true,
    "editable": true
   },
   "source": [
    "## lat_long_model\n",
    "You can imagine that a city-based model might not be sufficiently fine-grained. For example, we know that some neighborhoods are trendier than others.  Use the latitude and longitude of a venue as features that help you understand neighborhood dynamics.\n",
    "\n",
    "Instead of writing a custom estimator, we'll use one of the built-in estimators in Scikit Learn.  Since these estimators won't know what to do with a list of dictionaries, we'll build a `ColumnSelectTransformer` that will return an array containing selected keys of our feature matrix.  While it is tempting to hard-code the latitude and longitude in here, this transformer will be more useful in the future if we write it to work on an arbitrary list of columns."
   ]
  },
  {
   "cell_type": "code",
   "execution_count": 17,
   "metadata": {
    "collapsed": false,
    "deletable": true,
    "editable": true
   },
   "outputs": [
    {
     "name": "stdout",
     "output_type": "stream",
     "text": [
      "[[33.499313, -111.983758]]\n"
     ]
    }
   ],
   "source": [
    "class ColumnSelectTransformer(base.BaseEstimator, base.TransformerMixin):\n",
    "    \n",
    "    def __init__(self, col_names):\n",
    "        self.col_names = col_names  # We will need these in transform()\n",
    "    \n",
    "    def fit(self, X, y=None):\n",
    "        # This transformer doesn't need to learn anything about the data,\n",
    "        # so it can just return self without any further processing\n",
    "        return self\n",
    "    \n",
    "    def transform(self, X):\n",
    "        # Return an array with the same number of rows as X and one\n",
    "        # column for each in self.col_names\n",
    "        data = []\n",
    "        for row in X:\n",
    "            new_row = []\n",
    "            for col in self.col_names:\n",
    "                new_row.append(row[col])\n",
    "            data.append(new_row)\n",
    "        return data\n",
    "\n",
    "                \n",
    "                \n",
    "print [[data[0]['latitude'], data[0]['longitude']]]"
   ]
  },
  {
   "cell_type": "markdown",
   "metadata": {
    "deletable": true,
    "editable": true
   },
   "source": [
    "Let's test it on a single row, just as a sanity check:"
   ]
  },
  {
   "cell_type": "code",
   "execution_count": 18,
   "metadata": {
    "collapsed": false,
    "deletable": true,
    "editable": true
   },
   "outputs": [],
   "source": [
    "cst = ColumnSelectTransformer(['latitude', 'longitude'])\n",
    "assert (cst.fit_transform(data[:1])\n",
    "        == [[data[0]['latitude'], data[0]['longitude']]])"
   ]
  },
  {
   "cell_type": "markdown",
   "metadata": {
    "deletable": true,
    "editable": true
   },
   "source": [
    "Now, let's feed the output of the transformer in to a `sklearn.neighbors.KNeighborsRegressor`.  As a sanity check, we'll test it with the first 5 rows.  To truly judge the performance, we'd need to make a test/train split."
   ]
  },
  {
   "cell_type": "code",
   "execution_count": 19,
   "metadata": {
    "collapsed": false,
    "deletable": true,
    "editable": true
   },
   "outputs": [
    {
     "data": {
      "text/plain": [
       "array([ 4. ,  4.2,  4. ,  3.8,  4.2])"
      ]
     },
     "execution_count": 19,
     "metadata": {},
     "output_type": "execute_result"
    }
   ],
   "source": [
    "from sklearn.neighbors import KNeighborsRegressor\n",
    "\n",
    "data_transform = cst.fit_transform(data)\n",
    "knn = KNeighborsRegressor(n_neighbors=5)\n",
    "knn.fit(data_transform, star_ratings)\n",
    "test_data = data[:5]\n",
    "test_data_transform = cst.transform(test_data)\n",
    "knn.predict(test_data_transform)"
   ]
  },
  {
   "cell_type": "markdown",
   "metadata": {
    "deletable": true,
    "editable": true
   },
   "source": [
    "Instead of doing this by hand, let's make a pipeline.  Remember that a pipeline is made with a list of (name, transformer-or-estimator) tuples. "
   ]
  },
  {
   "cell_type": "code",
   "execution_count": 20,
   "metadata": {
    "collapsed": false,
    "deletable": true,
    "editable": true
   },
   "outputs": [],
   "source": [
    "from sklearn.pipeline import Pipeline\n",
    "\n",
    "pipe = Pipeline([\n",
    "        ('transformer', ColumnSelectTransformer(['latitude', 'longitude'])),# ColumnSelectTransformer\n",
    "        ('regressor', KNeighborsRegressor(n_neighbors=5))# KNeighborsRegressor\n",
    "    ])\n"
   ]
  },
  {
   "cell_type": "markdown",
   "metadata": {
    "deletable": true,
    "editable": true
   },
   "source": [
    "This should work the same way."
   ]
  },
  {
   "cell_type": "code",
   "execution_count": 21,
   "metadata": {
    "collapsed": false,
    "deletable": true,
    "editable": true
   },
   "outputs": [
    {
     "data": {
      "text/plain": [
       "array([ 4. ,  4.2,  4. ,  3.8,  4.2])"
      ]
     },
     "execution_count": 21,
     "metadata": {},
     "output_type": "execute_result"
    }
   ],
   "source": [
    "pipe.fit(data, star_ratings)\n",
    "pipe.predict(test_data)"
   ]
  },
  {
   "cell_type": "markdown",
   "metadata": {
    "deletable": true,
    "editable": true
   },
   "source": [
    "The `KNeighborsRegressor` takes the `n_neighbors` hyperparameter, which tells it how many nearest neighbors to average together when making a prediction.  There is no reason to believe that 5 is the optimum value.  Determine a better value of this hyperparameter.   There are several ways to do this:\n",
    "\n",
    "1. Use [train_test_split](http://scikit-learn.org/stable/modules/generated/sklearn.model_selection.train_test_split.html#sklearn.model_selection.train_test_split) to split your data in to a training set and a test set.  Score the performance on the test set.  After finding the best hyperparameter, retrain the model on the full data at that hyperparameter value.\n",
    "\n",
    "2. Use [cross_val_score](http://scikit-learn.org/stable/modules/generated/sklearn.model_selection.cross_val_score.html#sklearn.model_selection.cross_val_score) to return cross-validation scores on your data for various values of the hyperparameter.  Choose the best one, and retrain the model on the full data.\n",
    "\n",
    "3. Use [GridSearchCV](http://scikit-learn.org/stable/modules/generated/sklearn.model_selection.GridSearchCV.html#sklearn.model_selection.GridSearchCV) to do the splitting, training, and grading automatically.  `GridSearchCV` takes an estimator and acts as an estimator.  You can either give it the `KNeighborsRegressor` directly and put it in a pipeline, or you can pass the whole pipeline into the `GridSearchCV`.  In the latter case, remember that the hyperparameter `param` of an estimator named `est` in a pipeline becomes a hyperparameter of the pipeline with name `est__param`.\n",
    "\n",
    "No matter which you choose, you should consider whether the data need to be shuffled.  The default k-folds split doesn't shuffle.  This is fine, if the data are already random.  The code below will plot a rolling mean of the star ratings.  Do you need to shuffle the data?"
   ]
  },
  {
   "cell_type": "code",
   "execution_count": 22,
   "metadata": {
    "collapsed": false,
    "deletable": true,
    "editable": true
   },
   "outputs": [
    {
     "name": "stderr",
     "output_type": "stream",
     "text": [
      "/opt/conda/lib/python2.7/site-packages/ipykernel_launcher.py:4: FutureWarning: pd.rolling_mean is deprecated for Series and will be removed in a future version, replace with \n",
      "\tSeries.rolling(window=1000,center=False).mean()\n",
      "  after removing the cwd from sys.path.\n"
     ]
    },
    {
     "data": {
      "text/plain": [
       "[<matplotlib.lines.Line2D at 0x7fb2fb749310>]"
      ]
     },
     "execution_count": 22,
     "metadata": {},
     "output_type": "execute_result"
    },
    {
     "data": {
      "image/png": "[encoded data removed]",
      "text/plain": [
       "<matplotlib.figure.Figure at 0x7fb2fdebb690>"
      ]
     },
     "metadata": {},
     "output_type": "display_data"
    }
   ],
   "source": [
    "from pandas import rolling_mean, Series\n",
    "import matplotlib.pyplot as plt\n",
    "\n",
    "plt.plot(rolling_mean(Series(star_ratings), 1000))"
   ]
  },
  {
   "cell_type": "markdown",
   "metadata": {
    "deletable": true,
    "editable": true
   },
   "source": [
    "Once you've found a good value of `n_neighbors`, submit the model to the grader.  (*N.B.* \"Good\" is a relative measure here.  The reference solution has a r-squared value of only 0.02.  There is just rather little signal available for modeling.)"
   ]
  },
  {
   "cell_type": "code",
   "execution_count": 23,
   "metadata": {
    "collapsed": false,
    "deletable": true,
    "editable": true,
    "scrolled": true
   },
   "outputs": [
    {
     "name": "stdout",
     "output_type": "stream",
     "text": [
      "Fitting 3 folds for each of 35 candidates, totalling 105 fits\n",
      "[CV] est__n_neighbors=5 ..............................................\n",
      "[CV] .............. est__n_neighbors=5, score=-0.207586, total=   0.1s\n",
      "[CV] est__n_neighbors=5 ..............................................\n"
     ]
    },
    {
     "name": "stderr",
     "output_type": "stream",
     "text": [
      "[Parallel(n_jobs=1)]: Done   1 out of   1 | elapsed:    0.3s remaining:    0.0s\n"
     ]
    },
    {
     "name": "stdout",
     "output_type": "stream",
     "text": [
      "[CV] .............. est__n_neighbors=5, score=-0.167003, total=   0.3s\n",
      "[CV] est__n_neighbors=5 ..............................................\n"
     ]
    },
    {
     "name": "stderr",
     "output_type": "stream",
     "text": [
      "[Parallel(n_jobs=1)]: Done   2 out of   2 | elapsed:    0.7s remaining:    0.0s\n"
     ]
    },
    {
     "name": "stdout",
     "output_type": "stream",
     "text": [
      "[CV] .............. est__n_neighbors=5, score=-0.208956, total=   0.1s\n",
      "[CV] est__n_neighbors=6 ..............................................\n"
     ]
    },
    {
     "name": "stderr",
     "output_type": "stream",
     "text": [
      "[Parallel(n_jobs=1)]: Done   3 out of   3 | elapsed:    1.0s remaining:    0.0s\n"
     ]
    },
    {
     "name": "stdout",
     "output_type": "stream",
     "text": [
      "[CV] .............. est__n_neighbors=6, score=-0.174237, total=   0.4s\n",
      "[CV] est__n_neighbors=6 ..............................................\n"
     ]
    },
    {
     "name": "stderr",
     "output_type": "stream",
     "text": [
      "[Parallel(n_jobs=1)]: Done   4 out of   4 | elapsed:    1.4s remaining:    0.0s\n"
     ]
    },
    {
     "name": "stdout",
     "output_type": "stream",
     "text": [
      "[CV] .............. est__n_neighbors=6, score=-0.136341, total=   0.1s\n",
      "[CV] est__n_neighbors=6 ..............................................\n"
     ]
    },
    {
     "name": "stderr",
     "output_type": "stream",
     "text": [
      "[Parallel(n_jobs=1)]: Done   5 out of   5 | elapsed:    1.9s remaining:    0.0s\n"
     ]
    },
    {
     "name": "stdout",
     "output_type": "stream",
     "text": [
      "[CV] .............. est__n_neighbors=6, score=-0.188577, total=   0.1s\n",
      "[CV] est__n_neighbors=7 ..............................................\n"
     ]
    },
    {
     "name": "stderr",
     "output_type": "stream",
     "text": [
      "[Parallel(n_jobs=1)]: Done   6 out of   6 | elapsed:    2.2s remaining:    0.0s\n"
     ]
    },
    {
     "name": "stdout",
     "output_type": "stream",
     "text": [
      "[CV] .............. est__n_neighbors=7, score=-0.152971, total=   0.4s\n",
      "[CV] est__n_neighbors=7 ..............................................\n"
     ]
    },
    {
     "name": "stderr",
     "output_type": "stream",
     "text": [
      "[Parallel(n_jobs=1)]: Done   7 out of   7 | elapsed:    2.7s remaining:    0.0s\n"
     ]
    },
    {
     "name": "stdout",
     "output_type": "stream",
     "text": [
      "[CV] .............. est__n_neighbors=7, score=-0.112889, total=   0.1s\n",
      "[CV] est__n_neighbors=7 ..............................................\n"
     ]
    },
    {
     "name": "stderr",
     "output_type": "stream",
     "text": [
      "[Parallel(n_jobs=1)]: Done   8 out of   8 | elapsed:    2.9s remaining:    0.0s\n"
     ]
    },
    {
     "name": "stdout",
     "output_type": "stream",
     "text": [
      "[CV] .............. est__n_neighbors=7, score=-0.175678, total=   0.4s\n",
      "[CV] est__n_neighbors=8 ..............................................\n"
     ]
    },
    {
     "name": "stderr",
     "output_type": "stream",
     "text": [
      "[Parallel(n_jobs=1)]: Done   9 out of   9 | elapsed:    3.4s remaining:    0.0s\n"
     ]
    },
    {
     "name": "stdout",
     "output_type": "stream",
     "text": [
      "[CV] .............. est__n_neighbors=8, score=-0.138983, total=   0.1s\n",
      "[CV] est__n_neighbors=8 ..............................................\n",
      "[CV] .............. est__n_neighbors=8, score=-0.096760, total=   0.1s\n",
      "[CV] est__n_neighbors=8 ..............................................\n",
      "[CV] .............. est__n_neighbors=8, score=-0.161305, total=   0.4s\n",
      "[CV] est__n_neighbors=9 ..............................................\n",
      "[CV] .............. est__n_neighbors=9, score=-0.121004, total=   0.1s\n",
      "[CV] est__n_neighbors=9 ..............................................\n",
      "[CV] .............. est__n_neighbors=9, score=-0.084811, total=   0.4s\n",
      "[CV] est__n_neighbors=9 ..............................................\n",
      "[CV] .............. est__n_neighbors=9, score=-0.150539, total=   0.1s\n",
      "[CV] est__n_neighbors=10 .............................................\n",
      "[CV] ............. est__n_neighbors=10, score=-0.110917, total=   0.1s\n",
      "[CV] est__n_neighbors=10 .............................................\n",
      "[CV] ............. est__n_neighbors=10, score=-0.073280, total=   0.1s\n",
      "[CV] est__n_neighbors=10 .............................................\n",
      "[CV] ............. est__n_neighbors=10, score=-0.142842, total=   0.1s\n",
      "[CV] est__n_neighbors=11 .............................................\n",
      "[CV] ............. est__n_neighbors=11, score=-0.104785, total=   0.4s\n",
      "[CV] est__n_neighbors=11 .............................................\n",
      "[CV] ............. est__n_neighbors=11, score=-0.066384, total=   0.1s\n",
      "[CV] est__n_neighbors=11 .............................................\n",
      "[CV] ............. est__n_neighbors=11, score=-0.141088, total=   0.4s\n",
      "[CV] est__n_neighbors=12 .............................................\n",
      "[CV] ............. est__n_neighbors=12, score=-0.094642, total=   0.2s\n",
      "[CV] est__n_neighbors=12 .............................................\n",
      "[CV] ............. est__n_neighbors=12, score=-0.058540, total=   0.1s\n",
      "[CV] est__n_neighbors=12 .............................................\n",
      "[CV] ............. est__n_neighbors=12, score=-0.135945, total=   0.4s\n",
      "[CV] est__n_neighbors=13 .............................................\n",
      "[CV] ............. est__n_neighbors=13, score=-0.086292, total=   0.2s\n",
      "[CV] est__n_neighbors=13 .............................................\n",
      "[CV] ............. est__n_neighbors=13, score=-0.051128, total=   0.4s\n",
      "[CV] est__n_neighbors=13 .............................................\n",
      "[CV] ............. est__n_neighbors=13, score=-0.131280, total=   0.1s\n",
      "[CV] est__n_neighbors=14 .............................................\n",
      "[CV] ............. est__n_neighbors=14, score=-0.081012, total=   0.1s\n",
      "[CV] est__n_neighbors=14 .............................................\n",
      "[CV] ............. est__n_neighbors=14, score=-0.047606, total=   0.4s\n",
      "[CV] est__n_neighbors=14 .............................................\n",
      "[CV] ............. est__n_neighbors=14, score=-0.129371, total=   0.2s\n",
      "[CV] est__n_neighbors=15 .............................................\n",
      "[CV] ............. est__n_neighbors=15, score=-0.075275, total=   0.4s\n",
      "[CV] est__n_neighbors=15 .............................................\n",
      "[CV] ............. est__n_neighbors=15, score=-0.044210, total=   0.1s\n",
      "[CV] est__n_neighbors=15 .............................................\n",
      "[CV] ............. est__n_neighbors=15, score=-0.125911, total=   0.1s\n",
      "[CV] est__n_neighbors=16 .............................................\n",
      "[CV] ............. est__n_neighbors=16, score=-0.071508, total=   0.2s\n",
      "[CV] est__n_neighbors=16 .............................................\n",
      "[CV] ............. est__n_neighbors=16, score=-0.041248, total=   0.2s\n",
      "[CV] est__n_neighbors=16 .............................................\n",
      "[CV] ............. est__n_neighbors=16, score=-0.122325, total=   0.4s\n",
      "[CV] est__n_neighbors=17 .............................................\n",
      "[CV] ............. est__n_neighbors=17, score=-0.067556, total=   0.2s\n",
      "[CV] est__n_neighbors=17 .............................................\n",
      "[CV] ............. est__n_neighbors=17, score=-0.037604, total=   0.2s\n",
      "[CV] est__n_neighbors=17 .............................................\n",
      "[CV] ............. est__n_neighbors=17, score=-0.121303, total=   0.4s\n",
      "[CV] est__n_neighbors=18 .............................................\n",
      "[CV] ............. est__n_neighbors=18, score=-0.065843, total=   0.2s\n",
      "[CV] est__n_neighbors=18 .............................................\n",
      "[CV] ............. est__n_neighbors=18, score=-0.033455, total=   0.4s\n",
      "[CV] est__n_neighbors=18 .............................................\n",
      "[CV] ............. est__n_neighbors=18, score=-0.120219, total=   0.2s\n",
      "[CV] est__n_neighbors=19 .............................................\n",
      "[CV] ............. est__n_neighbors=19, score=-0.062478, total=   0.4s\n",
      "[CV] est__n_neighbors=19 .............................................\n",
      "[CV] ............. est__n_neighbors=19, score=-0.031816, total=   0.2s\n",
      "[CV] est__n_neighbors=19 .............................................\n",
      "[CV] ............. est__n_neighbors=19, score=-0.118716, total=   0.2s\n",
      "[CV] est__n_neighbors=20 .............................................\n",
      "[CV] ............. est__n_neighbors=20, score=-0.060783, total=   0.2s\n",
      "[CV] est__n_neighbors=20 .............................................\n",
      "[CV] ............. est__n_neighbors=20, score=-0.031025, total=   0.2s\n",
      "[CV] est__n_neighbors=20 .............................................\n",
      "[CV] ............. est__n_neighbors=20, score=-0.118265, total=   0.4s\n",
      "[CV] est__n_neighbors=21 .............................................\n",
      "[CV] ............. est__n_neighbors=21, score=-0.059405, total=   0.2s\n",
      "[CV] est__n_neighbors=21 .............................................\n",
      "[CV] ............. est__n_neighbors=21, score=-0.031100, total=   0.2s\n",
      "[CV] est__n_neighbors=21 .............................................\n",
      "[CV] ............. est__n_neighbors=21, score=-0.116636, total=   0.4s\n",
      "[CV] est__n_neighbors=22 .............................................\n",
      "[CV] ............. est__n_neighbors=22, score=-0.057230, total=   0.2s\n",
      "[CV] est__n_neighbors=22 .............................................\n",
      "[CV] ............. est__n_neighbors=22, score=-0.029967, total=   0.4s\n",
      "[CV] est__n_neighbors=22 .............................................\n",
      "[CV] ............. est__n_neighbors=22, score=-0.115278, total=   0.2s\n",
      "[CV] est__n_neighbors=23 .............................................\n",
      "[CV] ............. est__n_neighbors=23, score=-0.056175, total=   0.5s\n",
      "[CV] est__n_neighbors=23 .............................................\n",
      "[CV] ............. est__n_neighbors=23, score=-0.029276, total=   0.4s\n",
      "[CV] est__n_neighbors=23 .............................................\n",
      "[CV] ............. est__n_neighbors=23, score=-0.115635, total=   0.2s\n",
      "[CV] est__n_neighbors=24 .............................................\n",
      "[CV] ............. est__n_neighbors=24, score=-0.055389, total=   0.4s\n",
      "[CV] est__n_neighbors=24 .............................................\n",
      "[CV] ............. est__n_neighbors=24, score=-0.027303, total=   0.2s\n",
      "[CV] est__n_neighbors=24 .............................................\n",
      "[CV] ............. est__n_neighbors=24, score=-0.113169, total=   0.2s\n",
      "[CV] est__n_neighbors=25 .............................................\n",
      "[CV] ............. est__n_neighbors=25, score=-0.052826, total=   0.4s\n",
      "[CV] est__n_neighbors=25 .............................................\n",
      "[CV] ............. est__n_neighbors=25, score=-0.027683, total=   0.2s\n",
      "[CV] est__n_neighbors=25 .............................................\n",
      "[CV] ............. est__n_neighbors=25, score=-0.111061, total=   0.4s\n",
      "[CV] est__n_neighbors=26 .............................................\n",
      "[CV] ............. est__n_neighbors=26, score=-0.051701, total=   0.2s\n",
      "[CV] est__n_neighbors=26 .............................................\n",
      "[CV] ............. est__n_neighbors=26, score=-0.029179, total=   0.2s\n",
      "[CV] est__n_neighbors=26 .............................................\n",
      "[CV] ............. est__n_neighbors=26, score=-0.110451, total=   0.2s\n",
      "[CV] est__n_neighbors=27 .............................................\n",
      "[CV] ............. est__n_neighbors=27, score=-0.052130, total=   0.2s\n",
      "[CV] est__n_neighbors=27 .............................................\n",
      "[CV] ............. est__n_neighbors=27, score=-0.028938, total=   0.4s\n",
      "[CV] est__n_neighbors=27 .............................................\n",
      "[CV] ............. est__n_neighbors=27, score=-0.108658, total=   0.2s\n",
      "[CV] est__n_neighbors=28 .............................................\n",
      "[CV] ............. est__n_neighbors=28, score=-0.051020, total=   0.2s\n",
      "[CV] est__n_neighbors=28 .............................................\n",
      "[CV] ............. est__n_neighbors=28, score=-0.028297, total=   0.4s\n",
      "[CV] est__n_neighbors=28 .............................................\n",
      "[CV] ............. est__n_neighbors=28, score=-0.107318, total=   0.2s\n",
      "[CV] est__n_neighbors=29 .............................................\n",
      "[CV] ............. est__n_neighbors=29, score=-0.050814, total=   0.4s\n",
      "[CV] est__n_neighbors=29 .............................................\n",
      "[CV] ............. est__n_neighbors=29, score=-0.026909, total=   0.2s\n",
      "[CV] est__n_neighbors=29 .............................................\n",
      "[CV] ............. est__n_neighbors=29, score=-0.106154, total=   0.4s\n",
      "[CV] est__n_neighbors=30 .............................................\n",
      "[CV] ............. est__n_neighbors=30, score=-0.050026, total=   0.4s\n",
      "[CV] est__n_neighbors=30 .............................................\n",
      "[CV] ............. est__n_neighbors=30, score=-0.025433, total=   0.2s\n",
      "[CV] est__n_neighbors=30 .............................................\n",
      "[CV] ............. est__n_neighbors=30, score=-0.105415, total=   0.4s\n",
      "[CV] est__n_neighbors=31 .............................................\n",
      "[CV] ............. est__n_neighbors=31, score=-0.049289, total=   0.2s\n",
      "[CV] est__n_neighbors=31 .............................................\n",
      "[CV] ............. est__n_neighbors=31, score=-0.024179, total=   0.2s\n",
      "[CV] est__n_neighbors=31 .............................................\n",
      "[CV] ............. est__n_neighbors=31, score=-0.103351, total=   0.4s\n",
      "[CV] est__n_neighbors=32 .............................................\n",
      "[CV] ............. est__n_neighbors=32, score=-0.049922, total=   0.2s\n",
      "[CV] est__n_neighbors=32 .............................................\n",
      "[CV] ............. est__n_neighbors=32, score=-0.022804, total=   0.4s\n",
      "[CV] est__n_neighbors=32 .............................................\n",
      "[CV] ............. est__n_neighbors=32, score=-0.102958, total=   0.2s\n",
      "[CV] est__n_neighbors=33 .............................................\n",
      "[CV] ............. est__n_neighbors=33, score=-0.049795, total=   0.2s\n",
      "[CV] est__n_neighbors=33 .............................................\n",
      "[CV] ............. est__n_neighbors=33, score=-0.021611, total=   0.2s\n",
      "[CV] est__n_neighbors=33 .............................................\n",
      "[CV] ............. est__n_neighbors=33, score=-0.103359, total=   0.2s\n",
      "[CV] est__n_neighbors=34 .............................................\n",
      "[CV] ............. est__n_neighbors=34, score=-0.049267, total=   0.4s\n",
      "[CV] est__n_neighbors=34 .............................................\n",
      "[CV] ............. est__n_neighbors=34, score=-0.020066, total=   0.2s\n",
      "[CV] est__n_neighbors=34 .............................................\n",
      "[CV] ............. est__n_neighbors=34, score=-0.102932, total=   0.2s\n",
      "[CV] est__n_neighbors=35 .............................................\n",
      "[CV] ............. est__n_neighbors=35, score=-0.048874, total=   0.4s\n",
      "[CV] est__n_neighbors=35 .............................................\n",
      "[CV] ............. est__n_neighbors=35, score=-0.019023, total=   0.2s\n",
      "[CV] est__n_neighbors=35 .............................................\n",
      "[CV] ............. est__n_neighbors=35, score=-0.102470, total=   0.4s\n",
      "[CV] est__n_neighbors=36 .............................................\n",
      "[CV] ............. est__n_neighbors=36, score=-0.049349, total=   0.2s\n",
      "[CV] est__n_neighbors=36 .............................................\n",
      "[CV] ............. est__n_neighbors=36, score=-0.019100, total=   0.4s\n",
      "[CV] est__n_neighbors=36 .............................................\n",
      "[CV] ............. est__n_neighbors=36, score=-0.103276, total=   0.4s\n",
      "[CV] est__n_neighbors=37 .............................................\n",
      "[CV] ............. est__n_neighbors=37, score=-0.048504, total=   0.2s\n",
      "[CV] est__n_neighbors=37 .............................................\n",
      "[CV] ............. est__n_neighbors=37, score=-0.018968, total=   0.4s\n",
      "[CV] est__n_neighbors=37 .............................................\n",
      "[CV] ............. est__n_neighbors=37, score=-0.103389, total=   0.2s\n",
      "[CV] est__n_neighbors=38 .............................................\n",
      "[CV] ............. est__n_neighbors=38, score=-0.048946, total=   0.2s\n",
      "[CV] est__n_neighbors=38 .............................................\n",
      "[CV] ............. est__n_neighbors=38, score=-0.019412, total=   0.4s\n",
      "[CV] est__n_neighbors=38 .............................................\n",
      "[CV] ............. est__n_neighbors=38, score=-0.102852, total=   0.2s\n",
      "[CV] est__n_neighbors=39 .............................................\n",
      "[CV] ............. est__n_neighbors=39, score=-0.047728, total=   0.4s\n",
      "[CV] est__n_neighbors=39 .............................................\n",
      "[CV] ............. est__n_neighbors=39, score=-0.019135, total=   0.2s\n",
      "[CV] est__n_neighbors=39 .............................................\n",
      "[CV] ............. est__n_neighbors=39, score=-0.102694, total=   0.2s\n",
      "Pipeline(steps=[('trans', ColumnSelectTransformer(col_names=['latitude', 'longitude'])), ('est', KNeighborsRegressor(algorithm='auto', leaf_size=30, metric='minkowski',\n",
      "          metric_params=None, n_jobs=1, n_neighbors=39, p=2,\n",
      "          weights='uniform'))])\n"
     ]
    },
    {
     "name": "stderr",
     "output_type": "stream",
     "text": [
      "[Parallel(n_jobs=1)]: Done 105 out of 105 | elapsed:   50.7s finished\n"
     ]
    }
   ],
   "source": [
    "from sklearn.model_selection import GridSearchCV\n",
    "\n",
    "pipeline = Pipeline([\n",
    "        ('trans', ColumnSelectTransformer(['latitude', 'longitude'])),# ColumnSelectTransformer\n",
    "        ('est', KNeighborsRegressor(n_neighbors=5))# KNeighborsRegressor\n",
    "    ])\n",
    "\n",
    "rang = range(5,40)\n",
    "param_grid = dict(est__n_neighbors = rang)\n",
    "\n",
    "\n",
    "grid_search = GridSearchCV(pipeline, param_grid=param_grid, verbose=10)\n",
    "grid_search.fit(data, star_ratings)  #X, y\n",
    "print(grid_search.best_estimator_)"
   ]
  },
  {
   "cell_type": "code",
   "execution_count": 72,
   "metadata": {
    "collapsed": true,
    "deletable": true,
    "editable": true
   },
   "outputs": [],
   "source": [
    "lat_long_est = grid_search.best_estimator_\n"
   ]
  },
  {
   "cell_type": "code",
   "execution_count": 25,
   "metadata": {
    "collapsed": false,
    "deletable": true,
    "editable": true
   },
   "outputs": [
    {
     "name": "stdout",
     "output_type": "stream",
     "text": [
      "==================\n",
      "Your score:  1.1207779024\n",
      "==================\n"
     ]
    }
   ],
   "source": [
    "grader.score('ml__lat_long_model', lat_long_est.predict)  # Edit to appropriate name"
   ]
  },
  {
   "cell_type": "markdown",
   "metadata": {
    "deletable": true,
    "editable": true
   },
   "source": [
    "*Item for thought:* Why do we choose a non-linear model for this estimator?\n",
    "\n",
    "*Extension:* Use a `sklearn.ensemble.RandomForestRegressor`, which is a more powerful non-linear model.  Can you get better performance with this than with the `KNeighborsRegressor`?"
   ]
  },
  {
   "cell_type": "markdown",
   "metadata": {
    "deletable": true,
    "editable": true
   },
   "source": [
    "## category_model\n",
    "While location is important, we could also try seeing how predictive the\n",
    "venue's category is.  Build an estimator that considers only the categories.\n",
    "\n",
    "The categories come as a list of strings, but the built-in estimators all need numeric input.  The standard way to deal with categorical features is **one-hot encoding**, also known as dummy variables.  In this approach, each category gets its own column in the feature matrix.  If the row has a given category, that column gets filled with a 1.  Otherwise, it is 0.\n",
    "\n",
    "The `ColumnSelectTransformer` from the previous question can be used to extract the categories column as a list of strings.  Scikit Learn provides [DictVectorizer](http://scikit-learn.org/stable/modules/generated/sklearn.feature_extraction.DictVectorizer.html#sklearn.feature_extraction.DictVectorizer), which takes in a list of dictionaries.  It creates a column in the output matrix for each key in the dictionary and fills it with the value associated with it.  Missing keys are filled with zeros.  Therefore, we need only build a transformer that takes a list strings to a dictionary with keys given by those strings and values one."
   ]
  },
  {
   "cell_type": "code",
   "execution_count": 26,
   "metadata": {
    "collapsed": false,
    "deletable": true,
    "editable": true,
    "scrolled": true
   },
   "outputs": [],
   "source": [
    "class DictEncoder(base.BaseEstimator, base.TransformerMixin):\n",
    "    \n",
    "    def fit(self, X, y=None):\n",
    "        return self\n",
    "    \n",
    "    def transform(self, X):\n",
    "        # X will come in as a list of lists of lists.  Return a list of\n",
    "        # dictionaries corresponding to those inner lists.\n",
    "        l = []\n",
    "        for x in X:\n",
    "            dic = dict()\n",
    "            for a in x[0]:\n",
    "                dic[a] = 1\n",
    "            l.append(dic)\n",
    "        return l\n",
    "        \n",
    "                "
   ]
  },
  {
   "cell_type": "markdown",
   "metadata": {
    "deletable": true,
    "editable": true
   },
   "source": [
    "That should allow this to pass:"
   ]
  },
  {
   "cell_type": "code",
   "execution_count": 27,
   "metadata": {
    "collapsed": true,
    "deletable": true,
    "editable": true
   },
   "outputs": [],
   "source": [
    "assert (DictEncoder().fit_transform([[['a']], [['b', 'c']]])\n",
    "        == [{'a': 1}, {'b': 1, 'c': 1}])"
   ]
  },
  {
   "cell_type": "markdown",
   "metadata": {
    "deletable": true,
    "editable": true
   },
   "source": [
    "Set up a pipeline with your `ColumnSelectTransformer`, your `DictEncoder`, the `DictVectorizer`, and a regularized linear model, like `Ridge`, as the estimator.  This model will have a large number of features, one for each category, so there is a significant danger of overfitting.  Use cross validation to choose the best regularization parameter."
   ]
  },
  {
   "cell_type": "code",
   "execution_count": null,
   "metadata": {
    "collapsed": false,
    "deletable": true,
    "editable": true
   },
   "outputs": [],
   "source": [
    "from sklearn.feature_extraction import DictVectorizer\n",
    "v = DictVectorizer(sparse=False)\n",
    "D = [{'foo': 1, 'bar': 2}, {'foo': 3, 'baz': 1}]\n",
    "X = v.fit_transform(D)\n",
    "\n",
    "from sklearn.linear_model import Ridge\n",
    "rgr_ridge = Ridge(alpha=0.2)\n",
    "rgr_ridge.fit(proj_operator, proj.ravel())\n",
    "rec_l2 = rgr_ridge.coef_.reshape(l, l)\n"
   ]
  },
  {
   "cell_type": "code",
   "execution_count": 28,
   "metadata": {
    "collapsed": true,
    "deletable": true,
    "editable": true
   },
   "outputs": [],
   "source": [
    "from sklearn.linear_model import Ridge\n",
    "from sklearn.feature_extraction import DictVectorizer\n",
    "\n",
    "pipeline = Pipeline([\n",
    "        ('trans', ColumnSelectTransformer(['categories'])),\n",
    "        ('dictenc', DictEncoder() ),\n",
    "        ('vector', DictVectorizer(sparse=False)), \n",
    "        ('ridgereg', Ridge(alpha=0.2))\n",
    "    ])"
   ]
  },
  {
   "cell_type": "code",
   "execution_count": 29,
   "metadata": {
    "collapsed": false,
    "deletable": true,
    "editable": true
   },
   "outputs": [
    {
     "data": {
      "text/plain": [
       "array([ 3.33547035,  3.34151451,  3.2808841 ,  3.21937866,  3.30338786])"
      ]
     },
     "execution_count": 29,
     "metadata": {},
     "output_type": "execute_result"
    }
   ],
   "source": [
    "pipeline.fit(data, star_ratings)\n",
    "pipeline.predict(test_data)"
   ]
  },
  {
   "cell_type": "code",
   "execution_count": 30,
   "metadata": {
    "collapsed": false,
    "deletable": true,
    "editable": true
   },
   "outputs": [
    {
     "name": "stdout",
     "output_type": "stream",
     "text": [
      "[5.0, 5.1, 5.199999999999999, 5.299999999999999, 5.399999999999999, 5.499999999999998, 5.599999999999998, 5.6999999999999975, 5.799999999999997, 5.899999999999997]\n",
      "Fitting 3 folds for each of 10 candidates, totalling 30 fits\n",
      "[CV] ridgereg__alpha=5.0 .............................................\n",
      "[CV] .............. ridgereg__alpha=5.0, score=0.117122, total=   0.5s\n",
      "[CV] ridgereg__alpha=5.0 .............................................\n"
     ]
    },
    {
     "name": "stderr",
     "output_type": "stream",
     "text": [
      "[Parallel(n_jobs=1)]: Done   1 out of   1 | elapsed:    0.9s remaining:    0.0s\n"
     ]
    },
    {
     "name": "stdout",
     "output_type": "stream",
     "text": [
      "[CV] .............. ridgereg__alpha=5.0, score=0.140354, total=   0.6s\n",
      "[CV] ridgereg__alpha=5.0 .............................................\n"
     ]
    },
    {
     "name": "stderr",
     "output_type": "stream",
     "text": [
      "[Parallel(n_jobs=1)]: Done   2 out of   2 | elapsed:    2.0s remaining:    0.0s\n"
     ]
    },
    {
     "name": "stdout",
     "output_type": "stream",
     "text": [
      "[CV] .............. ridgereg__alpha=5.0, score=0.088370, total=   0.5s\n",
      "[CV] ridgereg__alpha=5.1 .............................................\n"
     ]
    },
    {
     "name": "stderr",
     "output_type": "stream",
     "text": [
      "[Parallel(n_jobs=1)]: Done   3 out of   3 | elapsed:    2.7s remaining:    0.0s\n"
     ]
    },
    {
     "name": "stdout",
     "output_type": "stream",
     "text": [
      "[CV] .............. ridgereg__alpha=5.1, score=0.117144, total=   0.8s\n",
      "[CV] ridgereg__alpha=5.1 .............................................\n"
     ]
    },
    {
     "name": "stderr",
     "output_type": "stream",
     "text": [
      "[Parallel(n_jobs=1)]: Done   4 out of   4 | elapsed:    3.6s remaining:    0.0s\n"
     ]
    },
    {
     "name": "stdout",
     "output_type": "stream",
     "text": [
      "[CV] .............. ridgereg__alpha=5.1, score=0.140408, total=   0.6s\n",
      "[CV] ridgereg__alpha=5.1 .............................................\n"
     ]
    },
    {
     "name": "stderr",
     "output_type": "stream",
     "text": [
      "[Parallel(n_jobs=1)]: Done   5 out of   5 | elapsed:    4.6s remaining:    0.0s\n"
     ]
    },
    {
     "name": "stdout",
     "output_type": "stream",
     "text": [
      "[CV] .............. ridgereg__alpha=5.1, score=0.088312, total=   0.5s\n",
      "[CV] ridgereg__alpha=5.2 .............................................\n"
     ]
    },
    {
     "name": "stderr",
     "output_type": "stream",
     "text": [
      "[Parallel(n_jobs=1)]: Done   6 out of   6 | elapsed:    5.3s remaining:    0.0s\n"
     ]
    },
    {
     "name": "stdout",
     "output_type": "stream",
     "text": [
      "[CV] .............. ridgereg__alpha=5.2, score=0.117165, total=   0.8s\n",
      "[CV] ridgereg__alpha=5.2 .............................................\n"
     ]
    },
    {
     "name": "stderr",
     "output_type": "stream",
     "text": [
      "[Parallel(n_jobs=1)]: Done   7 out of   7 | elapsed:    6.2s remaining:    0.0s\n"
     ]
    },
    {
     "name": "stdout",
     "output_type": "stream",
     "text": [
      "[CV] .............. ridgereg__alpha=5.2, score=0.140460, total=   0.7s\n",
      "[CV] ridgereg__alpha=5.2 .............................................\n"
     ]
    },
    {
     "name": "stderr",
     "output_type": "stream",
     "text": [
      "[Parallel(n_jobs=1)]: Done   8 out of   8 | elapsed:    7.3s remaining:    0.0s\n"
     ]
    },
    {
     "name": "stdout",
     "output_type": "stream",
     "text": [
      "[CV] .............. ridgereg__alpha=5.2, score=0.088253, total=   0.5s\n",
      "[CV] ridgereg__alpha=5.3 .............................................\n"
     ]
    },
    {
     "name": "stderr",
     "output_type": "stream",
     "text": [
      "[Parallel(n_jobs=1)]: Done   9 out of   9 | elapsed:    8.2s remaining:    0.0s\n"
     ]
    },
    {
     "name": "stdout",
     "output_type": "stream",
     "text": [
      "[CV] .............. ridgereg__alpha=5.3, score=0.117185, total=   0.6s\n",
      "[CV] ridgereg__alpha=5.3 .............................................\n",
      "[CV] .............. ridgereg__alpha=5.3, score=0.140510, total=   0.8s\n",
      "[CV] ridgereg__alpha=5.3 .............................................\n",
      "[CV] .............. ridgereg__alpha=5.3, score=0.088193, total=   0.6s\n",
      "[CV] ridgereg__alpha=5.4 .............................................\n",
      "[CV] .............. ridgereg__alpha=5.4, score=0.117202, total=   0.5s\n",
      "[CV] ridgereg__alpha=5.4 .............................................\n",
      "[CV] .............. ridgereg__alpha=5.4, score=0.140559, total=   0.6s\n",
      "[CV] ridgereg__alpha=5.4 .............................................\n",
      "[CV] .............. ridgereg__alpha=5.4, score=0.088131, total=   0.8s\n",
      "[CV] ridgereg__alpha=5.5 .............................................\n",
      "[CV] .............. ridgereg__alpha=5.5, score=0.117219, total=   0.6s\n",
      "[CV] ridgereg__alpha=5.5 .............................................\n",
      "[CV] .............. ridgereg__alpha=5.5, score=0.140606, total=   0.5s\n",
      "[CV] ridgereg__alpha=5.5 .............................................\n",
      "[CV] .............. ridgereg__alpha=5.5, score=0.088069, total=   0.7s\n",
      "[CV] ridgereg__alpha=5.6 .............................................\n",
      "[CV] .............. ridgereg__alpha=5.6, score=0.117234, total=   0.7s\n",
      "[CV] ridgereg__alpha=5.6 .............................................\n",
      "[CV] .............. ridgereg__alpha=5.6, score=0.140652, total=   0.6s\n",
      "[CV] ridgereg__alpha=5.6 .............................................\n",
      "[CV] .............. ridgereg__alpha=5.6, score=0.088005, total=   0.6s\n",
      "[CV] ridgereg__alpha=5.7 .............................................\n",
      "[CV] .............. ridgereg__alpha=5.7, score=0.117248, total=   0.8s\n",
      "[CV] ridgereg__alpha=5.7 .............................................\n",
      "[CV] .............. ridgereg__alpha=5.7, score=0.140696, total=   0.5s\n",
      "[CV] ridgereg__alpha=5.7 .............................................\n",
      "[CV] .............. ridgereg__alpha=5.7, score=0.087941, total=   0.6s\n",
      "[CV] ridgereg__alpha=5.8 .............................................\n",
      "[CV] .............. ridgereg__alpha=5.8, score=0.117261, total=   0.8s\n",
      "[CV] ridgereg__alpha=5.8 .............................................\n",
      "[CV] .............. ridgereg__alpha=5.8, score=0.140739, total=   0.5s\n",
      "[CV] ridgereg__alpha=5.8 .............................................\n",
      "[CV] .............. ridgereg__alpha=5.8, score=0.087876, total=   0.6s\n",
      "[CV] ridgereg__alpha=5.9 .............................................\n",
      "[CV] .............. ridgereg__alpha=5.9, score=0.117272, total=   0.6s\n",
      "[CV] ridgereg__alpha=5.9 .............................................\n",
      "[CV] .............. ridgereg__alpha=5.9, score=0.140780, total=   0.8s\n",
      "[CV] ridgereg__alpha=5.9 .............................................\n",
      "[CV] .............. ridgereg__alpha=5.9, score=0.087810, total=   0.6s\n"
     ]
    },
    {
     "name": "stderr",
     "output_type": "stream",
     "text": [
      "[Parallel(n_jobs=1)]: Done  30 out of  30 | elapsed:   27.1s finished\n"
     ]
    },
    {
     "name": "stdout",
     "output_type": "stream",
     "text": [
      "Pipeline(steps=[('trans', ColumnSelectTransformer(col_names=['categories'])), ('dictenc', DictEncoder()), ('vector', DictVectorizer(dtype=<type 'numpy.float64'>, separator='=', sort=True,\n",
      "        sparse=False)), ('ridgereg', Ridge(alpha=5.5, copy_X=True, fit_intercept=True, max_iter=None,\n",
      "   normalize=False, random_state=None, solver='auto', tol=0.001))])\n"
     ]
    }
   ],
   "source": [
    "rang = []\n",
    "s=float(5.0)\n",
    "for x in range(10):\n",
    "    rang.append(s)\n",
    "    s+=0.1\n",
    "    \n",
    "print rang\n",
    "\n",
    "param_grid = dict(ridgereg__alpha = rang)\n",
    "\n",
    "grid_search = GridSearchCV(pipeline, param_grid=param_grid, verbose=10)\n",
    "grid_search.fit(data, star_ratings)  #X, y\n",
    "print(grid_search.best_estimator_)"
   ]
  },
  {
   "cell_type": "code",
   "execution_count": 31,
   "metadata": {
    "collapsed": false,
    "deletable": true,
    "editable": true
   },
   "outputs": [],
   "source": [
    "cat_est = grid_search.best_estimator_\n",
    "    "
   ]
  },
  {
   "cell_type": "code",
   "execution_count": 32,
   "metadata": {
    "collapsed": false,
    "deletable": true,
    "editable": true
   },
   "outputs": [
    {
     "name": "stdout",
     "output_type": "stream",
     "text": [
      "==================\n",
      "Your score:  0.994745608651\n",
      "==================\n"
     ]
    }
   ],
   "source": [
    "grader.score('ml__category_model', cat_est.predict)  # Edit to appropriate name"
   ]
  },
  {
   "cell_type": "markdown",
   "metadata": {
    "deletable": true,
    "editable": true
   },
   "source": [
    "*Extension:* Some categories (e.g. Restaurants) are not very specific.  Others (Japanese sushi) are much more so.  One way to deal with this is with an measure call term-frequency-inverse-document-frequency (TF-IDF).  Add in a `sklearn.feature_extraction.text.TfidfTransformer` between the `DictVectorizer` and the linear model, and see if that improves performance.\n",
    "\n",
    "*Extension:* Can you beat the performance of the linear estimator with a\n",
    "non-linear model?"
   ]
  },
  {
   "cell_type": "markdown",
   "metadata": {
    "deletable": true,
    "editable": true
   },
   "source": [
    "## attribute_model\n",
    "There is even more information in the attributes for each venue.  Let's build an estimator based on these.\n",
    "\n",
    "Venues attributes may be nested:\n",
    "```\n",
    "{\n",
    "  'Attire': 'casual',\n",
    "  'Accepts Credit Cards': True,\n",
    "  'Ambiance': {'casual': False, 'classy': False}\n",
    "}\n",
    "```\n",
    "We wish to encode them with one-hot encoding.  The `DictVectorizer` can do this, but only once we've flattened the dictionary to a single level, like so:\n",
    "```\n",
    "{\n",
    "  'Attire_casual' : 1,\n",
    "  'Accepts Credit Cards': 1,\n",
    "  'Ambiance_casual': 0,\n",
    "  'Ambiance_classy': 0\n",
    "}\n",
    "```\n",
    "\n",
    "Build a custom transformer that flattens the attributes dictionary.  Place this in a pipeline with a `DictVectorizer` and a regressor.\n",
    "\n",
    "You may find it difficult to find a single regressor that does well enough.  A common solution is to use a linear model to fit the linear part of some data, and use a non-linear model to fit the residual that the linear model can't fit.  Build a residual estimator that takes as an argument two other estimators.  It should use the first to fit the raw data and the second to fit the residuals of the first."
   ]
  },
  {
   "cell_type": "code",
   "execution_count": 33,
   "metadata": {
    "collapsed": false,
    "deletable": true,
    "editable": true
   },
   "outputs": [],
   "source": [
    "class DictFlattener(base.BaseEstimator, base.TransformerMixin):\n",
    "    \n",
    "    def fit(self, X, y=None):\n",
    "        return self\n",
    "    \n",
    "    def transform(self,X):\n",
    "            # X will come in as a list of lists of dicts.  Return a list of\n",
    "            # dictionaries corresponding to those inner lists.\n",
    "        l = []\n",
    "        for x in X:\n",
    "            dic = dict()\n",
    "            for a in x[0]: \n",
    "                #x[0]: dict like {key1:value1, key2: {kkey3:value3, kkey4: value4}}\n",
    "                #a: entry like key1:value1 or key2: {kkey3:value3, kkey4: value4}\n",
    "                #dic[a] = 1\n",
    "                value1 = x[0][a]\n",
    "                #print type(value1)\n",
    "\n",
    "                if isinstance(value1, bool):\n",
    "                        if value1 == True:\n",
    "                            dic[a] = int(1)\n",
    "                        else:\n",
    "                            dic[a] = int(0)\n",
    "                        continue\n",
    "\n",
    "                if isinstance(value1, dict): \n",
    "                    #print 'x[0][a] is dict'\n",
    "\n",
    "                    for b in value1:\n",
    "                        value2 = value1[b]\n",
    "                        #print type(value2)\n",
    "                        if isinstance(value2, bool):\n",
    "                            if value2 == True:\n",
    "                                dic[a+'_'+b] = int(1)\n",
    "                            else:\n",
    "                                dic[a+'_'+b] = int(0)\n",
    "                            continue\n",
    "\n",
    "                        if isinstance(value2, dict): \n",
    "                            print 'value2 is dict !'\n",
    "                        else:\n",
    "                            if isinstance(value2, str): #type(value2)==type(''):\n",
    "                                dic[a+'_'+b+'_'+value2] = 1\n",
    "                            if isinstance(value2, (int, float)):\n",
    "                                dic[a+'_'+b] = value2\n",
    "\n",
    "                else:\n",
    "                    if isinstance(value1, str): #(value1)==type(''):\n",
    "                        dic[a+'_'+value1] = 1\n",
    "                    if isinstance(value1, (int, float)):\n",
    "                        dic[a] = value1\n",
    "            l.append(dic)\n",
    "        return l\n",
    "\n",
    "        \n",
    "      "
   ]
  },
  {
   "cell_type": "code",
   "execution_count": 34,
   "metadata": {
    "collapsed": false,
    "deletable": true,
    "editable": true
   },
   "outputs": [
    {
     "name": "stdout",
     "output_type": "stream",
     "text": [
      "True\n",
      "True\n"
     ]
    }
   ],
   "source": [
    "b= 'ba'\n",
    "print isinstance(b,str)\n",
    "c=True\n",
    "print isinstance(c,bool)"
   ]
  },
  {
   "cell_type": "code",
   "execution_count": 35,
   "metadata": {
    "collapsed": false,
    "deletable": true,
    "editable": true
   },
   "outputs": [
    {
     "name": "stdout",
     "output_type": "stream",
     "text": [
      "[[{'Accepts Credit Cards': True, 'Ambiance': {'casual': False, 'classy': False}, 'Number': 91, 'Attire': 'casual'}], [{'Accepts Credit Cards': True, 'Ambiance': {'casual': False, 'classy': True}, 'Number': 108, 'Attire': 'formal'}]]\n",
      "<type 'bool'>\n",
      "<type 'dict'>\n",
      "<type 'int'>\n",
      "<type 'str'>\n",
      "<type 'bool'>\n",
      "<type 'dict'>\n",
      "<type 'int'>\n",
      "<type 'str'>\n"
     ]
    },
    {
     "data": {
      "text/plain": [
       "[{'Accepts Credit Cards': 1,\n",
       "  'Ambiance_casual': 0,\n",
       "  'Ambiance_classy': 0,\n",
       "  'Attire_casual': 1,\n",
       "  'Number': 91},\n",
       " {'Accepts Credit Cards': 1,\n",
       "  'Ambiance_casual': 0,\n",
       "  'Ambiance_classy': 1,\n",
       "  'Attire_formal': 1,\n",
       "  'Number': 108}]"
      ]
     },
     "execution_count": 35,
     "metadata": {},
     "output_type": "execute_result"
    }
   ],
   "source": [
    "mytest = [[{\n",
    "  'Attire': 'casual',\n",
    "  'Number': 91,\n",
    "  'Accepts Credit Cards': True,\n",
    "  'Ambiance': {'casual': False, 'classy': False}\n",
    "}],  \n",
    "    [{\n",
    "  'Attire': 'formal',\n",
    "  'Number': 108,\n",
    "  'Accepts Credit Cards': True,\n",
    "  'Ambiance': {'casual': False, 'classy': True}\n",
    "}]]\n",
    "\n",
    "print mytest\n",
    "\n",
    "def transform(X):\n",
    "        # X will come in as a list of lists of dicts.  Return a list of\n",
    "        # dictionaries corresponding to those inner lists.\n",
    "    l = []\n",
    "    for x in X:\n",
    "        dic = dict()\n",
    "        for a in x[0]: \n",
    "            #x[0]: dict like {key1:value1, key2: {kkey3:value3, kkey4: value4}}\n",
    "            #a: entry like key1:value1 or key2: {kkey3:value3, kkey4: value4}\n",
    "            #dic[a] = 1\n",
    "            value1 = x[0][a]\n",
    "            print type(value1)\n",
    "            \n",
    "            if isinstance(value1, bool):\n",
    "                    if value1 == True:\n",
    "                        dic[a] = int(1)\n",
    "                    else:\n",
    "                        dic[a] = int(0)\n",
    "                    continue\n",
    "                    \n",
    "            if isinstance(value1, dict): \n",
    "                #print 'x[0][a] is dict'\n",
    "                \n",
    "                for b in value1:\n",
    "                    value2 = value1[b]\n",
    "                    #print type(value2)\n",
    "                    if isinstance(value2, bool):\n",
    "                        if value2 == True:\n",
    "                            dic[a+'_'+b] = int(1)\n",
    "                        else:\n",
    "                            dic[a+'_'+b] = int(0)\n",
    "                        continue\n",
    "                    \n",
    "                    if isinstance(value2, dict): \n",
    "                        print 'value2 is dict !'\n",
    "                    else:\n",
    "                        if isinstance(value2, str): #type(value2)==type(''):\n",
    "                            dic[a+'_'+b+'_'+value2] = 1\n",
    "                        if isinstance(value2, (int, float)):\n",
    "                            dic[a+'_'+b] = value2\n",
    "                            \n",
    "            else:\n",
    "                if isinstance(value1, str): #(value1)==type(''):\n",
    "                    dic[a+'_'+value1] = 1\n",
    "                if isinstance(value1, (int, float)):\n",
    "                    dic[a] = value1\n",
    "        l.append(dic)\n",
    "    return l\n",
    "\n",
    "transform(mytest)"
   ]
  },
  {
   "cell_type": "code",
   "execution_count": 36,
   "metadata": {
    "collapsed": true,
    "deletable": true,
    "editable": true
   },
   "outputs": [],
   "source": [
    "from sklearn.kernel_ridge import KernelRidge\n",
    "pipeline = Pipeline([\n",
    "        ('trans', ColumnSelectTransformer(['attributes'])),\n",
    "        ('dictflat', DictFlattener() ),\n",
    "        ('vector', DictVectorizer(sparse=False)), \n",
    "        ('ridgereg', Ridge(alpha=0.2))\n",
    "    ])\n"
   ]
  },
  {
   "cell_type": "code",
   "execution_count": 37,
   "metadata": {
    "collapsed": false,
    "deletable": true,
    "editable": true
   },
   "outputs": [
    {
     "data": {
      "text/plain": [
       "array([ 4.06277087,  3.42259591,  3.56241479,  3.36195394,  3.36591604])"
      ]
     },
     "execution_count": 37,
     "metadata": {},
     "output_type": "execute_result"
    }
   ],
   "source": [
    "pipeline.fit(data, star_ratings)\n",
    "pipeline.predict(test_data)"
   ]
  },
  {
   "cell_type": "code",
   "execution_count": 65,
   "metadata": {
    "collapsed": false,
    "deletable": true,
    "editable": true
   },
   "outputs": [
    {
     "data": {
      "text/plain": [
       "array([ 3.91113264,  3.80298876,  3.64047842, ...,  3.70935231,\n",
       "        3.84396555,  3.53239312])"
      ]
     },
     "execution_count": 65,
     "metadata": {},
     "output_type": "execute_result"
    }
   ],
   "source": [
    "import numpy as np\n",
    "from sklearn import datasets, linear_model, utils, preprocessing\n",
    "from sklearn.base import BaseEstimator, RegressorMixin, TransformerMixin\n",
    "from sklearn import neighbors\n",
    "from sklearn import ensemble\n",
    "from sklearn.pipeline import Pipeline, FeatureUnion\n",
    "\n",
    "\n",
    "class EnsembleTransformer(BaseEstimator, TransformerMixin):\n",
    "    \n",
    "    def __init__(self, base_estimator, residual_estimators):\n",
    "        self.base_estimator = base_estimator\n",
    "        self.residual_estimators = residual_estimators\n",
    "    \n",
    "    def fit(self, X, y):\n",
    "        self.base_estimator.fit(X, y)\n",
    "        y_err = y - self.base_estimator.predict(X)\n",
    "        for est in self.residual_estimators:\n",
    "            est.fit(X, y_err)\n",
    "        return self\n",
    "    \n",
    "    def transform(self, X):\n",
    "        all_ests = [self.base_estimator] + list(self.residual_estimators)\n",
    "        return np.array([est.predict(X) for est in all_ests]).T\n",
    "\n",
    "\n",
    "ensemble_pipe = Pipeline([\n",
    "        ('trans', ColumnSelectTransformer(['attributes'])),\n",
    "        ('dictflat', DictFlattener() ),\n",
    "        ('vector', DictVectorizer(sparse=False)), \n",
    "        ('ensemble', EnsembleTransformer(\n",
    "                linear_model.LinearRegression(),\n",
    "                (neighbors.KNeighborsRegressor(n_neighbors=31),\n",
    "                 ensemble.RandomForestRegressor(min_samples_leaf=42)))),\n",
    "        ('blend', linear_model.LinearRegression())\n",
    "    ])\n",
    "\n",
    "\n",
    "ensemble_pipe.fit(data, star_ratings)\n",
    "ensemble_pipe.predict(data)"
   ]
  },
  {
   "cell_type": "code",
   "execution_count": 41,
   "metadata": {
    "collapsed": true,
    "deletable": true,
    "editable": true
   },
   "outputs": [],
   "source": [
    "ensemble_pipe31_20 = ensemble_pipe"
   ]
  },
  {
   "cell_type": "code",
   "execution_count": 70,
   "metadata": {
    "collapsed": false,
    "deletable": true,
    "editable": true
   },
   "outputs": [
    {
     "name": "stdout",
     "output_type": "stream",
     "text": [
      "==================\n",
      "Your score:  0.9194599933\n",
      "==================\n"
     ]
    }
   ],
   "source": [
    "grader.score('ml__attribute_model', ensemble_pipe.predict)  # Edit to appropriate name"
   ]
  },
  {
   "cell_type": "markdown",
   "metadata": {
    "deletable": true,
    "editable": true
   },
   "source": [
    "## full_model\n",
    "So far we have only built models based on individual features.  Now we will build an ensemble regressor that averages together the estimates of the four previous regressors.\n",
    "\n",
    "In order to use the existing models as input to an estimator, we will have to turn them into transformers.  (A pipeline can contain at most a single estimator.)  Build a custom `ModelTransformer` class that takes an estimator as an argument.  When `fit()` is called, the estimator should be fit.  When `transform()` is called, the estimator's `predict()` method should be called, and its results returned.\n",
    "\n",
    "Note that the output of the `transform()` method should be a 2-D array with a single column, in order for it to work well with the Scikit Learn pipeline.  If you're using Numpy arrays, you can use `.reshape(-1, 1)` to create a column vector.  If you are just using Python lists, you will want a list of lists of single elements."
   ]
  },
  {
   "cell_type": "code",
   "execution_count": 77,
   "metadata": {
    "collapsed": true,
    "deletable": true,
    "editable": true
   },
   "outputs": [],
   "source": [
    "import numpy as np\n",
    "class EstimatorTransformer(base.BaseEstimator, base.TransformerMixin):\n",
    "    \n",
    "    def __init__(self, estimator):\n",
    "        # What needs to be done here?\n",
    "        self.estimator = estimator\n",
    "    \n",
    "    def fit(self, X, y):\n",
    "        # Fit the stored estimator.\n",
    "        # Question: what should be returned? estimator\n",
    "        self.estimator.fit(X, y)\n",
    "        return self\n",
    "    \n",
    "    def transform(self, X):\n",
    "        # Use predict on the stored estimator as a \"transformation\".\n",
    "        # Be sure to return a 2-D array with a single column.  use numpy .reshape(-1, 1)\n",
    "        pred = self.estimator.predict(X)\n",
    "        pred = np.array(pred).reshape(-1,1)\n",
    "        return pred"
   ]
  },
  {
   "cell_type": "code",
   "execution_count": 57,
   "metadata": {
    "collapsed": false,
    "deletable": true,
    "editable": true
   },
   "outputs": [
    {
     "name": "stdout",
     "output_type": "stream",
     "text": [
      "[1 2 3 4 5 6]\n",
      "[[1]\n",
      " [2]\n",
      " [3]\n",
      " [4]\n",
      " [5]\n",
      " [6]]\n"
     ]
    }
   ],
   "source": [
    "a = [1,2,3,4,5,6]\n",
    "nd = np.array(a)\n",
    "print nd\n",
    "print nd.reshape(-1,1)"
   ]
  },
  {
   "cell_type": "markdown",
   "metadata": {
    "deletable": true,
    "editable": true
   },
   "source": [
    "This should work as follows:"
   ]
  },
  {
   "cell_type": "code",
   "execution_count": 78,
   "metadata": {
    "collapsed": false,
    "deletable": true,
    "editable": true
   },
   "outputs": [],
   "source": [
    "city_trans = EstimatorTransformer(city_est)\n",
    "city_trans.fit(data, star_ratings)\n",
    "assert ([r[0] for r in city_trans.transform(data[:5])]\n",
    "        == city_est.predict(data[:5]))"
   ]
  },
  {
   "cell_type": "markdown",
   "metadata": {
    "deletable": true,
    "editable": true
   },
   "source": [
    "Create an instance of `ModelTransformer` for each of the previous four models. Combine these together in a single feature matrix with a\n",
    "[FeatureUnion](http://scikit-learn.org/stable/modules/generated/sklearn.pipeline.FeatureUnion.html#sklearn.pipeline.FeatureUnion)."
   ]
  },
  {
   "cell_type": "code",
   "execution_count": 79,
   "metadata": {
    "collapsed": false,
    "deletable": true,
    "editable": true
   },
   "outputs": [],
   "source": [
    "from sklearn.pipeline import FeatureUnion\n",
    "\n",
    "city_est = CityEstimator()\n",
    "\n",
    "lat_long_pipeline = Pipeline([\n",
    "        ('trans', ColumnSelectTransformer(['latitude', 'longitude'])),# ColumnSelectTransformer\n",
    "        ('est', KNeighborsRegressor(n_neighbors=39))# KNeighborsRegressor\n",
    "    ])\n",
    "\n",
    "cat_pipeline = Pipeline([\n",
    "        ('trans', ColumnSelectTransformer(['categories'])),\n",
    "        ('dictenc', DictEncoder() ),\n",
    "        ('vector', DictVectorizer(sparse=False)), \n",
    "        ('ridgereg', Ridge(alpha=5.5))\n",
    "    ])\n",
    "\n",
    "\n",
    "union = FeatureUnion([ # FeatureUnions use the same syntax as Pipelines\n",
    "    ('city_trans', EstimatorTransformer(city_est)),\n",
    "    ('lat_long_trans', EstimatorTransformer(lat_long_pipeline)),\n",
    "    ('cat_trans', EstimatorTransformer(cat_pipeline)),\n",
    "    ('attr_trans', EstimatorTransformer(ensemble_pipe))\n",
    "    ])\n",
    "\n",
    "#union_pipe = pipeline.Pipeline([\n",
    "#  (\"features\", union),\n",
    "#  (\"linreg\", LinearRegression(fit_intercept=True))\n",
    "#  ])\n",
    "#union_pipe.fit(X_train, y_train)"
   ]
  },
  {
   "cell_type": "markdown",
   "metadata": {
    "deletable": true,
    "editable": true
   },
   "source": [
    "This should return a feature matrix with four columns."
   ]
  },
  {
   "cell_type": "code",
   "execution_count": 80,
   "metadata": {
    "collapsed": true,
    "deletable": true,
    "editable": true
   },
   "outputs": [],
   "source": [
    "union.fit(data, star_ratings)\n",
    "trans_data = union.transform(data[:10])\n",
    "assert trans_data.shape == (10, 4)"
   ]
  },
  {
   "cell_type": "markdown",
   "metadata": {
    "deletable": true,
    "editable": true
   },
   "source": [
    "Finally, use a pipeline to combine the feature union with a linear regression (or another model) to weight the predictions."
   ]
  },
  {
   "cell_type": "code",
   "execution_count": 85,
   "metadata": {
    "collapsed": false,
    "deletable": true,
    "editable": true,
    "scrolled": true
   },
   "outputs": [],
   "source": [
    "pipe_union = Pipeline([\n",
    "  (\"union\", union),\n",
    "  (\"linreg\", linear_model.LinearRegression(fit_intercept=True))\n",
    "  ])\n",
    "\n",
    "full_est = pipe_union.fit(data, star_ratings)"
   ]
  },
  {
   "cell_type": "code",
   "execution_count": 86,
   "metadata": {
    "collapsed": false,
    "deletable": true,
    "editable": true
   },
   "outputs": [
    {
     "name": "stdout",
     "output_type": "stream",
     "text": [
      "==================\n",
      "Your score:  0.98899381711\n",
      "==================\n"
     ]
    }
   ],
   "source": [
    "grader.score('ml__full_model', full_est.predict)  # Edit to appropriate name"
   ]
  },
  {
   "cell_type": "markdown",
   "metadata": {
    "deletable": true,
    "editable": true
   },
   "source": [
    "*Extension:* By combining our models with a linear model, we will be unable to notice any correlation between features.  We don't expect all attributes to have the same effect on all venues.  For example, \"Ambiance: divey\" might be a bad indicator for a restaurant but a good one for a bar.  Nonlinear models can pick up on this interaction.  Replace the linear model combining the predictions with a nonlinear one like [RandomForestRegressor](http://scikit-learn.org/stable/modules/generated/sklearn.ensemble.RandomForestRegressor.html#sklearn.ensemble.RandomForestRegressor).  Better yet, use the nonlinear model to fit the residuals of the linear model.\n",
    "\n",
    "The score for this question is just a ratio of the score of your model to the score of a reference solution.  Can you beat the reference solution and get a score greater than 1.0?"
   ]
  },
  {
   "cell_type": "markdown",
   "metadata": {
    "deletable": true,
    "editable": true
   },
   "source": [
    "*Copyright &copy; 2016 The Data Incubator.  All rights reserved.*"
   ]
  }
 ],
 "metadata": {
  "kernelspec": {
   "display_name": "Python 2",
   "language": "python",
   "name": "python2"
  },
  "language_info": {
   "codemirror_mode": {
    "name": "ipython",
    "version": 2
   },
   "file_extension": ".py",
   "mimetype": "text/x-python",
   "name": "python",
   "nbconvert_exporter": "python",
   "pygments_lexer": "ipython2",
   "version": "2.7.13"
  }
 },
 "nbformat": 4,
 "nbformat_minor": 0
}
