{
 "cells": [
  {
   "cell_type": "markdown",
   "metadata": {},
   "source": [
    "### 3. In a country where everyone wants a boy, each family continues having babies til they have a boy, at which point they stop having children.  What is the proportion of boys to girls in the country? (Assuming probability of having a boy or a girl is the same.) http://www.crazyforcode.com/boys-girls/\n",
    "\n",
    "\n",
    "\n",
    "## 14. Play a game with an urn that has 75 blue balls, 25 red balls, and 1 yellow ball.  You draw balls without replacing them back into the urn.  You get a dollar for every red ball and if you select the yellow ball, you lose all your earnings and must stop playing.  What should be your strategy in the game?"
   ]
  },
  {
   "cell_type": "markdown",
   "metadata": {},
   "source": [
    "## 2. Write a method to generate a random number between 1 and 7, given a method that generates a random number between 1 and 5. The distribution between each of the numbers must be uniform. http://www.mytechinterviews.com/equal-probability-between-1-and-7\n",
    "\n",
    "### 6. We consider numbers from 1 to 1 million. How many times does the digit \"2\" appear?"
   ]
  },
  {
   "cell_type": "code",
   "execution_count": null,
   "metadata": {
    "collapsed": true
   },
   "outputs": [],
   "source": []
  }
 ],
 "metadata": {
  "kernelspec": {
   "display_name": "Python 2",
   "language": "python",
   "name": "python2"
  },
  "language_info": {
   "codemirror_mode": {
    "name": "ipython",
    "version": 2
   },
   "file_extension": ".py",
   "mimetype": "text/x-python",
   "name": "python",
   "nbconvert_exporter": "python",
   "pygments_lexer": "ipython2",
   "version": "2.7.13"
  }
 },
 "nbformat": 4,
 "nbformat_minor": 2
}
