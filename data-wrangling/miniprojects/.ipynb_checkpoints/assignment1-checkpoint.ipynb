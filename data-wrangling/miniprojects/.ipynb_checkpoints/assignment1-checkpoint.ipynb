{
 "cells": [
  {
   "cell_type": "code",
   "execution_count": null,
   "metadata": {
    "collapsed": false,
    "deletable": true,
    "editable": true
   },
   "outputs": [],
   "source": [
    "%matplotlib inline\n",
    "import matplotlib\n",
    "import seaborn as sns\n",
    "matplotlib.rcParams['savefig.dpi'] = 144"
   ]
  },
  {
   "cell_type": "code",
   "execution_count": null,
   "metadata": {
    "collapsed": false,
    "deletable": true,
    "editable": true
   },
   "outputs": [],
   "source": [
    "import grader"
   ]
  },
  {
   "cell_type": "markdown",
   "metadata": {
    "deletable": true,
    "editable": true
   },
   "source": [
    "# Assignment 1: Introduction to the Grader\n",
    "\n",
    "Each miniproject comes in the form of a Jupyter notebook, like this one.  This first section will give a high-level description of the problem, as well as link to any data that you may need.  Following that, there will be a series of questions.  Each will have a cell with a call to the `score` function.  You job is to prepare a function to be passed to this function that will pass the grader.\n",
    "\n",
    "Be sure to run the cells at the top of the notebook to load the `score` function."
   ]
  },
  {
   "cell_type": "markdown",
   "metadata": {
    "deletable": true,
    "editable": true
   },
   "source": [
    "# Questions\n",
    "\n",
    "## five_primes\n",
    "\n",
    "In some questions, you will be asked to simply return a list of results.  In this case, you are to return a list of the first five primes.  Edit the cell below to create this list."
   ]
  },
  {
   "cell_type": "code",
   "execution_count": null,
   "metadata": {
    "collapsed": true,
    "deletable": true,
    "editable": true
   },
   "outputs": [],
   "source": [
    "primes = [1,2,3,5,7]"
   ]
  },
  {
   "cell_type": "markdown",
   "metadata": {
    "deletable": true,
    "editable": true
   },
   "source": [
    "The `score` function takes another function as an argument, so we'll define a function that returns this list.  The `score` function will call this function and send its output to the grader, which returns a score."
   ]
  },
  {
   "cell_type": "code",
   "execution_count": null,
   "metadata": {
    "collapsed": false,
    "deletable": true,
    "editable": true
   },
   "outputs": [],
   "source": [
    "def give_primes():\n",
    "    count = 0\n",
    "    limit = 5\n",
    "    primes = []\n",
    "    n = 1\n",
    "    while count < limit:\n",
    "        if all( n % prime != 0 for prime in primes ):\n",
    "            primes.append(n)\n",
    "            n = n+1\n",
    "        else: \n",
    "            continue\n",
    "            n = n+1       \n",
    "    return primes\n",
    "print give_primes()\n",
    "#grader.score(\"assignment1__five_primes\", give_primes)"
   ]
  },
  {
   "cell_type": "markdown",
   "metadata": {
    "deletable": true,
    "editable": true
   },
   "source": [
    "## square\n",
    "\n",
    "Other questions will require you to build a function that takes some input and returns a specified output.  Build a function that takes a list of numbers and return a list of their squares."
   ]
  },
  {
   "cell_type": "code",
   "execution_count": null,
   "metadata": {
    "collapsed": false,
    "deletable": true,
    "editable": true
   },
   "outputs": [],
   "source": [
    "def square(x):\n",
    "    ..."
   ]
  },
  {
   "cell_type": "markdown",
   "metadata": {
    "deletable": true,
    "editable": true
   },
   "source": [
    "In this case, the `score` method will ask the grader for the input, pass it to your function, and report the output back for grading."
   ]
  },
  {
   "cell_type": "code",
   "execution_count": null,
   "metadata": {
    "collapsed": false,
    "deletable": true,
    "editable": true
   },
   "outputs": [],
   "source": [
    "grader.score(\"assignment1__square\", square)"
   ]
  },
  {
   "cell_type": "markdown",
   "metadata": {
    "deletable": true,
    "editable": true
   },
   "source": [
    "*Copyright &copy; 2016 The Data Incubator.  All rights reserved.*"
   ]
  }
 ],
 "metadata": {
  "kernelspec": {
   "display_name": "Python 2",
   "language": "python",
   "name": "python2"
  },
  "language_info": {
   "codemirror_mode": {
    "name": "ipython",
    "version": 2
   },
   "file_extension": ".py",
   "mimetype": "text/x-python",
   "name": "python",
   "nbconvert_exporter": "python",
   "pygments_lexer": "ipython2",
   "version": "2.7.13"
  }
 },
 "nbformat": 4,
 "nbformat_minor": 0
}
