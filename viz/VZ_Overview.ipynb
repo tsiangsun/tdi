{
 "cells": [
  {
   "cell_type": "code",
   "execution_count": null,
   "metadata": {
    "collapsed": false
   },
   "outputs": [],
   "source": [
    "%matplotlib inline\n",
    "import matplotlib\n",
    "import seaborn as sns\n",
    "matplotlib.rcParams['savefig.dpi'] = 144"
   ]
  },
  {
   "cell_type": "markdown",
   "metadata": {},
   "source": [
    "# Overview of Data Visualization"
   ]
  },
  {
   "cell_type": "code",
   "execution_count": null,
   "metadata": {
    "collapsed": false
   },
   "outputs": [],
   "source": [
    "# Header graphic\n",
    "import pandas as pd\n",
    "tips = sns.load_dataset(\"tips\")\n",
    "pd.scatter_matrix(tips, alpha=0.2, figsize=(5, 5), diagonal='kde');"
   ]
  },
  {
   "cell_type": "markdown",
   "metadata": {},
   "source": [
    "## Introduction\n",
    "\n",
    "Data science is about helping humans understand the story behind the data, and visualizations provide a powerful tool for helping the analyst understand and communicate that story. \n",
    "\n",
    "Visualization can serve a dual purpose:\n",
    "* Data exploration\n",
    "* Data explanation \n",
    "\n",
    "**Data exploration** helps the data scientist understand the data at hand. This module teaches data exploration using select Python libraries like `matplotlib`, `seaborn`, `pandas`, and `bokeh` to highlight the process of dissecting a large dataset to pull out meaningful relationships.\n",
    "\n",
    "When particular insights emerge and need to be **explained** to another audience, D3, a Javascript library, is a preferred tool for creating professional visualizations, which are often presented on the web. To that end, we also include primer on HTML and Javascript, as well as a sample project template for easy deployment of D3 visualizations on the web.\n",
    "\n",
    "Separate notebooks teach the technologies for each of those 2 approaches, as well as visualiation **best practices**.\n",
    "\n",
    "Below, we present some quick examples of a few common libraries."
   ]
  },
  {
   "cell_type": "markdown",
   "metadata": {},
   "source": [
    "## Pandas plots"
   ]
  },
  {
   "cell_type": "code",
   "execution_count": null,
   "metadata": {
    "collapsed": false
   },
   "outputs": [],
   "source": [
    "# working dataset\n",
    "tips.head()"
   ]
  },
  {
   "cell_type": "code",
   "execution_count": null,
   "metadata": {
    "collapsed": false
   },
   "outputs": [],
   "source": [
    "tips_hist = tips.hist()    #pandas hist() function. tips is a DataFrame"
   ]
  },
  {
   "cell_type": "markdown",
   "metadata": {},
   "source": [
    "## ggplot"
   ]
  },
  {
   "cell_type": "code",
   "execution_count": null,
   "metadata": {
    "collapsed": false
   },
   "outputs": [],
   "source": [
    "# pip install ggplot\n",
    "# from ggplot import *"
   ]
  },
  {
   "cell_type": "code",
   "execution_count": null,
   "metadata": {
    "collapsed": false
   },
   "outputs": [],
   "source": [
    "# ggplot(aes(x='tip'), data=tips) +\\\n",
    "#     geom_histogram() +\\\n",
    "#     ggtitle(\"Histogram of tips\")    "
   ]
  },
  {
   "cell_type": "markdown",
   "metadata": {},
   "source": [
    "## bokeh\n",
    "(bokeh has some built-in interactivity)"
   ]
  },
  {
   "cell_type": "code",
   "execution_count": null,
   "metadata": {
    "collapsed": true
   },
   "outputs": [],
   "source": [
    "from bokeh.charts import Histogram\n",
    "from bokeh.plotting import show\n",
    "from bokeh.io import output_notebook"
   ]
  },
  {
   "cell_type": "code",
   "execution_count": null,
   "metadata": {
    "collapsed": false
   },
   "outputs": [],
   "source": [
    "output_notebook()"
   ]
  },
  {
   "cell_type": "code",
   "execution_count": null,
   "metadata": {
    "collapsed": false
   },
   "outputs": [],
   "source": [
    "hist = Histogram(tips['tip'])\n",
    "show(hist)"
   ]
  },
  {
   "cell_type": "markdown",
   "metadata": {},
   "source": [
    "*Copyright &copy; 2015 The Data Incubator.  All rights reserved.*"
   ]
  }
 ],
 "metadata": {
  "kernelspec": {
   "display_name": "Python 2",
   "language": "python",
   "name": "python2"
  },
  "language_info": {
   "codemirror_mode": {
    "name": "ipython",
    "version": 2
   },
   "file_extension": ".py",
   "mimetype": "text/x-python",
   "name": "python",
   "nbconvert_exporter": "python",
   "pygments_lexer": "ipython2",
   "version": "2.7.12"
  }
 },
 "nbformat": 4,
 "nbformat_minor": 0
}
