{
 "cells": [
  {
   "cell_type": "code",
   "execution_count": 1,
   "metadata": {
    "collapsed": true,
    "deletable": true,
    "editable": true
   },
   "outputs": [],
   "source": [
    "%matplotlib inline\n",
    "import matplotlib\n",
    "import seaborn as sns\n",
    "matplotlib.rcParams['savefig.dpi'] = 144"
   ]
  },
  {
   "cell_type": "markdown",
   "metadata": {
    "deletable": true,
    "editable": true
   },
   "source": [
    "# A Javascript Primer\n",
    "\n",
    "If you're making interactive visualizations for the web, you'll almost certainly need to get your hands dirty with Javascript at some point. This notebook hopes to give you a working knowledge of the language and its vicissitudes so you can go forth and write code on the World Wide Web."
   ]
  },
  {
   "cell_type": "code",
   "execution_count": 2,
   "metadata": {
    "collapsed": false,
    "deletable": true,
    "editable": true
   },
   "outputs": [
    {
     "data": {
      "application/javascript": [
       "\n",
       "function add_highlight_mode(mode, pattern) {\n",
       "    var modes = IPython.CodeCell.config_defaults.highlight_modes;\n",
       "    var mode_name = 'magic_' + mode;\n",
       "    if (!modes[mode_name])\n",
       "        modes[mode_name] = {};\n",
       "    if (!modes[mode_name]['reg'])\n",
       "        modes[mode_name]['reg'] = [];\n",
       "    modes[mode_name]['reg'].push(pattern);\n",
       "}\n",
       "add_highlight_mode('html', /^%%ihtml/);\n",
       "add_highlight_mode('javascript', /^%%jsdoc/);\n",
       "add_highlight_mode('css', /^%%cssdoc/);\n"
      ]
     },
     "metadata": {},
     "output_type": "display_data"
    }
   ],
   "source": [
    "# a library we use to allow for nicely embedded HTML/CSS/JS\n",
    "import ihtml"
   ]
  },
  {
   "cell_type": "markdown",
   "metadata": {
    "deletable": true,
    "editable": true
   },
   "source": [
    "## Basic syntax"
   ]
  },
  {
   "cell_type": "markdown",
   "metadata": {
    "deletable": true,
    "editable": true
   },
   "source": [
    "You'll want to open up the web-based JS console to follow along with these examples. Note that the JS console is a great place to try out writing JS code.\n",
    "\n",
    "For some common tasks, we've opted to show a few language constructs that have the same effect. When writing code, pick one and stick to it. However, it's useful to have a vague idea for some of these constructs when reading code that others have written."
   ]
  },
  {
   "cell_type": "code",
   "execution_count": 6,
   "metadata": {
    "collapsed": false,
    "deletable": true,
    "editable": true
   },
   "outputs": [
    {
     "data": {
      "application/javascript": [
       "\n",
       "//a comment in JS\n",
       "\n",
       "//declaring a variable, arrays, array access\n",
       "var x = 2;\n",
       "var xArray = [2, 3, 4];\n",
       "console.log(xArray);\n",
       "var string = \"hello\";\n",
       "var stringConcat = string + \", world\";\n",
       "console.log(stringConcat);\n",
       "if(xArray[0] == x){\n",
       "    console.log(\"x == xArray[0]\");\n",
       "}"
      ],
      "text/plain": [
       "<IPython.core.display.Javascript object>"
      ]
     },
     "metadata": {},
     "output_type": "display_data"
    }
   ],
   "source": [
    "%%javascript\n",
    "\n",
    "//a comment in JS\n",
    "\n",
    "//declaring a variable, arrays, array access\n",
    "var x = 2;\n",
    "var xArray = [2, 3, 4];\n",
    "console.log(xArray);\n",
    "var string = \"hello\";\n",
    "var stringConcat = string + \", world\";\n",
    "console.log(stringConcat);\n",
    "if(xArray[0] == x){\n",
    "    console.log(\"x == xArray[0]\");\n",
    "}"
   ]
  },
  {
   "cell_type": "markdown",
   "metadata": {
    "deletable": true,
    "editable": true
   },
   "source": [
    "You can clear the console in chrome with ctrl + L , or the circular \"do not enter\" button in the top left corner."
   ]
  },
  {
   "cell_type": "code",
   "execution_count": 4,
   "metadata": {
    "collapsed": false,
    "deletable": true,
    "editable": true
   },
   "outputs": [
    {
     "data": {
      "application/javascript": [
       "\n",
       "// standard function definition\n",
       "function concatString(string1, string2){\n",
       "  console.log(string1 + \" \" + string2);\n",
       "  return string1 + \" \" + string2;\n",
       "}\n",
       "var result = concatString(\"Hey\", \"you\");\n",
       "if(result == \"Hey you\"){\n",
       "    console.log(\"Return value was Hey you\");\n",
       "}\n",
       "\n",
       "// we can also declare functions with this syntax\n",
       "var concatString2 = function(string1, string2) {\n",
       "    console.log(string1 + \" -- \" + string2);\n",
       "    return string1 + \" -- \" + string2;\n",
       "}\n",
       "var result2 = concatString2(\"Bye\", \"you\");"
      ],
      "text/plain": [
       "<IPython.core.display.Javascript object>"
      ]
     },
     "metadata": {},
     "output_type": "display_data"
    }
   ],
   "source": [
    "%%javascript\n",
    "\n",
    "// standard function definition\n",
    "function concatString(string1, string2){\n",
    "  console.log(string1 + \" \" + string2);\n",
    "  return string1 + \" \" + string2;\n",
    "}\n",
    "var result = concatString(\"Hey\", \"you\");\n",
    "if(result == \"Hey you\"){\n",
    "    console.log(\"Return value was Hey you\");\n",
    "}\n",
    "\n",
    "// we can also declare functions with this syntax\n",
    "var concatString2 = function(string1, string2) {\n",
    "    console.log(string1 + \" -- \" + string2);\n",
    "    return string1 + \" -- \" + string2;\n",
    "}\n",
    "var result2 = concatString2(\"Bye\", \"you\");"
   ]
  },
  {
   "cell_type": "code",
   "execution_count": 7,
   "metadata": {
    "collapsed": false,
    "deletable": true,
    "editable": true
   },
   "outputs": [
    {
     "data": {
      "application/javascript": [
       "\n",
       "var xArray = [2, 3, 4];\n",
       "\n",
       "//standard for loop\n",
       "for(var i=0; i < xArray.length; i++){\n",
       "    console.log(xArray[i]);\n",
       "}\n",
       "console.log(\"======\");\n",
       "\n",
       "// you'll see this in newer JS, and JQuery, more and more frequently\n",
       "// note the anonymous function we pass in\n",
       "// BEWARE: not all list-like objects in JS support forEach...\n",
       "xArray.forEach(function(el){\n",
       "    console.log(el);\n",
       "})\n",
       "\n",
       "\n",
       "console.log(\"======\");\n",
       "\n",
       "//question: what is i?\n",
       "xArray.forEach(function(el, i){\n",
       "    console.log(el + \" -- \" + i);\n",
       "})\n",
       "\n",
       "console.log(\"======\");\n",
       "\n",
       "// console.log can take an arbitrary number of elements...\n",
       "console.log(\"arg1 here \", \"then arg2 is concatenated, \", \"and similarly for arg3...\")\n",
       "\n",
       "// question: can you explain the output here?\n",
       "xArray.forEach(console.log)"
      ],
      "text/plain": [
       "<IPython.core.display.Javascript object>"
      ]
     },
     "metadata": {},
     "output_type": "display_data"
    }
   ],
   "source": [
    "%%javascript\n",
    "\n",
    "var xArray = [2, 3, 4];\n",
    "\n",
    "//standard for loop\n",
    "for(var i=0; i < xArray.length; i++){\n",
    "    console.log(xArray[i]);\n",
    "}\n",
    "console.log(\"======\");\n",
    "\n",
    "// you'll see this in newer JS, and JQuery, more and more frequently\n",
    "// note the anonymous function we pass in\n",
    "// BEWARE: not all list-like objects in JS support forEach...\n",
    "xArray.forEach(function(el){\n",
    "    console.log(el);\n",
    "})\n",
    "\n",
    "\n",
    "console.log(\"======\");\n",
    "\n",
    "//question: what is i?\n",
    "xArray.forEach(function(el, i){\n",
    "    console.log(el + \" -- \" + i);\n",
    "})\n",
    "\n",
    "console.log(\"======\");\n",
    "\n",
    "// console.log can take an arbitrary number of elements...\n",
    "console.log(\"arg1 here \", \"then arg2 is concatenated, \", \"and similarly for arg3...\")\n",
    "\n",
    "// question: can you explain the output here?\n",
    "xArray.forEach(console.log)"
   ]
  },
  {
   "cell_type": "markdown",
   "metadata": {
    "deletable": true,
    "editable": true
   },
   "source": [
    "## Basic DOM Manipulation\n",
    "\n",
    "As a language, JavaScript has object-oriented features. In particular, the [DOM](https://en.wikipedia.org/wiki/Document_Object_Model) (Document Object Model) is accessible to us via the global `document` object. We can both get state from, and set the state of, elements in the DOM via this object.\n",
    "\n",
    "You can learn more about the DOM API [here](http://www.w3.org/DOM/DOMTR), but we wouldn't recommend doing this, as libraries such as JQuery and D3.js make manipulating the DOM much more convenient than what we'll see below."
   ]
  },
  {
   "cell_type": "code",
   "execution_count": 10,
   "metadata": {
    "collapsed": false,
    "deletable": true,
    "editable": true
   },
   "outputs": [
    {
     "data": {
      "text/html": [
       "\n",
       "        <iframe\n",
       "            width=\"100%\"\n",
       "            height=\"400\"\n",
       "            src=\"data:text/html;base64,PCFET0NUWVBFIGh0bWw+CjxodG1sPgogIDxoZWFkPgogICAgPHNjcmlwdD4KICAgICAgZnVuY3Rpb24gY2hhbmdlR3JlZXRpbmcoKXsKICAgICAgICAvL3RoaXMgcmV0dXJucyBhIGxpc3Qgb2YgRE9NIG9iamVjdHMgY29ycmVzcG9uZGluZyB0byBQIHRhZ3MKICAgICAgICB2YXIgcFRhZ3MgPSBkb2N1bWVudC5nZXRFbGVtZW50c0J5VGFnTmFtZSgicCIpOwogICAgICAgIC8vcXVlc3Rpb246IGhvdyBtYW55IGVsZW1lbnRzIGFyZSBpbiB0aGlzIGxpc3Q/CiAgICAgICAgdmFyIGdyZWV0aW5nID0gcFRhZ3NbMF07CiAgICAgICAgLy8gd2UgY2FuIHVzZSBpbm5lckhUTUwgdG8gZ2V0Li4uCiAgICAgICAgdmFyIGdyZWV0aW5nVGV4dCA9IGdyZWV0aW5nLmlubmVySFRNTDsKICAgICAgICAgIAogICAgICAgIC8vIC4uLiBhbmQgc2V0IHZhbHVlcwogICAgICAgIGdyZWV0aW5nLmlubmVySFRNTCA9IGdyZWV0aW5nVGV4dC5yZXBsYWNlKCJoZWxsbyIsICJnb29kYnllIik7CiAgICAgIH0KICAgICAgLy8gaW4gMi41IHNlY29uZHMsIGNhbGwgdGhpcyBmdW5jdGlvbgogICAgICBzZXRUaW1lb3V0KGNoYW5nZUdyZWV0aW5nLCAyNTAwKTsKICAgIDwvc2NyaXB0PgogIDwvaGVhZD4KICA8Ym9keT4KICAgIDxwPgogICAgICBUaGlzIHBhcmFncmFwaCBzYXlzIGhlbGxvLgogICAgPC9wPgogIDwvYm9keT4KPC9odG1sPg==\"\n",
       "            frameborder=\"0\"\n",
       "            allowfullscreen\n",
       "        ></iframe>\n",
       "        "
      ]
     },
     "metadata": {},
     "output_type": "display_data"
    }
   ],
   "source": [
    "%%ihtml\n",
    "<!DOCTYPE html>\n",
    "<html>\n",
    "  <head>\n",
    "    <script>\n",
    "      function changeGreeting(){\n",
    "        //this returns a list of DOM objects corresponding to P tags\n",
    "        var pTags = document.getElementsByTagName(\"p\");\n",
    "        //question: how many elements are in this list?\n",
    "        var greeting = pTags[0];\n",
    "        // we can use innerHTML to get...\n",
    "        var greetingText = greeting.innerHTML;\n",
    "          \n",
    "        // ... and set values\n",
    "        greeting.innerHTML = greetingText.replace(\"hello\", \"goodbye\");\n",
    "      }\n",
    "      // in 2.5 seconds, call this function\n",
    "      setTimeout(changeGreeting, 2500);\n",
    "    </script>\n",
    "  </head>\n",
    "  <body>\n",
    "    <p>\n",
    "      This paragraph says hello.\n",
    "    </p>\n",
    "  </body>\n",
    "</html>"
   ]
  },
  {
   "cell_type": "code",
   "execution_count": 9,
   "metadata": {
    "collapsed": false,
    "deletable": true,
    "editable": true
   },
   "outputs": [
    {
     "data": {
      "text/html": [
       "\n",
       "        <iframe\n",
       "            width=\"100%\"\n",
       "            height=\"400\"\n",
       "            src=\"data:text/html;base64,PCFET0NUWVBFIGh0bWw+CjxodG1sPgogIDxoZWFkPgogICAgPHNjcmlwdD4KICAgICAgZnVuY3Rpb24gY2hhbmdlQ29sb3IoKXsKICAgICAgICB2YXIgcFRhZ3MgPSBkb2N1bWVudC5nZXRFbGVtZW50c0J5VGFnTmFtZSgicCIpOwogICAgICAgIGZvcih2YXIgaT0wOyBpIDwgcFRhZ3MubGVuZ3RoOyBpKyspewogICAgICAgICAgICAvLyB3ZSBjYW4gc2V0IENTUywgbm90ZSBob3cKICAgICAgICAgICAgcFRhZ3NbaV0uc3R5bGUuc2V0UHJvcGVydHkoImNvbG9yIiwgImJsdWUiKTsKICAgICAgICB9CiAgICAgIH0KICAgICAgc2V0VGltZW91dChjaGFuZ2VDb2xvciwgMjUwMCk7CiAgICA8L3NjcmlwdD4KICA8L2hlYWQ+CiAgPGJvZHk+CiAgICA8cD4KICAgICAgVGhpcyBwYXJhZ3JhcGggc2F5cyBoZWxsby4KICAgIDwvcD4KICAgIDxwPgogICAgICBUaGlzIHBhcmFncmFwaCBkb2VzIG5vdCBzYXkgaGVsbG8uCiAgICA8L3A+ICAgIAogICAgPHA+CiAgICAgIFRoaXMgcGFyYWdyYXBoIGRvZXMgbm90IHNheSBhbnl0aGluZy4KICAgIDwvcD4KICA8L2JvZHk+CjwvaHRtbD4=\"\n",
       "            frameborder=\"0\"\n",
       "            allowfullscreen\n",
       "        ></iframe>\n",
       "        "
      ]
     },
     "metadata": {},
     "output_type": "display_data"
    }
   ],
   "source": [
    "%%ihtml\n",
    "<!DOCTYPE html>\n",
    "<html>\n",
    "  <head>\n",
    "    <script>\n",
    "      function changeColor(){\n",
    "        var pTags = document.getElementsByTagName(\"p\");\n",
    "        for(var i=0; i < pTags.length; i++){\n",
    "            // we can set CSS, note how\n",
    "            pTags[i].style.setProperty(\"color\", \"blue\");\n",
    "        }\n",
    "      }\n",
    "      setTimeout(changeColor, 2500);\n",
    "    </script>\n",
    "  </head>\n",
    "  <body>\n",
    "    <p>\n",
    "      This paragraph says hello.\n",
    "    </p>\n",
    "    <p>\n",
    "      This paragraph does not say hello.\n",
    "    </p>    \n",
    "    <p>\n",
    "      This paragraph does not say anything.\n",
    "    </p>\n",
    "  </body>\n",
    "</html>"
   ]
  },
  {
   "cell_type": "markdown",
   "metadata": {
    "deletable": true,
    "editable": true
   },
   "source": [
    "## Event-Driven Programming and Callbacks\n",
    "\n",
    "The biggest hurdle to get over when writing and understanding JS code is the notion of callbacks and asynchronous programming. The idea is that we want to wait for an event (a user click, an HTTP request) to complete before executing a particular function. If you've seen event listeners for frontend user interfaces, this is a similar idea. This is a sensible model of computation for JS to employ because of its frontend use case (we don't know when people will click on things, but want to respond when they do)... but it can be hard to understand the first time around.\n",
    "\n",
    "Back to the console for these first few examples:"
   ]
  },
  {
   "cell_type": "code",
   "execution_count": 11,
   "metadata": {
    "collapsed": false,
    "deletable": true,
    "editable": true
   },
   "outputs": [
    {
     "data": {
      "application/javascript": [
       "\n",
       "// in 1s (1000ms), call this function\n",
       "setTimeout(function(){console.log(\"Called!\")}, 1000);\n",
       "\n",
       "//this doesn't need to be anonymous, and this helps clean up your code\n",
       "//this will fire 1 second later than the previous function\n",
       "function logCalled(){\n",
       "    console.log(\"Called!\");\n",
       "}\n",
       "setTimeout(logCalled, 2000);"
      ],
      "text/plain": [
       "<IPython.core.display.Javascript object>"
      ]
     },
     "metadata": {},
     "output_type": "display_data"
    }
   ],
   "source": [
    "%%javascript\n",
    "\n",
    "// in 1s (1000ms), call this function\n",
    "setTimeout(function(){console.log(\"Called!\")}, 1000);\n",
    "\n",
    "//this doesn't need to be anonymous, and this helps clean up your code\n",
    "//this will fire 1 second later than the previous function\n",
    "function logCalled(){\n",
    "    console.log(\"Called!\");\n",
    "}\n",
    "setTimeout(logCalled, 2000);"
   ]
  },
  {
   "cell_type": "code",
   "execution_count": 12,
   "metadata": {
    "collapsed": false,
    "deletable": true,
    "editable": true
   },
   "outputs": [
    {
     "data": {
      "application/javascript": [
       "\n",
       "function logCalled(){\n",
       "    console.log(\"Called!\");\n",
       "}\n",
       "\n",
       "// every 1s, call this function. get the ID to cancel later.\n",
       "var intervalId = setInterval(logCalled, 1000);\n",
       "\n",
       "// note the variable scoping we take advantage of here\n",
       "function cancelInterval(){\n",
       "    clearInterval(intervalId);\n",
       "}\n",
       "\n",
       "// question: how many times will the above interval happen?\n",
       "setTimeout(cancelInterval, 5000);"
      ],
      "text/plain": [
       "<IPython.core.display.Javascript object>"
      ]
     },
     "metadata": {},
     "output_type": "display_data"
    }
   ],
   "source": [
    "%%javascript\n",
    "\n",
    "function logCalled(){\n",
    "    console.log(\"Called!\");\n",
    "}\n",
    "\n",
    "// every 1s, call this function. get the ID to cancel later.\n",
    "var intervalId = setInterval(logCalled, 1000);\n",
    "\n",
    "// note the variable scoping we take advantage of here\n",
    "function cancelInterval(){\n",
    "    clearInterval(intervalId);\n",
    "}\n",
    "\n",
    "// question: how many times will the above interval happen?\n",
    "setTimeout(cancelInterval, 5000);"
   ]
  },
  {
   "cell_type": "markdown",
   "metadata": {
    "deletable": true,
    "editable": true
   },
   "source": [
    "### Event Listeners\n",
    "When we start using the DOM API, we can make things happen when users click, too.\n",
    "\n",
    "Note that we moved the `<script>` tag below the `<body>`. This is because of the way web browsers parse / execute Javascript that they find in the DOM - they run things line-by-line, much like Python. If we had left the `<script>` tag above the `<button>` tag, `document.getElementById(\"clickButton\")` would not be able to find the button. JQuery and external libraries help fix this issue, but you'll likely run into it in your own JS coding."
   ]
  },
  {
   "cell_type": "code",
   "execution_count": 13,
   "metadata": {
    "collapsed": false,
    "deletable": true,
    "editable": true
   },
   "outputs": [
    {
     "data": {
      "text/html": [
       "\n",
       "        <iframe\n",
       "            width=\"100%\"\n",
       "            height=\"400\"\n",
       "            src=\"data:text/html;base64,PCFET0NUWVBFIGh0bWw+CjxodG1sPgogIDxoZWFkPgogIDwvaGVhZD4KICA8Ym9keT4KICAgIDxidXR0b24gaWQ9ImNsaWNrQnV0dG9uIj5DbGljayBNZTwvYnV0dG9uPgogIDwvYm9keT4KICA8c2NyaXB0PgogICAgZnVuY3Rpb24gYnV0dG9uQ2xpY2tlZCgpewogICAgICAvL3RyeSB0byB1c2UgYWxlcnQgYXMgbGl0dGxlIGFzIHBvc3NpYmxlCiAgICAgIGFsZXJ0KCJUaGUgYnV0dG9uIHdhcyBjbGlja2VkISIpOwogICAgfQogICAgZG9jdW1lbnQuZ2V0RWxlbWVudEJ5SWQoImNsaWNrQnV0dG9uIikuYWRkRXZlbnRMaXN0ZW5lcigiY2xpY2siLCBidXR0b25DbGlja2VkKQogIDwvc2NyaXB0Pgo8L2h0bWw+\"\n",
       "            frameborder=\"0\"\n",
       "            allowfullscreen\n",
       "        ></iframe>\n",
       "        "
      ]
     },
     "metadata": {},
     "output_type": "display_data"
    }
   ],
   "source": [
    "%%ihtml\n",
    "<!DOCTYPE html>\n",
    "<html>\n",
    "  <head>\n",
    "  </head>\n",
    "  <body>\n",
    "    <button id=\"clickButton\">Click Me</button>\n",
    "  </body>\n",
    "  <script>\n",
    "    function buttonClicked(){\n",
    "      //try to use alert as little as possible\n",
    "      alert(\"The button was clicked!\");\n",
    "    }\n",
    "    document.getElementById(\"clickButton\").addEventListener(\"click\", buttonClicked)\n",
    "  </script>\n",
    "</html>"
   ]
  },
  {
   "cell_type": "markdown",
   "metadata": {
    "deletable": true,
    "editable": true
   },
   "source": [
    "### Slightly more advanced\n",
    "\n",
    "There is no notion of a blocking \"sleep\" call in javascript. So to (for example) have a message print out at a rate of 1 character / second...\n",
    "\n",
    "Here's how we would do this synchronously, in python."
   ]
  },
  {
   "cell_type": "code",
   "execution_count": 14,
   "metadata": {
    "collapsed": false,
    "deletable": true,
    "editable": true
   },
   "outputs": [
    {
     "name": "stdout",
     "output_type": "stream",
     "text": [
      "hello"
     ]
    }
   ],
   "source": [
    "from __future__ import print_function\n",
    "import time\n",
    "\n",
    "message = \"hello\"\n",
    "for char in message:\n",
    "    # a \"blocking\" sleep call\n",
    "    # execution pauses for 1 second each time\n",
    "    time.sleep(1)\n",
    "    print(char, end=\"\")"
   ]
  },
  {
   "cell_type": "markdown",
   "metadata": {
    "deletable": true,
    "editable": true
   },
   "source": [
    "Now, Javascript's version of similar functionality..."
   ]
  },
  {
   "cell_type": "code",
   "execution_count": 15,
   "metadata": {
    "collapsed": false,
    "deletable": true,
    "editable": true
   },
   "outputs": [
    {
     "data": {
      "application/javascript": [
       "\n",
       "// now, asynchronously...\n",
       "// this is turning into what we call \"spaghetti code\"\n",
       "function printAndContinue(remainingString){\n",
       "    if(remainingString){\n",
       "        return function(){\n",
       "            console.log(remainingString[0]);\n",
       "            setTimeout(printAndContinue(remainingString.substring(1)), 1000);\n",
       "        }\n",
       "    }\n",
       "    else {\n",
       "        return function(){};\n",
       "    }\n",
       "}\n",
       "printAndContinue(\"hello\")();"
      ],
      "text/plain": [
       "<IPython.core.display.Javascript object>"
      ]
     },
     "metadata": {},
     "output_type": "display_data"
    }
   ],
   "source": [
    "%%javascript\n",
    "\n",
    "// now, asynchronously...\n",
    "// this is turning into what we call \"spaghetti code\"\n",
    "function printAndContinue(remainingString){\n",
    "    if(remainingString){\n",
    "        return function(){\n",
    "            console.log(remainingString[0]);\n",
    "            setTimeout(printAndContinue(remainingString.substring(1)), 1000);\n",
    "        }\n",
    "    }\n",
    "    else {\n",
    "        return function(){};\n",
    "    }\n",
    "}\n",
    "printAndContinue(\"hello\")();"
   ]
  },
  {
   "cell_type": "markdown",
   "metadata": {
    "deletable": true,
    "editable": true
   },
   "source": [
    "Now imagine taking the above and wiring it up with the DOM maniuplation API, to make characters or words slowly appear on-screen. It gets pretty messy, fast. Again, this is why JS has a thriving library ecosystem! Let's take a look at a few."
   ]
  },
  {
   "cell_type": "markdown",
   "metadata": {
    "deletable": true,
    "editable": true
   },
   "source": [
    "## A few important libraries and symbols they introduce"
   ]
  },
  {
   "cell_type": "markdown",
   "metadata": {
    "deletable": true,
    "editable": true
   },
   "source": [
    "### Underscore.js - the `_` you'll see in code\n",
    "[Underscore.js](http://underscorejs.org/) lets us write nice functional code all the time! As we've seen, Javascript likes anonymous functions, so functional programming constructs are a natural extension of the language (and are being integrated into future JS releases).\n",
    "\n",
    "Whenever you see an `_` in javascript code, it's likely because someone is using this library.\n",
    "\n",
    "In the example below, also note that we include an external library with the `<script>` tag."
   ]
  },
  {
   "cell_type": "code",
   "execution_count": 16,
   "metadata": {
    "collapsed": false,
    "deletable": true,
    "editable": true
   },
   "outputs": [
    {
     "data": {
      "text/html": [
       "\n",
       "        <iframe\n",
       "            width=\"100%\"\n",
       "            height=\"400\"\n",
       "            src=\"data:text/html;base64,PCFET0NUWVBFIGh0bWw+CjxodG1sPgogIDxoZWFkPgogICAgPHNjcmlwdCB0eXBlPSJ0ZXh0L2phdmFzY3JpcHQiIHNyYz0iaHR0cDovL3VuZGVyc2NvcmVqcy5vcmcvdW5kZXJzY29yZS1taW4uanMiPjwvc2NyaXB0PgogICAgPHNjcmlwdD4KICAgICAgZnVuY3Rpb24gY2hhbmdlQ29sb3IoKXsKICAgICAgICB2YXIgcFRhZ3MgPSBkb2N1bWVudC5nZXRFbGVtZW50c0J5VGFnTmFtZSgicCIpOwogICAgICAgIC8vcFRhZ3MgaXMgb25lIG9mIHRob3NlIGxpc3QtbGlrZSB0aGluZ3MgdGhhdCBkb2Vzbid0IHN1cHBvcnQgZm9yRWFjaC4uLgogICAgICAgIGZ1bmN0aW9uIGNoYW5nZVRhZ0NvbG9yKHBUYWcpewogICAgICAgICAgICBwVGFnLnN0eWxlLnNldFByb3BlcnR5KCJjb2xvciIsICJibHVlIik7CiAgICAgICAgfQogICAgICAgIC8vc28gd2UgY2FuIHVzZSB1bmRlcnNjb3JlLmpzCiAgICAgICAgXy5lYWNoKHBUYWdzLCBjaGFuZ2VUYWdDb2xvcikKICAgICAgfQogICAgICAvLyBpbiAyLjUgc2Vjb25kcywgY2FsbCB0aGlzCiAgICAgIHNldFRpbWVvdXQoY2hhbmdlQ29sb3IsIDI1MDApOwogICAgPC9zY3JpcHQ+CiAgPC9oZWFkPgogIDxib2R5PgogICAgPHA+CiAgICAgIFRoaXMgcGFyYWdyYXBoIHNheXMgaGVsbG8uCiAgICA8L3A+CiAgICA8cD4KICAgICAgVGhpcyBwYXJhZ3JhcGggZG9lcyBub3Qgc2F5IGhlbGxvLgogICAgPC9wPiAgICAKICAgIDxwPgogICAgICBUaGlzIHBhcmFncmFwaCBkb2VzIG5vdCBzYXkgYW55dGhpbmcuCiAgICA8L3A+CiAgPC9ib2R5Pgo8L2h0bWw+\"\n",
       "            frameborder=\"0\"\n",
       "            allowfullscreen\n",
       "        ></iframe>\n",
       "        "
      ]
     },
     "metadata": {},
     "output_type": "display_data"
    }
   ],
   "source": [
    "%%ihtml\n",
    "<!DOCTYPE html>\n",
    "<html>\n",
    "  <head>\n",
    "    <script type=\"text/javascript\" src=\"http://underscorejs.org/underscore-min.js\"></script>\n",
    "    <script>\n",
    "      function changeColor(){\n",
    "        var pTags = document.getElementsByTagName(\"p\");\n",
    "        //pTags is one of those list-like things that doesn't support forEach...\n",
    "        function changeTagColor(pTag){\n",
    "            pTag.style.setProperty(\"color\", \"blue\");\n",
    "        }\n",
    "        //so we can use underscore.js\n",
    "        _.each(pTags, changeTagColor)\n",
    "      }\n",
    "      // in 2.5 seconds, call this\n",
    "      setTimeout(changeColor, 2500);\n",
    "    </script>\n",
    "  </head>\n",
    "  <body>\n",
    "    <p>\n",
    "      This paragraph says hello.\n",
    "    </p>\n",
    "    <p>\n",
    "      This paragraph does not say hello.\n",
    "    </p>    \n",
    "    <p>\n",
    "      This paragraph does not say anything.\n",
    "    </p>\n",
    "  </body>\n",
    "</html>"
   ]
  },
  {
   "cell_type": "markdown",
   "metadata": {
    "collapsed": true,
    "deletable": true,
    "editable": true
   },
   "source": [
    "### JQuery - the infamous \\$\n",
    "\n",
    "Whenever you see something that looks like this `$(function()...` , you'll know that you're dealing with [JQuery](https://jquery.com/). It takes the DOM API and wraps it in something that's much easier to use and more natural. Sometimes it's introduced to budding web developers - especially those with minimal coding experience - before the rest of JavaScript.\n",
    "\n",
    "The typical JQuery code snippet looks as follows:\n",
    "```javascript\n",
    "$(\"#css_selector_here\").action(...);\n",
    "```\n",
    "The first part - `$(\"#css_selector_here\")` functions much like the `document.getElementById` function from the DOM API - but uses CSS selectors instead, so is much cleaner. Once we've selected something, the [JQuery API](http://api.jquery.com/) has a long list of actions we can take on that selection (e.g. change the CSS, add / manipulate text, etc.)"
   ]
  },
  {
   "cell_type": "code",
   "execution_count": 18,
   "metadata": {
    "collapsed": false,
    "deletable": true,
    "editable": true
   },
   "outputs": [
    {
     "data": {
      "text/html": [
       "\n",
       "        <iframe\n",
       "            width=\"100%\"\n",
       "            height=\"400\"\n",
       "            src=\"data:text/html;base64,PCFET0NUWVBFIGh0bWw+CjxodG1sPgogIDxoZWFkPgogICAgPHNjcmlwdCBzcmM9Imh0dHBzOi8vYWpheC5nb29nbGVhcGlzLmNvbS9hamF4L2xpYnMvanF1ZXJ5LzMuMS4xL2pxdWVyeS5taW4uanMiPjwvc2NyaXB0PgogICAgPHNjcmlwdD4KICAgICAgZnVuY3Rpb24gY2hhbmdlQ29sb3IoKXsKICAgICAgICAvL3VubGlrZSB0aGUgRE9NIEFQSSwgSlF1ZXJ5IGxpc3QtbGlrZXMgZ2V0IGEgZm9yRWFjaCBmdW5jdGlvbi4uLgogICAgICAgIC8vLi4uIGJ1dCBpdCdzIGNhbGxlZCAiZWFjaCIKICAgICAgICAkKCJwIikuZWFjaChmdW5jdGlvbigpewogICAgICAgICAgLy8ndGhpcycgcmVmZXJzIHRvIGEgZGlmZmVyZW50IFAgdGFnIGVhY2ggdGltZSB0aGlzIGZ1bmN0aW9uIGlzIGNhbGxlZC4gCiAgICAgICAgICAvL3dlaXJkLCBidXQgaG93IEpRdWVyeSBkb2VzIHRoaW5ncwogICAgICAgICAgJCh0aGlzKS5jc3MoImNvbG9yIiwgImJsdWUiKTsKICAgICAgICB9KQogICAgICB9CiAgICAKICAgICAgLy90aGUgSlF1ZXJ5IEFQSSBpcyBleHRlbnNpdmUsIHNvIGV2ZW4gYmV0dGVyIHRoYW4gdGhlIGFib3ZlLi4uCiAgICAgIGZ1bmN0aW9uIGNoYW5nZUNvbG9yMigpewogICAgICAgIC8vYXBwbGllZCB0byBldmVyeSBlbGVtZW50IHRoYXQgbWF0Y2hlcyB0aGUgc2VsZWN0b3IKICAgICAgICAkKCJwIikuY3NzKCJjb2xvciIsICJyZWQiKTsKICAgICAgfQogICAgIAogICAgICAvLyAkKGZ1bmN0aW9uLi4uIHdhaXRzIHVudGlsIHRoZSBlbnRpcmUgSFRNTCBmaWxlIGhhcyBsb2FkZWQsCiAgICAgIC8vIHNvIHdlIGF2b2lkIHRoZSBwcm9ibGVtIGZyb20gdGhlIGV2ZW50IGxpc3RlbmVyIGV4YW1wbGUgYWJvdmUKICAgICAgJChmdW5jdGlvbigpewogICAgICAgIHNldFRpbWVvdXQoY2hhbmdlQ29sb3IsIDI1MDApOwogICAgICAgIHNldFRpbWVvdXQoY2hhbmdlQ29sb3IyLCA1MDAwKTsKICAgICAgICAvLyBvaCBsb29rLCB3ZSBjYW4gdXNlIENTUyBzZWxlY3RvcnMgdG8gc2VsZWN0IGVsZW1lbnRzIQogICAgICAgICQoIiNjbGlja0J1dHRvbiIpLmNsaWNrKGZ1bmN0aW9uKCl7CiAgICAgICAgICBhbGVydCgiYnV0dG9uIHdhcyBjbGlja2VkIik7CiAgICAgICAgfSkKICAgICAgfSk7CiAgICA8L3NjcmlwdD4KICA8L2hlYWQ+CiAgPGJvZHk+CiAgICA8cD4KICAgICAgVGhpcyBwYXJhZ3JhcGggc2F5cyBoZWxsby4KICAgIDwvcD4KICAgIDxwPgogICAgICBUaGlzIHBhcmFncmFwaCBkb2VzIG5vdCBzYXkgaGVsbG8uCiAgICA8L3A+ICAgIAogICAgPHA+CiAgICAgIFRoaXMgcGFyYWdyYXBoIGRvZXMgbm90IHNheSBhbnl0aGluZy4KICAgIDwvcD4KICAgIDxidXR0b24gaWQ9ImNsaWNrQnV0dG9uIj5DbGljayBtZSE8L2J1dHRvbj4KICA8L2JvZHk+CjwvaHRtbD4=\"\n",
       "            frameborder=\"0\"\n",
       "            allowfullscreen\n",
       "        ></iframe>\n",
       "        "
      ]
     },
     "metadata": {},
     "output_type": "display_data"
    }
   ],
   "source": [
    "%%ihtml\n",
    "<!DOCTYPE html>\n",
    "<html>\n",
    "  <head>\n",
    "    <script src=\"https://ajax.googleapis.com/ajax/libs/jquery/3.1.1/jquery.min.js\"></script>\n",
    "    <script>\n",
    "      function changeColor(){\n",
    "        //unlike the DOM API, JQuery list-likes get a forEach function...\n",
    "        //... but it's called \"each\"\n",
    "        $(\"p\").each(function(){\n",
    "          //'this' refers to a different P tag each time this function is called. \n",
    "          //weird, but how JQuery does things\n",
    "          $(this).css(\"color\", \"blue\");\n",
    "        })\n",
    "      }\n",
    "    \n",
    "      //the JQuery API is extensive, so even better than the above...\n",
    "      function changeColor2(){\n",
    "        //applied to every element that matches the selector\n",
    "        $(\"p\").css(\"color\", \"red\");\n",
    "      }\n",
    "     \n",
    "      // $(function... waits until the entire HTML file has loaded,\n",
    "      // so we avoid the problem from the event listener example above\n",
    "      $(function(){\n",
    "        setTimeout(changeColor, 2500);\n",
    "        setTimeout(changeColor2, 5000);\n",
    "        // oh look, we can use CSS selectors to select elements!\n",
    "        $(\"#clickButton\").click(function(){\n",
    "          alert(\"button was clicked\");\n",
    "        })\n",
    "      });\n",
    "    </script>\n",
    "  </head>\n",
    "  <body>\n",
    "    <p>\n",
    "      This paragraph says hello.\n",
    "    </p>\n",
    "    <p>\n",
    "      This paragraph does not say hello.\n",
    "    </p>    \n",
    "    <p>\n",
    "      This paragraph does not say anything.\n",
    "    </p>\n",
    "    <button id=\"clickButton\">Click me!</button>\n",
    "  </body>\n",
    "</html>"
   ]
  },
  {
   "cell_type": "code",
   "execution_count": null,
   "metadata": {
    "collapsed": true,
    "deletable": true,
    "editable": true
   },
   "outputs": [],
   "source": []
  },
  {
   "cell_type": "markdown",
   "metadata": {
    "deletable": true,
    "editable": true
   },
   "source": [
    "*Copyright &copy; 2017 The Data Incubator.  All rights reserved.*"
   ]
  }
 ],
 "metadata": {
  "kernelspec": {
   "display_name": "Python 2",
   "language": "python",
   "name": "python2"
  },
  "language_info": {
   "codemirror_mode": {
    "name": "ipython",
    "version": 2
   },
   "file_extension": ".py",
   "mimetype": "text/x-python",
   "name": "python",
   "nbconvert_exporter": "python",
   "pygments_lexer": "ipython2",
   "version": "2.7.13"
  }
 },
 "nbformat": 4,
 "nbformat_minor": 0
}
