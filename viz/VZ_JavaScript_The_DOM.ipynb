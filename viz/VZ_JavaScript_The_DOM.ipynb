{
 "cells": [
  {
   "cell_type": "code",
   "execution_count": 1,
   "metadata": {
    "collapsed": true,
    "deletable": true,
    "editable": true
   },
   "outputs": [],
   "source": [
    "%matplotlib inline\n",
    "import matplotlib\n",
    "import seaborn as sns\n",
    "matplotlib.rcParams['savefig.dpi'] = 144"
   ]
  },
  {
   "cell_type": "markdown",
   "metadata": {
    "deletable": true,
    "editable": true
   },
   "source": [
    "# An HTML Primer\n",
    "<!-- requirement: small_data/Charm_City_Circulator_Ridership.csv -->\n",
    "<!-- requirement: small_data/gettysburg.json -->"
   ]
  },
  {
   "cell_type": "markdown",
   "metadata": {
    "deletable": true,
    "editable": true
   },
   "source": [
    "In this notebook:\n",
    "* HTML, DOM and D3: how a website works\n",
    "* Manipulating Data with javascript\n",
    "* Live-updating visualizations with D3\n",
    "\n",
    "\n",
    "This notebook provides a template [taken from here](http://nbviewer.ipython.org/github/abarto/embedding_interactive_charts_on_an_ipython_notebook/blob/master/embedding_interactive_charts_on_an_ipython_notebook.ipynb#sub_est_2012_df_by_state_template) for how to embed HTML/JavaScript in an IPython notebook, and how to link up data you may analyze in pandas or other Python tooling with a web frontend, all from the same ipynb.*"
   ]
  },
  {
   "cell_type": "markdown",
   "metadata": {
    "deletable": true,
    "editable": true
   },
   "source": [
    "## Data-Driven Documents\n",
    "\n",
    "D3 stands for \"Data-Driven Documents\", which is a fairly apt name.  While it can be used for plotting, its fundamental purpose is connecting data to elements of a document.  We'll demonstrate that here by connecting data to a text document.\n",
    "\n",
    "Specifically, the document is the Gettysburg Address.  The data are values of from a (simplistic) sentiment analysis of the text.  Each word gets two numbers: a measure of positive sentiment and a measure of negative sentiment.  This essentially gives us two axes to explore.  The difference of the scores will tell us if a word is overall positive or negative, while the sum tells us how emotionally charged that word is."
   ]
  },
  {
   "cell_type": "code",
   "execution_count": 2,
   "metadata": {
    "collapsed": false,
    "deletable": true,
    "editable": true
   },
   "outputs": [
    {
     "data": {
      "application/javascript": [
       "\n",
       "function add_highlight_mode(mode, pattern) {\n",
       "    var modes = IPython.CodeCell.config_defaults.highlight_modes;\n",
       "    var mode_name = 'magic_' + mode;\n",
       "    if (!modes[mode_name])\n",
       "        modes[mode_name] = {};\n",
       "    if (!modes[mode_name]['reg'])\n",
       "        modes[mode_name]['reg'] = [];\n",
       "    modes[mode_name]['reg'].push(pattern);\n",
       "}\n",
       "add_highlight_mode('html', /^%%ihtml/);\n",
       "add_highlight_mode('javascript', /^%%jsdoc/);\n",
       "add_highlight_mode('css', /^%%cssdoc/);\n"
      ]
     },
     "metadata": {},
     "output_type": "display_data"
    },
    {
     "data": {
      "text/plain": [
       "[{'neg': 0.0, 'pos': 0.0, 'word': 'Four'},\n",
       " {'neg': 0, 'pos': 0, 'word': ' '},\n",
       " {'neg': 0.125, 'pos': 0.125, 'word': 'score'},\n",
       " {'neg': 0, 'pos': 0, 'word': ' '},\n",
       " {'neg': 0, 'pos': 0, 'word': 'and'}]"
      ]
     },
     "execution_count": 2,
     "metadata": {},
     "output_type": "execute_result"
    }
   ],
   "source": [
    "import ihtml\n",
    "import simplejson as json\n",
    "gettysburg = json.load(open('small_data/gettysburg.json', 'r'))\n",
    "gettysburg[:5]"
   ]
  },
  {
   "cell_type": "markdown",
   "metadata": {
    "deletable": true,
    "editable": true
   },
   "source": [
    "We will reassemble the address from this list, coloring each word according to the positive (blue) and negative (red) sentiments:\n",
    "\n",
    "```js\n",
    "function textColor(d) {\n",
    "  var red = Math.round(d.neg * 255);\n",
    "  var blue = Math.round(d.pos * 255);\n",
    "  return \"rgb(\" + red + \", 0, \" + blue + \")\";\n",
    "}\n",
    "```"
   ]
  },
  {
   "cell_type": "markdown",
   "metadata": {
    "deletable": true,
    "editable": true
   },
   "source": [
    "## (A) Create document manually, using DOM"
   ]
  },
  {
   "cell_type": "markdown",
   "metadata": {
    "deletable": true,
    "editable": true
   },
   "source": [
    " we will do this \"by hand\", without using D3.  We will put the address inside of a `<div>` with the id of *address*, so we select that.\n",
    "```js\n",
    "  var div = document.querySelector(\"#address\");\n",
    "```\n",
    "For each word in the address,\n",
    "```js\n",
    "  for (var i in gettysburg) {\n",
    "```\n",
    "we create a `<span>`,\n",
    "```js\n",
    "    var span = document.createElement(\"span\");\n",
    "```\n",
    "set its text and color from the data,\n",
    "```js\n",
    "    span.textContent = gettysburg[i].word;\n",
    "    span.style.color = textColor(gettysburg[i])\n",
    "```\n",
    "and then append it to the `<div>`.\n",
    "```js\n",
    "    div.appendChild(span);\n",
    "  }\n",
    "```\n",
    "This is all done inside of a \"DOMContentLoaded\" handler, to ensure the DOM is ready for our manipulations.\n",
    "\n",
    "Here it is in action:"
   ]
  },
  {
   "cell_type": "markdown",
   "metadata": {
    "deletable": true,
    "editable": true
   },
   "source": [
    "## Code and output:"
   ]
  },
  {
   "cell_type": "code",
   "execution_count": 3,
   "metadata": {
    "collapsed": false,
    "deletable": true,
    "editable": true
   },
   "outputs": [
    {
     "data": {
      "text/html": [
       "\n",
       "        <iframe\n",
       "            width=\"100%\"\n",
       "            height=\"400\"\n",
       "            src=\"data:text/html;base64,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\"\n",
       "            frameborder=\"0\"\n",
       "            allowfullscreen\n",
       "        ></iframe>\n",
       "        "
      ]
     },
     "metadata": {},
     "output_type": "display_data"
    }
   ],
   "source": [
    "%%ihtml\n",
    "<!DOCTYPE html>\n",
    "<html>\n",
    "  <head>\n",
    "    <meta charset=\"utf-8\">\n",
    "    <title>Gettysburg</title>\n",
    "\n",
    "    <script>\n",
    "      function textColor(d) {\n",
    "        var red = Math.round(d.neg * 255);\n",
    "        var blue = Math.round(d.pos * 255);\n",
    "        return \"rgb(\" + red + \", 0, \" + blue + \")\";\n",
    "      }\n",
    "\n",
    "      document.addEventListener(\"DOMContentLoaded\",\n",
    "        function(e) {\n",
    "          var gettysburg = {{ gettysburg | json }}\n",
    "          var div = document.querySelector(\"#address\");\n",
    "          for (var i in gettysburg) {\n",
    "            var span = document.createElement(\"span\");\n",
    "            span.textContent = gettysburg[i].word;\n",
    "            span.style.color = textColor(gettysburg[i]);\n",
    "            div.appendChild(span);\n",
    "          }\n",
    "        }\n",
    "      )\n",
    "    </script>\n",
    "\n",
    "    <style>\n",
    "      #address {\n",
    "        white-space: pre-wrap;\n",
    "      }\n",
    "    </style>\n",
    "  </head>\n",
    "\n",
    "  <body>\n",
    "    <h1>Gettysburg Address</h1>\n",
    "    <div id=\"address\"></div>\n",
    "  </body>\n",
    "</html>"
   ]
  },
  {
   "cell_type": "markdown",
   "metadata": {
    "deletable": true,
    "editable": true
   },
   "source": [
    "## (B) Create document with D3"
   ]
  },
  {
   "cell_type": "markdown",
   "metadata": {
    "deletable": true,
    "editable": true
   },
   "source": [
    "Now let's do the same thing, but with D3.  Only two things change: ** We need to load the D3 javascript file, and we build the document with a D3 pipeline.**  \n",
    "```html\n",
    "<script src=\"https://d3js.org/d3.v3.min.js\" charset=\"utf-8\"></script>\n",
    "```\n",
    "\n",
    "Once again, we start by selecting the address `<div>`.\n",
    "```js\n",
    "  d3.select(\"#address\")\n",
    "```\n",
    "D3 methods tend to return other D3 objects, which allow us to chain calls together.  Inside of this element, we will select all of the `<span>` elements.  (There are none right now, but that's okay.)\n",
    "```js\n",
    "    .selectAll(\"span\")\n",
    "```\n",
    "Now we associate each span with one element of our data.\n",
    "```js\n",
    "    .data(gettysburg)\n",
    "```\n",
    "There are left over data not associated with any elements (since there were no `<span>`s to start with).  We tell D3 that we want to do something for each of those data.\n",
    "```js\n",
    "    .enter()\n",
    "```\n",
    "Specifically, we will append a `<span>`,\n",
    "```js\n",
    "    .append(\"span\")\n",
    "```\n",
    "set its text,\n",
    "```js\n",
    "    .text(function(d) { return d.word; })\n",
    "```\n",
    "and set its color.\n",
    "```js\n",
    "    .style(\"color\", textColor);\n",
    "```\n",
    "Each of these last two calls take a function that is called for each point of data.\n",
    "\n",
    "Et voila!"
   ]
  },
  {
   "cell_type": "markdown",
   "metadata": {
    "deletable": true,
    "editable": true
   },
   "source": [
    "## Code and output:"
   ]
  },
  {
   "cell_type": "code",
   "execution_count": 4,
   "metadata": {
    "collapsed": false,
    "deletable": true,
    "editable": true
   },
   "outputs": [
    {
     "data": {
      "text/html": [
       "\n",
       "        <iframe\n",
       "            width=\"100%\"\n",
       "            height=\"400\"\n",
       "            src=\"data:text/html;base64,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\"\n",
       "            frameborder=\"0\"\n",
       "            allowfullscreen\n",
       "        ></iframe>\n",
       "        "
      ]
     },
     "metadata": {},
     "output_type": "display_data"
    }
   ],
   "source": [
    "%%ihtml\n",
    "<!DOCTYPE html>\n",
    "<html>\n",
    "  <head>\n",
    "    <meta charset=\"utf-8\">\n",
    "    <title>Gettysburg</title>\n",
    "\n",
    "    <script src=\"https://d3js.org/d3.v3.min.js\" charset=\"utf-8\"></script>\n",
    "    <script>\n",
    "      function textColor(d) {\n",
    "        var red = Math.round(d.neg * 255);\n",
    "        var blue = Math.round(d.pos * 255);\n",
    "        return \"rgb(\" + red + \", 0, \" + blue + \")\";\n",
    "      }\n",
    "\n",
    "      document.addEventListener(\"DOMContentLoaded\",\n",
    "        function(e) {\n",
    "          var gettysburg = {{ gettysburg | json }}\n",
    "          d3.select(\"#address\")\n",
    "            .selectAll(\"span\")\n",
    "            .data(gettysburg)\n",
    "            .enter()\n",
    "            .append(\"span\")\n",
    "            .text(function(d) { return d.word; })\n",
    "            .style(\"color\", textColor);\n",
    "        }\n",
    "      )\n",
    "    </script>\n",
    "\n",
    "    <style>\n",
    "      #address {\n",
    "        white-space: pre-wrap;\n",
    "      }\n",
    "    </style>\n",
    "  </head>\n",
    "\n",
    "  <body>\n",
    "    <h1>Gettysburg Address</h1>\n",
    "    <div id=\"address\"></div>\n",
    "  </body>\n",
    "</html>"
   ]
  },
  {
   "cell_type": "markdown",
   "metadata": {
    "deletable": true,
    "editable": true
   },
   "source": [
    "## Explanation"
   ]
  },
  {
   "cell_type": "markdown",
   "metadata": {
    "deletable": true,
    "editable": true
   },
   "source": [
    "This is a little bit more readable than the first example, but it isn't *that* big of an improvement.  The real advantage of D3 comes when we want to change how the data inform the document displaying them.\n",
    "\n",
    "It can be a bit difficult to tell which words are highly charged just from the colors.  Let's change the font size based on the total positive and negative sentiment.  This could make it hard to read, so we'll add a checkbox to the document.  When it's checked, we'll change the font sizes; when it's not, we'll set them back to a constant value.\n",
    "\n",
    "There's some boilerplate necessary to get the interaction set up, but the D3-related changes are all in the function that gets called when we click that checkbox.  It takes a single boolean flag for whether the font size should be adjusted.\n",
    "```js\n",
    "function update(sizing) {\n",
    "```\n",
    "As before, we select all `<span>` in the address `<div>`.  (There's more than zero, now.)\n",
    "```js\n",
    "  d3.select(\"#address\")\n",
    "    .selectAll(\"span\")\n",
    "```\n",
    "And we associate each span with an entry in our data.  Since we've already created one span per datum, they match up one-to-one.\n",
    "```js\n",
    "    .data(gettysburg)\n",
    "```\n",
    "Therefore, don't have to make any more elements.  We can just modify the existing `<span>`s.  Let's be fancy and add a 1000ms transition...\n",
    "```js\n",
    "    .transition()\n",
    "    .duration(1000)\n",
    "```\n",
    "...to a new font size.\n",
    "```js\n",
    "    .style(\"font-size\", function(d) {\n",
    "      return (1 + sizing * (d.pos + d.neg)) * 16 + \"px\";\n",
    "    });\n",
    "}\n",
    "```"
   ]
  },
  {
   "cell_type": "markdown",
   "metadata": {
    "deletable": true,
    "editable": true
   },
   "source": [
    "## add interactivity : font size toggle"
   ]
  },
  {
   "cell_type": "code",
   "execution_count": 5,
   "metadata": {
    "collapsed": false,
    "deletable": true,
    "editable": true
   },
   "outputs": [
    {
     "data": {
      "text/html": [
       "\n",
       "        <iframe\n",
       "            width=\"100%\"\n",
       "            height=\"400\"\n",
       "            src=\"data:text/html;base64,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\"\n",
       "            frameborder=\"0\"\n",
       "            allowfullscreen\n",
       "        ></iframe>\n",
       "        "
      ]
     },
     "metadata": {},
     "output_type": "display_data"
    }
   ],
   "source": [
    "%%ihtml\n",
    "<!DOCTYPE html>\n",
    "<html>\n",
    "  <head>\n",
    "    <meta charset=\"utf-8\">\n",
    "    <title>Gettysburg</title>\n",
    "\n",
    "    <script src=\"https://d3js.org/d3.v3.min.js\" charset=\"utf-8\"></script>\n",
    "    <script>\n",
    "      function textColor(d) {\n",
    "        var red = Math.round(d.neg * 255);\n",
    "        var blue = Math.round(d.pos * 255);\n",
    "        return \"rgb(\" + red + \", 0, \" + blue + \")\";\n",
    "      }\n",
    "      \n",
    "      var gettysburg = {{ gettysburg | json }}\n",
    "\n",
    "      function update(sizing) {\n",
    "        d3.select(\"#address\")\n",
    "          .selectAll(\"span\")\n",
    "          .data(gettysburg)\n",
    "          .transition()\n",
    "          .duration(1000)\n",
    "          .style(\"font-size\", function(d) {\n",
    "            return (1 + sizing * (d.pos + d.neg)) * 16 + \"px\";\n",
    "          });\n",
    "      }\n",
    "\n",
    "      document.addEventListener(\"DOMContentLoaded\",\n",
    "        function(e) {\n",
    "          d3.select(\"#address\")\n",
    "            .selectAll(\"span\")\n",
    "            .data(gettysburg)\n",
    "            .enter()\n",
    "            .append(\"span\")\n",
    "            .text(function(d) { return d.word; })\n",
    "            .style(\"color\", textColor)\n",
    "\n",
    "          document.querySelector(\"#sizing\")\n",
    "            .addEventListener(\"change\", function(event) {\n",
    "              update(event.target.checked);\n",
    "            });\n",
    "        }\n",
    "      )\n",
    "    </script>\n",
    "\n",
    "    <style>\n",
    "      #address {\n",
    "        white-space: pre-wrap;\n",
    "      }\n",
    "    </style>\n",
    "  </head>\n",
    "\n",
    "  <body>\n",
    "    <h1>Gettysburg Address</h1>\n",
    "    <form>\n",
    "        <label><input type=\"checkbox\" id=\"sizing\" />Toggle font size</label>\n",
    "    </form>\n",
    "      <br>\n",
    "    <div id=\"address\"></div>\n",
    "  </body>\n",
    "</html>"
   ]
  },
  {
   "cell_type": "markdown",
   "metadata": {
    "deletable": true,
    "editable": true
   },
   "source": [
    "## continue\n",
    "\n",
    "In this case, we have an exact match between the data and the HTML elements.  This won't always happen.  If there are extra data, `.enter()` can be used to handle them.  If there are extra elements, `.exit()` can be used.  For more details on how D3 matches elements to data, see this [tutorial](https://bost.ocks.org/mike/selection/)."
   ]
  },
  {
   "cell_type": "code",
   "execution_count": null,
   "metadata": {
    "collapsed": true,
    "deletable": true,
    "editable": true
   },
   "outputs": [],
   "source": []
  },
  {
   "cell_type": "markdown",
   "metadata": {
    "deletable": true,
    "editable": true
   },
   "source": [
    "## Manipulating Data with Javascript\n",
    "\n",
    "So far, we used pandas to load and manipulate data and written it into json objects for javascript consumption.  We could also have done the above by directly loading and manipulating the data in javascript.  Unfortunately, to do this, we will need a little bit more work.  For example, we'll have to\n",
    "- Read the csv file ourselves using `d3.csv` (notice the callback).\n",
    "- Write a `mean` function in javascript\n",
    "- filter for invalid numbers using `isNaN`\n",
    "- manually write our own aggregation function\n",
    "\n",
    "This can be done using `underscore.js`, a library that provides convenient functional primitives in javascript.  The benefit is that our code is 100% javascript.  This reduces the complexity considerably because we no longer need a bunch of python and javascript code to agree on an intermediate format.  For example, this is easier to deploy on a server because all the logic is handled on the client and we only have to worry about the server side.  Of course, facilities for handling data are much more primitive in javascript so we do not get the benefit of pandas."
   ]
  },
  {
   "cell_type": "code",
   "execution_count": null,
   "metadata": {
    "collapsed": false,
    "deletable": true,
    "editable": true
   },
   "outputs": [],
   "source": [
    "%%javascript\n",
    "\n",
    "require(['d3', 'nvd3'], function(d3, nv){\n",
    "  var mean = function(values) {\n",
    "    if (values.length) {\n",
    "      return _.reduce(values, function(x ,y) { return x + y; }) / values.length;\n",
    "    } else {\n",
    "      return NaN;\n",
    "    };\n",
    "  };\n",
    "\n",
    "  var filterMean = function(values) {\n",
    "    return mean(_.filter(values, function(x) { return !isNaN(x); }));\n",
    "  };\n",
    "    \n",
    "  var calcAggByProp = function(data, prop) {\n",
    "    var agg = _.map(_.groupBy(data, prop), function(values, day) {\n",
    "      return { \n",
    "        day: day,\n",
    "        orangeAverage: filterMean(_.map(values, function(val) { return parseInt(val.orangeAverage); } )),\n",
    "        purpleAverage: filterMean(_.map(values, function(val) { return parseInt(val.purpleAverage); } )),\n",
    "        greenAverage: filterMean(_.map(values, function(val) { return parseInt(val.greenAverage); } ))\n",
    "      }\n",
    "    });\n",
    "\n",
    "    return {\n",
    "      orangeAverage: _.object(_.map(agg, function(val) { return [val.day, val.orangeAverage]; })),\n",
    "      purpleAverage: _.object(_.map(agg, function(val) { return [val.day, val.purpleAverage]; })),\n",
    "      greenAverage: _.object(_.map(agg, function(val) { return [val.day, val.greenAverage]; }))\n",
    "    };\n",
    "  }\n",
    "\n",
    "  d3.csv(\"small_data/Charm_City_Circulator_Ridership.csv\", function(data) {\n",
    "    // data is a list of objects with day, date, [color]Average, and more\n",
    "    var aggByDay = calcAggByProp(data, 'day');\n",
    "\n",
    "    var data2 = _.map(data, function(d) {\n",
    "      d.year = d.date.split('/')[2];\n",
    "      return d;\n",
    "    });\n",
    "    var aggByYear = calcAggByProp(data2, 'year');\n",
    "      \n",
    "    // first we need to include nvd3's stylesheet because hacks\n",
    "    $('#nvd3style').remove();\n",
    "    $(\"head\").append(\"<link id='nvd3style' rel='stylesheet' type='text/css' href='https://cdn.rawgit.com/novus/nvd3/v1.8.1/build/nv.d3.css'/>\");\n",
    "      \n",
    "    // generate data from pandas json into d3 format (done by copying the example)\n",
    "    var chart1data = window.convertKeys(aggByYear);\n",
    "    var chart2data = window.convertKeys(aggByDay, window.WEEKDAYS_IN_ORDER);\n",
    "    console.log(chart2data)\n",
    "    // making some display ports\n",
    "    $(\"#chart6\").remove();\n",
    "    $(\"#chart7\").remove();\n",
    "    element.append(\"<div id='chart6' />\");\n",
    "    element.append(\"<br/>\");\n",
    "    element.append(\"<div id='chart7' />\");\n",
    "    $(\"#chart6\").append(\"<svg height='500px'></svg>\");\n",
    "    $(\"#chart7\").append(\"<svg height='500px'></svg>\");\n",
    "\n",
    "    nv.addGraph(window.genGraph(chart1data, \"#chart6 svg\"));\n",
    "    nv.addGraph(window.genGraph(chart2data, \"#chart7 svg\"));\n",
    "  });\n",
    "});"
   ]
  },
  {
   "cell_type": "markdown",
   "metadata": {
    "deletable": true,
    "editable": true
   },
   "source": [
    "## Live-updating visualizations\n",
    "So remember how `enter` created new nodes only for data points that weren't already present? There is an analogous `exit` function that returns only formerly-bound nodes. We can use these to create live data visualizations where data enters and exits the visualization on the fly.  This is particularly useful for time series data and other streaming data.\n",
    "\n",
    "One time, one of this notebook's authors wrote a [chat client](https://github.com/cmoscardi/bubblechat) that uses D3 to visualize a live chatroom via a tree of replies. One application of this code could plot reddit conversations in real-time (or, for a big thread, animate the thread tree's growth over time).\n",
    "\n",
    "Below are the key parts of that chat visualization."
   ]
  },
  {
   "cell_type": "code",
   "execution_count": null,
   "metadata": {
    "collapsed": true,
    "deletable": true,
    "editable": true
   },
   "outputs": [],
   "source": [
    "%%javascript\n",
    "function buildTree(messages, activeMessage) {\n",
    "  content.innerHTML = \"\";\n",
    "\n",
    "  var margin = {top: 20, right: 120, bottom: 20, left: 120},\n",
    "      width = 960 - margin.right - margin.left,\n",
    "      height = 600 - margin.top - margin.bottom,\n",
    "      r = 300;\n",
    "\n",
    "  var tree = d3.layout.tree()\n",
    "    .size([360, r]) // this is pretty fancy\n",
    "    .separation(separation)\n",
    "    .sort(function(a, b){\n",
    "      return b.id - a.id;\n",
    "    });\n",
    "\n",
    "\n",
    "  var svg = d3.select(\"#content\").append(\"svg\")\n",
    "    .attr(\"width\", width + margin.right + margin.left)\n",
    "    .attr(\"height\", height + margin.top + margin.bottom)\n",
    "    .style(\"float\", \"left\")\n",
    "    .append(\"g\")\n",
    "    .attr(\"transform\", \"translate(\" + (r*1.5) + \",\" + (r) + \")\");\n",
    "\n",
    "  var messageArea = d3.select(\"#content\").append(\"div\")\n",
    "    .style(\"float\", \"left\")\n",
    "    .style(\"width\", \"300px\")\n",
    "    .style(\"margin-top\", \"100px\")\n",
    "    .style('max-width', '300px')\n",
    "    .attr('class', 'messageArea');\n",
    "\n",
    "\n",
    "  messageArea\n",
    "    .append('p')\n",
    "    .attr('class', 'username')\n",
    "    .attr('color', 'black');\n",
    "  messageArea\n",
    "    .append('p')\n",
    "    .attr('class', 'message')\n",
    "    .attr('color', 'black');\n",
    "\n",
    "\n",
    "  var colors = d3.scale.category20();\n",
    "  var messageColor = function(d){\n",
    "    return d.username;\n",
    "  }\n",
    "  var source = messages[0];\n",
    "  update(source);\n",
    "\n",
    "  function update(root) {\n",
    "    var nodes = tree.nodes(root);\n",
    "    var links = tree.links(nodes);\n",
    "\n",
    "    var link = svg.selectAll(\".link\")\n",
    "      .data(links, function(d){return d.source.id + \"-\" + d.target.id});\n",
    "\n",
    "    var linkEnter = link\n",
    "      .enter()\n",
    "      .append(\"line\")\n",
    "      .attr(\"class\", \"link\")\n",
    "      .attr(\"stroke\", \"black\")\n",
    "      .style(\"stroke-opacity\", 1)\n",
    "      .style(\"stroke-width\", function(d) { return 1 })\n",
    "      .attr(\"x1\", function(d){return rtc(d.source, true).x})\n",
    "      .attr(\"y1\", function(d){return rtc(d.source, true).y})\n",
    "      .attr(\"x2\", function(d){return rtc(d.source, true).x})\n",
    "      .attr(\"y2\", function(d){return rtc(d.source, true).y})\n",
    "\n",
    "    var node = svg.selectAll(\".node\")\n",
    "      .data(nodes, function(d){return d.id})\n",
    "      //keeps them above the links\n",
    "      .each(function(){ this.parentNode.appendChild(this);});\n",
    "\n",
    "    var nodeEnter = node\n",
    "      .enter()\n",
    "      .append(\"circle\")\n",
    "      .attr(\"class\", \"node\")\n",
    "      .attr(\"r\", function(d) {return (50/(1 + d.depth))})\n",
    "      .attr(\"fill\", function(d){return colors(messageColor(d))})\n",
    "      .attr(\"stroke\", \"black\")\n",
    "      .attr(\"transform\", function(d) { return \"rotate(\" + (d.parent && d.parent.x0? d.parent.x0 - 90:0) + \")translate(\" + (d.parent && d.parent.y0? d.parent.y0:0) + \")\"})\n",
    "      .on(\"mouseover\", function(d){\n",
    "        messageArea\n",
    "          .style('background', colors(messageColor(d)));\n",
    "        messageArea.select('p.username')\n",
    "          .text(\"user: \" + d.username);\n",
    "        messageArea.select('p.message')\n",
    "          .text(\"message: \" + d.message);\n",
    "      })\n",
    "      .on(\"click\", function(d){\n",
    "        if(activeMessage.el){\n",
    "          activeMessage.el.attr(\"stroke\", \"black\");\n",
    "        }\n",
    "        activeMessage.message = d;\n",
    "        activeMessage.el = $(this);\n",
    "        $(this).attr(\"stroke\", \"red\");\n",
    "      });\n",
    "\n",
    "    transitionLinks(link);\n",
    "    transitionNodes(node);\n",
    "    \n",
    "    //set this for the transitions later\n",
    "    nodes.forEach(function(n){\n",
    "      n.x0 = n.x;\n",
    "      n.y0 = n.y;\n",
    "    });\n",
    "  }\n",
    "  return update;\n",
    "}\n",
    "\n",
    "function radialToCartesian(d, usex0){\n",
    "  if(!d.x){\n",
    "    d.x = 90;\n",
    "  }\n",
    "  if(!d.x0){\n",
    "    d.x0 = 90;\n",
    "  }\n",
    "  var r = d.y;\n",
    "  var theta = d.x;\n",
    "  if(usex0){\n",
    "    r = d.y0;\n",
    "    theta = d.x0;\n",
    "  }\n",
    "  theta= (theta - 90) / 180 * Math.PI;\n",
    "  return {x: r*Math.cos(theta), y: r*Math.sin(theta)};\n",
    "}\n",
    "var rtc = radialToCartesian;\n",
    "\n",
    "function separation(a, b) {\n",
    "  return (a.parent == b.parent ? .5 : 1) / a.depth;\n",
    "}\n",
    "\n",
    "function transitionLinks(link){\n",
    "  link.transition()\n",
    "      .duration(700)\n",
    "      .attr(\"x1\", function(d) { return rtc(d.source).x; })\n",
    "      .attr(\"y1\", function(d) { return rtc(d.source).y; })\n",
    "      .attr(\"x2\", function(d) { return rtc(d.target).x; })\n",
    "      .attr(\"y2\", function(d) { return rtc(d.target).y; });\n",
    "}\n",
    "\n",
    "function transitionNodes(node){\n",
    "  node.transition()\n",
    "      .duration(700)\n",
    "      .attr(\"transform\", function(d) { return \"rotate(\" + (d.x? d.x-90 :0) + \")translate(\" + d.y + \")\"}); \n",
    "}"
   ]
  },
  {
   "cell_type": "code",
   "execution_count": null,
   "metadata": {
    "collapsed": true,
    "deletable": true,
    "editable": true
   },
   "outputs": [],
   "source": []
  },
  {
   "cell_type": "code",
   "execution_count": null,
   "metadata": {
    "collapsed": true,
    "deletable": true,
    "editable": true
   },
   "outputs": [],
   "source": []
  },
  {
   "cell_type": "code",
   "execution_count": null,
   "metadata": {
    "collapsed": true,
    "deletable": true,
    "editable": true
   },
   "outputs": [],
   "source": []
  },
  {
   "cell_type": "markdown",
   "metadata": {
    "deletable": true,
    "editable": true
   },
   "source": [
    "*Copyright &copy; 2016 The Data Incubator.  All rights reserved.*"
   ]
  }
 ],
 "metadata": {
  "kernelspec": {
   "display_name": "Python 2",
   "language": "python",
   "name": "python2"
  },
  "language_info": {
   "codemirror_mode": {
    "name": "ipython",
    "version": 2
   },
   "file_extension": ".py",
   "mimetype": "text/x-python",
   "name": "python",
   "nbconvert_exporter": "python",
   "pygments_lexer": "ipython2",
   "version": "2.7.13"
  }
 },
 "nbformat": 4,
 "nbformat_minor": 1
}
